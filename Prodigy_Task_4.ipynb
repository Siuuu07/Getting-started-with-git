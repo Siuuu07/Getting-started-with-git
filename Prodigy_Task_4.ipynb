{
  "cells": [
    {
      "cell_type": "markdown",
      "id": "ef31ebf1",
      "metadata": {
        "papermill": {
          "duration": 0.009163,
          "end_time": "2024-02-26T11:28:42.720978",
          "exception": false,
          "start_time": "2024-02-26T11:28:42.711815",
          "status": "completed"
        },
        "tags": [],
        "id": "ef31ebf1"
      },
      "source": [
        "## Step - 1: Importing time"
      ]
    },
    {
      "cell_type": "code",
      "execution_count": null,
      "id": "4a10b958",
      "metadata": {
        "_cell_guid": "b1076dfc-b9ad-4769-8c92-a6c4dae69d19",
        "_uuid": "8f2839f25d086af736a60e9eeb907d3b93b6e0e5",
        "execution": {
          "iopub.execute_input": "2024-02-26T11:28:42.741054Z",
          "iopub.status.busy": "2024-02-26T11:28:42.740712Z",
          "iopub.status.idle": "2024-02-26T11:29:04.514805Z",
          "shell.execute_reply": "2024-02-26T11:29:04.513947Z"
        },
        "papermill": {
          "duration": 21.787302,
          "end_time": "2024-02-26T11:29:04.517307",
          "exception": false,
          "start_time": "2024-02-26T11:28:42.730005",
          "status": "completed"
        },
        "tags": [],
        "id": "4a10b958",
        "outputId": "4acf8941-a910-4a65-fe46-9e78b22c32a5"
      },
      "outputs": [
        {
          "name": "stderr",
          "output_type": "stream",
          "text": [
            "2024-02-26 11:28:45.126442: E external/local_xla/xla/stream_executor/cuda/cuda_dnn.cc:9261] Unable to register cuDNN factory: Attempting to register factory for plugin cuDNN when one has already been registered\n",
            "2024-02-26 11:28:45.126547: E external/local_xla/xla/stream_executor/cuda/cuda_fft.cc:607] Unable to register cuFFT factory: Attempting to register factory for plugin cuFFT when one has already been registered\n",
            "2024-02-26 11:28:45.246119: E external/local_xla/xla/stream_executor/cuda/cuda_blas.cc:1515] Unable to register cuBLAS factory: Attempting to register factory for plugin cuBLAS when one has already been registered\n"
          ]
        }
      ],
      "source": [
        "import numpy as np\n",
        "import pandas as pd\n",
        "import matplotlib.pyplot as plt\n",
        "import tensorflow as tf\n",
        "import spacy\n",
        "import re\n",
        "import string\n",
        "\n",
        "from tensorflow import keras\n",
        "from tensorflow.keras.preprocessing.text import Tokenizer\n",
        "from tensorflow.keras.preprocessing.sequence import pad_sequences\n",
        "\n",
        "from tensorflow.keras import optimizers, layers\n",
        "from tensorflow.keras.models import Sequential\n",
        "from tensorflow.keras.layers import Dense, Embedding, Dropout, Flatten\n",
        "\n",
        "from sklearn.model_selection import train_test_split\n",
        "from sklearn.feature_extraction.text import CountVectorizer\n",
        "from sklearn.metrics import confusion_matrix, classification_report, accuracy_score, precision_score, recall_score, f1_score\n",
        "from sklearn.preprocessing import LabelEncoder\n",
        "from sklearn.feature_extraction.text import TfidfVectorizer"
      ]
    },
    {
      "cell_type": "code",
      "execution_count": null,
      "id": "fa2696d7",
      "metadata": {
        "execution": {
          "iopub.execute_input": "2024-02-26T11:29:04.538081Z",
          "iopub.status.busy": "2024-02-26T11:29:04.537451Z",
          "iopub.status.idle": "2024-02-26T11:29:05.744098Z",
          "shell.execute_reply": "2024-02-26T11:29:05.743236Z"
        },
        "papermill": {
          "duration": 1.219648,
          "end_time": "2024-02-26T11:29:05.746574",
          "exception": false,
          "start_time": "2024-02-26T11:29:04.526926",
          "status": "completed"
        },
        "tags": [],
        "id": "fa2696d7",
        "outputId": "946a1871-6223-4fd0-eb20-2fc8aa6cafc3"
      },
      "outputs": [
        {
          "name": "stdout",
          "output_type": "stream",
          "text": [
            "/kaggle/input/twitter-entity-sentiment-analysis/twitter_validation.csv\n",
            "/kaggle/input/twitter-entity-sentiment-analysis/twitter_training.csv\n"
          ]
        }
      ],
      "source": [
        "import os\n",
        "for dirname, _, filenames in os.walk('/kaggle/input'):\n",
        "    for filename in filenames:\n",
        "        print(os.path.join(dirname, filename))\n",
        "\n",
        "nlp = spacy.load('en_core_web_sm')"
      ]
    },
    {
      "cell_type": "markdown",
      "id": "7cbaa887",
      "metadata": {
        "papermill": {
          "duration": 0.009461,
          "end_time": "2024-02-26T11:29:05.766179",
          "exception": false,
          "start_time": "2024-02-26T11:29:05.756718",
          "status": "completed"
        },
        "tags": [],
        "id": "7cbaa887"
      },
      "source": [
        "## Step - 2: GloVe Installation & Setup"
      ]
    },
    {
      "cell_type": "code",
      "execution_count": null,
      "id": "081c69a8",
      "metadata": {
        "execution": {
          "iopub.execute_input": "2024-02-26T11:29:05.786433Z",
          "iopub.status.busy": "2024-02-26T11:29:05.786083Z",
          "iopub.status.idle": "2024-02-26T11:32:07.062730Z",
          "shell.execute_reply": "2024-02-26T11:32:07.061223Z"
        },
        "papermill": {
          "duration": 181.29014,
          "end_time": "2024-02-26T11:32:07.065796",
          "exception": false,
          "start_time": "2024-02-26T11:29:05.775656",
          "status": "completed"
        },
        "tags": [],
        "id": "081c69a8",
        "outputId": "dde108b8-1d43-47da-caa6-7ea683099dea"
      },
      "outputs": [
        {
          "name": "stdout",
          "output_type": "stream",
          "text": [
            "--2024-02-26 11:29:06--  https://downloads.cs.stanford.edu/nlp/data/glove.6B.zip\r\n",
            "Resolving downloads.cs.stanford.edu (downloads.cs.stanford.edu)... 171.64.64.22\r\n",
            "Connecting to downloads.cs.stanford.edu (downloads.cs.stanford.edu)|171.64.64.22|:443... connected.\r\n",
            "HTTP request sent, awaiting response... 200 OK\r\n",
            "Length: 862182613 (822M) [application/zip]\r\n",
            "Saving to: 'glove.6B.zip'\r\n",
            "\r\n",
            "glove.6B.zip        100%[===================>] 822.24M  5.00MB/s    in 2m 38s  \r\n",
            "\r\n",
            "2024-02-26 11:31:45 (5.19 MB/s) - 'glove.6B.zip' saved [862182613/862182613]\r\n",
            "\r\n"
          ]
        }
      ],
      "source": [
        "!wget https://downloads.cs.stanford.edu/nlp/data/glove.6B.zip\n",
        "!unzip -q glove.6B.zip"
      ]
    },
    {
      "cell_type": "code",
      "execution_count": null,
      "id": "a14d19f4",
      "metadata": {
        "execution": {
          "iopub.execute_input": "2024-02-26T11:32:07.222236Z",
          "iopub.status.busy": "2024-02-26T11:32:07.221198Z",
          "iopub.status.idle": "2024-02-26T11:32:20.814017Z",
          "shell.execute_reply": "2024-02-26T11:32:20.812927Z"
        },
        "papermill": {
          "duration": 13.673517,
          "end_time": "2024-02-26T11:32:20.816320",
          "exception": false,
          "start_time": "2024-02-26T11:32:07.142803",
          "status": "completed"
        },
        "tags": [],
        "id": "a14d19f4",
        "outputId": "1c111d5a-a545-4594-d22e-87ffb184d640"
      },
      "outputs": [
        {
          "name": "stdout",
          "output_type": "stream",
          "text": [
            "Found 400000 word vectors.\n"
          ]
        }
      ],
      "source": [
        "# Get the GloVe into our directory\n",
        "path_to_glove_file = \"glove.6B.100d.txt\"\n",
        "\n",
        "embeddings_index = {}\n",
        "with open(path_to_glove_file) as f:\n",
        "    for line in f:\n",
        "        word, coefs = line.split(maxsplit=1)\n",
        "        coefs = np.fromstring(coefs, \"f\", sep=\" \")\n",
        "        embeddings_index[word] = coefs\n",
        "\n",
        "print(\"Found %s word vectors.\" % len(embeddings_index))"
      ]
    },
    {
      "cell_type": "markdown",
      "id": "82c4726a",
      "metadata": {
        "papermill": {
          "duration": 0.076828,
          "end_time": "2024-02-26T11:32:20.970560",
          "exception": false,
          "start_time": "2024-02-26T11:32:20.893732",
          "status": "completed"
        },
        "tags": [],
        "id": "82c4726a"
      },
      "source": [
        "## Step - 3: Dataset Cleaning Time!"
      ]
    },
    {
      "cell_type": "code",
      "execution_count": null,
      "id": "4ce66464",
      "metadata": {
        "execution": {
          "iopub.execute_input": "2024-02-26T11:32:21.175175Z",
          "iopub.status.busy": "2024-02-26T11:32:21.174421Z",
          "iopub.status.idle": "2024-02-26T11:32:21.544014Z",
          "shell.execute_reply": "2024-02-26T11:32:21.543116Z"
        },
        "papermill": {
          "duration": 0.450438,
          "end_time": "2024-02-26T11:32:21.546446",
          "exception": false,
          "start_time": "2024-02-26T11:32:21.096008",
          "status": "completed"
        },
        "tags": [],
        "id": "4ce66464"
      },
      "outputs": [],
      "source": [
        "train = pd.read_csv('/kaggle/input/twitter-entity-sentiment-analysis/twitter_training.csv', index_col=0, header=None, names=['entity', 'label', 'text'])\n",
        "test = pd.read_csv('/kaggle/input/twitter-entity-sentiment-analysis/twitter_validation.csv', index_col=0, header=None, names=['entity', 'label', 'text'])"
      ]
    },
    {
      "cell_type": "markdown",
      "id": "ddc8b88e",
      "metadata": {
        "papermill": {
          "duration": 0.077203,
          "end_time": "2024-02-26T11:32:21.700272",
          "exception": false,
          "start_time": "2024-02-26T11:32:21.623069",
          "status": "completed"
        },
        "tags": [],
        "id": "ddc8b88e"
      },
      "source": [
        "Function Lobby"
      ]
    },
    {
      "cell_type": "code",
      "execution_count": null,
      "id": "e5fbd688",
      "metadata": {
        "execution": {
          "iopub.execute_input": "2024-02-26T11:32:21.857402Z",
          "iopub.status.busy": "2024-02-26T11:32:21.857022Z",
          "iopub.status.idle": "2024-02-26T11:32:21.870054Z",
          "shell.execute_reply": "2024-02-26T11:32:21.869230Z"
        },
        "papermill": {
          "duration": 0.094149,
          "end_time": "2024-02-26T11:32:21.872215",
          "exception": false,
          "start_time": "2024-02-26T11:32:21.778066",
          "status": "completed"
        },
        "tags": [],
        "id": "e5fbd688"
      },
      "outputs": [],
      "source": [
        "def lowercase(data):\n",
        "    return data['text'].str.lower()\n",
        "\n",
        "def change_punctuation(data):\n",
        "    return data['text'].str.replace('`', \"'\")\n",
        "\n",
        "def remove_numbers(data):\n",
        "    return data['text'].replace('[^a-zA-z.,!?/:;\\\"\\'\\s]', '', regex=True)\n",
        "\n",
        "def remove_special_characters(data):\n",
        "    return data['text'].replace('[^a-zA-Z0-9 ]', '', regex=True)\n",
        "\n",
        "def custom(data):\n",
        "    return data['text'].replace('im', 'i am')\n",
        "\n",
        "def lemmatize(data):\n",
        "    lemmatized_array = []\n",
        "\n",
        "    for text in data['text']:\n",
        "        lemmatized_text = []\n",
        "        doc = nlp(text)\n",
        "        for token in doc:\n",
        "            lemmatized_text.append(token.lemma_)\n",
        "        lemmatized_array.append(' '.join(lemmatized_text))\n",
        "    return lemmatized_array\n",
        "\n",
        "def stop_words(data):\n",
        "    stop_words_array = []\n",
        "    for text in data['text']:\n",
        "        doc = nlp(text)\n",
        "        filtered_tokens = [token.text for token in doc if not token.is_stop]\n",
        "        stop_words_array.append(' '.join(filtered_tokens))\n",
        "    return stop_words_array\n",
        "\n",
        "def delete_links(data):\n",
        "    return data['text'].replace(r'http\\S+', '', regex=True)\n",
        "\n",
        "def preprocessing(data):\n",
        "    df = data.copy()\n",
        "    df['text'] = lowercase(df)\n",
        "    df['text'] = custom(df)\n",
        "    df['text'] = change_punctuation(df)\n",
        "    df['text'] = lemmatize(df)\n",
        "    df['text'] = remove_numbers(df)\n",
        "    df['text'] = delete_links(df)\n",
        "    df['text'] = remove_special_characters(df)\n",
        "    return df"
      ]
    },
    {
      "cell_type": "code",
      "execution_count": null,
      "id": "26e65bd3",
      "metadata": {
        "execution": {
          "iopub.execute_input": "2024-02-26T11:32:22.028970Z",
          "iopub.status.busy": "2024-02-26T11:32:22.028172Z",
          "iopub.status.idle": "2024-02-26T11:32:22.069814Z",
          "shell.execute_reply": "2024-02-26T11:32:22.068894Z"
        },
        "papermill": {
          "duration": 0.122836,
          "end_time": "2024-02-26T11:32:22.072081",
          "exception": false,
          "start_time": "2024-02-26T11:32:21.949245",
          "status": "completed"
        },
        "tags": [],
        "id": "26e65bd3"
      },
      "outputs": [],
      "source": [
        "# As seen in dataset, the first entry itself contains many multiple words\n",
        "train.drop_duplicates(subset=['text'], inplace=True)\n",
        "train.reset_index(inplace=True)\n",
        "train['text'] = train['text'].astype('str')\n",
        "test['text'] = test['text'].astype('str')"
      ]
    },
    {
      "cell_type": "code",
      "execution_count": null,
      "id": "aae7ebf0",
      "metadata": {
        "execution": {
          "iopub.execute_input": "2024-02-26T11:32:22.231909Z",
          "iopub.status.busy": "2024-02-26T11:32:22.231151Z",
          "iopub.status.idle": "2024-02-26T11:32:22.239083Z",
          "shell.execute_reply": "2024-02-26T11:32:22.238116Z"
        },
        "papermill": {
          "duration": 0.089793,
          "end_time": "2024-02-26T11:32:22.241528",
          "exception": false,
          "start_time": "2024-02-26T11:32:22.151735",
          "status": "completed"
        },
        "tags": [],
        "id": "aae7ebf0",
        "outputId": "0c13dfa9-d0d0-43b8-8c2c-22fb64639fc4"
      },
      "outputs": [
        {
          "data": {
            "text/plain": [
              "1000"
            ]
          },
          "execution_count": 8,
          "metadata": {},
          "output_type": "execute_result"
        }
      ],
      "source": [
        "len(train['text'])\n",
        "len(test['text'])"
      ]
    },
    {
      "cell_type": "code",
      "execution_count": null,
      "id": "bde168a1",
      "metadata": {
        "execution": {
          "iopub.execute_input": "2024-02-26T11:32:22.399262Z",
          "iopub.status.busy": "2024-02-26T11:32:22.398889Z",
          "iopub.status.idle": "2024-02-26T11:41:53.734471Z",
          "shell.execute_reply": "2024-02-26T11:41:53.733274Z"
        },
        "papermill": {
          "duration": 571.416506,
          "end_time": "2024-02-26T11:41:53.737160",
          "exception": false,
          "start_time": "2024-02-26T11:32:22.320654",
          "status": "completed"
        },
        "tags": [],
        "id": "bde168a1"
      },
      "outputs": [],
      "source": [
        "# Time to preprocess data, This gonna take long time so get yourself a drink by then...\n",
        "train = preprocessing(train)\n",
        "test = preprocessing(test)"
      ]
    },
    {
      "cell_type": "markdown",
      "id": "70db2d94",
      "metadata": {
        "papermill": {
          "duration": 0.070334,
          "end_time": "2024-02-26T11:41:53.881687",
          "exception": false,
          "start_time": "2024-02-26T11:41:53.811353",
          "status": "completed"
        },
        "tags": [],
        "id": "70db2d94"
      },
      "source": [
        "Encoding Time!"
      ]
    },
    {
      "cell_type": "code",
      "execution_count": null,
      "id": "33f5b5b1",
      "metadata": {
        "execution": {
          "iopub.execute_input": "2024-02-26T11:41:54.020749Z",
          "iopub.status.busy": "2024-02-26T11:41:54.020366Z",
          "iopub.status.idle": "2024-02-26T11:41:54.044319Z",
          "shell.execute_reply": "2024-02-26T11:41:54.043553Z"
        },
        "papermill": {
          "duration": 0.096186,
          "end_time": "2024-02-26T11:41:54.046285",
          "exception": false,
          "start_time": "2024-02-26T11:41:53.950099",
          "status": "completed"
        },
        "tags": [],
        "id": "33f5b5b1"
      },
      "outputs": [],
      "source": [
        "le = LabelEncoder()\n",
        "train['label'] = le.fit_transform(train['label'])\n",
        "test['label'] = le.transform(test['label'])\n",
        "\n",
        "X = train['text']\n",
        "y = train['label']"
      ]
    },
    {
      "cell_type": "markdown",
      "id": "43dc0193",
      "metadata": {
        "papermill": {
          "duration": 0.07041,
          "end_time": "2024-02-26T11:41:54.186827",
          "exception": false,
          "start_time": "2024-02-26T11:41:54.116417",
          "status": "completed"
        },
        "tags": [],
        "id": "43dc0193"
      },
      "source": [
        "Now we use the encoded data in X and Y and split them for our model training."
      ]
    },
    {
      "cell_type": "code",
      "execution_count": null,
      "id": "4d937cc3",
      "metadata": {
        "execution": {
          "iopub.execute_input": "2024-02-26T11:41:54.330369Z",
          "iopub.status.busy": "2024-02-26T11:41:54.329427Z",
          "iopub.status.idle": "2024-02-26T11:41:54.932456Z",
          "shell.execute_reply": "2024-02-26T11:41:54.931628Z"
        },
        "papermill": {
          "duration": 0.679019,
          "end_time": "2024-02-26T11:41:54.935717",
          "exception": false,
          "start_time": "2024-02-26T11:41:54.256698",
          "status": "completed"
        },
        "tags": [],
        "id": "4d937cc3"
      },
      "outputs": [],
      "source": [
        "max_words = 10000\n",
        "maxlen = 200\n",
        "emb_dim = 50\n",
        "training_samples = int(len(X) * 0.8)\n",
        "\n",
        "text_dataset = tf.data.Dataset.from_tensor_slices(X)\n",
        "\n",
        "X_train, X_valid, y_train, y_valid = train_test_split(X, y, test_size=0.2, random_state=42)"
      ]
    },
    {
      "cell_type": "markdown",
      "id": "e523e403",
      "metadata": {
        "papermill": {
          "duration": 0.070157,
          "end_time": "2024-02-26T11:41:55.083092",
          "exception": false,
          "start_time": "2024-02-26T11:41:55.012935",
          "status": "completed"
        },
        "tags": [],
        "id": "e523e403"
      },
      "source": [
        "Time for vectorization!"
      ]
    },
    {
      "cell_type": "code",
      "execution_count": null,
      "id": "135b1b49",
      "metadata": {
        "execution": {
          "iopub.execute_input": "2024-02-26T11:41:55.222565Z",
          "iopub.status.busy": "2024-02-26T11:41:55.222186Z",
          "iopub.status.idle": "2024-02-26T11:41:57.110673Z",
          "shell.execute_reply": "2024-02-26T11:41:57.109625Z"
        },
        "papermill": {
          "duration": 1.960951,
          "end_time": "2024-02-26T11:41:57.113075",
          "exception": false,
          "start_time": "2024-02-26T11:41:55.152124",
          "status": "completed"
        },
        "tags": [],
        "id": "135b1b49"
      },
      "outputs": [],
      "source": [
        "max_features = 20000\n",
        "embedding_dim = 128\n",
        "\n",
        "vectorize_layer = tf.keras.layers.TextVectorization(\n",
        "        max_tokens=max_words, # Max number of word in the internal dictionnary. We keep the most frequent\n",
        "        output_mode='int',\n",
        "        output_sequence_length=maxlen  # Size max of text\n",
        "        )\n",
        "\n",
        "vectorize_layer.adapt(text_dataset.batch(64))"
      ]
    },
    {
      "cell_type": "code",
      "execution_count": null,
      "id": "aec9e34c",
      "metadata": {
        "execution": {
          "iopub.execute_input": "2024-02-26T11:41:57.262479Z",
          "iopub.status.busy": "2024-02-26T11:41:57.261386Z",
          "iopub.status.idle": "2024-02-26T11:41:57.297333Z",
          "shell.execute_reply": "2024-02-26T11:41:57.296363Z"
        },
        "papermill": {
          "duration": 0.117083,
          "end_time": "2024-02-26T11:41:57.300050",
          "exception": false,
          "start_time": "2024-02-26T11:41:57.182967",
          "status": "completed"
        },
        "tags": [],
        "id": "aec9e34c"
      },
      "outputs": [],
      "source": [
        "voc = vectorize_layer.get_vocabulary()\n",
        "word_index = dict(zip(voc, range(len(voc))))"
      ]
    },
    {
      "cell_type": "code",
      "execution_count": null,
      "id": "fa63e8de",
      "metadata": {
        "execution": {
          "iopub.execute_input": "2024-02-26T11:41:57.464200Z",
          "iopub.status.busy": "2024-02-26T11:41:57.463330Z",
          "iopub.status.idle": "2024-02-26T11:41:57.505627Z",
          "shell.execute_reply": "2024-02-26T11:41:57.504659Z"
        },
        "papermill": {
          "duration": 0.124722,
          "end_time": "2024-02-26T11:41:57.507990",
          "exception": false,
          "start_time": "2024-02-26T11:41:57.383268",
          "status": "completed"
        },
        "tags": [],
        "id": "fa63e8de",
        "outputId": "286b5852-f8cb-4b38-f1e2-823a41712242"
      },
      "outputs": [
        {
          "name": "stdout",
          "output_type": "stream",
          "text": [
            "Converted 8305 words (1695 misses)\n"
          ]
        }
      ],
      "source": [
        "num_tokens = len(voc) + 2\n",
        "embedding_dim = 100\n",
        "hits = 0\n",
        "misses = 0\n",
        "\n",
        "embedding_matrix = np.zeros((num_tokens, embedding_dim))\n",
        "for word, i in word_index.items():\n",
        "    embedding_vector = embeddings_index.get(word)\n",
        "    if embedding_vector is not None:\n",
        "        embedding_matrix[i] = embedding_vector\n",
        "        hits += 1\n",
        "    else:\n",
        "        misses += 1\n",
        "print(\"Converted %d words (%d misses)\" % (hits, misses))"
      ]
    },
    {
      "cell_type": "markdown",
      "id": "4cb15aaf",
      "metadata": {
        "papermill": {
          "duration": 0.070582,
          "end_time": "2024-02-26T11:41:57.667227",
          "exception": false,
          "start_time": "2024-02-26T11:41:57.596645",
          "status": "completed"
        },
        "tags": [],
        "id": "4cb15aaf"
      },
      "source": [
        "One last step before we start building the model..."
      ]
    },
    {
      "cell_type": "code",
      "execution_count": null,
      "id": "e390a873",
      "metadata": {
        "execution": {
          "iopub.execute_input": "2024-02-26T11:41:57.812172Z",
          "iopub.status.busy": "2024-02-26T11:41:57.811744Z",
          "iopub.status.idle": "2024-02-26T11:41:57.855979Z",
          "shell.execute_reply": "2024-02-26T11:41:57.855008Z"
        },
        "papermill": {
          "duration": 0.121783,
          "end_time": "2024-02-26T11:41:57.858595",
          "exception": false,
          "start_time": "2024-02-26T11:41:57.736812",
          "status": "completed"
        },
        "tags": [],
        "id": "e390a873"
      },
      "outputs": [],
      "source": [
        "embedding_layer = Embedding(\n",
        "    num_tokens,\n",
        "    embedding_dim,\n",
        "    trainable=False,\n",
        ")\n",
        "embedding_layer.build((1,))\n",
        "embedding_layer.set_weights([embedding_matrix])"
      ]
    },
    {
      "cell_type": "markdown",
      "id": "d780b36f",
      "metadata": {
        "papermill": {
          "duration": 0.072636,
          "end_time": "2024-02-26T11:41:58.014714",
          "exception": false,
          "start_time": "2024-02-26T11:41:57.942078",
          "status": "completed"
        },
        "tags": [],
        "id": "d780b36f"
      },
      "source": [
        "## Step - 4: ANN Model!"
      ]
    },
    {
      "cell_type": "code",
      "execution_count": null,
      "id": "333b6ef4",
      "metadata": {
        "execution": {
          "iopub.execute_input": "2024-02-26T11:41:58.161661Z",
          "iopub.status.busy": "2024-02-26T11:41:58.160861Z",
          "iopub.status.idle": "2024-02-26T11:41:58.640017Z",
          "shell.execute_reply": "2024-02-26T11:41:58.639156Z"
        },
        "papermill": {
          "duration": 0.552728,
          "end_time": "2024-02-26T11:41:58.642345",
          "exception": false,
          "start_time": "2024-02-26T11:41:58.089617",
          "status": "completed"
        },
        "tags": [],
        "id": "333b6ef4"
      },
      "outputs": [],
      "source": [
        "model = keras.Sequential([\n",
        "    layers.Input(shape=(1,), dtype=tf.string),\n",
        "    vectorize_layer,\n",
        "    embedding_layer,\n",
        "    Flatten(),\n",
        "    Dense(256, activation='relu'),\n",
        "    Dropout(0.5),\n",
        "    Dense(128, activation='relu'),\n",
        "    Dense(64, activation='relu'),\n",
        "    Dense(32, activation='relu'),\n",
        "    Dropout(0.5),\n",
        "    Dense(4, activation='softmax'),\n",
        "])\n",
        "model.compile(loss='sparse_categorical_crossentropy', optimizer='adam', metrics=['accuracy'])"
      ]
    },
    {
      "cell_type": "code",
      "execution_count": null,
      "id": "c45e9aeb",
      "metadata": {
        "execution": {
          "iopub.execute_input": "2024-02-26T11:41:58.786155Z",
          "iopub.status.busy": "2024-02-26T11:41:58.785296Z",
          "iopub.status.idle": "2024-02-26T11:45:52.296110Z",
          "shell.execute_reply": "2024-02-26T11:45:52.294928Z"
        },
        "papermill": {
          "duration": 233.584847,
          "end_time": "2024-02-26T11:45:52.299030",
          "exception": false,
          "start_time": "2024-02-26T11:41:58.714183",
          "status": "completed"
        },
        "tags": [],
        "id": "c45e9aeb",
        "outputId": "60cd05e6-c984-4b25-a940-e2e420386b80"
      },
      "outputs": [
        {
          "name": "stdout",
          "output_type": "stream",
          "text": [
            "Epoch 1/50\n"
          ]
        },
        {
          "name": "stderr",
          "output_type": "stream",
          "text": [
            "WARNING: All log messages before absl::InitializeLog() is called are written to STDERR\n",
            "I0000 00:00:1708947722.450836      70 device_compiler.h:186] Compiled cluster using XLA!  This line is logged at most once for the lifetime of the process.\n"
          ]
        },
        {
          "name": "stdout",
          "output_type": "stream",
          "text": [
            "869/869 [==============================] - 10s 6ms/step - loss: 1.3216 - accuracy: 0.3780 - val_loss: 1.1977 - val_accuracy: 0.4760\n",
            "Epoch 2/50\n",
            "869/869 [==============================] - 5s 6ms/step - loss: 1.2151 - accuracy: 0.4708 - val_loss: 1.1413 - val_accuracy: 0.5164\n",
            "Epoch 3/50\n",
            "869/869 [==============================] - 5s 6ms/step - loss: 1.1443 - accuracy: 0.5144 - val_loss: 1.0855 - val_accuracy: 0.5415\n",
            "Epoch 4/50\n",
            "869/869 [==============================] - 5s 6ms/step - loss: 1.0778 - accuracy: 0.5469 - val_loss: 1.0362 - val_accuracy: 0.5692\n",
            "Epoch 5/50\n",
            "869/869 [==============================] - 5s 6ms/step - loss: 1.0144 - accuracy: 0.5778 - val_loss: 1.0235 - val_accuracy: 0.5746\n",
            "Epoch 6/50\n",
            "869/869 [==============================] - 5s 6ms/step - loss: 0.9563 - accuracy: 0.6053 - val_loss: 0.9729 - val_accuracy: 0.6000\n",
            "Epoch 7/50\n",
            "869/869 [==============================] - 5s 6ms/step - loss: 0.9038 - accuracy: 0.6308 - val_loss: 0.9515 - val_accuracy: 0.6228\n",
            "Epoch 8/50\n",
            "869/869 [==============================] - 5s 6ms/step - loss: 0.8517 - accuracy: 0.6578 - val_loss: 0.9308 - val_accuracy: 0.6380\n",
            "Epoch 9/50\n",
            "869/869 [==============================] - 5s 6ms/step - loss: 0.8060 - accuracy: 0.6790 - val_loss: 0.9172 - val_accuracy: 0.6421\n",
            "Epoch 10/50\n",
            "869/869 [==============================] - 5s 6ms/step - loss: 0.7700 - accuracy: 0.6944 - val_loss: 0.9064 - val_accuracy: 0.6529\n",
            "Epoch 11/50\n",
            "869/869 [==============================] - 5s 6ms/step - loss: 0.7357 - accuracy: 0.7077 - val_loss: 0.8957 - val_accuracy: 0.6597\n",
            "Epoch 12/50\n",
            "869/869 [==============================] - 5s 6ms/step - loss: 0.7025 - accuracy: 0.7237 - val_loss: 0.8812 - val_accuracy: 0.6688\n",
            "Epoch 13/50\n",
            "869/869 [==============================] - 5s 6ms/step - loss: 0.6785 - accuracy: 0.7330 - val_loss: 0.8863 - val_accuracy: 0.6631\n",
            "Epoch 14/50\n",
            "869/869 [==============================] - 5s 6ms/step - loss: 0.6517 - accuracy: 0.7436 - val_loss: 0.8736 - val_accuracy: 0.6785\n",
            "Epoch 15/50\n",
            "869/869 [==============================] - 5s 6ms/step - loss: 0.6300 - accuracy: 0.7512 - val_loss: 0.8707 - val_accuracy: 0.6870\n",
            "Epoch 16/50\n",
            "869/869 [==============================] - 5s 6ms/step - loss: 0.6106 - accuracy: 0.7586 - val_loss: 0.8669 - val_accuracy: 0.6793\n",
            "Epoch 17/50\n",
            "869/869 [==============================] - 5s 6ms/step - loss: 0.5914 - accuracy: 0.7679 - val_loss: 0.8728 - val_accuracy: 0.6846\n",
            "Epoch 18/50\n",
            "869/869 [==============================] - 5s 6ms/step - loss: 0.5751 - accuracy: 0.7728 - val_loss: 0.8656 - val_accuracy: 0.6926\n",
            "Epoch 19/50\n",
            "869/869 [==============================] - 5s 6ms/step - loss: 0.5604 - accuracy: 0.7783 - val_loss: 0.8830 - val_accuracy: 0.6977\n",
            "Epoch 20/50\n",
            "869/869 [==============================] - 5s 6ms/step - loss: 0.5444 - accuracy: 0.7861 - val_loss: 0.8787 - val_accuracy: 0.6949\n",
            "Epoch 21/50\n",
            "869/869 [==============================] - 5s 6ms/step - loss: 0.5307 - accuracy: 0.7924 - val_loss: 0.8783 - val_accuracy: 0.6994\n",
            "Epoch 22/50\n",
            "869/869 [==============================] - 5s 6ms/step - loss: 0.5212 - accuracy: 0.7950 - val_loss: 0.8922 - val_accuracy: 0.7003\n",
            "Epoch 23/50\n",
            "869/869 [==============================] - 5s 6ms/step - loss: 0.5123 - accuracy: 0.7972 - val_loss: 0.8834 - val_accuracy: 0.7036\n",
            "Epoch 24/50\n",
            "869/869 [==============================] - 5s 6ms/step - loss: 0.4965 - accuracy: 0.8060 - val_loss: 0.8736 - val_accuracy: 0.7020\n",
            "Epoch 25/50\n",
            "869/869 [==============================] - 5s 6ms/step - loss: 0.4826 - accuracy: 0.8086 - val_loss: 0.9312 - val_accuracy: 0.7049\n",
            "Epoch 26/50\n",
            "869/869 [==============================] - 5s 6ms/step - loss: 0.4793 - accuracy: 0.8116 - val_loss: 0.9117 - val_accuracy: 0.7053\n",
            "Epoch 27/50\n",
            "869/869 [==============================] - 5s 6ms/step - loss: 0.4745 - accuracy: 0.8132 - val_loss: 0.9002 - val_accuracy: 0.7090\n",
            "Epoch 28/50\n",
            "869/869 [==============================] - 5s 5ms/step - loss: 0.4638 - accuracy: 0.8199 - val_loss: 0.9001 - val_accuracy: 0.7083\n",
            "Epoch 29/50\n",
            "869/869 [==============================] - 5s 6ms/step - loss: 0.4545 - accuracy: 0.8221 - val_loss: 0.8885 - val_accuracy: 0.7080\n",
            "Epoch 30/50\n",
            "869/869 [==============================] - 5s 6ms/step - loss: 0.4506 - accuracy: 0.8245 - val_loss: 0.9167 - val_accuracy: 0.7072\n",
            "Epoch 31/50\n",
            "869/869 [==============================] - 5s 6ms/step - loss: 0.4426 - accuracy: 0.8286 - val_loss: 0.9007 - val_accuracy: 0.7077\n",
            "Epoch 32/50\n",
            "869/869 [==============================] - 5s 6ms/step - loss: 0.4370 - accuracy: 0.8290 - val_loss: 0.9151 - val_accuracy: 0.7167\n",
            "Epoch 33/50\n",
            "869/869 [==============================] - 5s 6ms/step - loss: 0.4282 - accuracy: 0.8329 - val_loss: 0.9087 - val_accuracy: 0.7140\n",
            "Epoch 34/50\n",
            "869/869 [==============================] - 5s 6ms/step - loss: 0.4223 - accuracy: 0.8364 - val_loss: 0.9226 - val_accuracy: 0.7139\n",
            "Epoch 35/50\n",
            "869/869 [==============================] - 5s 6ms/step - loss: 0.4201 - accuracy: 0.8347 - val_loss: 0.9124 - val_accuracy: 0.7103\n",
            "Epoch 36/50\n",
            "869/869 [==============================] - 5s 6ms/step - loss: 0.4093 - accuracy: 0.8386 - val_loss: 0.9321 - val_accuracy: 0.7183\n",
            "Epoch 37/50\n",
            "869/869 [==============================] - 5s 6ms/step - loss: 0.4052 - accuracy: 0.8426 - val_loss: 0.9207 - val_accuracy: 0.7162\n",
            "Epoch 38/50\n",
            "869/869 [==============================] - 5s 6ms/step - loss: 0.3977 - accuracy: 0.8436 - val_loss: 0.9587 - val_accuracy: 0.7122\n",
            "Epoch 39/50\n",
            "869/869 [==============================] - 5s 6ms/step - loss: 0.3941 - accuracy: 0.8473 - val_loss: 0.9290 - val_accuracy: 0.7098\n",
            "Epoch 40/50\n",
            "869/869 [==============================] - 5s 6ms/step - loss: 0.3897 - accuracy: 0.8489 - val_loss: 0.9242 - val_accuracy: 0.7183\n",
            "Epoch 41/50\n",
            "869/869 [==============================] - 5s 6ms/step - loss: 0.3849 - accuracy: 0.8492 - val_loss: 0.9305 - val_accuracy: 0.7134\n",
            "Epoch 42/50\n",
            "869/869 [==============================] - 5s 6ms/step - loss: 0.3833 - accuracy: 0.8513 - val_loss: 1.0056 - val_accuracy: 0.7131\n",
            "Epoch 43/50\n",
            "869/869 [==============================] - 5s 6ms/step - loss: 0.3786 - accuracy: 0.8524 - val_loss: 0.9274 - val_accuracy: 0.7166\n",
            "Epoch 44/50\n",
            "869/869 [==============================] - 5s 6ms/step - loss: 0.3762 - accuracy: 0.8547 - val_loss: 0.9501 - val_accuracy: 0.7177\n",
            "Epoch 45/50\n",
            "869/869 [==============================] - 6s 6ms/step - loss: 0.3704 - accuracy: 0.8553 - val_loss: 1.0062 - val_accuracy: 0.7159\n",
            "Epoch 46/50\n",
            "869/869 [==============================] - 5s 6ms/step - loss: 0.3660 - accuracy: 0.8583 - val_loss: 0.9937 - val_accuracy: 0.7183\n"
          ]
        }
      ],
      "source": [
        "# Time to cook the model...Use GPU if you have low amount of patient\n",
        "cl = [tf.keras.callbacks.EarlyStopping(\n",
        "                  monitor='val_accuracy',\n",
        "                  restore_best_weights=True,\n",
        "                  patience=10)]\n",
        "\n",
        "history = model.fit(X_train, y_train, validation_data=(X_valid, y_valid), epochs=50, batch_size=64, callbacks = cl)"
      ]
    },
    {
      "cell_type": "markdown",
      "id": "a7046240",
      "metadata": {
        "papermill": {
          "duration": 0.397647,
          "end_time": "2024-02-26T11:45:53.096038",
          "exception": false,
          "start_time": "2024-02-26T11:45:52.698391",
          "status": "completed"
        },
        "tags": [],
        "id": "a7046240"
      },
      "source": [
        "Some Important Graphs that gives you understanding on your model like wether it cooked properly or screwed up"
      ]
    },
    {
      "cell_type": "code",
      "execution_count": null,
      "id": "b291fc90",
      "metadata": {
        "execution": {
          "iopub.execute_input": "2024-02-26T11:45:53.892915Z",
          "iopub.status.busy": "2024-02-26T11:45:53.892078Z",
          "iopub.status.idle": "2024-02-26T11:46:22.245483Z",
          "shell.execute_reply": "2024-02-26T11:46:22.244397Z"
        },
        "papermill": {
          "duration": 28.750937,
          "end_time": "2024-02-26T11:46:22.247686",
          "exception": false,
          "start_time": "2024-02-26T11:45:53.496749",
          "status": "completed"
        },
        "tags": [],
        "id": "b291fc90",
        "outputId": "ca563f3a-7461-453c-c552-af861cb9d994"
      },
      "outputs": [
        {
          "data": {
            "text/plain": [
              "<Axes: >"
            ]
          },
          "execution_count": 18,
          "metadata": {},
          "output_type": "execute_result"
        },
        {
          "data": {
            "image/png": "[encoded data removed]",
            "text/plain": [
              "<Figure size 640x480 with 1 Axes>"
            ]
          },
          "metadata": {},
          "output_type": "display_data"
        },
        {
          "data": {
            "image/png": "[encoded data removed]",
            "text/plain": [
              "<Figure size 640x480 with 1 Axes>"
            ]
          },
          "metadata": {},
          "output_type": "display_data"
        }
      ],
      "source": [
        "history_frame = pd.DataFrame(history.history)\n",
        "history_frame.loc[:, ['loss', 'val_loss']].plot()\n",
        "history_frame.loc[:, ['accuracy', 'val_accuracy']].plot()"
      ]
    },
    {
      "cell_type": "code",
      "execution_count": null,
      "id": "a9393d9d",
      "metadata": {
        "execution": {
          "iopub.execute_input": "2024-02-26T11:46:23.105827Z",
          "iopub.status.busy": "2024-02-26T11:46:23.105434Z",
          "iopub.status.idle": "2024-02-26T11:46:23.430494Z",
          "shell.execute_reply": "2024-02-26T11:46:23.429555Z"
        },
        "papermill": {
          "duration": 0.732593,
          "end_time": "2024-02-26T11:46:23.432913",
          "exception": false,
          "start_time": "2024-02-26T11:46:22.700320",
          "status": "completed"
        },
        "tags": [],
        "id": "a9393d9d",
        "outputId": "83cb7013-bee2-4a04-edfa-43cd7a7920bf"
      },
      "outputs": [
        {
          "name": "stdout",
          "output_type": "stream",
          "text": [
            "32/32 [==============================] - 0s 2ms/step\n"
          ]
        }
      ],
      "source": [
        "predictions = model.predict(test['text'])"
      ]
    },
    {
      "cell_type": "markdown",
      "id": "ed18bf18",
      "metadata": {
        "papermill": {
          "duration": 0.402365,
          "end_time": "2024-02-26T11:46:24.230747",
          "exception": false,
          "start_time": "2024-02-26T11:46:23.828382",
          "status": "completed"
        },
        "tags": [],
        "id": "ed18bf18"
      },
      "source": [
        "## Step - 5: Prediction Time"
      ]
    },
    {
      "cell_type": "code",
      "execution_count": null,
      "id": "2f503ded",
      "metadata": {
        "execution": {
          "iopub.execute_input": "2024-02-26T11:46:25.036656Z",
          "iopub.status.busy": "2024-02-26T11:46:25.036034Z",
          "iopub.status.idle": "2024-02-26T11:46:25.041517Z",
          "shell.execute_reply": "2024-02-26T11:46:25.040629Z"
        },
        "papermill": {
          "duration": 0.41179,
          "end_time": "2024-02-26T11:46:25.043414",
          "exception": false,
          "start_time": "2024-02-26T11:46:24.631624",
          "status": "completed"
        },
        "tags": [],
        "id": "2f503ded"
      },
      "outputs": [],
      "source": [
        "test['label'] = le.fit_transform(test['label'])"
      ]
    },
    {
      "cell_type": "code",
      "execution_count": null,
      "id": "1e6ab746",
      "metadata": {
        "execution": {
          "iopub.execute_input": "2024-02-26T11:46:25.910222Z",
          "iopub.status.busy": "2024-02-26T11:46:25.909418Z",
          "iopub.status.idle": "2024-02-26T11:46:25.919003Z",
          "shell.execute_reply": "2024-02-26T11:46:25.918253Z"
        },
        "papermill": {
          "duration": 0.411532,
          "end_time": "2024-02-26T11:46:25.920873",
          "exception": false,
          "start_time": "2024-02-26T11:46:25.509341",
          "status": "completed"
        },
        "tags": [],
        "id": "1e6ab746"
      },
      "outputs": [],
      "source": [
        "predicted_labels = []\n",
        "\n",
        "for predictions_array in predictions:\n",
        "    predicted_labels.append(np.argmax(predictions_array))"
      ]
    },
    {
      "cell_type": "code",
      "execution_count": null,
      "id": "c0f78745",
      "metadata": {
        "execution": {
          "iopub.execute_input": "2024-02-26T11:46:26.755494Z",
          "iopub.status.busy": "2024-02-26T11:46:26.755126Z",
          "iopub.status.idle": "2024-02-26T11:46:26.764347Z",
          "shell.execute_reply": "2024-02-26T11:46:26.763365Z"
        },
        "papermill": {
          "duration": 0.435621,
          "end_time": "2024-02-26T11:46:26.766522",
          "exception": false,
          "start_time": "2024-02-26T11:46:26.330901",
          "status": "completed"
        },
        "tags": [],
        "id": "c0f78745",
        "outputId": "fd1f8762-f6c0-4935-d5e5-05c319105d05"
      },
      "outputs": [
        {
          "data": {
            "text/plain": [
              "0.91"
            ]
          },
          "execution_count": 22,
          "metadata": {},
          "output_type": "execute_result"
        }
      ],
      "source": [
        "from sklearn.metrics import accuracy_score\n",
        "\n",
        "accuracy_score(predicted_labels, test['label'])"
      ]
    },
    {
      "cell_type": "code",
      "execution_count": null,
      "id": "1d150f63",
      "metadata": {
        "execution": {
          "iopub.execute_input": "2024-02-26T11:46:27.619481Z",
          "iopub.status.busy": "2024-02-26T11:46:27.618837Z",
          "iopub.status.idle": "2024-02-26T11:46:27.624123Z",
          "shell.execute_reply": "2024-02-26T11:46:27.623257Z"
        },
        "papermill": {
          "duration": 0.451486,
          "end_time": "2024-02-26T11:46:27.626627",
          "exception": false,
          "start_time": "2024-02-26T11:46:27.175141",
          "status": "completed"
        },
        "tags": [],
        "id": "1d150f63",
        "outputId": "73553834-f2b6-4c04-f0de-1b5d95d888c4"
      },
      "outputs": [
        {
          "name": "stdout",
          "output_type": "stream",
          "text": [
            "[0, 2, 1, 1, 2, 1, 3, 3, 3, 1, 3, 3, 1, 2, 1, 3, 3, 1, 3, 1, 1, 2, 2, 1, 2, 2, 1, 1, 0, 1, 3, 3, 1, 3, 1, 2, 3, 2, 3, 2, 3, 2, 2, 2, 3, 2, 1, 1, 1, 2, 3, 1, 1, 3, 3, 3, 3, 3, 1, 0, 1, 3, 3, 0, 1, 2, 1, 0, 3, 1, 3, 1, 3, 3, 3, 0, 3, 0, 2, 2, 0, 3, 3, 2, 3, 2, 1, 0, 1, 2, 2, 2, 3, 0, 0, 1, 1, 1, 2, 1, 2, 1, 3, 3, 2, 0, 2, 3, 1, 2, 2, 2, 1, 2, 1, 2, 2, 3, 3, 2, 1, 1, 3, 1, 2, 1, 3, 2, 1, 2, 0, 3, 2, 0, 3, 0, 2, 2, 0, 0, 0, 2, 2, 0, 0, 3, 3, 2, 1, 3, 3, 1, 2, 3, 2, 0, 2, 1, 2, 3, 1, 2, 1, 0, 0, 0, 2, 1, 1, 1, 3, 3, 3, 2, 2, 3, 0, 2, 2, 2, 3, 2, 1, 1, 2, 3, 3, 0, 0, 2, 3, 3, 2, 0, 2, 1, 1, 1, 1, 3, 2, 2, 3, 3, 3, 3, 1, 3, 3, 0, 2, 0, 1, 0, 0, 0, 1, 3, 3, 1, 0, 1, 3, 3, 1, 2, 0, 3, 3, 1, 3, 0, 2, 0, 0, 1, 2, 2, 3, 1, 0, 0, 3, 3, 0, 0, 2, 3, 2, 1, 3, 3, 3, 3, 2, 2, 3, 1, 2, 3, 2, 1, 2, 2, 1, 3, 3, 0, 1, 2, 0, 3, 2, 0, 1, 2, 1, 3, 3, 1, 1, 1, 3, 1, 2, 3, 2, 2, 1, 3, 1, 3, 1, 0, 2, 2, 3, 1, 2, 1, 0, 3, 1, 3, 0, 3, 3, 3, 3, 3, 1, 1, 3, 1, 0, 2, 3, 1, 0, 2, 0, 0, 1, 2, 2, 0, 2, 2, 0, 2, 3, 1, 1, 0, 3, 3, 0, 3, 2, 2, 0, 0, 1, 1, 1, 2, 3, 0, 2, 1, 3, 0, 2, 1, 1, 1, 3, 2, 2, 0, 1, 3, 0, 0, 2, 2, 3, 2, 2, 3, 3, 1, 2, 3, 1, 3, 1, 0, 1, 3, 3, 0, 3, 3, 2, 1, 2, 0, 0, 3, 2, 3, 1, 1, 1, 0, 3, 2, 3, 0, 1, 2, 0, 1, 3, 3, 2, 3, 2, 2, 0, 2, 1, 2, 3, 2, 1, 3, 3, 1, 1, 1, 1, 1, 2, 2, 2, 3, 3, 1, 1, 2, 1, 2, 2, 1, 0, 3, 0, 0, 1, 3, 3, 2, 3, 2, 3, 0, 2, 2, 1, 3, 2, 2, 2, 2, 0, 0, 1, 1, 2, 0, 2, 0, 0, 3, 1, 1, 3, 3, 0, 3, 0, 0, 2, 1, 2, 3, 3, 1, 3, 3, 3, 3, 0, 3, 0, 2, 1, 0, 2, 2, 3, 3, 0, 3, 0, 3, 2, 2, 1, 1, 1, 1, 2, 3, 1, 1, 3, 3, 3, 2, 1, 1, 2, 2, 1, 1, 1, 2, 2, 3, 1, 0, 1, 2, 2, 0, 2, 1, 1, 3, 0, 0, 1, 2, 1, 2, 3, 1, 2, 3, 3, 1, 2, 1, 3, 2, 1, 1, 2, 0, 2, 1, 3, 1, 2, 1, 1, 1, 3, 1, 1, 1, 3, 1, 1, 2, 1, 2, 1, 3, 1, 0, 2, 1, 1, 0, 2, 3, 1, 3, 2, 2, 2, 0, 1, 3, 0, 1, 2, 2, 2, 0, 1, 1, 0, 2, 0, 3, 2, 0, 1, 2, 3, 1, 2, 0, 0, 2, 0, 3, 3, 2, 2, 3, 0, 0, 2, 1, 3, 2, 0, 0, 3, 1, 3, 2, 2, 1, 0, 2, 1, 0, 2, 1, 0, 3, 0, 1, 3, 1, 1, 1, 0, 2, 2, 3, 3, 3, 0, 3, 1, 1, 0, 1, 2, 3, 2, 0, 2, 1, 3, 0, 0, 3, 2, 3, 1, 1, 2, 3, 1, 3, 1, 2, 3, 3, 2, 2, 2, 0, 2, 2, 1, 2, 2, 1, 3, 1, 0, 2, 3, 3, 3, 0, 3, 2, 1, 2, 3, 3, 0, 3, 3, 3, 1, 2, 3, 2, 2, 1, 3, 1, 2, 3, 2, 1, 0, 3, 3, 0, 0, 2, 3, 0, 1, 2, 1, 2, 3, 1, 2, 2, 3, 1, 3, 3, 2, 1, 2, 1, 1, 1, 3, 1, 0, 3, 3, 3, 3, 2, 1, 1, 3, 1, 1, 2, 0, 2, 3, 2, 1, 2, 3, 1, 0, 3, 1, 3, 2, 3, 0, 1, 2, 0, 1, 0, 3, 3, 2, 3, 2, 3, 1, 2, 2, 2, 3, 2, 2, 0, 1, 3, 2, 1, 1, 2, 0, 3, 1, 1, 2, 3, 1, 3, 2, 2, 3, 0, 2, 1, 3, 3, 3, 0, 3, 3, 2, 1, 0, 3, 3, 1, 1, 1, 0, 3, 1, 2, 1, 2, 2, 0, 3, 3, 1, 2, 3, 1, 1, 1, 1, 1, 1, 1, 0, 0, 1, 0, 3, 2, 2, 2, 3, 2, 2, 3, 0, 0, 1, 2, 2, 2, 1, 1, 2, 2, 3, 3, 2, 3, 2, 2, 1, 0, 0, 0, 3, 3, 0, 3, 3, 0, 1, 1, 0, 2, 2, 2, 2, 2, 2, 1, 1, 1, 1, 3, 1, 2, 3, 0, 2, 1, 3, 3, 1, 3, 2, 2, 0, 3, 1, 0, 3, 0, 3, 2, 3, 0, 0, 3, 2, 1, 0, 1, 1, 1, 1, 2, 0, 1, 3, 0, 2, 1, 1, 3, 0, 0, 0, 1, 0, 2, 1, 2, 2, 2, 2, 2, 2, 0, 3, 2, 3, 3, 3, 1, 2, 3, 3, 0, 0, 3, 2, 3, 2, 1, 3, 2, 1, 1, 3, 3, 2, 2, 3, 2, 0, 1, 3, 3, 1, 1, 1, 2, 3, 2, 2, 3, 3, 2, 3, 1, 3, 0, 0, 3, 3, 2]\n"
          ]
        }
      ],
      "source": [
        "print(predicted_labels)"
      ]
    },
    {
      "cell_type": "code",
      "execution_count": null,
      "id": "ebbbb56f",
      "metadata": {
        "execution": {
          "iopub.execute_input": "2024-02-26T11:46:28.485082Z",
          "iopub.status.busy": "2024-02-26T11:46:28.484694Z",
          "iopub.status.idle": "2024-02-26T11:46:28.490547Z",
          "shell.execute_reply": "2024-02-26T11:46:28.489646Z"
        },
        "papermill": {
          "duration": 0.412191,
          "end_time": "2024-02-26T11:46:28.493146",
          "exception": false,
          "start_time": "2024-02-26T11:46:28.080955",
          "status": "completed"
        },
        "tags": [],
        "id": "ebbbb56f",
        "outputId": "95ba70ea-3580-497c-b419-488d85679f51"
      },
      "outputs": [
        {
          "name": "stdout",
          "output_type": "stream",
          "text": [
            "3364    0\n",
            "352     2\n",
            "8312    1\n",
            "4371    1\n",
            "4433    2\n",
            "       ..\n",
            "4891    0\n",
            "4359    0\n",
            "2652    3\n",
            "8069    3\n",
            "6960    2\n",
            "Name: label, Length: 1000, dtype: int64\n"
          ]
        }
      ],
      "source": [
        "print(test['label'])"
      ]
    },
    {
      "cell_type": "code",
      "execution_count": null,
      "id": "fc7e5c03",
      "metadata": {
        "papermill": {
          "duration": 0.393835,
          "end_time": "2024-02-26T11:46:29.276369",
          "exception": false,
          "start_time": "2024-02-26T11:46:28.882534",
          "status": "completed"
        },
        "tags": [],
        "id": "fc7e5c03"
      },
      "outputs": [],
      "source": []
    }
  ],
  "metadata": {
    "kaggle": {
      "accelerator": "nvidiaTeslaT4",
      "dataSources": [
        {
          "datasetId": 1520310,
          "sourceId": 2510329,
          "sourceType": "datasetVersion"
        }
      ],
      "dockerImageVersionId": 30648,
      "isGpuEnabled": true,
      "isInternetEnabled": true,
      "language": "python",
      "sourceType": "notebook"
    },
    "kernelspec": {
      "display_name": "Python 3",
      "language": "python",
      "name": "python3"
    },
    "language_info": {
      "codemirror_mode": {
        "name": "ipython",
        "version": 3
      },
      "file_extension": ".py",
      "mimetype": "text/x-python",
      "name": "python",
      "nbconvert_exporter": "python",
      "pygments_lexer": "ipython3",
      "version": "3.10.13"
    },
    "papermill": {
      "default_parameters": {},
      "duration": 1072.82827,
      "end_time": "2024-02-26T11:46:32.743613",
      "environment_variables": {},
      "exception": null,
      "input_path": "__notebook__.ipynb",
      "output_path": "__notebook__.ipynb",
      "parameters": {},
      "start_time": "2024-02-26T11:28:39.915343",
      "version": "2.5.0"
    },
    "colab": {
      "provenance": []
    }
  },
  "nbformat": 4,
  "nbformat_minor": 5
}