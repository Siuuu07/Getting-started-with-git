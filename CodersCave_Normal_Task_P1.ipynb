{
  "metadata": {
    "kernelspec": {
      "language": "python",
      "display_name": "Python 3",
      "name": "python3"
    },
    "language_info": {
      "name": "python",
      "version": "3.10.12",
      "mimetype": "text/x-python",
      "codemirror_mode": {
        "name": "ipython",
        "version": 3
      },
      "pygments_lexer": "ipython3",
      "nbconvert_exporter": "python",
      "file_extension": ".py"
    },
    "kaggle": {
      "accelerator": "none",
      "dataSources": [
        {
          "sourceId": 1019220,
          "sourceType": "datasetVersion",
          "datasetId": 560533
        }
      ],
      "dockerImageVersionId": 30626,
      "isInternetEnabled": false,
      "language": "python",
      "sourceType": "notebook",
      "isGpuEnabled": false
    },
    "colab": {
      "provenance": []
    }
  },
  "nbformat_minor": 0,
  "nbformat": 4,
  "cells": [
    {
      "cell_type": "markdown",
      "source": [
        "#CodersCave\n",
        "#Normal Task\n",
        "# Mohamed Riyaz S\n",
        "# SuperMarket Transaction Kaggle\n",
        "Complete Data Analysis And Data Visualization"
      ],
      "metadata": {
        "id": "zRwmcJ4Ouz7N"
      }
    },
    {
      "cell_type": "code",
      "source": [
        "\n",
        "import seaborn as sns\n",
        "import numpy as np\n",
        "import pandas as pd\n",
        "import matplotlib.pyplot as plt\n",
        "import os\n",
        "for dirname, _, filenames in os.walk('/kaggle/input'):\n",
        "    for filename in filenames:\n",
        "        print(os.path.join(dirname, filename))\n"
      ],
      "metadata": {
        "_uuid": "8f2839f25d086af736a60e9eeb907d3b93b6e0e5",
        "_cell_guid": "b1076dfc-b9ad-4769-8c92-a6c4dae69d19",
        "execution": {
          "iopub.status.busy": "2024-01-08T16:36:35.289446Z",
          "iopub.execute_input": "2024-01-08T16:36:35.289863Z",
          "iopub.status.idle": "2024-01-08T16:36:35.311849Z",
          "shell.execute_reply.started": "2024-01-08T16:36:35.289830Z",
          "shell.execute_reply": "2024-01-08T16:36:35.310905Z"
        },
        "trusted": true,
        "id": "LmICd4Qbuz7O"
      },
      "execution_count": null,
      "outputs": []
    },
    {
      "cell_type": "markdown",
      "source": [
        "# Input\n",
        "Hackathon_Ideal_Data.csv"
      ],
      "metadata": {
        "id": "QX7_fphTuz7O"
      }
    },
    {
      "cell_type": "code",
      "source": [
        "df=pd.read_csv('/kaggle/input/store-transaction-data/Hackathon_Ideal_Data.csv')\n",
        "df.head()"
      ],
      "metadata": {
        "execution": {
          "iopub.status.busy": "2024-01-08T16:16:49.655738Z",
          "iopub.execute_input": "2024-01-08T16:16:49.656314Z",
          "iopub.status.idle": "2024-01-08T16:16:49.763372Z",
          "shell.execute_reply.started": "2024-01-08T16:16:49.656273Z",
          "shell.execute_reply": "2024-01-08T16:16:49.762260Z"
        },
        "trusted": true,
        "id": "Gcu2oVbsuz7P"
      },
      "execution_count": null,
      "outputs": []
    },
    {
      "cell_type": "markdown",
      "source": [
        "* GRP - Group Level\n",
        "* SGRP - Sub Group Level\n",
        "* SSGRP - Sub Sub Group Level\n",
        "* CMP - Company\n",
        "* MBRD - Mother Brand Level\n",
        "* BRD - Brand Level"
      ],
      "metadata": {
        "id": "4ZgK82hJuz7P"
      }
    },
    {
      "cell_type": "code",
      "source": [
        "df.describe()"
      ],
      "metadata": {
        "execution": {
          "iopub.status.busy": "2024-01-08T16:24:53.314979Z",
          "iopub.execute_input": "2024-01-08T16:24:53.315390Z",
          "iopub.status.idle": "2024-01-08T16:24:53.341441Z",
          "shell.execute_reply.started": "2024-01-08T16:24:53.315358Z",
          "shell.execute_reply": "2024-01-08T16:24:53.340242Z"
        },
        "trusted": true,
        "id": "GVgO5Tx6uz7P"
      },
      "execution_count": null,
      "outputs": []
    },
    {
      "cell_type": "code",
      "source": [
        "df.info()"
      ],
      "metadata": {
        "execution": {
          "iopub.status.busy": "2024-01-08T16:25:14.887918Z",
          "iopub.execute_input": "2024-01-08T16:25:14.888846Z",
          "iopub.status.idle": "2024-01-08T16:25:15.028198Z",
          "shell.execute_reply.started": "2024-01-08T16:25:14.888803Z",
          "shell.execute_reply": "2024-01-08T16:25:15.027123Z"
        },
        "trusted": true,
        "id": "jZPA849vuz7P"
      },
      "execution_count": null,
      "outputs": []
    },
    {
      "cell_type": "code",
      "source": [
        "df.isnull().sum()"
      ],
      "metadata": {
        "execution": {
          "iopub.status.busy": "2024-01-08T16:25:45.421107Z",
          "iopub.execute_input": "2024-01-08T16:25:45.422095Z",
          "iopub.status.idle": "2024-01-08T16:25:45.451915Z",
          "shell.execute_reply.started": "2024-01-08T16:25:45.422053Z",
          "shell.execute_reply": "2024-01-08T16:25:45.450394Z"
        },
        "trusted": true,
        "id": "U0DmgDGxuz7P"
      },
      "execution_count": null,
      "outputs": []
    },
    {
      "cell_type": "code",
      "source": [
        "df['MONTH'].unique()"
      ],
      "metadata": {
        "execution": {
          "iopub.status.busy": "2024-01-08T16:27:18.477079Z",
          "iopub.execute_input": "2024-01-08T16:27:18.477488Z",
          "iopub.status.idle": "2024-01-08T16:27:18.486807Z",
          "shell.execute_reply.started": "2024-01-08T16:27:18.477455Z",
          "shell.execute_reply": "2024-01-08T16:27:18.485687Z"
        },
        "trusted": true,
        "id": "C9lIrk8Cuz7P"
      },
      "execution_count": null,
      "outputs": []
    },
    {
      "cell_type": "code",
      "source": [
        "df['STORECODE'].unique()"
      ],
      "metadata": {
        "execution": {
          "iopub.status.busy": "2024-01-08T16:27:23.145761Z",
          "iopub.execute_input": "2024-01-08T16:27:23.146156Z",
          "iopub.status.idle": "2024-01-08T16:27:23.156049Z",
          "shell.execute_reply.started": "2024-01-08T16:27:23.146125Z",
          "shell.execute_reply": "2024-01-08T16:27:23.154768Z"
        },
        "trusted": true,
        "id": "Cw0t4iCnuz7Q"
      },
      "execution_count": null,
      "outputs": []
    },
    {
      "cell_type": "markdown",
      "source": [
        "*  Sorting The Given Data:"
      ],
      "metadata": {
        "id": "6MjX2pnfuz7Q"
      }
    },
    {
      "cell_type": "code",
      "source": [
        "df.sort_values(by='MONTH')"
      ],
      "metadata": {
        "execution": {
          "iopub.status.busy": "2024-01-08T16:35:41.335511Z",
          "iopub.execute_input": "2024-01-08T16:35:41.335890Z",
          "iopub.status.idle": "2024-01-08T16:35:41.377722Z",
          "shell.execute_reply.started": "2024-01-08T16:35:41.335860Z",
          "shell.execute_reply": "2024-01-08T16:35:41.376881Z"
        },
        "trusted": true,
        "id": "Aggi9wYtuz7Q"
      },
      "execution_count": null,
      "outputs": []
    },
    {
      "cell_type": "markdown",
      "source": [
        "#   Mean ,Median,Mode ( Represents the VALUE column )"
      ],
      "metadata": {
        "id": "cG1_VkyTuz7Q"
      }
    },
    {
      "cell_type": "code",
      "source": [
        "df['VALUE'].mean()\n"
      ],
      "metadata": {
        "execution": {
          "iopub.status.busy": "2024-01-08T16:32:54.988258Z",
          "iopub.execute_input": "2024-01-08T16:32:54.988818Z",
          "iopub.status.idle": "2024-01-08T16:32:55.002564Z",
          "shell.execute_reply.started": "2024-01-08T16:32:54.988774Z",
          "shell.execute_reply": "2024-01-08T16:32:55.000662Z"
        },
        "trusted": true,
        "id": "a9oJmDV1uz7Q"
      },
      "execution_count": null,
      "outputs": []
    },
    {
      "cell_type": "code",
      "source": [
        "df['VALUE'].median()"
      ],
      "metadata": {
        "execution": {
          "iopub.status.busy": "2024-01-08T16:33:05.130781Z",
          "iopub.execute_input": "2024-01-08T16:33:05.131306Z",
          "iopub.status.idle": "2024-01-08T16:33:05.140994Z",
          "shell.execute_reply.started": "2024-01-08T16:33:05.131264Z",
          "shell.execute_reply": "2024-01-08T16:33:05.139557Z"
        },
        "trusted": true,
        "id": "F-poktdEuz7Q"
      },
      "execution_count": null,
      "outputs": []
    },
    {
      "cell_type": "code",
      "source": [
        "df['VALUE'].mode()"
      ],
      "metadata": {
        "execution": {
          "iopub.status.busy": "2024-01-08T16:33:10.513950Z",
          "iopub.execute_input": "2024-01-08T16:33:10.514388Z",
          "iopub.status.idle": "2024-01-08T16:33:10.524181Z",
          "shell.execute_reply.started": "2024-01-08T16:33:10.514353Z",
          "shell.execute_reply": "2024-01-08T16:33:10.523322Z"
        },
        "trusted": true,
        "id": "Ufwrfv-juz7R"
      },
      "execution_count": null,
      "outputs": []
    },
    {
      "cell_type": "markdown",
      "source": [
        "# Data Visualization"
      ],
      "metadata": {
        "id": "tlVcK5sUuz7R"
      }
    },
    {
      "cell_type": "code",
      "source": [
        "print(df.shape)\n",
        "df['MONTH'].value_counts()"
      ],
      "metadata": {
        "execution": {
          "iopub.status.busy": "2024-01-08T16:41:04.933059Z",
          "iopub.execute_input": "2024-01-08T16:41:04.934197Z",
          "iopub.status.idle": "2024-01-08T16:41:04.948461Z",
          "shell.execute_reply.started": "2024-01-08T16:41:04.934128Z",
          "shell.execute_reply": "2024-01-08T16:41:04.947295Z"
        },
        "trusted": true,
        "id": "sHwPw50suz7R"
      },
      "execution_count": null,
      "outputs": []
    },
    {
      "cell_type": "code",
      "source": [
        "print(df.shape)\n",
        "df['STORECODE'].value_counts()"
      ],
      "metadata": {
        "execution": {
          "iopub.status.busy": "2024-01-08T17:01:05.926091Z",
          "iopub.execute_input": "2024-01-08T17:01:05.926543Z",
          "iopub.status.idle": "2024-01-08T17:01:05.938220Z",
          "shell.execute_reply.started": "2024-01-08T17:01:05.926505Z",
          "shell.execute_reply": "2024-01-08T17:01:05.937191Z"
        },
        "trusted": true,
        "id": "z0riMR_Nuz7R"
      },
      "execution_count": null,
      "outputs": []
    },
    {
      "cell_type": "markdown",
      "source": [
        "* Below Graph Describes The Sales Based On The Transaction Of 3 Months  (M1,M2,M3)"
      ],
      "metadata": {
        "id": "2LQLzHrquz7R"
      }
    },
    {
      "cell_type": "code",
      "source": [
        "\n",
        "plt.figure(figsize = (12,6))\n",
        "sns.barplot(x = 'MONTH',y='VALUE',data=df)"
      ],
      "metadata": {
        "execution": {
          "iopub.status.busy": "2024-01-08T16:38:15.508817Z",
          "iopub.execute_input": "2024-01-08T16:38:15.509258Z",
          "iopub.status.idle": "2024-01-08T16:38:16.086533Z",
          "shell.execute_reply.started": "2024-01-08T16:38:15.509220Z",
          "shell.execute_reply": "2024-01-08T16:38:16.085505Z"
        },
        "trusted": true,
        "id": "ea9QE9Sauz7R"
      },
      "execution_count": null,
      "outputs": []
    },
    {
      "cell_type": "markdown",
      "source": [
        "* By Visualizing The Graph We Can Conclude That Month 3 Has More Transactions Than The Remaining."
      ],
      "metadata": {
        "id": "-9cObTpMuz7R"
      }
    },
    {
      "cell_type": "markdown",
      "source": [
        "> Creating Dummies For Month Column For Getting Numeric Data For Seaborn Bar Plot"
      ],
      "metadata": {
        "id": "EYq3Z8Tsuz7R"
      }
    },
    {
      "cell_type": "code",
      "source": [
        "month_dummies =pd.get_dummies(df['MONTH'])\n",
        "month_dummies.head()"
      ],
      "metadata": {
        "execution": {
          "iopub.status.busy": "2024-01-08T16:52:07.117576Z",
          "iopub.execute_input": "2024-01-08T16:52:07.118696Z",
          "iopub.status.idle": "2024-01-08T16:52:07.137386Z",
          "shell.execute_reply.started": "2024-01-08T16:52:07.118647Z",
          "shell.execute_reply": "2024-01-08T16:52:07.135953Z"
        },
        "trusted": true,
        "id": "G15r7cjGuz7R"
      },
      "execution_count": null,
      "outputs": []
    },
    {
      "cell_type": "markdown",
      "source": [
        "> Joining Original dataframe(df) With month dummies dataframe (month_dummies)"
      ],
      "metadata": {
        "id": "D2UvPl2Luz7R"
      }
    },
    {
      "cell_type": "code",
      "source": [
        "df=pd.concat([df,month_dummies],axis=1)\n",
        "df.head()"
      ],
      "metadata": {
        "execution": {
          "iopub.status.busy": "2024-01-08T16:55:34.870423Z",
          "iopub.execute_input": "2024-01-08T16:55:34.870865Z",
          "iopub.status.idle": "2024-01-08T16:55:34.893221Z",
          "shell.execute_reply.started": "2024-01-08T16:55:34.870808Z",
          "shell.execute_reply": "2024-01-08T16:55:34.892029Z"
        },
        "trusted": true,
        "id": "hzqlu4hfuz7S"
      },
      "execution_count": null,
      "outputs": []
    },
    {
      "cell_type": "code",
      "source": [
        "df.plot()"
      ],
      "metadata": {
        "execution": {
          "iopub.status.busy": "2024-01-08T16:57:07.478099Z",
          "iopub.execute_input": "2024-01-08T16:57:07.478555Z",
          "iopub.status.idle": "2024-01-08T16:57:08.198772Z",
          "shell.execute_reply.started": "2024-01-08T16:57:07.478521Z",
          "shell.execute_reply": "2024-01-08T16:57:08.197495Z"
        },
        "trusted": true,
        "id": "qjo0DrVNuz7S"
      },
      "execution_count": null,
      "outputs": []
    },
    {
      "cell_type": "markdown",
      "source": [
        "* Above Graph Shows The Mapping Between Quantity and value For The Product."
      ],
      "metadata": {
        "id": "EhB3Pjjkuz7S"
      }
    },
    {
      "cell_type": "markdown",
      "source": [
        "> Plotting The Each Store With Quantity."
      ],
      "metadata": {
        "id": "CTFmXqsvuz7S"
      }
    },
    {
      "cell_type": "code",
      "source": [
        "plt.figure(figsize = (12,6))\n",
        "sns.barplot(x = 'STORECODE',y='QTY',data=df)"
      ],
      "metadata": {
        "execution": {
          "iopub.status.busy": "2024-01-08T17:04:55.053271Z",
          "iopub.execute_input": "2024-01-08T17:04:55.053679Z",
          "iopub.status.idle": "2024-01-08T17:04:55.912358Z",
          "shell.execute_reply.started": "2024-01-08T17:04:55.053647Z",
          "shell.execute_reply": "2024-01-08T17:04:55.911291Z"
        },
        "trusted": true,
        "id": "uJwQqVRruz7S"
      },
      "execution_count": null,
      "outputs": []
    },
    {
      "cell_type": "markdown",
      "source": [
        "> Plotting The Each Store With Value."
      ],
      "metadata": {
        "id": "GC_6BNOluz7S"
      }
    },
    {
      "cell_type": "code",
      "source": [
        "plt.figure(figsize = (12,6))\n",
        "sns.barplot(x = 'STORECODE',y='VALUE',data=df)"
      ],
      "metadata": {
        "execution": {
          "iopub.status.busy": "2024-01-08T17:08:45.745085Z",
          "iopub.execute_input": "2024-01-08T17:08:45.745516Z",
          "iopub.status.idle": "2024-01-08T17:08:46.618169Z",
          "shell.execute_reply.started": "2024-01-08T17:08:45.745483Z",
          "shell.execute_reply": "2024-01-08T17:08:46.617009Z"
        },
        "trusted": true,
        "id": "CpCymlSPuz7S"
      },
      "execution_count": null,
      "outputs": []
    },
    {
      "cell_type": "code",
      "source": [
        "plt.figure(figsize = (12,6))\n",
        "sns.barplot(x = 'GRP',y='QTY',data=df)"
      ],
      "metadata": {
        "execution": {
          "iopub.status.busy": "2024-01-08T17:16:49.627862Z",
          "iopub.execute_input": "2024-01-08T17:16:49.628356Z",
          "iopub.status.idle": "2024-01-08T17:16:53.674927Z",
          "shell.execute_reply.started": "2024-01-08T17:16:49.628319Z",
          "shell.execute_reply": "2024-01-08T17:16:53.673942Z"
        },
        "trusted": true,
        "id": "m4eaITPTuz7S"
      },
      "execution_count": null,
      "outputs": []
    },
    {
      "cell_type": "code",
      "source": [
        "plt.figure(figsize = (12,6))\n",
        "sns.barplot(x = 'GRP',y='VALUE',data=df)"
      ],
      "metadata": {
        "execution": {
          "iopub.status.busy": "2024-01-08T17:16:57.912544Z",
          "iopub.execute_input": "2024-01-08T17:16:57.912928Z",
          "iopub.status.idle": "2024-01-08T17:17:02.013522Z",
          "shell.execute_reply.started": "2024-01-08T17:16:57.912898Z",
          "shell.execute_reply": "2024-01-08T17:17:02.012312Z"
        },
        "trusted": true,
        "id": "tz8Cl2mUuz7S"
      },
      "execution_count": null,
      "outputs": []
    },
    {
      "cell_type": "markdown",
      "source": [
        "#  Exploring Quantity Column"
      ],
      "metadata": {
        "id": "oTnChA3cuz7T"
      }
    },
    {
      "cell_type": "code",
      "source": [
        "xdata = [1,2,3,4,5,6,7,8,9,10]\n",
        "plt.figure(figsize = (12,6))\n",
        "sns.histplot(df['STORECODE'])\n",
        "plt.xticks(xdata)"
      ],
      "metadata": {
        "execution": {
          "iopub.status.busy": "2024-01-08T17:28:11.413670Z",
          "iopub.execute_input": "2024-01-08T17:28:11.414065Z",
          "iopub.status.idle": "2024-01-08T17:28:11.798436Z",
          "shell.execute_reply.started": "2024-01-08T17:28:11.414034Z",
          "shell.execute_reply": "2024-01-08T17:28:11.797233Z"
        },
        "trusted": true,
        "id": "rseE-soBuz7T"
      },
      "execution_count": null,
      "outputs": []
    },
    {
      "cell_type": "markdown",
      "source": [
        "* This Graph shows That , Most Of The Customers Buy In The Store 6, 8."
      ],
      "metadata": {
        "id": "17A2Du6yuz7T"
      }
    },
    {
      "cell_type": "code",
      "source": [
        "xdata = [1,2,3,4,5,6,7,8,9,10]\n",
        "plt.figure(figsize = (12,6))\n",
        "sns.histplot(df['QTY'])\n",
        "plt.xticks(xdata)"
      ],
      "metadata": {
        "execution": {
          "iopub.status.busy": "2024-01-08T17:28:34.675521Z",
          "iopub.execute_input": "2024-01-08T17:28:34.676703Z",
          "iopub.status.idle": "2024-01-08T17:28:35.965739Z",
          "shell.execute_reply.started": "2024-01-08T17:28:34.676655Z",
          "shell.execute_reply": "2024-01-08T17:28:35.964579Z"
        },
        "trusted": true,
        "id": "FZXE0-wCuz7T"
      },
      "execution_count": null,
      "outputs": []
    },
    {
      "cell_type": "markdown",
      "source": [
        "* This Mapping Represents Most Of The Customers Buy The Products  Between 0 and 1."
      ],
      "metadata": {
        "id": "0P11JYDpuz7T"
      }
    },
    {
      "cell_type": "markdown",
      "source": [
        "# Count:"
      ],
      "metadata": {
        "id": "P93WtBh1uz7b"
      }
    },
    {
      "cell_type": "code",
      "source": [
        "quantity_df = pd.DataFrame(df['QTY'].value_counts())\n",
        "quantity_df"
      ],
      "metadata": {
        "execution": {
          "iopub.status.busy": "2024-01-08T17:44:26.524102Z",
          "iopub.execute_input": "2024-01-08T17:44:26.525421Z",
          "iopub.status.idle": "2024-01-08T17:44:26.539480Z",
          "shell.execute_reply.started": "2024-01-08T17:44:26.525364Z",
          "shell.execute_reply": "2024-01-08T17:44:26.538099Z"
        },
        "trusted": true,
        "id": "Aj9U4bVHuz7b"
      },
      "execution_count": null,
      "outputs": []
    },
    {
      "cell_type": "code",
      "source": [
        "plt.figure(figsize = (12,6))\n",
        "sns.barplot(x = quantity_df.index , y = quantity_df['count'],palette = 'inferno')"
      ],
      "metadata": {
        "execution": {
          "iopub.status.busy": "2024-01-08T17:43:39.210515Z",
          "iopub.execute_input": "2024-01-08T17:43:39.210988Z",
          "iopub.status.idle": "2024-01-08T17:43:42.205821Z",
          "shell.execute_reply.started": "2024-01-08T17:43:39.210947Z",
          "shell.execute_reply": "2024-01-08T17:43:42.204796Z"
        },
        "trusted": true,
        "id": "ADHx5zdtuz7b"
      },
      "execution_count": null,
      "outputs": []
    },
    {
      "cell_type": "markdown",
      "source": [
        "# Inference From The Analysis\n",
        "1.  Total months = 3\n",
        "2.  Total stores = 10\n",
        "3.  Mean Of Quantity =16.354488\n",
        "4.  Mean Of Value =294.455330\n",
        "5.  Median Of Value = 99.0\n",
        "6.  Standard Deviation of Quantity =34.365583\n",
        "7.  Standard Deviation of Value =760.129558\n",
        "8.  No Null Values Present In The Dataset.\n",
        "9.  Max Sales Are In Month 3.\n",
        "10. Max Quantity Sold In Store 5.\n",
        "11. Max Total Value Is In store 7.\n",
        "12. Max Sales Are At Quantity Of 0 And 1\n",
        ""
      ],
      "metadata": {
        "id": "fIVJzJPguz7c"
      }
    }
  ]
}