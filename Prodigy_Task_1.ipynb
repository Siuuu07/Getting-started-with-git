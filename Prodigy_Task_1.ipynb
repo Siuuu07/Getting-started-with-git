{
  "cells": [
    {
      "cell_type": "markdown",
      "id": "6e71b74d",
      "metadata": {
        "papermill": {
          "duration": 0.011962,
          "end_time": "2023-06-02T04:52:17.601259",
          "exception": false,
          "start_time": "2023-06-02T04:52:17.589297",
          "status": "completed"
        },
        "tags": [],
        "id": "6e71b74d"
      },
      "source": [
        "#**Feature Description:**\n",
        "\n",
        "* Country - Name of the Country.\n",
        "* Rank - Rank of the paricular Country (Decided by Population).\n",
        "* Area - The land area of the Country (measured in km^2).\n",
        "* CCA2 - 2 Digit code of a Particular Country.\n",
        "* CCA3 - 3 Digit code of a Particular Country.\n",
        "* Growth Rate - The Population Growth Rate of the Country.\n",
        "* World Population Percentage - The percentage of the World Population residing in that Country.\n",
        "* Density - The Population Density of the Country (measured in per km^2)\n",
        "* 1980 population - The Population of the Country in year 1980.\n",
        "* 2000 population - The Population of the Country in year 2000.\n",
        "* 2020 population - The Population of the Country in year 2020.\n",
        "* 2010 population - The Population of the Country in year 2010.\n",
        "* 2022 population - The Population of the Country in year 2022.\n",
        "* 2023 population - The Population of the Country in year 2023.\n",
        "* 2030 population - The Population of the Country in year 2030.\n",
        "* 2050 population - The Population of the Country in year 2050."
      ]
    },
    {
      "cell_type": "code",
      "execution_count": null,
      "id": "316fcaca",
      "metadata": {
        "execution": {
          "iopub.execute_input": "2023-06-02T04:52:17.629177Z",
          "iopub.status.busy": "2023-06-02T04:52:17.628539Z",
          "iopub.status.idle": "2023-06-02T04:52:20.014638Z",
          "shell.execute_reply": "2023-06-02T04:52:20.013507Z"
        },
        "papermill": {
          "duration": 2.401976,
          "end_time": "2023-06-02T04:52:20.017124",
          "exception": false,
          "start_time": "2023-06-02T04:52:17.615148",
          "status": "completed"
        },
        "tags": [],
        "id": "316fcaca",
        "outputId": "05c3f592-4529-41cb-e7cd-412df6b01251"
      },
      "outputs": [
        {
          "data": {
            "text/html": [
              "        <script type=\"text/javascript\">\n",
              "        window.PlotlyConfig = {MathJaxConfig: 'local'};\n",
              "        if (window.MathJax && window.MathJax.Hub && window.MathJax.Hub.Config) {window.MathJax.Hub.Config({SVG: {font: \"STIX-Web\"}});}\n",
              "        if (typeof require !== 'undefined') {\n",
              "        require.undef(\"plotly\");\n",
              "        requirejs.config({\n",
              "            paths: {\n",
              "                'plotly': ['https://cdn.plot.ly/plotly-2.20.0.min']\n",
              "            }\n",
              "        });\n",
              "        require(['plotly'], function(Plotly) {\n",
              "            window._Plotly = Plotly;\n",
              "        });\n",
              "        }\n",
              "        </script>\n",
              "        "
            ]
          },
          "metadata": {},
          "output_type": "display_data"
        }
      ],
      "source": [
        "#Importing all essential liabraries\n",
        "import numpy as np\n",
        "import pandas as pd\n",
        "import seaborn as sns\n",
        "from plotly.subplots import make_subplots\n",
        "import matplotlib.pyplot as plt\n",
        "import plotly.express as px\n",
        "import missingno as msno\n",
        "import plotly.offline as py\n",
        "py.init_notebook_mode(connected=True)\n",
        "\n",
        "\n",
        "import warnings\n",
        "warnings.filterwarnings('ignore')"
      ]
    },
    {
      "cell_type": "code",
      "execution_count": null,
      "id": "bcfb3886",
      "metadata": {
        "execution": {
          "iopub.execute_input": "2023-06-02T04:52:20.043552Z",
          "iopub.status.busy": "2023-06-02T04:52:20.042836Z",
          "iopub.status.idle": "2023-06-02T04:52:20.070518Z",
          "shell.execute_reply": "2023-06-02T04:52:20.069409Z"
        },
        "papermill": {
          "duration": 0.04377,
          "end_time": "2023-06-02T04:52:20.073204",
          "exception": false,
          "start_time": "2023-06-02T04:52:20.029434",
          "status": "completed"
        },
        "tags": [],
        "id": "bcfb3886"
      },
      "outputs": [],
      "source": [
        "df = pd.read_csv(\"/kaggle/input/2023-world-population-by-country/countries-table.csv\")"
      ]
    },
    {
      "cell_type": "code",
      "execution_count": null,
      "id": "e192c29b",
      "metadata": {
        "execution": {
          "iopub.execute_input": "2023-06-02T04:52:20.099251Z",
          "iopub.status.busy": "2023-06-02T04:52:20.098870Z",
          "iopub.status.idle": "2023-06-02T04:52:20.147855Z",
          "shell.execute_reply": "2023-06-02T04:52:20.146821Z"
        },
        "papermill": {
          "duration": 0.065121,
          "end_time": "2023-06-02T04:52:20.150562",
          "exception": false,
          "start_time": "2023-06-02T04:52:20.085441",
          "status": "completed"
        },
        "tags": [],
        "id": "e192c29b",
        "outputId": "182918f0-f86e-4652-b982-2b09cfed94ba"
      },
      "outputs": [
        {
          "data": {
            "text/html": [
              "<div>\n",
              "<style scoped>\n",
              "    .dataframe tbody tr th:only-of-type {\n",
              "        vertical-align: middle;\n",
              "    }\n",
              "\n",
              "    .dataframe tbody tr th {\n",
              "        vertical-align: top;\n",
              "    }\n",
              "\n",
              "    .dataframe thead th {\n",
              "        text-align: right;\n",
              "    }\n",
              "</style>\n",
              "<table border=\"1\" class=\"dataframe\">\n",
              "  <thead>\n",
              "    <tr style=\"text-align: right;\">\n",
              "      <th></th>\n",
              "      <th>country</th>\n",
              "      <th>rank</th>\n",
              "      <th>area</th>\n",
              "      <th>landAreaKm</th>\n",
              "      <th>cca2</th>\n",
              "      <th>cca3</th>\n",
              "      <th>netChange</th>\n",
              "      <th>growthRate</th>\n",
              "      <th>worldPercentage</th>\n",
              "      <th>density</th>\n",
              "      <th>densityMi</th>\n",
              "      <th>place</th>\n",
              "      <th>pop1980</th>\n",
              "      <th>pop2000</th>\n",
              "      <th>pop2010</th>\n",
              "      <th>pop2022</th>\n",
              "      <th>pop2023</th>\n",
              "      <th>pop2030</th>\n",
              "      <th>pop2050</th>\n",
              "    </tr>\n",
              "  </thead>\n",
              "  <tbody>\n",
              "    <tr>\n",
              "      <th>0</th>\n",
              "      <td>India</td>\n",
              "      <td>1</td>\n",
              "      <td>3287590.0</td>\n",
              "      <td>2973190.0</td>\n",
              "      <td>IN</td>\n",
              "      <td>IND</td>\n",
              "      <td>0.4184</td>\n",
              "      <td>0.0081</td>\n",
              "      <td>0.1785</td>\n",
              "      <td>480.5033</td>\n",
              "      <td>1244.5036</td>\n",
              "      <td>356</td>\n",
              "      <td>696828385</td>\n",
              "      <td>1059633675</td>\n",
              "      <td>1240613620</td>\n",
              "      <td>1417173173</td>\n",
              "      <td>1428627663</td>\n",
              "      <td>1514994080</td>\n",
              "      <td>1670490596</td>\n",
              "    </tr>\n",
              "    <tr>\n",
              "      <th>1</th>\n",
              "      <td>China</td>\n",
              "      <td>2</td>\n",
              "      <td>9706961.0</td>\n",
              "      <td>9424702.9</td>\n",
              "      <td>CN</td>\n",
              "      <td>CHN</td>\n",
              "      <td>-0.0113</td>\n",
              "      <td>-0.0002</td>\n",
              "      <td>0.1781</td>\n",
              "      <td>151.2696</td>\n",
              "      <td>391.7884</td>\n",
              "      <td>156</td>\n",
              "      <td>982372466</td>\n",
              "      <td>1264099069</td>\n",
              "      <td>1348191368</td>\n",
              "      <td>1425887337</td>\n",
              "      <td>1425671352</td>\n",
              "      <td>1415605906</td>\n",
              "      <td>1312636325</td>\n",
              "    </tr>\n",
              "    <tr>\n",
              "      <th>2</th>\n",
              "      <td>United States</td>\n",
              "      <td>3</td>\n",
              "      <td>9372610.0</td>\n",
              "      <td>9147420.0</td>\n",
              "      <td>US</td>\n",
              "      <td>USA</td>\n",
              "      <td>0.0581</td>\n",
              "      <td>0.0050</td>\n",
              "      <td>0.0425</td>\n",
              "      <td>37.1686</td>\n",
              "      <td>96.2666</td>\n",
              "      <td>840</td>\n",
              "      <td>223140018</td>\n",
              "      <td>282398554</td>\n",
              "      <td>311182845</td>\n",
              "      <td>338289857</td>\n",
              "      <td>339996563</td>\n",
              "      <td>352162301</td>\n",
              "      <td>375391963</td>\n",
              "    </tr>\n",
              "    <tr>\n",
              "      <th>3</th>\n",
              "      <td>Indonesia</td>\n",
              "      <td>4</td>\n",
              "      <td>1904569.0</td>\n",
              "      <td>1877519.0</td>\n",
              "      <td>ID</td>\n",
              "      <td>IDN</td>\n",
              "      <td>0.0727</td>\n",
              "      <td>0.0074</td>\n",
              "      <td>0.0347</td>\n",
              "      <td>147.8196</td>\n",
              "      <td>382.8528</td>\n",
              "      <td>360</td>\n",
              "      <td>148177096</td>\n",
              "      <td>214072421</td>\n",
              "      <td>244016173</td>\n",
              "      <td>275501339</td>\n",
              "      <td>277534122</td>\n",
              "      <td>292150100</td>\n",
              "      <td>317225213</td>\n",
              "    </tr>\n",
              "    <tr>\n",
              "      <th>4</th>\n",
              "      <td>Pakistan</td>\n",
              "      <td>5</td>\n",
              "      <td>881912.0</td>\n",
              "      <td>770880.0</td>\n",
              "      <td>PK</td>\n",
              "      <td>PAK</td>\n",
              "      <td>0.1495</td>\n",
              "      <td>0.0198</td>\n",
              "      <td>0.0300</td>\n",
              "      <td>311.9625</td>\n",
              "      <td>807.9829</td>\n",
              "      <td>586</td>\n",
              "      <td>80624057</td>\n",
              "      <td>154369924</td>\n",
              "      <td>194454498</td>\n",
              "      <td>235824862</td>\n",
              "      <td>240485658</td>\n",
              "      <td>274029836</td>\n",
              "      <td>367808468</td>\n",
              "    </tr>\n",
              "    <tr>\n",
              "      <th>5</th>\n",
              "      <td>Nigeria</td>\n",
              "      <td>6</td>\n",
              "      <td>923768.0</td>\n",
              "      <td>910770.0</td>\n",
              "      <td>NG</td>\n",
              "      <td>NGA</td>\n",
              "      <td>0.1680</td>\n",
              "      <td>0.0241</td>\n",
              "      <td>0.0280</td>\n",
              "      <td>245.7312</td>\n",
              "      <td>636.4439</td>\n",
              "      <td>566</td>\n",
              "      <td>72951439</td>\n",
              "      <td>122851984</td>\n",
              "      <td>160952853</td>\n",
              "      <td>218541212</td>\n",
              "      <td>223804632</td>\n",
              "      <td>262580426</td>\n",
              "      <td>377459883</td>\n",
              "    </tr>\n",
              "    <tr>\n",
              "      <th>6</th>\n",
              "      <td>Brazil</td>\n",
              "      <td>7</td>\n",
              "      <td>8515767.0</td>\n",
              "      <td>8358140.0</td>\n",
              "      <td>BR</td>\n",
              "      <td>BRA</td>\n",
              "      <td>0.0393</td>\n",
              "      <td>0.0052</td>\n",
              "      <td>0.0270</td>\n",
              "      <td>25.8936</td>\n",
              "      <td>67.0645</td>\n",
              "      <td>76</td>\n",
              "      <td>122288383</td>\n",
              "      <td>175873720</td>\n",
              "      <td>196353492</td>\n",
              "      <td>215313498</td>\n",
              "      <td>216422446</td>\n",
              "      <td>223908968</td>\n",
              "      <td>230885725</td>\n",
              "    </tr>\n",
              "    <tr>\n",
              "      <th>7</th>\n",
              "      <td>Bangladesh</td>\n",
              "      <td>8</td>\n",
              "      <td>147570.0</td>\n",
              "      <td>130170.0</td>\n",
              "      <td>BD</td>\n",
              "      <td>BGD</td>\n",
              "      <td>0.0557</td>\n",
              "      <td>0.0103</td>\n",
              "      <td>0.0216</td>\n",
              "      <td>1328.6803</td>\n",
              "      <td>3441.2821</td>\n",
              "      <td>50</td>\n",
              "      <td>83929765</td>\n",
              "      <td>129193327</td>\n",
              "      <td>148391139</td>\n",
              "      <td>171186372</td>\n",
              "      <td>172954319</td>\n",
              "      <td>184424144</td>\n",
              "      <td>203904900</td>\n",
              "    </tr>\n",
              "    <tr>\n",
              "      <th>8</th>\n",
              "      <td>Russia</td>\n",
              "      <td>9</td>\n",
              "      <td>17098242.0</td>\n",
              "      <td>16376870.0</td>\n",
              "      <td>RU</td>\n",
              "      <td>RUS</td>\n",
              "      <td>-0.0158</td>\n",
              "      <td>-0.0019</td>\n",
              "      <td>0.0180</td>\n",
              "      <td>8.8200</td>\n",
              "      <td>22.8439</td>\n",
              "      <td>643</td>\n",
              "      <td>138257420</td>\n",
              "      <td>146844839</td>\n",
              "      <td>143242599</td>\n",
              "      <td>144713314</td>\n",
              "      <td>144444359</td>\n",
              "      <td>141432741</td>\n",
              "      <td>133133035</td>\n",
              "    </tr>\n",
              "    <tr>\n",
              "      <th>9</th>\n",
              "      <td>Mexico</td>\n",
              "      <td>10</td>\n",
              "      <td>1964375.0</td>\n",
              "      <td>1943950.0</td>\n",
              "      <td>MX</td>\n",
              "      <td>MEX</td>\n",
              "      <td>0.0299</td>\n",
              "      <td>0.0075</td>\n",
              "      <td>0.0160</td>\n",
              "      <td>66.0797</td>\n",
              "      <td>171.1463</td>\n",
              "      <td>484</td>\n",
              "      <td>67705186</td>\n",
              "      <td>97873442</td>\n",
              "      <td>112532401</td>\n",
              "      <td>127504125</td>\n",
              "      <td>128455567</td>\n",
              "      <td>134534107</td>\n",
              "      <td>143772364</td>\n",
              "    </tr>\n",
              "  </tbody>\n",
              "</table>\n",
              "</div>"
            ],
            "text/plain": [
              "         country  rank        area  landAreaKm cca2 cca3  netChange  \\\n",
              "0          India     1   3287590.0   2973190.0   IN  IND     0.4184   \n",
              "1          China     2   9706961.0   9424702.9   CN  CHN    -0.0113   \n",
              "2  United States     3   9372610.0   9147420.0   US  USA     0.0581   \n",
              "3      Indonesia     4   1904569.0   1877519.0   ID  IDN     0.0727   \n",
              "4       Pakistan     5    881912.0    770880.0   PK  PAK     0.1495   \n",
              "5        Nigeria     6    923768.0    910770.0   NG  NGA     0.1680   \n",
              "6         Brazil     7   8515767.0   8358140.0   BR  BRA     0.0393   \n",
              "7     Bangladesh     8    147570.0    130170.0   BD  BGD     0.0557   \n",
              "8         Russia     9  17098242.0  16376870.0   RU  RUS    -0.0158   \n",
              "9         Mexico    10   1964375.0   1943950.0   MX  MEX     0.0299   \n",
              "\n",
              "   growthRate  worldPercentage    density  densityMi  place    pop1980  \\\n",
              "0      0.0081           0.1785   480.5033  1244.5036    356  696828385   \n",
              "1     -0.0002           0.1781   151.2696   391.7884    156  982372466   \n",
              "2      0.0050           0.0425    37.1686    96.2666    840  223140018   \n",
              "3      0.0074           0.0347   147.8196   382.8528    360  148177096   \n",
              "4      0.0198           0.0300   311.9625   807.9829    586   80624057   \n",
              "5      0.0241           0.0280   245.7312   636.4439    566   72951439   \n",
              "6      0.0052           0.0270    25.8936    67.0645     76  122288383   \n",
              "7      0.0103           0.0216  1328.6803  3441.2821     50   83929765   \n",
              "8     -0.0019           0.0180     8.8200    22.8439    643  138257420   \n",
              "9      0.0075           0.0160    66.0797   171.1463    484   67705186   \n",
              "\n",
              "      pop2000     pop2010     pop2022     pop2023     pop2030     pop2050  \n",
              "0  1059633675  1240613620  1417173173  1428627663  1514994080  1670490596  \n",
              "1  1264099069  1348191368  1425887337  1425671352  1415605906  1312636325  \n",
              "2   282398554   311182845   338289857   339996563   352162301   375391963  \n",
              "3   214072421   244016173   275501339   277534122   292150100   317225213  \n",
              "4   154369924   194454498   235824862   240485658   274029836   367808468  \n",
              "5   122851984   160952853   218541212   223804632   262580426   377459883  \n",
              "6   175873720   196353492   215313498   216422446   223908968   230885725  \n",
              "7   129193327   148391139   171186372   172954319   184424144   203904900  \n",
              "8   146844839   143242599   144713314   144444359   141432741   133133035  \n",
              "9    97873442   112532401   127504125   128455567   134534107   143772364  "
            ]
          },
          "execution_count": 4,
          "metadata": {},
          "output_type": "execute_result"
        }
      ],
      "source": [
        "df.head(10)"
      ]
    },
    {
      "cell_type": "code",
      "execution_count": null,
      "id": "b601082e",
      "metadata": {
        "execution": {
          "iopub.execute_input": "2023-06-02T04:52:20.178368Z",
          "iopub.status.busy": "2023-06-02T04:52:20.177911Z",
          "iopub.status.idle": "2023-06-02T04:52:20.205587Z",
          "shell.execute_reply": "2023-06-02T04:52:20.204673Z"
        },
        "papermill": {
          "duration": 0.044169,
          "end_time": "2023-06-02T04:52:20.208004",
          "exception": false,
          "start_time": "2023-06-02T04:52:20.163835",
          "status": "completed"
        },
        "tags": [],
        "id": "b601082e",
        "outputId": "bda3c318-cc28-433f-abb4-4db3ce77171d"
      },
      "outputs": [
        {
          "data": {
            "text/html": [
              "<div>\n",
              "<style scoped>\n",
              "    .dataframe tbody tr th:only-of-type {\n",
              "        vertical-align: middle;\n",
              "    }\n",
              "\n",
              "    .dataframe tbody tr th {\n",
              "        vertical-align: top;\n",
              "    }\n",
              "\n",
              "    .dataframe thead th {\n",
              "        text-align: right;\n",
              "    }\n",
              "</style>\n",
              "<table border=\"1\" class=\"dataframe\">\n",
              "  <thead>\n",
              "    <tr style=\"text-align: right;\">\n",
              "      <th></th>\n",
              "      <th>country</th>\n",
              "      <th>rank</th>\n",
              "      <th>area</th>\n",
              "      <th>landAreaKm</th>\n",
              "      <th>cca2</th>\n",
              "      <th>cca3</th>\n",
              "      <th>netChange</th>\n",
              "      <th>growthRate</th>\n",
              "      <th>worldPercentage</th>\n",
              "      <th>density</th>\n",
              "      <th>densityMi</th>\n",
              "      <th>place</th>\n",
              "      <th>pop1980</th>\n",
              "      <th>pop2000</th>\n",
              "      <th>pop2010</th>\n",
              "      <th>pop2022</th>\n",
              "      <th>pop2023</th>\n",
              "      <th>pop2030</th>\n",
              "      <th>pop2050</th>\n",
              "    </tr>\n",
              "  </thead>\n",
              "  <tbody>\n",
              "    <tr>\n",
              "      <th>224</th>\n",
              "      <td>Nauru</td>\n",
              "      <td>225</td>\n",
              "      <td>21.00</td>\n",
              "      <td>20.00</td>\n",
              "      <td>NR</td>\n",
              "      <td>NRU</td>\n",
              "      <td>0.0</td>\n",
              "      <td>0.0088</td>\n",
              "      <td>0.0</td>\n",
              "      <td>639.0000</td>\n",
              "      <td>1655.0100</td>\n",
              "      <td>520</td>\n",
              "      <td>7635</td>\n",
              "      <td>10377</td>\n",
              "      <td>10241</td>\n",
              "      <td>12668</td>\n",
              "      <td>12780</td>\n",
              "      <td>13358</td>\n",
              "      <td>14695</td>\n",
              "    </tr>\n",
              "    <tr>\n",
              "      <th>225</th>\n",
              "      <td>Wallis and Futuna</td>\n",
              "      <td>226</td>\n",
              "      <td>274.00</td>\n",
              "      <td>274.00</td>\n",
              "      <td>WF</td>\n",
              "      <td>WLF</td>\n",
              "      <td>0.0</td>\n",
              "      <td>-0.0060</td>\n",
              "      <td>0.0</td>\n",
              "      <td>41.9781</td>\n",
              "      <td>108.7233</td>\n",
              "      <td>876</td>\n",
              "      <td>11315</td>\n",
              "      <td>14723</td>\n",
              "      <td>13142</td>\n",
              "      <td>11572</td>\n",
              "      <td>11502</td>\n",
              "      <td>11229</td>\n",
              "      <td>11349</td>\n",
              "    </tr>\n",
              "    <tr>\n",
              "      <th>226</th>\n",
              "      <td>Tuvalu</td>\n",
              "      <td>227</td>\n",
              "      <td>26.00</td>\n",
              "      <td>30.00</td>\n",
              "      <td>TV</td>\n",
              "      <td>TUV</td>\n",
              "      <td>0.0</td>\n",
              "      <td>0.0074</td>\n",
              "      <td>0.0</td>\n",
              "      <td>379.8667</td>\n",
              "      <td>983.8547</td>\n",
              "      <td>798</td>\n",
              "      <td>7731</td>\n",
              "      <td>9638</td>\n",
              "      <td>10550</td>\n",
              "      <td>11312</td>\n",
              "      <td>11396</td>\n",
              "      <td>11917</td>\n",
              "      <td>13211</td>\n",
              "    </tr>\n",
              "    <tr>\n",
              "      <th>227</th>\n",
              "      <td>Saint Barthelemy</td>\n",
              "      <td>228</td>\n",
              "      <td>21.00</td>\n",
              "      <td>25.00</td>\n",
              "      <td>BL</td>\n",
              "      <td>BLM</td>\n",
              "      <td>NaN</td>\n",
              "      <td>0.0025</td>\n",
              "      <td>0.0</td>\n",
              "      <td>439.7600</td>\n",
              "      <td>1138.9784</td>\n",
              "      <td>652</td>\n",
              "      <td>2983</td>\n",
              "      <td>7082</td>\n",
              "      <td>8988</td>\n",
              "      <td>10967</td>\n",
              "      <td>10994</td>\n",
              "      <td>11113</td>\n",
              "      <td>10210</td>\n",
              "    </tr>\n",
              "    <tr>\n",
              "      <th>228</th>\n",
              "      <td>Saint Pierre and Miquelon</td>\n",
              "      <td>229</td>\n",
              "      <td>242.00</td>\n",
              "      <td>242.00</td>\n",
              "      <td>PM</td>\n",
              "      <td>SPM</td>\n",
              "      <td>NaN</td>\n",
              "      <td>-0.0038</td>\n",
              "      <td>NaN</td>\n",
              "      <td>24.1322</td>\n",
              "      <td>62.5025</td>\n",
              "      <td>666</td>\n",
              "      <td>6106</td>\n",
              "      <td>6274</td>\n",
              "      <td>6052</td>\n",
              "      <td>5862</td>\n",
              "      <td>5840</td>\n",
              "      <td>5651</td>\n",
              "      <td>5165</td>\n",
              "    </tr>\n",
              "    <tr>\n",
              "      <th>229</th>\n",
              "      <td>Montserrat</td>\n",
              "      <td>230</td>\n",
              "      <td>102.00</td>\n",
              "      <td>102.00</td>\n",
              "      <td>MS</td>\n",
              "      <td>MSR</td>\n",
              "      <td>NaN</td>\n",
              "      <td>-0.0009</td>\n",
              "      <td>NaN</td>\n",
              "      <td>43.0000</td>\n",
              "      <td>111.3700</td>\n",
              "      <td>500</td>\n",
              "      <td>11452</td>\n",
              "      <td>5138</td>\n",
              "      <td>4938</td>\n",
              "      <td>4390</td>\n",
              "      <td>4386</td>\n",
              "      <td>4301</td>\n",
              "      <td>3781</td>\n",
              "    </tr>\n",
              "    <tr>\n",
              "      <th>230</th>\n",
              "      <td>Falkland Islands</td>\n",
              "      <td>231</td>\n",
              "      <td>12173.00</td>\n",
              "      <td>12173.00</td>\n",
              "      <td>FK</td>\n",
              "      <td>FLK</td>\n",
              "      <td>NaN</td>\n",
              "      <td>0.0029</td>\n",
              "      <td>NaN</td>\n",
              "      <td>0.3114</td>\n",
              "      <td>0.8066</td>\n",
              "      <td>238</td>\n",
              "      <td>2240</td>\n",
              "      <td>3080</td>\n",
              "      <td>3187</td>\n",
              "      <td>3780</td>\n",
              "      <td>3791</td>\n",
              "      <td>3869</td>\n",
              "      <td>3779</td>\n",
              "    </tr>\n",
              "    <tr>\n",
              "      <th>231</th>\n",
              "      <td>Niue</td>\n",
              "      <td>232</td>\n",
              "      <td>261.00</td>\n",
              "      <td>261.00</td>\n",
              "      <td>NU</td>\n",
              "      <td>NIU</td>\n",
              "      <td>0.0</td>\n",
              "      <td>0.0005</td>\n",
              "      <td>NaN</td>\n",
              "      <td>7.4138</td>\n",
              "      <td>19.2017</td>\n",
              "      <td>570</td>\n",
              "      <td>3637</td>\n",
              "      <td>2074</td>\n",
              "      <td>1812</td>\n",
              "      <td>1934</td>\n",
              "      <td>1935</td>\n",
              "      <td>1948</td>\n",
              "      <td>2096</td>\n",
              "    </tr>\n",
              "    <tr>\n",
              "      <th>232</th>\n",
              "      <td>Tokelau</td>\n",
              "      <td>233</td>\n",
              "      <td>12.00</td>\n",
              "      <td>10.00</td>\n",
              "      <td>TK</td>\n",
              "      <td>TKL</td>\n",
              "      <td>NaN</td>\n",
              "      <td>0.0118</td>\n",
              "      <td>NaN</td>\n",
              "      <td>189.3000</td>\n",
              "      <td>490.2870</td>\n",
              "      <td>772</td>\n",
              "      <td>1647</td>\n",
              "      <td>1666</td>\n",
              "      <td>1367</td>\n",
              "      <td>1871</td>\n",
              "      <td>1893</td>\n",
              "      <td>2046</td>\n",
              "      <td>2430</td>\n",
              "    </tr>\n",
              "    <tr>\n",
              "      <th>233</th>\n",
              "      <td>Vatican City</td>\n",
              "      <td>234</td>\n",
              "      <td>0.44</td>\n",
              "      <td>0.44</td>\n",
              "      <td>VA</td>\n",
              "      <td>VAT</td>\n",
              "      <td>NaN</td>\n",
              "      <td>0.0157</td>\n",
              "      <td>NaN</td>\n",
              "      <td>1177.2727</td>\n",
              "      <td>3049.1364</td>\n",
              "      <td>336</td>\n",
              "      <td>733</td>\n",
              "      <td>651</td>\n",
              "      <td>596</td>\n",
              "      <td>510</td>\n",
              "      <td>518</td>\n",
              "      <td>561</td>\n",
              "      <td>731</td>\n",
              "    </tr>\n",
              "  </tbody>\n",
              "</table>\n",
              "</div>"
            ],
            "text/plain": [
              "                       country  rank      area  landAreaKm cca2 cca3  \\\n",
              "224                      Nauru   225     21.00       20.00   NR  NRU   \n",
              "225          Wallis and Futuna   226    274.00      274.00   WF  WLF   \n",
              "226                     Tuvalu   227     26.00       30.00   TV  TUV   \n",
              "227           Saint Barthelemy   228     21.00       25.00   BL  BLM   \n",
              "228  Saint Pierre and Miquelon   229    242.00      242.00   PM  SPM   \n",
              "229                 Montserrat   230    102.00      102.00   MS  MSR   \n",
              "230           Falkland Islands   231  12173.00    12173.00   FK  FLK   \n",
              "231                       Niue   232    261.00      261.00   NU  NIU   \n",
              "232                    Tokelau   233     12.00       10.00   TK  TKL   \n",
              "233               Vatican City   234      0.44        0.44   VA  VAT   \n",
              "\n",
              "     netChange  growthRate  worldPercentage    density  densityMi  place  \\\n",
              "224        0.0      0.0088              0.0   639.0000  1655.0100    520   \n",
              "225        0.0     -0.0060              0.0    41.9781   108.7233    876   \n",
              "226        0.0      0.0074              0.0   379.8667   983.8547    798   \n",
              "227        NaN      0.0025              0.0   439.7600  1138.9784    652   \n",
              "228        NaN     -0.0038              NaN    24.1322    62.5025    666   \n",
              "229        NaN     -0.0009              NaN    43.0000   111.3700    500   \n",
              "230        NaN      0.0029              NaN     0.3114     0.8066    238   \n",
              "231        0.0      0.0005              NaN     7.4138    19.2017    570   \n",
              "232        NaN      0.0118              NaN   189.3000   490.2870    772   \n",
              "233        NaN      0.0157              NaN  1177.2727  3049.1364    336   \n",
              "\n",
              "     pop1980  pop2000  pop2010  pop2022  pop2023  pop2030  pop2050  \n",
              "224     7635    10377    10241    12668    12780    13358    14695  \n",
              "225    11315    14723    13142    11572    11502    11229    11349  \n",
              "226     7731     9638    10550    11312    11396    11917    13211  \n",
              "227     2983     7082     8988    10967    10994    11113    10210  \n",
              "228     6106     6274     6052     5862     5840     5651     5165  \n",
              "229    11452     5138     4938     4390     4386     4301     3781  \n",
              "230     2240     3080     3187     3780     3791     3869     3779  \n",
              "231     3637     2074     1812     1934     1935     1948     2096  \n",
              "232     1647     1666     1367     1871     1893     2046     2430  \n",
              "233      733      651      596      510      518      561      731  "
            ]
          },
          "execution_count": 5,
          "metadata": {},
          "output_type": "execute_result"
        }
      ],
      "source": [
        "df.tail(10)"
      ]
    },
    {
      "cell_type": "code",
      "execution_count": null,
      "id": "677163e2",
      "metadata": {
        "execution": {
          "iopub.execute_input": "2023-06-02T04:52:20.236187Z",
          "iopub.status.busy": "2023-06-02T04:52:20.235813Z",
          "iopub.status.idle": "2023-06-02T04:52:20.261417Z",
          "shell.execute_reply": "2023-06-02T04:52:20.260297Z"
        },
        "papermill": {
          "duration": 0.042546,
          "end_time": "2023-06-02T04:52:20.263792",
          "exception": false,
          "start_time": "2023-06-02T04:52:20.221246",
          "status": "completed"
        },
        "tags": [],
        "id": "677163e2",
        "outputId": "ef6e4a2e-ac55-4000-d363-482b034232a0"
      },
      "outputs": [
        {
          "name": "stdout",
          "output_type": "stream",
          "text": [
            "<class 'pandas.core.frame.DataFrame'>\n",
            "RangeIndex: 234 entries, 0 to 233\n",
            "Data columns (total 19 columns):\n",
            " #   Column           Non-Null Count  Dtype  \n",
            "---  ------           --------------  -----  \n",
            " 0   country          234 non-null    object \n",
            " 1   rank             234 non-null    int64  \n",
            " 2   area             234 non-null    float64\n",
            " 3   landAreaKm       234 non-null    float64\n",
            " 4   cca2             233 non-null    object \n",
            " 5   cca3             234 non-null    object \n",
            " 6   netChange        226 non-null    float64\n",
            " 7   growthRate       234 non-null    float64\n",
            " 8   worldPercentage  228 non-null    float64\n",
            " 9   density          234 non-null    float64\n",
            " 10  densityMi        234 non-null    float64\n",
            " 11  place            234 non-null    int64  \n",
            " 12  pop1980          234 non-null    int64  \n",
            " 13  pop2000          234 non-null    int64  \n",
            " 14  pop2010          234 non-null    int64  \n",
            " 15  pop2022          234 non-null    int64  \n",
            " 16  pop2023          234 non-null    int64  \n",
            " 17  pop2030          234 non-null    int64  \n",
            " 18  pop2050          234 non-null    int64  \n",
            "dtypes: float64(7), int64(9), object(3)\n",
            "memory usage: 34.9+ KB\n"
          ]
        }
      ],
      "source": [
        "df.info()"
      ]
    },
    {
      "cell_type": "code",
      "execution_count": null,
      "id": "ce534e2e",
      "metadata": {
        "execution": {
          "iopub.execute_input": "2023-06-02T04:52:20.291577Z",
          "iopub.status.busy": "2023-06-02T04:52:20.291164Z",
          "iopub.status.idle": "2023-06-02T04:52:20.437379Z",
          "shell.execute_reply": "2023-06-02T04:52:20.436477Z"
        },
        "papermill": {
          "duration": 0.162721,
          "end_time": "2023-06-02T04:52:20.439585",
          "exception": false,
          "start_time": "2023-06-02T04:52:20.276864",
          "status": "completed"
        },
        "tags": [],
        "id": "ce534e2e",
        "outputId": "82101578-fc30-4ae7-920d-acc39ad3afe0"
      },
      "outputs": [
        {
          "name": "stdout",
          "output_type": "stream",
          "text": [
            "Summary Of The Dataset with numerical columns :\n"
          ]
        },
        {
          "data": {
            "text/html": [
              "<style type=\"text/css\">\n",
              "#T_86bf6_row0_col0, #T_86bf6_row0_col1, #T_86bf6_row0_col2, #T_86bf6_row0_col3, #T_86bf6_row0_col4, #T_86bf6_row0_col5, #T_86bf6_row0_col6, #T_86bf6_row0_col7, #T_86bf6_row0_col8, #T_86bf6_row0_col9, #T_86bf6_row0_col10, #T_86bf6_row0_col11, #T_86bf6_row0_col12, #T_86bf6_row0_col13, #T_86bf6_row0_col14, #T_86bf6_row0_col15, #T_86bf6_row1_col0, #T_86bf6_row1_col1, #T_86bf6_row1_col2, #T_86bf6_row1_col3, #T_86bf6_row1_col4, #T_86bf6_row1_col5, #T_86bf6_row1_col6, #T_86bf6_row1_col7, #T_86bf6_row1_col8, #T_86bf6_row1_col9, #T_86bf6_row1_col10, #T_86bf6_row1_col11, #T_86bf6_row1_col12, #T_86bf6_row1_col13, #T_86bf6_row1_col14, #T_86bf6_row1_col15, #T_86bf6_row2_col0, #T_86bf6_row2_col1, #T_86bf6_row2_col2, #T_86bf6_row2_col3, #T_86bf6_row2_col4, #T_86bf6_row2_col5, #T_86bf6_row2_col6, #T_86bf6_row2_col7, #T_86bf6_row2_col8, #T_86bf6_row2_col9, #T_86bf6_row2_col10, #T_86bf6_row2_col11, #T_86bf6_row2_col12, #T_86bf6_row2_col13, #T_86bf6_row2_col14, #T_86bf6_row2_col15, #T_86bf6_row3_col0, #T_86bf6_row3_col1, #T_86bf6_row3_col2, #T_86bf6_row3_col3, #T_86bf6_row3_col4, #T_86bf6_row3_col5, #T_86bf6_row3_col6, #T_86bf6_row3_col7, #T_86bf6_row3_col8, #T_86bf6_row3_col9, #T_86bf6_row3_col10, #T_86bf6_row3_col11, #T_86bf6_row3_col12, #T_86bf6_row3_col13, #T_86bf6_row3_col14, #T_86bf6_row3_col15, #T_86bf6_row4_col0, #T_86bf6_row4_col1, #T_86bf6_row4_col2, #T_86bf6_row4_col3, #T_86bf6_row4_col4, #T_86bf6_row4_col5, #T_86bf6_row4_col6, #T_86bf6_row4_col7, #T_86bf6_row4_col8, #T_86bf6_row4_col9, #T_86bf6_row4_col10, #T_86bf6_row4_col11, #T_86bf6_row4_col12, #T_86bf6_row4_col13, #T_86bf6_row4_col14, #T_86bf6_row4_col15, #T_86bf6_row5_col0, #T_86bf6_row5_col1, #T_86bf6_row5_col2, #T_86bf6_row5_col3, #T_86bf6_row5_col4, #T_86bf6_row5_col5, #T_86bf6_row5_col6, #T_86bf6_row5_col7, #T_86bf6_row5_col8, #T_86bf6_row5_col9, #T_86bf6_row5_col10, #T_86bf6_row5_col11, #T_86bf6_row5_col12, #T_86bf6_row5_col13, #T_86bf6_row5_col14, #T_86bf6_row5_col15, #T_86bf6_row6_col0, #T_86bf6_row6_col1, #T_86bf6_row6_col2, #T_86bf6_row6_col3, #T_86bf6_row6_col4, #T_86bf6_row6_col5, #T_86bf6_row6_col6, #T_86bf6_row6_col7, #T_86bf6_row6_col8, #T_86bf6_row6_col9, #T_86bf6_row6_col10, #T_86bf6_row6_col11, #T_86bf6_row6_col12, #T_86bf6_row6_col13, #T_86bf6_row6_col14, #T_86bf6_row6_col15, #T_86bf6_row7_col0, #T_86bf6_row7_col1, #T_86bf6_row7_col2, #T_86bf6_row7_col3, #T_86bf6_row7_col4, #T_86bf6_row7_col5, #T_86bf6_row7_col6, #T_86bf6_row7_col7, #T_86bf6_row7_col8, #T_86bf6_row7_col9, #T_86bf6_row7_col10, #T_86bf6_row7_col11, #T_86bf6_row7_col12, #T_86bf6_row7_col13, #T_86bf6_row7_col14, #T_86bf6_row7_col15 {\n",
              "  background-color: #121d6b;\n",
              "  color: #e9c46a;\n",
              "  border: 1.5px solid black;\n",
              "}\n",
              "</style>\n",
              "<table id=\"T_86bf6\">\n",
              "  <thead>\n",
              "    <tr>\n",
              "      <th class=\"blank level0\" >&nbsp;</th>\n",
              "      <th id=\"T_86bf6_level0_col0\" class=\"col_heading level0 col0\" >rank</th>\n",
              "      <th id=\"T_86bf6_level0_col1\" class=\"col_heading level0 col1\" >area</th>\n",
              "      <th id=\"T_86bf6_level0_col2\" class=\"col_heading level0 col2\" >landAreaKm</th>\n",
              "      <th id=\"T_86bf6_level0_col3\" class=\"col_heading level0 col3\" >netChange</th>\n",
              "      <th id=\"T_86bf6_level0_col4\" class=\"col_heading level0 col4\" >growthRate</th>\n",
              "      <th id=\"T_86bf6_level0_col5\" class=\"col_heading level0 col5\" >worldPercentage</th>\n",
              "      <th id=\"T_86bf6_level0_col6\" class=\"col_heading level0 col6\" >density</th>\n",
              "      <th id=\"T_86bf6_level0_col7\" class=\"col_heading level0 col7\" >densityMi</th>\n",
              "      <th id=\"T_86bf6_level0_col8\" class=\"col_heading level0 col8\" >place</th>\n",
              "      <th id=\"T_86bf6_level0_col9\" class=\"col_heading level0 col9\" >pop1980</th>\n",
              "      <th id=\"T_86bf6_level0_col10\" class=\"col_heading level0 col10\" >pop2000</th>\n",
              "      <th id=\"T_86bf6_level0_col11\" class=\"col_heading level0 col11\" >pop2010</th>\n",
              "      <th id=\"T_86bf6_level0_col12\" class=\"col_heading level0 col12\" >pop2022</th>\n",
              "      <th id=\"T_86bf6_level0_col13\" class=\"col_heading level0 col13\" >pop2023</th>\n",
              "      <th id=\"T_86bf6_level0_col14\" class=\"col_heading level0 col14\" >pop2030</th>\n",
              "      <th id=\"T_86bf6_level0_col15\" class=\"col_heading level0 col15\" >pop2050</th>\n",
              "    </tr>\n",
              "  </thead>\n",
              "  <tbody>\n",
              "    <tr>\n",
              "      <th id=\"T_86bf6_level0_row0\" class=\"row_heading level0 row0\" >count</th>\n",
              "      <td id=\"T_86bf6_row0_col0\" class=\"data row0 col0\" >234.000000</td>\n",
              "      <td id=\"T_86bf6_row0_col1\" class=\"data row0 col1\" >234.000000</td>\n",
              "      <td id=\"T_86bf6_row0_col2\" class=\"data row0 col2\" >234.000000</td>\n",
              "      <td id=\"T_86bf6_row0_col3\" class=\"data row0 col3\" >226.000000</td>\n",
              "      <td id=\"T_86bf6_row0_col4\" class=\"data row0 col4\" >234.000000</td>\n",
              "      <td id=\"T_86bf6_row0_col5\" class=\"data row0 col5\" >228.000000</td>\n",
              "      <td id=\"T_86bf6_row0_col6\" class=\"data row0 col6\" >234.000000</td>\n",
              "      <td id=\"T_86bf6_row0_col7\" class=\"data row0 col7\" >234.000000</td>\n",
              "      <td id=\"T_86bf6_row0_col8\" class=\"data row0 col8\" >234.000000</td>\n",
              "      <td id=\"T_86bf6_row0_col9\" class=\"data row0 col9\" >234.000000</td>\n",
              "      <td id=\"T_86bf6_row0_col10\" class=\"data row0 col10\" >234.000000</td>\n",
              "      <td id=\"T_86bf6_row0_col11\" class=\"data row0 col11\" >234.000000</td>\n",
              "      <td id=\"T_86bf6_row0_col12\" class=\"data row0 col12\" >234.000000</td>\n",
              "      <td id=\"T_86bf6_row0_col13\" class=\"data row0 col13\" >234.000000</td>\n",
              "      <td id=\"T_86bf6_row0_col14\" class=\"data row0 col14\" >234.000000</td>\n",
              "      <td id=\"T_86bf6_row0_col15\" class=\"data row0 col15\" >234.000000</td>\n",
              "    </tr>\n",
              "    <tr>\n",
              "      <th id=\"T_86bf6_level0_row1\" class=\"row_heading level0 row1\" >mean</th>\n",
              "      <td id=\"T_86bf6_row1_col0\" class=\"data row1 col0\" >117.500000</td>\n",
              "      <td id=\"T_86bf6_row1_col1\" class=\"data row1 col1\" >581449.983590</td>\n",
              "      <td id=\"T_86bf6_row1_col2\" class=\"data row1 col2\" >557112.276239</td>\n",
              "      <td id=\"T_86bf6_row1_col3\" class=\"data row1 col3\" >0.010306</td>\n",
              "      <td id=\"T_86bf6_row1_col4\" class=\"data row1 col4\" >0.009737</td>\n",
              "      <td id=\"T_86bf6_row1_col5\" class=\"data row1 col5\" >0.004407</td>\n",
              "      <td id=\"T_86bf6_row1_col6\" class=\"data row1 col6\" >451.288182</td>\n",
              "      <td id=\"T_86bf6_row1_col7\" class=\"data row1 col7\" >1168.836388</td>\n",
              "      <td id=\"T_86bf6_row1_col8\" class=\"data row1 col8\" >439.085470</td>\n",
              "      <td id=\"T_86bf6_row1_col9\" class=\"data row1 col9\" >18984616.982906</td>\n",
              "      <td id=\"T_86bf6_row1_col10\" class=\"data row1 col10\" >26269468.816239</td>\n",
              "      <td id=\"T_86bf6_row1_col11\" class=\"data row1 col11\" >29845235.042735</td>\n",
              "      <td id=\"T_86bf6_row1_col12\" class=\"data row1 col12\" >34074414.713675</td>\n",
              "      <td id=\"T_86bf6_row1_col13\" class=\"data row1 col13\" >34374424.743590</td>\n",
              "      <td id=\"T_86bf6_row1_col14\" class=\"data row1 col14\" >36514605.333333</td>\n",
              "      <td id=\"T_86bf6_row1_col15\" class=\"data row1 col15\" >41486278.790598</td>\n",
              "    </tr>\n",
              "    <tr>\n",
              "      <th id=\"T_86bf6_level0_row2\" class=\"row_heading level0 row2\" >std</th>\n",
              "      <td id=\"T_86bf6_row2_col0\" class=\"data row2 col0\" >67.694165</td>\n",
              "      <td id=\"T_86bf6_row2_col1\" class=\"data row2 col1\" >1761840.665609</td>\n",
              "      <td id=\"T_86bf6_row2_col2\" class=\"data row2 col2\" >1689971.526445</td>\n",
              "      <td id=\"T_86bf6_row2_col3\" class=\"data row2 col3\" >0.034774</td>\n",
              "      <td id=\"T_86bf6_row2_col4\" class=\"data row2 col4\" >0.012350</td>\n",
              "      <td id=\"T_86bf6_row2_col5\" class=\"data row2 col5\" >0.017375</td>\n",
              "      <td id=\"T_86bf6_row2_col6\" class=\"data row2 col6\" >1979.362419</td>\n",
              "      <td id=\"T_86bf6_row2_col7\" class=\"data row2 col7\" >5126.548664</td>\n",
              "      <td id=\"T_86bf6_row2_col8\" class=\"data row2 col8\" >253.295484</td>\n",
              "      <td id=\"T_86bf6_row2_col9\" class=\"data row2 col9\" >81785186.081872</td>\n",
              "      <td id=\"T_86bf6_row2_col10\" class=\"data row2 col10\" >111698206.719070</td>\n",
              "      <td id=\"T_86bf6_row2_col11\" class=\"data row2 col11\" >124218487.631581</td>\n",
              "      <td id=\"T_86bf6_row2_col12\" class=\"data row2 col12\" >136766424.804728</td>\n",
              "      <td id=\"T_86bf6_row2_col13\" class=\"data row2 col13\" >137386405.597263</td>\n",
              "      <td id=\"T_86bf6_row2_col14\" class=\"data row2 col14\" >141782710.184894</td>\n",
              "      <td id=\"T_86bf6_row2_col15\" class=\"data row2 col15\" >148167567.122402</td>\n",
              "    </tr>\n",
              "    <tr>\n",
              "      <th id=\"T_86bf6_level0_row3\" class=\"row_heading level0 row3\" >min</th>\n",
              "      <td id=\"T_86bf6_row3_col0\" class=\"data row3 col0\" >1.000000</td>\n",
              "      <td id=\"T_86bf6_row3_col1\" class=\"data row3 col1\" >0.440000</td>\n",
              "      <td id=\"T_86bf6_row3_col2\" class=\"data row3 col2\" >0.440000</td>\n",
              "      <td id=\"T_86bf6_row3_col3\" class=\"data row3 col3\" >-0.028600</td>\n",
              "      <td id=\"T_86bf6_row3_col4\" class=\"data row3 col4\" >-0.074500</td>\n",
              "      <td id=\"T_86bf6_row3_col5\" class=\"data row3 col5\" >0.000000</td>\n",
              "      <td id=\"T_86bf6_row3_col6\" class=\"data row3 col6\" >0.138000</td>\n",
              "      <td id=\"T_86bf6_row3_col7\" class=\"data row3 col7\" >0.357400</td>\n",
              "      <td id=\"T_86bf6_row3_col8\" class=\"data row3 col8\" >4.000000</td>\n",
              "      <td id=\"T_86bf6_row3_col9\" class=\"data row3 col9\" >733.000000</td>\n",
              "      <td id=\"T_86bf6_row3_col10\" class=\"data row3 col10\" >651.000000</td>\n",
              "      <td id=\"T_86bf6_row3_col11\" class=\"data row3 col11\" >596.000000</td>\n",
              "      <td id=\"T_86bf6_row3_col12\" class=\"data row3 col12\" >510.000000</td>\n",
              "      <td id=\"T_86bf6_row3_col13\" class=\"data row3 col13\" >518.000000</td>\n",
              "      <td id=\"T_86bf6_row3_col14\" class=\"data row3 col14\" >561.000000</td>\n",
              "      <td id=\"T_86bf6_row3_col15\" class=\"data row3 col15\" >731.000000</td>\n",
              "    </tr>\n",
              "    <tr>\n",
              "      <th id=\"T_86bf6_level0_row4\" class=\"row_heading level0 row4\" >25%</th>\n",
              "      <td id=\"T_86bf6_row4_col0\" class=\"data row4 col0\" >59.250000</td>\n",
              "      <td id=\"T_86bf6_row4_col1\" class=\"data row4 col1\" >2650.000000</td>\n",
              "      <td id=\"T_86bf6_row4_col2\" class=\"data row4 col2\" >2625.875000</td>\n",
              "      <td id=\"T_86bf6_row4_col3\" class=\"data row4 col3\" >0.000000</td>\n",
              "      <td id=\"T_86bf6_row4_col4\" class=\"data row4 col4\" >0.002325</td>\n",
              "      <td id=\"T_86bf6_row4_col5\" class=\"data row4 col5\" >0.000100</td>\n",
              "      <td id=\"T_86bf6_row4_col6\" class=\"data row4 col6\" >39.747650</td>\n",
              "      <td id=\"T_86bf6_row4_col7\" class=\"data row4 col7\" >102.946450</td>\n",
              "      <td id=\"T_86bf6_row4_col8\" class=\"data row4 col8\" >223.000000</td>\n",
              "      <td id=\"T_86bf6_row4_col9\" class=\"data row4 col9\" >229614.250000</td>\n",
              "      <td id=\"T_86bf6_row4_col10\" class=\"data row4 col10\" >327242.000000</td>\n",
              "      <td id=\"T_86bf6_row4_col11\" class=\"data row4 col11\" >393149.000000</td>\n",
              "      <td id=\"T_86bf6_row4_col12\" class=\"data row4 col12\" >419738.500000</td>\n",
              "      <td id=\"T_86bf6_row4_col13\" class=\"data row4 col13\" >422598.250000</td>\n",
              "      <td id=\"T_86bf6_row4_col14\" class=\"data row4 col14\" >456149.000000</td>\n",
              "      <td id=\"T_86bf6_row4_col15\" class=\"data row4 col15\" >546605.750000</td>\n",
              "    </tr>\n",
              "    <tr>\n",
              "      <th id=\"T_86bf6_level0_row5\" class=\"row_heading level0 row5\" >50%</th>\n",
              "      <td id=\"T_86bf6_row5_col0\" class=\"data row5 col0\" >117.500000</td>\n",
              "      <td id=\"T_86bf6_row5_col1\" class=\"data row5 col1\" >81199.500000</td>\n",
              "      <td id=\"T_86bf6_row5_col2\" class=\"data row5 col2\" >75689.250000</td>\n",
              "      <td id=\"T_86bf6_row5_col3\" class=\"data row5 col3\" >0.000900</td>\n",
              "      <td id=\"T_86bf6_row5_col4\" class=\"data row5 col4\" >0.008200</td>\n",
              "      <td id=\"T_86bf6_row5_col5\" class=\"data row5 col5\" >0.000750</td>\n",
              "      <td id=\"T_86bf6_row5_col6\" class=\"data row5 col6\" >97.481000</td>\n",
              "      <td id=\"T_86bf6_row5_col7\" class=\"data row5 col7\" >252.475800</td>\n",
              "      <td id=\"T_86bf6_row5_col8\" class=\"data row5 col8\" >439.000000</td>\n",
              "      <td id=\"T_86bf6_row5_col9\" class=\"data row5 col9\" >3141145.500000</td>\n",
              "      <td id=\"T_86bf6_row5_col10\" class=\"data row5 col10\" >4292907.000000</td>\n",
              "      <td id=\"T_86bf6_row5_col11\" class=\"data row5 col11\" >4942770.500000</td>\n",
              "      <td id=\"T_86bf6_row5_col12\" class=\"data row5 col12\" >5559944.500000</td>\n",
              "      <td id=\"T_86bf6_row5_col13\" class=\"data row5 col13\" >5643895.000000</td>\n",
              "      <td id=\"T_86bf6_row5_col14\" class=\"data row5 col14\" >6178231.000000</td>\n",
              "      <td id=\"T_86bf6_row5_col15\" class=\"data row5 col15\" >6352397.000000</td>\n",
              "    </tr>\n",
              "    <tr>\n",
              "      <th id=\"T_86bf6_level0_row6\" class=\"row_heading level0 row6\" >75%</th>\n",
              "      <td id=\"T_86bf6_row6_col0\" class=\"data row6 col0\" >175.750000</td>\n",
              "      <td id=\"T_86bf6_row6_col1\" class=\"data row6 col1\" >430425.750000</td>\n",
              "      <td id=\"T_86bf6_row6_col2\" class=\"data row6 col2\" >404787.625000</td>\n",
              "      <td id=\"T_86bf6_row6_col3\" class=\"data row6 col3\" >0.008000</td>\n",
              "      <td id=\"T_86bf6_row6_col4\" class=\"data row6 col4\" >0.016850</td>\n",
              "      <td id=\"T_86bf6_row6_col5\" class=\"data row6 col5\" >0.002925</td>\n",
              "      <td id=\"T_86bf6_row6_col6\" class=\"data row6 col6\" >242.928650</td>\n",
              "      <td id=\"T_86bf6_row6_col7\" class=\"data row6 col7\" >629.185350</td>\n",
              "      <td id=\"T_86bf6_row6_col8\" class=\"data row6 col8\" >659.750000</td>\n",
              "      <td id=\"T_86bf6_row6_col9\" class=\"data row6 col9\" >9826053.750000</td>\n",
              "      <td id=\"T_86bf6_row6_col10\" class=\"data row6 col10\" >15762301.000000</td>\n",
              "      <td id=\"T_86bf6_row6_col11\" class=\"data row6 col11\" >19159567.500000</td>\n",
              "      <td id=\"T_86bf6_row6_col12\" class=\"data row6 col12\" >22476504.750000</td>\n",
              "      <td id=\"T_86bf6_row6_col13\" class=\"data row6 col13\" >23245367.250000</td>\n",
              "      <td id=\"T_86bf6_row6_col14\" class=\"data row6 col14\" >26163111.500000</td>\n",
              "      <td id=\"T_86bf6_row6_col15\" class=\"data row6 col15\" >35686137.750000</td>\n",
              "    </tr>\n",
              "    <tr>\n",
              "      <th id=\"T_86bf6_level0_row7\" class=\"row_heading level0 row7\" >max</th>\n",
              "      <td id=\"T_86bf6_row7_col0\" class=\"data row7 col0\" >234.000000</td>\n",
              "      <td id=\"T_86bf6_row7_col1\" class=\"data row7 col1\" >17098242.000000</td>\n",
              "      <td id=\"T_86bf6_row7_col2\" class=\"data row7 col2\" >16376870.000000</td>\n",
              "      <td id=\"T_86bf6_row7_col3\" class=\"data row7 col3\" >0.418400</td>\n",
              "      <td id=\"T_86bf6_row7_col4\" class=\"data row7 col4\" >0.049800</td>\n",
              "      <td id=\"T_86bf6_row7_col5\" class=\"data row7 col5\" >0.178500</td>\n",
              "      <td id=\"T_86bf6_row7_col6\" class=\"data row7 col6\" >21402.705200</td>\n",
              "      <td id=\"T_86bf6_row7_col7\" class=\"data row7 col7\" >55433.006400</td>\n",
              "      <td id=\"T_86bf6_row7_col8\" class=\"data row7 col8\" >894.000000</td>\n",
              "      <td id=\"T_86bf6_row7_col9\" class=\"data row7 col9\" >982372466.000000</td>\n",
              "      <td id=\"T_86bf6_row7_col10\" class=\"data row7 col10\" >1264099069.000000</td>\n",
              "      <td id=\"T_86bf6_row7_col11\" class=\"data row7 col11\" >1348191368.000000</td>\n",
              "      <td id=\"T_86bf6_row7_col12\" class=\"data row7 col12\" >1425887337.000000</td>\n",
              "      <td id=\"T_86bf6_row7_col13\" class=\"data row7 col13\" >1428627663.000000</td>\n",
              "      <td id=\"T_86bf6_row7_col14\" class=\"data row7 col14\" >1514994080.000000</td>\n",
              "      <td id=\"T_86bf6_row7_col15\" class=\"data row7 col15\" >1670490596.000000</td>\n",
              "    </tr>\n",
              "  </tbody>\n",
              "</table>\n"
            ],
            "text/plain": [
              "<pandas.io.formats.style.Styler at 0x7c753c9f03a0>"
            ]
          },
          "execution_count": 7,
          "metadata": {},
          "output_type": "execute_result"
        }
      ],
      "source": [
        "print(f\"Summary Of The Dataset with numerical columns :\")\n",
        "df.describe().style.set_properties(**{\"background-color\": \"#121d6b\",\"color\":\"#e9c46a\",\"border\": \"1.5px solid black\"})"
      ]
    },
    {
      "cell_type": "code",
      "execution_count": null,
      "id": "167306bd",
      "metadata": {
        "execution": {
          "iopub.execute_input": "2023-06-02T04:52:20.469846Z",
          "iopub.status.busy": "2023-06-02T04:52:20.469002Z",
          "iopub.status.idle": "2023-06-02T04:52:20.488908Z",
          "shell.execute_reply": "2023-06-02T04:52:20.487567Z"
        },
        "papermill": {
          "duration": 0.038136,
          "end_time": "2023-06-02T04:52:20.491610",
          "exception": false,
          "start_time": "2023-06-02T04:52:20.453474",
          "status": "completed"
        },
        "tags": [],
        "id": "167306bd",
        "outputId": "2d0883f8-3d70-4dea-b473-7131435499a9"
      },
      "outputs": [
        {
          "name": "stdout",
          "output_type": "stream",
          "text": [
            "Summary Of The Dataset with catergorical columns :\n"
          ]
        },
        {
          "data": {
            "text/html": [
              "<style type=\"text/css\">\n",
              "#T_86ddd_row0_col0, #T_86ddd_row0_col1, #T_86ddd_row0_col2, #T_86ddd_row1_col0, #T_86ddd_row1_col1, #T_86ddd_row1_col2, #T_86ddd_row2_col0, #T_86ddd_row2_col1, #T_86ddd_row2_col2, #T_86ddd_row3_col0, #T_86ddd_row3_col1, #T_86ddd_row3_col2 {\n",
              "  background-color: #121d6b;\n",
              "  color: #e9c46a;\n",
              "  border: 1.5px solid black;\n",
              "}\n",
              "</style>\n",
              "<table id=\"T_86ddd\">\n",
              "  <thead>\n",
              "    <tr>\n",
              "      <th class=\"blank level0\" >&nbsp;</th>\n",
              "      <th id=\"T_86ddd_level0_col0\" class=\"col_heading level0 col0\" >country</th>\n",
              "      <th id=\"T_86ddd_level0_col1\" class=\"col_heading level0 col1\" >cca2</th>\n",
              "      <th id=\"T_86ddd_level0_col2\" class=\"col_heading level0 col2\" >cca3</th>\n",
              "    </tr>\n",
              "  </thead>\n",
              "  <tbody>\n",
              "    <tr>\n",
              "      <th id=\"T_86ddd_level0_row0\" class=\"row_heading level0 row0\" >count</th>\n",
              "      <td id=\"T_86ddd_row0_col0\" class=\"data row0 col0\" >234</td>\n",
              "      <td id=\"T_86ddd_row0_col1\" class=\"data row0 col1\" >233</td>\n",
              "      <td id=\"T_86ddd_row0_col2\" class=\"data row0 col2\" >234</td>\n",
              "    </tr>\n",
              "    <tr>\n",
              "      <th id=\"T_86ddd_level0_row1\" class=\"row_heading level0 row1\" >unique</th>\n",
              "      <td id=\"T_86ddd_row1_col0\" class=\"data row1 col0\" >234</td>\n",
              "      <td id=\"T_86ddd_row1_col1\" class=\"data row1 col1\" >233</td>\n",
              "      <td id=\"T_86ddd_row1_col2\" class=\"data row1 col2\" >234</td>\n",
              "    </tr>\n",
              "    <tr>\n",
              "      <th id=\"T_86ddd_level0_row2\" class=\"row_heading level0 row2\" >top</th>\n",
              "      <td id=\"T_86ddd_row2_col0\" class=\"data row2 col0\" >India</td>\n",
              "      <td id=\"T_86ddd_row2_col1\" class=\"data row2 col1\" >IN</td>\n",
              "      <td id=\"T_86ddd_row2_col2\" class=\"data row2 col2\" >IND</td>\n",
              "    </tr>\n",
              "    <tr>\n",
              "      <th id=\"T_86ddd_level0_row3\" class=\"row_heading level0 row3\" >freq</th>\n",
              "      <td id=\"T_86ddd_row3_col0\" class=\"data row3 col0\" >1</td>\n",
              "      <td id=\"T_86ddd_row3_col1\" class=\"data row3 col1\" >1</td>\n",
              "      <td id=\"T_86ddd_row3_col2\" class=\"data row3 col2\" >1</td>\n",
              "    </tr>\n",
              "  </tbody>\n",
              "</table>\n"
            ],
            "text/plain": [
              "<pandas.io.formats.style.Styler at 0x7c753c9f39a0>"
            ]
          },
          "execution_count": 8,
          "metadata": {},
          "output_type": "execute_result"
        }
      ],
      "source": [
        "print(f\"Summary Of The Dataset with catergorical columns :\")\n",
        "df.describe(include='object').style.set_properties(**{\"background-color\": \"#121d6b\",\"color\":\"#e9c46a\",\"border\": \"1.5px solid black\"})"
      ]
    },
    {
      "cell_type": "code",
      "execution_count": null,
      "id": "ca55fd26",
      "metadata": {
        "execution": {
          "iopub.execute_input": "2023-06-02T04:52:20.522495Z",
          "iopub.status.busy": "2023-06-02T04:52:20.521715Z",
          "iopub.status.idle": "2023-06-02T04:52:20.529955Z",
          "shell.execute_reply": "2023-06-02T04:52:20.529047Z"
        },
        "papermill": {
          "duration": 0.026334,
          "end_time": "2023-06-02T04:52:20.532135",
          "exception": false,
          "start_time": "2023-06-02T04:52:20.505801",
          "status": "completed"
        },
        "tags": [],
        "id": "ca55fd26",
        "outputId": "9c43b140-6131-48a1-c078-a244d6290201"
      },
      "outputs": [
        {
          "data": {
            "text/plain": [
              "country             object\n",
              "rank                 int64\n",
              "area               float64\n",
              "landAreaKm         float64\n",
              "cca2                object\n",
              "cca3                object\n",
              "netChange          float64\n",
              "growthRate         float64\n",
              "worldPercentage    float64\n",
              "density            float64\n",
              "densityMi          float64\n",
              "place                int64\n",
              "pop1980              int64\n",
              "pop2000              int64\n",
              "pop2010              int64\n",
              "pop2022              int64\n",
              "pop2023              int64\n",
              "pop2030              int64\n",
              "pop2050              int64\n",
              "dtype: object"
            ]
          },
          "execution_count": 9,
          "metadata": {},
          "output_type": "execute_result"
        }
      ],
      "source": [
        "df.dtypes"
      ]
    },
    {
      "cell_type": "code",
      "execution_count": null,
      "id": "6da18c97",
      "metadata": {
        "execution": {
          "iopub.execute_input": "2023-06-02T04:52:20.563385Z",
          "iopub.status.busy": "2023-06-02T04:52:20.562609Z",
          "iopub.status.idle": "2023-06-02T04:52:20.568829Z",
          "shell.execute_reply": "2023-06-02T04:52:20.567693Z"
        },
        "papermill": {
          "duration": 0.024521,
          "end_time": "2023-06-02T04:52:20.571150",
          "exception": false,
          "start_time": "2023-06-02T04:52:20.546629",
          "status": "completed"
        },
        "tags": [],
        "id": "6da18c97",
        "outputId": "3fb5c5da-71c7-4189-d65b-2f9aa4a6683a"
      },
      "outputs": [
        {
          "data": {
            "text/plain": [
              "(234, 19)"
            ]
          },
          "execution_count": 10,
          "metadata": {},
          "output_type": "execute_result"
        }
      ],
      "source": [
        "df.shape"
      ]
    },
    {
      "cell_type": "code",
      "execution_count": null,
      "id": "1aa3a91e",
      "metadata": {
        "execution": {
          "iopub.execute_input": "2023-06-02T04:52:20.602436Z",
          "iopub.status.busy": "2023-06-02T04:52:20.601994Z",
          "iopub.status.idle": "2023-06-02T04:52:20.612380Z",
          "shell.execute_reply": "2023-06-02T04:52:20.611140Z"
        },
        "papermill": {
          "duration": 0.028912,
          "end_time": "2023-06-02T04:52:20.614540",
          "exception": false,
          "start_time": "2023-06-02T04:52:20.585628",
          "status": "completed"
        },
        "tags": [],
        "id": "1aa3a91e",
        "outputId": "885acfa7-425c-44f4-91a9-d1c9650bf7bd"
      },
      "outputs": [
        {
          "data": {
            "text/plain": [
              "country            0\n",
              "rank               0\n",
              "area               0\n",
              "landAreaKm         0\n",
              "cca2               1\n",
              "cca3               0\n",
              "netChange          8\n",
              "growthRate         0\n",
              "worldPercentage    6\n",
              "density            0\n",
              "densityMi          0\n",
              "place              0\n",
              "pop1980            0\n",
              "pop2000            0\n",
              "pop2010            0\n",
              "pop2022            0\n",
              "pop2023            0\n",
              "pop2030            0\n",
              "pop2050            0\n",
              "dtype: int64"
            ]
          },
          "execution_count": 11,
          "metadata": {},
          "output_type": "execute_result"
        }
      ],
      "source": [
        "df.isnull().sum()"
      ]
    },
    {
      "cell_type": "code",
      "execution_count": null,
      "id": "f22a5b05",
      "metadata": {
        "execution": {
          "iopub.execute_input": "2023-06-02T04:52:20.646460Z",
          "iopub.status.busy": "2023-06-02T04:52:20.645231Z",
          "iopub.status.idle": "2023-06-02T04:52:20.712423Z",
          "shell.execute_reply": "2023-06-02T04:52:20.711133Z"
        },
        "papermill": {
          "duration": 0.085813,
          "end_time": "2023-06-02T04:52:20.715124",
          "exception": false,
          "start_time": "2023-06-02T04:52:20.629311",
          "status": "completed"
        },
        "tags": [],
        "id": "f22a5b05",
        "outputId": "03f8b573-3397-4583-f98c-66c34f634bc3"
      },
      "outputs": [
        {
          "data": {
            "text/html": [
              "<div>\n",
              "<style scoped>\n",
              "    .dataframe tbody tr th:only-of-type {\n",
              "        vertical-align: middle;\n",
              "    }\n",
              "\n",
              "    .dataframe tbody tr th {\n",
              "        vertical-align: top;\n",
              "    }\n",
              "\n",
              "    .dataframe thead th {\n",
              "        text-align: right;\n",
              "    }\n",
              "</style>\n",
              "<table border=\"1\" class=\"dataframe\">\n",
              "  <thead>\n",
              "    <tr style=\"text-align: right;\">\n",
              "      <th></th>\n",
              "      <th>rank</th>\n",
              "      <th>area</th>\n",
              "      <th>landAreaKm</th>\n",
              "      <th>netChange</th>\n",
              "      <th>growthRate</th>\n",
              "      <th>worldPercentage</th>\n",
              "      <th>density</th>\n",
              "      <th>densityMi</th>\n",
              "      <th>place</th>\n",
              "      <th>pop1980</th>\n",
              "      <th>pop2000</th>\n",
              "      <th>pop2010</th>\n",
              "      <th>pop2022</th>\n",
              "      <th>pop2023</th>\n",
              "      <th>pop2030</th>\n",
              "      <th>pop2050</th>\n",
              "    </tr>\n",
              "  </thead>\n",
              "  <tbody>\n",
              "    <tr>\n",
              "      <th>count</th>\n",
              "      <td>234.000000</td>\n",
              "      <td>2.340000e+02</td>\n",
              "      <td>2.340000e+02</td>\n",
              "      <td>226.000000</td>\n",
              "      <td>234.000000</td>\n",
              "      <td>228.000000</td>\n",
              "      <td>234.000000</td>\n",
              "      <td>234.000000</td>\n",
              "      <td>234.000000</td>\n",
              "      <td>2.340000e+02</td>\n",
              "      <td>2.340000e+02</td>\n",
              "      <td>2.340000e+02</td>\n",
              "      <td>2.340000e+02</td>\n",
              "      <td>2.340000e+02</td>\n",
              "      <td>2.340000e+02</td>\n",
              "      <td>2.340000e+02</td>\n",
              "    </tr>\n",
              "    <tr>\n",
              "      <th>mean</th>\n",
              "      <td>117.500000</td>\n",
              "      <td>5.814500e+05</td>\n",
              "      <td>5.571123e+05</td>\n",
              "      <td>0.010306</td>\n",
              "      <td>0.009737</td>\n",
              "      <td>0.004407</td>\n",
              "      <td>451.288182</td>\n",
              "      <td>1168.836388</td>\n",
              "      <td>439.085470</td>\n",
              "      <td>1.898462e+07</td>\n",
              "      <td>2.626947e+07</td>\n",
              "      <td>2.984524e+07</td>\n",
              "      <td>3.407441e+07</td>\n",
              "      <td>3.437442e+07</td>\n",
              "      <td>3.651461e+07</td>\n",
              "      <td>4.148628e+07</td>\n",
              "    </tr>\n",
              "    <tr>\n",
              "      <th>std</th>\n",
              "      <td>67.694165</td>\n",
              "      <td>1.761841e+06</td>\n",
              "      <td>1.689972e+06</td>\n",
              "      <td>0.034774</td>\n",
              "      <td>0.012350</td>\n",
              "      <td>0.017375</td>\n",
              "      <td>1979.362419</td>\n",
              "      <td>5126.548664</td>\n",
              "      <td>253.295484</td>\n",
              "      <td>8.178519e+07</td>\n",
              "      <td>1.116982e+08</td>\n",
              "      <td>1.242185e+08</td>\n",
              "      <td>1.367664e+08</td>\n",
              "      <td>1.373864e+08</td>\n",
              "      <td>1.417827e+08</td>\n",
              "      <td>1.481676e+08</td>\n",
              "    </tr>\n",
              "    <tr>\n",
              "      <th>min</th>\n",
              "      <td>1.000000</td>\n",
              "      <td>4.400000e-01</td>\n",
              "      <td>4.400000e-01</td>\n",
              "      <td>-0.028600</td>\n",
              "      <td>-0.074500</td>\n",
              "      <td>0.000000</td>\n",
              "      <td>0.138000</td>\n",
              "      <td>0.357400</td>\n",
              "      <td>4.000000</td>\n",
              "      <td>7.330000e+02</td>\n",
              "      <td>6.510000e+02</td>\n",
              "      <td>5.960000e+02</td>\n",
              "      <td>5.100000e+02</td>\n",
              "      <td>5.180000e+02</td>\n",
              "      <td>5.610000e+02</td>\n",
              "      <td>7.310000e+02</td>\n",
              "    </tr>\n",
              "    <tr>\n",
              "      <th>25%</th>\n",
              "      <td>59.250000</td>\n",
              "      <td>2.650000e+03</td>\n",
              "      <td>2.625875e+03</td>\n",
              "      <td>0.000000</td>\n",
              "      <td>0.002325</td>\n",
              "      <td>0.000100</td>\n",
              "      <td>39.747650</td>\n",
              "      <td>102.946450</td>\n",
              "      <td>223.000000</td>\n",
              "      <td>2.296142e+05</td>\n",
              "      <td>3.272420e+05</td>\n",
              "      <td>3.931490e+05</td>\n",
              "      <td>4.197385e+05</td>\n",
              "      <td>4.225982e+05</td>\n",
              "      <td>4.561490e+05</td>\n",
              "      <td>5.466058e+05</td>\n",
              "    </tr>\n",
              "    <tr>\n",
              "      <th>50%</th>\n",
              "      <td>117.500000</td>\n",
              "      <td>8.119950e+04</td>\n",
              "      <td>7.568925e+04</td>\n",
              "      <td>0.000900</td>\n",
              "      <td>0.008200</td>\n",
              "      <td>0.000750</td>\n",
              "      <td>97.481000</td>\n",
              "      <td>252.475800</td>\n",
              "      <td>439.000000</td>\n",
              "      <td>3.141146e+06</td>\n",
              "      <td>4.292907e+06</td>\n",
              "      <td>4.942770e+06</td>\n",
              "      <td>5.559944e+06</td>\n",
              "      <td>5.643895e+06</td>\n",
              "      <td>6.178231e+06</td>\n",
              "      <td>6.352397e+06</td>\n",
              "    </tr>\n",
              "    <tr>\n",
              "      <th>75%</th>\n",
              "      <td>175.750000</td>\n",
              "      <td>4.304258e+05</td>\n",
              "      <td>4.047876e+05</td>\n",
              "      <td>0.008000</td>\n",
              "      <td>0.016850</td>\n",
              "      <td>0.002925</td>\n",
              "      <td>242.928650</td>\n",
              "      <td>629.185350</td>\n",
              "      <td>659.750000</td>\n",
              "      <td>9.826054e+06</td>\n",
              "      <td>1.576230e+07</td>\n",
              "      <td>1.915957e+07</td>\n",
              "      <td>2.247650e+07</td>\n",
              "      <td>2.324537e+07</td>\n",
              "      <td>2.616311e+07</td>\n",
              "      <td>3.568614e+07</td>\n",
              "    </tr>\n",
              "    <tr>\n",
              "      <th>max</th>\n",
              "      <td>234.000000</td>\n",
              "      <td>1.709824e+07</td>\n",
              "      <td>1.637687e+07</td>\n",
              "      <td>0.418400</td>\n",
              "      <td>0.049800</td>\n",
              "      <td>0.178500</td>\n",
              "      <td>21402.705200</td>\n",
              "      <td>55433.006400</td>\n",
              "      <td>894.000000</td>\n",
              "      <td>9.823725e+08</td>\n",
              "      <td>1.264099e+09</td>\n",
              "      <td>1.348191e+09</td>\n",
              "      <td>1.425887e+09</td>\n",
              "      <td>1.428628e+09</td>\n",
              "      <td>1.514994e+09</td>\n",
              "      <td>1.670491e+09</td>\n",
              "    </tr>\n",
              "  </tbody>\n",
              "</table>\n",
              "</div>"
            ],
            "text/plain": [
              "             rank          area    landAreaKm   netChange  growthRate  \\\n",
              "count  234.000000  2.340000e+02  2.340000e+02  226.000000  234.000000   \n",
              "mean   117.500000  5.814500e+05  5.571123e+05    0.010306    0.009737   \n",
              "std     67.694165  1.761841e+06  1.689972e+06    0.034774    0.012350   \n",
              "min      1.000000  4.400000e-01  4.400000e-01   -0.028600   -0.074500   \n",
              "25%     59.250000  2.650000e+03  2.625875e+03    0.000000    0.002325   \n",
              "50%    117.500000  8.119950e+04  7.568925e+04    0.000900    0.008200   \n",
              "75%    175.750000  4.304258e+05  4.047876e+05    0.008000    0.016850   \n",
              "max    234.000000  1.709824e+07  1.637687e+07    0.418400    0.049800   \n",
              "\n",
              "       worldPercentage       density     densityMi       place       pop1980  \\\n",
              "count       228.000000    234.000000    234.000000  234.000000  2.340000e+02   \n",
              "mean          0.004407    451.288182   1168.836388  439.085470  1.898462e+07   \n",
              "std           0.017375   1979.362419   5126.548664  253.295484  8.178519e+07   \n",
              "min           0.000000      0.138000      0.357400    4.000000  7.330000e+02   \n",
              "25%           0.000100     39.747650    102.946450  223.000000  2.296142e+05   \n",
              "50%           0.000750     97.481000    252.475800  439.000000  3.141146e+06   \n",
              "75%           0.002925    242.928650    629.185350  659.750000  9.826054e+06   \n",
              "max           0.178500  21402.705200  55433.006400  894.000000  9.823725e+08   \n",
              "\n",
              "            pop2000       pop2010       pop2022       pop2023       pop2030  \\\n",
              "count  2.340000e+02  2.340000e+02  2.340000e+02  2.340000e+02  2.340000e+02   \n",
              "mean   2.626947e+07  2.984524e+07  3.407441e+07  3.437442e+07  3.651461e+07   \n",
              "std    1.116982e+08  1.242185e+08  1.367664e+08  1.373864e+08  1.417827e+08   \n",
              "min    6.510000e+02  5.960000e+02  5.100000e+02  5.180000e+02  5.610000e+02   \n",
              "25%    3.272420e+05  3.931490e+05  4.197385e+05  4.225982e+05  4.561490e+05   \n",
              "50%    4.292907e+06  4.942770e+06  5.559944e+06  5.643895e+06  6.178231e+06   \n",
              "75%    1.576230e+07  1.915957e+07  2.247650e+07  2.324537e+07  2.616311e+07   \n",
              "max    1.264099e+09  1.348191e+09  1.425887e+09  1.428628e+09  1.514994e+09   \n",
              "\n",
              "            pop2050  \n",
              "count  2.340000e+02  \n",
              "mean   4.148628e+07  \n",
              "std    1.481676e+08  \n",
              "min    7.310000e+02  \n",
              "25%    5.466058e+05  \n",
              "50%    6.352397e+06  \n",
              "75%    3.568614e+07  \n",
              "max    1.670491e+09  "
            ]
          },
          "execution_count": 12,
          "metadata": {},
          "output_type": "execute_result"
        }
      ],
      "source": [
        "df.describe()"
      ]
    },
    {
      "cell_type": "code",
      "execution_count": null,
      "id": "d0c60ec2",
      "metadata": {
        "execution": {
          "iopub.execute_input": "2023-06-02T04:52:20.747821Z",
          "iopub.status.busy": "2023-06-02T04:52:20.747430Z",
          "iopub.status.idle": "2023-06-02T04:52:20.888831Z",
          "shell.execute_reply": "2023-06-02T04:52:20.887786Z"
        },
        "papermill": {
          "duration": 0.16048,
          "end_time": "2023-06-02T04:52:20.891320",
          "exception": false,
          "start_time": "2023-06-02T04:52:20.730840",
          "status": "completed"
        },
        "tags": [],
        "id": "d0c60ec2",
        "outputId": "7cbb02e8-ae76-4e9e-e59b-ddfe30bf7280"
      },
      "outputs": [
        {
          "data": {
            "text/html": [
              "<style type=\"text/css\">\n",
              "#T_f8b9d_row0_col0, #T_f8b9d_row0_col3, #T_f8b9d_row0_col4, #T_f8b9d_row0_col5, #T_f8b9d_row0_col6, #T_f8b9d_row0_col7, #T_f8b9d_row1_col0, #T_f8b9d_row2_col0, #T_f8b9d_row3_col0, #T_f8b9d_row4_col0, #T_f8b9d_row5_col0, #T_f8b9d_row6_col0, #T_f8b9d_row6_col3, #T_f8b9d_row7_col0, #T_f8b9d_row8_col0, #T_f8b9d_row9_col0, #T_f8b9d_row10_col0, #T_f8b9d_row11_col0, #T_f8b9d_row12_col0, #T_f8b9d_row14_col0 {\n",
              "  background-color: #00441b;\n",
              "  color: #f1f1f1;\n",
              "}\n",
              "#T_f8b9d_row0_col1 {\n",
              "  background-color: #00441b;\n",
              "  color: #f1f1f1;\n",
              "  width: 10em;\n",
              "  background: linear-gradient(90deg, blue 100.0%, transparent 100.0%);\n",
              "}\n",
              "#T_f8b9d_row0_col2 {\n",
              "  background-color: #00441b;\n",
              "  color: #f1f1f1;\n",
              "  width: 10em;\n",
              "  background: linear-gradient(90deg, red 100.0%, transparent 100.0%);\n",
              "}\n",
              "#T_f8b9d_row1_col1 {\n",
              "  background-color: #006b2b;\n",
              "  color: #f1f1f1;\n",
              "  width: 10em;\n",
              "  background: linear-gradient(90deg, blue 88.0%, transparent 88.0%);\n",
              "}\n",
              "#T_f8b9d_row1_col2 {\n",
              "  background-color: #005221;\n",
              "  color: #f1f1f1;\n",
              "  width: 10em;\n",
              "  background: linear-gradient(90deg, red 95.7%, transparent 95.7%);\n",
              "}\n",
              "#T_f8b9d_row1_col3 {\n",
              "  background-color: #1f8742;\n",
              "  color: #f1f1f1;\n",
              "}\n",
              "#T_f8b9d_row1_col4 {\n",
              "  background-color: #0b7734;\n",
              "  color: #f1f1f1;\n",
              "}\n",
              "#T_f8b9d_row1_col5 {\n",
              "  background-color: #004d1f;\n",
              "  color: #f1f1f1;\n",
              "}\n",
              "#T_f8b9d_row1_col6 {\n",
              "  background-color: #27904c;\n",
              "  color: #f1f1f1;\n",
              "}\n",
              "#T_f8b9d_row1_col7 {\n",
              "  background-color: #006227;\n",
              "  color: #f1f1f1;\n",
              "}\n",
              "#T_f8b9d_row2_col1 {\n",
              "  background-color: #0c7735;\n",
              "  color: #f1f1f1;\n",
              "  width: 10em;\n",
              "  background: linear-gradient(90deg, blue 82.9%, transparent 82.9%);\n",
              "}\n",
              "#T_f8b9d_row2_col2 {\n",
              "  background-color: #005b25;\n",
              "  color: #f1f1f1;\n",
              "  width: 10em;\n",
              "  background: linear-gradient(90deg, red 92.7%, transparent 92.7%);\n",
              "}\n",
              "#T_f8b9d_row2_col3 {\n",
              "  background-color: #2e9756;\n",
              "  color: #f1f1f1;\n",
              "}\n",
              "#T_f8b9d_row2_col4 {\n",
              "  background-color: #1d8640;\n",
              "  color: #f1f1f1;\n",
              "}\n",
              "#T_f8b9d_row2_col5, #T_f8b9d_row5_col3 {\n",
              "  background-color: #00682a;\n",
              "  color: #f1f1f1;\n",
              "}\n",
              "#T_f8b9d_row2_col6 {\n",
              "  background-color: #3ba76c;\n",
              "  color: #f1f1f1;\n",
              "}\n",
              "#T_f8b9d_row2_col7, #T_f8b9d_row3_col7 {\n",
              "  background-color: #067230;\n",
              "  color: #f1f1f1;\n",
              "}\n",
              "#T_f8b9d_row3_col1 {\n",
              "  background-color: #0e7936;\n",
              "  color: #f1f1f1;\n",
              "  width: 10em;\n",
              "  background: linear-gradient(90deg, blue 82.1%, transparent 82.1%);\n",
              "}\n",
              "#T_f8b9d_row3_col2 {\n",
              "  background-color: #005c25;\n",
              "  color: #f1f1f1;\n",
              "  width: 10em;\n",
              "  background: linear-gradient(90deg, red 92.3%, transparent 92.3%);\n",
              "}\n",
              "#T_f8b9d_row3_col3 {\n",
              "  background-color: #2f9a59;\n",
              "  color: #f1f1f1;\n",
              "}\n",
              "#T_f8b9d_row3_col4 {\n",
              "  background-color: #1e8741;\n",
              "  color: #f1f1f1;\n",
              "}\n",
              "#T_f8b9d_row3_col5 {\n",
              "  background-color: #006c2c;\n",
              "  color: #f1f1f1;\n",
              "}\n",
              "#T_f8b9d_row3_col6 {\n",
              "  background-color: #3fac74;\n",
              "  color: #f1f1f1;\n",
              "}\n",
              "#T_f8b9d_row4_col1 {\n",
              "  background-color: #2a9350;\n",
              "  color: #f1f1f1;\n",
              "  width: 10em;\n",
              "  background: linear-gradient(90deg, blue 71.9%, transparent 71.9%);\n",
              "}\n",
              "#T_f8b9d_row4_col2 {\n",
              "  background-color: #0a7633;\n",
              "  color: #f1f1f1;\n",
              "  width: 10em;\n",
              "  background: linear-gradient(90deg, red 83.8%, transparent 83.8%);\n",
              "}\n",
              "#T_f8b9d_row4_col3 {\n",
              "  background-color: #117b38;\n",
              "  color: #f1f1f1;\n",
              "}\n",
              "#T_f8b9d_row4_col4 {\n",
              "  background-color: #2a9350;\n",
              "  color: #f1f1f1;\n",
              "}\n",
              "#T_f8b9d_row4_col5 {\n",
              "  background-color: #1a843f;\n",
              "  color: #f1f1f1;\n",
              "}\n",
              "#T_f8b9d_row4_col6 {\n",
              "  background-color: #5bbc96;\n",
              "  color: #f1f1f1;\n",
              "}\n",
              "#T_f8b9d_row4_col7 {\n",
              "  background-color: #137d39;\n",
              "  color: #f1f1f1;\n",
              "}\n",
              "#T_f8b9d_row5_col1 {\n",
              "  background-color: #3fab72;\n",
              "  color: #f1f1f1;\n",
              "  width: 10em;\n",
              "  background: linear-gradient(90deg, blue 63.3%, transparent 63.3%);\n",
              "}\n",
              "#T_f8b9d_row5_col2 {\n",
              "  background-color: #228a44;\n",
              "  color: #f1f1f1;\n",
              "  width: 10em;\n",
              "  background: linear-gradient(90deg, red 75.4%, transparent 75.4%);\n",
              "}\n",
              "#T_f8b9d_row5_col4 {\n",
              "  background-color: #48b27f;\n",
              "  color: #f1f1f1;\n",
              "}\n",
              "#T_f8b9d_row5_col5 {\n",
              "  background-color: #349f61;\n",
              "  color: #f1f1f1;\n",
              "}\n",
              "#T_f8b9d_row5_col6 {\n",
              "  background-color: #7dccb5;\n",
              "  color: #000000;\n",
              "}\n",
              "#T_f8b9d_row5_col7 {\n",
              "  background-color: #218944;\n",
              "  color: #f1f1f1;\n",
              "}\n",
              "#T_f8b9d_row6_col1 {\n",
              "  background-color: #77c9b0;\n",
              "  color: #000000;\n",
              "  width: 10em;\n",
              "  background: linear-gradient(90deg, blue 45.8%, transparent 45.8%);\n",
              "}\n",
              "#T_f8b9d_row6_col2 {\n",
              "  background-color: #56ba91;\n",
              "  color: #f1f1f1;\n",
              "  width: 10em;\n",
              "  background: linear-gradient(90deg, red 55.2%, transparent 55.2%);\n",
              "}\n",
              "#T_f8b9d_row6_col4 {\n",
              "  background-color: #87d0bc;\n",
              "  color: #000000;\n",
              "}\n",
              "#T_f8b9d_row6_col5 {\n",
              "  background-color: #68c3a6;\n",
              "  color: #000000;\n",
              "}\n",
              "#T_f8b9d_row6_col6 {\n",
              "  background-color: #c2e8e0;\n",
              "  color: #000000;\n",
              "}\n",
              "#T_f8b9d_row6_col7 {\n",
              "  background-color: #4cb484;\n",
              "  color: #f1f1f1;\n",
              "}\n",
              "#T_f8b9d_row7_col1 {\n",
              "  background-color: #f5fbfd;\n",
              "  color: #000000;\n",
              "  width: 10em;\n",
              "  background: linear-gradient(90deg, blue 1.4%, transparent 1.4%);\n",
              "}\n",
              "#T_f8b9d_row7_col2 {\n",
              "  background-color: #f5fbfd;\n",
              "  color: #000000;\n",
              "  width: 10em;\n",
              "  background: linear-gradient(90deg, red 1.2%, transparent 1.2%);\n",
              "}\n",
              "#T_f8b9d_row7_col3, #T_f8b9d_row8_col3, #T_f8b9d_row9_col3, #T_f8b9d_row9_col4, #T_f8b9d_row9_col5, #T_f8b9d_row9_col6, #T_f8b9d_row9_col7, #T_f8b9d_row10_col3, #T_f8b9d_row10_col4, #T_f8b9d_row10_col5, #T_f8b9d_row10_col6, #T_f8b9d_row10_col7, #T_f8b9d_row11_col4, #T_f8b9d_row11_col5, #T_f8b9d_row11_col6, #T_f8b9d_row11_col7, #T_f8b9d_row12_col3, #T_f8b9d_row12_col4, #T_f8b9d_row12_col5, #T_f8b9d_row12_col6, #T_f8b9d_row12_col7, #T_f8b9d_row13_col0, #T_f8b9d_row13_col3, #T_f8b9d_row13_col4, #T_f8b9d_row13_col5, #T_f8b9d_row13_col6, #T_f8b9d_row13_col7, #T_f8b9d_row14_col3, #T_f8b9d_row14_col4, #T_f8b9d_row14_col5, #T_f8b9d_row14_col6, #T_f8b9d_row14_col7, #T_f8b9d_row15_col3, #T_f8b9d_row15_col4, #T_f8b9d_row15_col5, #T_f8b9d_row15_col6, #T_f8b9d_row15_col7 {\n",
              "  background-color: #f7fcfd;\n",
              "  color: #000000;\n",
              "}\n",
              "#T_f8b9d_row7_col4, #T_f8b9d_row7_col7, #T_f8b9d_row8_col4, #T_f8b9d_row8_col6, #T_f8b9d_row8_col7, #T_f8b9d_row11_col3 {\n",
              "  background-color: #f6fcfd;\n",
              "  color: #000000;\n",
              "}\n",
              "#T_f8b9d_row7_col5, #T_f8b9d_row7_col6, #T_f8b9d_row8_col5 {\n",
              "  background-color: #f5fbfd;\n",
              "  color: #000000;\n",
              "}\n",
              "#T_f8b9d_row8_col1 {\n",
              "  background-color: #f5fbfd;\n",
              "  color: #000000;\n",
              "  width: 10em;\n",
              "  background: linear-gradient(90deg, blue 1.3%, transparent 1.3%);\n",
              "}\n",
              "#T_f8b9d_row8_col2 {\n",
              "  background-color: #f6fcfd;\n",
              "  color: #000000;\n",
              "  width: 10em;\n",
              "  background: linear-gradient(90deg, red 1.1%, transparent 1.1%);\n",
              "}\n",
              "#T_f8b9d_row9_col1, #T_f8b9d_row10_col1, #T_f8b9d_row11_col1, #T_f8b9d_row12_col1, #T_f8b9d_row13_col1, #T_f8b9d_row14_col1, #T_f8b9d_row15_col1 {\n",
              "  background-color: #f7fcfd;\n",
              "  color: #000000;\n",
              "  width: 10em;\n",
              "  background: linear-gradient(90deg, blue 0.0%, transparent 0.0%);\n",
              "}\n",
              "#T_f8b9d_row9_col2, #T_f8b9d_row10_col2, #T_f8b9d_row11_col2, #T_f8b9d_row12_col2, #T_f8b9d_row13_col2, #T_f8b9d_row14_col2, #T_f8b9d_row15_col2 {\n",
              "  background-color: #f7fcfd;\n",
              "  color: #000000;\n",
              "  width: 10em;\n",
              "  background: linear-gradient(90deg, red 0.0%, transparent 0.0%);\n",
              "}\n",
              "#T_f8b9d_row15_col0 {\n",
              "  background-color: #ccece6;\n",
              "  color: #000000;\n",
              "}\n",
              "</style>\n",
              "<table id=\"T_f8b9d\">\n",
              "  <thead>\n",
              "    <tr>\n",
              "      <th class=\"blank level0\" >&nbsp;</th>\n",
              "      <th id=\"T_f8b9d_level0_col0\" class=\"col_heading level0 col0\" >count</th>\n",
              "      <th id=\"T_f8b9d_level0_col1\" class=\"col_heading level0 col1\" >mean</th>\n",
              "      <th id=\"T_f8b9d_level0_col2\" class=\"col_heading level0 col2\" >std</th>\n",
              "      <th id=\"T_f8b9d_level0_col3\" class=\"col_heading level0 col3\" >min</th>\n",
              "      <th id=\"T_f8b9d_level0_col4\" class=\"col_heading level0 col4\" >25%</th>\n",
              "      <th id=\"T_f8b9d_level0_col5\" class=\"col_heading level0 col5\" >50%</th>\n",
              "      <th id=\"T_f8b9d_level0_col6\" class=\"col_heading level0 col6\" >75%</th>\n",
              "      <th id=\"T_f8b9d_level0_col7\" class=\"col_heading level0 col7\" >max</th>\n",
              "    </tr>\n",
              "  </thead>\n",
              "  <tbody>\n",
              "    <tr>\n",
              "      <th id=\"T_f8b9d_level0_row0\" class=\"row_heading level0 row0\" >pop2050</th>\n",
              "      <td id=\"T_f8b9d_row0_col0\" class=\"data row0 col0\" >234.000000</td>\n",
              "      <td id=\"T_f8b9d_row0_col1\" class=\"data row0 col1\" >41486278.790598</td>\n",
              "      <td id=\"T_f8b9d_row0_col2\" class=\"data row0 col2\" >148167567.122402</td>\n",
              "      <td id=\"T_f8b9d_row0_col3\" class=\"data row0 col3\" >731.000000</td>\n",
              "      <td id=\"T_f8b9d_row0_col4\" class=\"data row0 col4\" >546605.750000</td>\n",
              "      <td id=\"T_f8b9d_row0_col5\" class=\"data row0 col5\" >6352397.000000</td>\n",
              "      <td id=\"T_f8b9d_row0_col6\" class=\"data row0 col6\" >35686137.750000</td>\n",
              "      <td id=\"T_f8b9d_row0_col7\" class=\"data row0 col7\" >1670490596.000000</td>\n",
              "    </tr>\n",
              "    <tr>\n",
              "      <th id=\"T_f8b9d_level0_row1\" class=\"row_heading level0 row1\" >pop2030</th>\n",
              "      <td id=\"T_f8b9d_row1_col0\" class=\"data row1 col0\" >234.000000</td>\n",
              "      <td id=\"T_f8b9d_row1_col1\" class=\"data row1 col1\" >36514605.333333</td>\n",
              "      <td id=\"T_f8b9d_row1_col2\" class=\"data row1 col2\" >141782710.184894</td>\n",
              "      <td id=\"T_f8b9d_row1_col3\" class=\"data row1 col3\" >561.000000</td>\n",
              "      <td id=\"T_f8b9d_row1_col4\" class=\"data row1 col4\" >456149.000000</td>\n",
              "      <td id=\"T_f8b9d_row1_col5\" class=\"data row1 col5\" >6178231.000000</td>\n",
              "      <td id=\"T_f8b9d_row1_col6\" class=\"data row1 col6\" >26163111.500000</td>\n",
              "      <td id=\"T_f8b9d_row1_col7\" class=\"data row1 col7\" >1514994080.000000</td>\n",
              "    </tr>\n",
              "    <tr>\n",
              "      <th id=\"T_f8b9d_level0_row2\" class=\"row_heading level0 row2\" >pop2023</th>\n",
              "      <td id=\"T_f8b9d_row2_col0\" class=\"data row2 col0\" >234.000000</td>\n",
              "      <td id=\"T_f8b9d_row2_col1\" class=\"data row2 col1\" >34374424.743590</td>\n",
              "      <td id=\"T_f8b9d_row2_col2\" class=\"data row2 col2\" >137386405.597263</td>\n",
              "      <td id=\"T_f8b9d_row2_col3\" class=\"data row2 col3\" >518.000000</td>\n",
              "      <td id=\"T_f8b9d_row2_col4\" class=\"data row2 col4\" >422598.250000</td>\n",
              "      <td id=\"T_f8b9d_row2_col5\" class=\"data row2 col5\" >5643895.000000</td>\n",
              "      <td id=\"T_f8b9d_row2_col6\" class=\"data row2 col6\" >23245367.250000</td>\n",
              "      <td id=\"T_f8b9d_row2_col7\" class=\"data row2 col7\" >1428627663.000000</td>\n",
              "    </tr>\n",
              "    <tr>\n",
              "      <th id=\"T_f8b9d_level0_row3\" class=\"row_heading level0 row3\" >pop2022</th>\n",
              "      <td id=\"T_f8b9d_row3_col0\" class=\"data row3 col0\" >234.000000</td>\n",
              "      <td id=\"T_f8b9d_row3_col1\" class=\"data row3 col1\" >34074414.713675</td>\n",
              "      <td id=\"T_f8b9d_row3_col2\" class=\"data row3 col2\" >136766424.804728</td>\n",
              "      <td id=\"T_f8b9d_row3_col3\" class=\"data row3 col3\" >510.000000</td>\n",
              "      <td id=\"T_f8b9d_row3_col4\" class=\"data row3 col4\" >419738.500000</td>\n",
              "      <td id=\"T_f8b9d_row3_col5\" class=\"data row3 col5\" >5559944.500000</td>\n",
              "      <td id=\"T_f8b9d_row3_col6\" class=\"data row3 col6\" >22476504.750000</td>\n",
              "      <td id=\"T_f8b9d_row3_col7\" class=\"data row3 col7\" >1425887337.000000</td>\n",
              "    </tr>\n",
              "    <tr>\n",
              "      <th id=\"T_f8b9d_level0_row4\" class=\"row_heading level0 row4\" >pop2010</th>\n",
              "      <td id=\"T_f8b9d_row4_col0\" class=\"data row4 col0\" >234.000000</td>\n",
              "      <td id=\"T_f8b9d_row4_col1\" class=\"data row4 col1\" >29845235.042735</td>\n",
              "      <td id=\"T_f8b9d_row4_col2\" class=\"data row4 col2\" >124218487.631581</td>\n",
              "      <td id=\"T_f8b9d_row4_col3\" class=\"data row4 col3\" >596.000000</td>\n",
              "      <td id=\"T_f8b9d_row4_col4\" class=\"data row4 col4\" >393149.000000</td>\n",
              "      <td id=\"T_f8b9d_row4_col5\" class=\"data row4 col5\" >4942770.500000</td>\n",
              "      <td id=\"T_f8b9d_row4_col6\" class=\"data row4 col6\" >19159567.500000</td>\n",
              "      <td id=\"T_f8b9d_row4_col7\" class=\"data row4 col7\" >1348191368.000000</td>\n",
              "    </tr>\n",
              "    <tr>\n",
              "      <th id=\"T_f8b9d_level0_row5\" class=\"row_heading level0 row5\" >pop2000</th>\n",
              "      <td id=\"T_f8b9d_row5_col0\" class=\"data row5 col0\" >234.000000</td>\n",
              "      <td id=\"T_f8b9d_row5_col1\" class=\"data row5 col1\" >26269468.816239</td>\n",
              "      <td id=\"T_f8b9d_row5_col2\" class=\"data row5 col2\" >111698206.719070</td>\n",
              "      <td id=\"T_f8b9d_row5_col3\" class=\"data row5 col3\" >651.000000</td>\n",
              "      <td id=\"T_f8b9d_row5_col4\" class=\"data row5 col4\" >327242.000000</td>\n",
              "      <td id=\"T_f8b9d_row5_col5\" class=\"data row5 col5\" >4292907.000000</td>\n",
              "      <td id=\"T_f8b9d_row5_col6\" class=\"data row5 col6\" >15762301.000000</td>\n",
              "      <td id=\"T_f8b9d_row5_col7\" class=\"data row5 col7\" >1264099069.000000</td>\n",
              "    </tr>\n",
              "    <tr>\n",
              "      <th id=\"T_f8b9d_level0_row6\" class=\"row_heading level0 row6\" >pop1980</th>\n",
              "      <td id=\"T_f8b9d_row6_col0\" class=\"data row6 col0\" >234.000000</td>\n",
              "      <td id=\"T_f8b9d_row6_col1\" class=\"data row6 col1\" >18984616.982906</td>\n",
              "      <td id=\"T_f8b9d_row6_col2\" class=\"data row6 col2\" >81785186.081872</td>\n",
              "      <td id=\"T_f8b9d_row6_col3\" class=\"data row6 col3\" >733.000000</td>\n",
              "      <td id=\"T_f8b9d_row6_col4\" class=\"data row6 col4\" >229614.250000</td>\n",
              "      <td id=\"T_f8b9d_row6_col5\" class=\"data row6 col5\" >3141145.500000</td>\n",
              "      <td id=\"T_f8b9d_row6_col6\" class=\"data row6 col6\" >9826053.750000</td>\n",
              "      <td id=\"T_f8b9d_row6_col7\" class=\"data row6 col7\" >982372466.000000</td>\n",
              "    </tr>\n",
              "    <tr>\n",
              "      <th id=\"T_f8b9d_level0_row7\" class=\"row_heading level0 row7\" >area</th>\n",
              "      <td id=\"T_f8b9d_row7_col0\" class=\"data row7 col0\" >234.000000</td>\n",
              "      <td id=\"T_f8b9d_row7_col1\" class=\"data row7 col1\" >581449.983590</td>\n",
              "      <td id=\"T_f8b9d_row7_col2\" class=\"data row7 col2\" >1761840.665609</td>\n",
              "      <td id=\"T_f8b9d_row7_col3\" class=\"data row7 col3\" >0.440000</td>\n",
              "      <td id=\"T_f8b9d_row7_col4\" class=\"data row7 col4\" >2650.000000</td>\n",
              "      <td id=\"T_f8b9d_row7_col5\" class=\"data row7 col5\" >81199.500000</td>\n",
              "      <td id=\"T_f8b9d_row7_col6\" class=\"data row7 col6\" >430425.750000</td>\n",
              "      <td id=\"T_f8b9d_row7_col7\" class=\"data row7 col7\" >17098242.000000</td>\n",
              "    </tr>\n",
              "    <tr>\n",
              "      <th id=\"T_f8b9d_level0_row8\" class=\"row_heading level0 row8\" >landAreaKm</th>\n",
              "      <td id=\"T_f8b9d_row8_col0\" class=\"data row8 col0\" >234.000000</td>\n",
              "      <td id=\"T_f8b9d_row8_col1\" class=\"data row8 col1\" >557112.276239</td>\n",
              "      <td id=\"T_f8b9d_row8_col2\" class=\"data row8 col2\" >1689971.526445</td>\n",
              "      <td id=\"T_f8b9d_row8_col3\" class=\"data row8 col3\" >0.440000</td>\n",
              "      <td id=\"T_f8b9d_row8_col4\" class=\"data row8 col4\" >2625.875000</td>\n",
              "      <td id=\"T_f8b9d_row8_col5\" class=\"data row8 col5\" >75689.250000</td>\n",
              "      <td id=\"T_f8b9d_row8_col6\" class=\"data row8 col6\" >404787.625000</td>\n",
              "      <td id=\"T_f8b9d_row8_col7\" class=\"data row8 col7\" >16376870.000000</td>\n",
              "    </tr>\n",
              "    <tr>\n",
              "      <th id=\"T_f8b9d_level0_row9\" class=\"row_heading level0 row9\" >densityMi</th>\n",
              "      <td id=\"T_f8b9d_row9_col0\" class=\"data row9 col0\" >234.000000</td>\n",
              "      <td id=\"T_f8b9d_row9_col1\" class=\"data row9 col1\" >1168.836388</td>\n",
              "      <td id=\"T_f8b9d_row9_col2\" class=\"data row9 col2\" >5126.548664</td>\n",
              "      <td id=\"T_f8b9d_row9_col3\" class=\"data row9 col3\" >0.357400</td>\n",
              "      <td id=\"T_f8b9d_row9_col4\" class=\"data row9 col4\" >102.946450</td>\n",
              "      <td id=\"T_f8b9d_row9_col5\" class=\"data row9 col5\" >252.475800</td>\n",
              "      <td id=\"T_f8b9d_row9_col6\" class=\"data row9 col6\" >629.185350</td>\n",
              "      <td id=\"T_f8b9d_row9_col7\" class=\"data row9 col7\" >55433.006400</td>\n",
              "    </tr>\n",
              "    <tr>\n",
              "      <th id=\"T_f8b9d_level0_row10\" class=\"row_heading level0 row10\" >density</th>\n",
              "      <td id=\"T_f8b9d_row10_col0\" class=\"data row10 col0\" >234.000000</td>\n",
              "      <td id=\"T_f8b9d_row10_col1\" class=\"data row10 col1\" >451.288182</td>\n",
              "      <td id=\"T_f8b9d_row10_col2\" class=\"data row10 col2\" >1979.362419</td>\n",
              "      <td id=\"T_f8b9d_row10_col3\" class=\"data row10 col3\" >0.138000</td>\n",
              "      <td id=\"T_f8b9d_row10_col4\" class=\"data row10 col4\" >39.747650</td>\n",
              "      <td id=\"T_f8b9d_row10_col5\" class=\"data row10 col5\" >97.481000</td>\n",
              "      <td id=\"T_f8b9d_row10_col6\" class=\"data row10 col6\" >242.928650</td>\n",
              "      <td id=\"T_f8b9d_row10_col7\" class=\"data row10 col7\" >21402.705200</td>\n",
              "    </tr>\n",
              "    <tr>\n",
              "      <th id=\"T_f8b9d_level0_row11\" class=\"row_heading level0 row11\" >place</th>\n",
              "      <td id=\"T_f8b9d_row11_col0\" class=\"data row11 col0\" >234.000000</td>\n",
              "      <td id=\"T_f8b9d_row11_col1\" class=\"data row11 col1\" >439.085470</td>\n",
              "      <td id=\"T_f8b9d_row11_col2\" class=\"data row11 col2\" >253.295484</td>\n",
              "      <td id=\"T_f8b9d_row11_col3\" class=\"data row11 col3\" >4.000000</td>\n",
              "      <td id=\"T_f8b9d_row11_col4\" class=\"data row11 col4\" >223.000000</td>\n",
              "      <td id=\"T_f8b9d_row11_col5\" class=\"data row11 col5\" >439.000000</td>\n",
              "      <td id=\"T_f8b9d_row11_col6\" class=\"data row11 col6\" >659.750000</td>\n",
              "      <td id=\"T_f8b9d_row11_col7\" class=\"data row11 col7\" >894.000000</td>\n",
              "    </tr>\n",
              "    <tr>\n",
              "      <th id=\"T_f8b9d_level0_row12\" class=\"row_heading level0 row12\" >rank</th>\n",
              "      <td id=\"T_f8b9d_row12_col0\" class=\"data row12 col0\" >234.000000</td>\n",
              "      <td id=\"T_f8b9d_row12_col1\" class=\"data row12 col1\" >117.500000</td>\n",
              "      <td id=\"T_f8b9d_row12_col2\" class=\"data row12 col2\" >67.694165</td>\n",
              "      <td id=\"T_f8b9d_row12_col3\" class=\"data row12 col3\" >1.000000</td>\n",
              "      <td id=\"T_f8b9d_row12_col4\" class=\"data row12 col4\" >59.250000</td>\n",
              "      <td id=\"T_f8b9d_row12_col5\" class=\"data row12 col5\" >117.500000</td>\n",
              "      <td id=\"T_f8b9d_row12_col6\" class=\"data row12 col6\" >175.750000</td>\n",
              "      <td id=\"T_f8b9d_row12_col7\" class=\"data row12 col7\" >234.000000</td>\n",
              "    </tr>\n",
              "    <tr>\n",
              "      <th id=\"T_f8b9d_level0_row13\" class=\"row_heading level0 row13\" >netChange</th>\n",
              "      <td id=\"T_f8b9d_row13_col0\" class=\"data row13 col0\" >226.000000</td>\n",
              "      <td id=\"T_f8b9d_row13_col1\" class=\"data row13 col1\" >0.010306</td>\n",
              "      <td id=\"T_f8b9d_row13_col2\" class=\"data row13 col2\" >0.034774</td>\n",
              "      <td id=\"T_f8b9d_row13_col3\" class=\"data row13 col3\" >-0.028600</td>\n",
              "      <td id=\"T_f8b9d_row13_col4\" class=\"data row13 col4\" >0.000000</td>\n",
              "      <td id=\"T_f8b9d_row13_col5\" class=\"data row13 col5\" >0.000900</td>\n",
              "      <td id=\"T_f8b9d_row13_col6\" class=\"data row13 col6\" >0.008000</td>\n",
              "      <td id=\"T_f8b9d_row13_col7\" class=\"data row13 col7\" >0.418400</td>\n",
              "    </tr>\n",
              "    <tr>\n",
              "      <th id=\"T_f8b9d_level0_row14\" class=\"row_heading level0 row14\" >growthRate</th>\n",
              "      <td id=\"T_f8b9d_row14_col0\" class=\"data row14 col0\" >234.000000</td>\n",
              "      <td id=\"T_f8b9d_row14_col1\" class=\"data row14 col1\" >0.009737</td>\n",
              "      <td id=\"T_f8b9d_row14_col2\" class=\"data row14 col2\" >0.012350</td>\n",
              "      <td id=\"T_f8b9d_row14_col3\" class=\"data row14 col3\" >-0.074500</td>\n",
              "      <td id=\"T_f8b9d_row14_col4\" class=\"data row14 col4\" >0.002325</td>\n",
              "      <td id=\"T_f8b9d_row14_col5\" class=\"data row14 col5\" >0.008200</td>\n",
              "      <td id=\"T_f8b9d_row14_col6\" class=\"data row14 col6\" >0.016850</td>\n",
              "      <td id=\"T_f8b9d_row14_col7\" class=\"data row14 col7\" >0.049800</td>\n",
              "    </tr>\n",
              "    <tr>\n",
              "      <th id=\"T_f8b9d_level0_row15\" class=\"row_heading level0 row15\" >worldPercentage</th>\n",
              "      <td id=\"T_f8b9d_row15_col0\" class=\"data row15 col0\" >228.000000</td>\n",
              "      <td id=\"T_f8b9d_row15_col1\" class=\"data row15 col1\" >0.004407</td>\n",
              "      <td id=\"T_f8b9d_row15_col2\" class=\"data row15 col2\" >0.017375</td>\n",
              "      <td id=\"T_f8b9d_row15_col3\" class=\"data row15 col3\" >0.000000</td>\n",
              "      <td id=\"T_f8b9d_row15_col4\" class=\"data row15 col4\" >0.000100</td>\n",
              "      <td id=\"T_f8b9d_row15_col5\" class=\"data row15 col5\" >0.000750</td>\n",
              "      <td id=\"T_f8b9d_row15_col6\" class=\"data row15 col6\" >0.002925</td>\n",
              "      <td id=\"T_f8b9d_row15_col7\" class=\"data row15 col7\" >0.178500</td>\n",
              "    </tr>\n",
              "  </tbody>\n",
              "</table>\n"
            ],
            "text/plain": [
              "<pandas.io.formats.style.Styler at 0x7c753c9f3ac0>"
            ]
          },
          "execution_count": 13,
          "metadata": {},
          "output_type": "execute_result"
        }
      ],
      "source": [
        "df.describe().T.sort_values(ascending = 0,by = \"mean\").style.background_gradient(cmap = \"BuGn\")\\\n",
        ".bar(subset = [\"std\"], color =\"red\").bar(subset = [\"mean\"], color =\"blue\")"
      ]
    },
    {
      "cell_type": "code",
      "execution_count": null,
      "id": "9b345850",
      "metadata": {
        "execution": {
          "iopub.execute_input": "2023-06-02T04:52:20.926326Z",
          "iopub.status.busy": "2023-06-02T04:52:20.925270Z",
          "iopub.status.idle": "2023-06-02T04:52:20.935855Z",
          "shell.execute_reply": "2023-06-02T04:52:20.934169Z"
        },
        "papermill": {
          "duration": 0.03074,
          "end_time": "2023-06-02T04:52:20.938212",
          "exception": false,
          "start_time": "2023-06-02T04:52:20.907472",
          "status": "completed"
        },
        "tags": [],
        "id": "9b345850",
        "outputId": "3d9ef8c1-d4d1-4012-f1b1-27f697c09269"
      },
      "outputs": [
        {
          "name": "stdout",
          "output_type": "stream",
          "text": [
            "country ---> 234\n",
            "rank ---> 234\n",
            "area ---> 232\n",
            "landAreaKm ---> 230\n",
            "cca2 ---> 233\n",
            "cca3 ---> 234\n",
            "netChange ---> 119\n",
            "growthRate ---> 176\n",
            "worldPercentage ---> 73\n",
            "density ---> 234\n",
            "densityMi ---> 234\n",
            "place ---> 234\n",
            "pop1980 ---> 234\n",
            "pop2000 ---> 234\n",
            "pop2010 ---> 234\n",
            "pop2022 ---> 234\n",
            "pop2023 ---> 234\n",
            "pop2030 ---> 234\n",
            "pop2050 ---> 234\n"
          ]
        }
      ],
      "source": [
        "#Getting all the unique values in each feature\n",
        "features = df.columns\n",
        "for feature in features:\n",
        "    print(f\"{feature} ---> {df[feature].nunique()}\")"
      ]
    },
    {
      "cell_type": "code",
      "execution_count": null,
      "id": "ef96617c",
      "metadata": {
        "execution": {
          "iopub.execute_input": "2023-06-02T04:52:20.972991Z",
          "iopub.status.busy": "2023-06-02T04:52:20.971935Z",
          "iopub.status.idle": "2023-06-02T04:52:22.035871Z",
          "shell.execute_reply": "2023-06-02T04:52:22.034452Z"
        },
        "papermill": {
          "duration": 1.084366,
          "end_time": "2023-06-02T04:52:22.038689",
          "exception": false,
          "start_time": "2023-06-02T04:52:20.954323",
          "status": "completed"
        },
        "tags": [],
        "id": "ef96617c",
        "outputId": "93de5774-09c7-41c3-afa6-cc4dd4101788"
      },
      "outputs": [
        {
          "data": {
            "image/png": "[encoded data removed]",
            "text/plain": [
              "<Figure size 2500x1000 with 2 Axes>"
            ]
          },
          "metadata": {},
          "output_type": "display_data"
        }
      ],
      "source": [
        "msno.matrix(df)\n",
        "plt.title('Distribution of Missing Values',fontsize=30, fontstyle= 'oblique');"
      ]
    },
    {
      "cell_type": "code",
      "execution_count": null,
      "id": "4c6a8caa",
      "metadata": {
        "execution": {
          "iopub.execute_input": "2023-06-02T04:52:22.075486Z",
          "iopub.status.busy": "2023-06-02T04:52:22.075055Z",
          "iopub.status.idle": "2023-06-02T04:52:23.975193Z",
          "shell.execute_reply": "2023-06-02T04:52:23.973956Z"
        },
        "papermill": {
          "duration": 1.922103,
          "end_time": "2023-06-02T04:52:23.978282",
          "exception": false,
          "start_time": "2023-06-02T04:52:22.056179",
          "status": "completed"
        },
        "tags": [],
        "id": "4c6a8caa",
        "outputId": "5ed9e483-e4da-4588-983d-9928532b04f5"
      },
      "outputs": [
        {
          "data": {
            "application/vnd.plotly.v1+json": {
              "config": {
                "plotlyServerURL": "https://plot.ly"
              },
              "data": [
                {
                  "coloraxis": "coloraxis",
                  "geo": "geo",
                  "hovertemplate": "<b>%{hovertext}</b><br><br>country=%{location}<br>pop1980=%{z}<extra></extra>",
                  "hovertext": [
                    "India",
                    "China",
                    "United States",
                    "Indonesia",
                    "Pakistan",
                    "Nigeria",
                    "Brazil",
                    "Bangladesh",
                    "Russia",
                    "Mexico",
                    "Ethiopia",
                    "Japan",
                    "Philippines",
                    "Egypt",
                    "DR Congo",
                    "Vietnam",
                    "Iran",
                    "Turkey",
                    "Germany",
                    "Thailand",
                    "United Kingdom",
                    "Tanzania",
                    "France",
                    "South Africa",
                    "Italy",
                    "Kenya",
                    "Myanmar",
                    "Colombia",
                    "South Korea",
                    "Uganda",
                    "Sudan",
                    "Spain",
                    "Argentina",
                    "Algeria",
                    "Iraq",
                    "Afghanistan",
                    "Poland",
                    "Canada",
                    "Morocco",
                    "Saudi Arabia",
                    "Ukraine",
                    "Angola",
                    "Uzbekistan",
                    "Yemen",
                    "Peru",
                    "Malaysia",
                    "Ghana",
                    "Mozambique",
                    "Nepal",
                    "Madagascar",
                    "Ivory Coast",
                    "Venezuela",
                    "Cameroon",
                    "Niger",
                    "Australia",
                    "North Korea",
                    "Taiwan",
                    "Mali",
                    "Burkina Faso",
                    "Syria",
                    "Sri Lanka",
                    "Malawi",
                    "Zambia",
                    "Romania",
                    "Chile",
                    "Kazakhstan",
                    "Chad",
                    "Ecuador",
                    "Somalia",
                    "Guatemala",
                    "Senegal",
                    "Netherlands",
                    "Cambodia",
                    "Zimbabwe",
                    "Guinea",
                    "Rwanda",
                    "Benin",
                    "Burundi",
                    "Tunisia",
                    "Bolivia",
                    "Haiti",
                    "Belgium",
                    "Jordan",
                    "Dominican Republic",
                    "Cuba",
                    "South Sudan",
                    "Sweden",
                    "Honduras",
                    "Czech Republic",
                    "Azerbaijan",
                    "Greece",
                    "Papua New Guinea",
                    "Portugal",
                    "Hungary",
                    "Tajikistan",
                    "United Arab Emirates",
                    "Belarus",
                    "Israel",
                    "Togo",
                    "Austria",
                    "Switzerland",
                    "Sierra Leone",
                    "Laos",
                    "Hong Kong",
                    "Serbia",
                    "Nicaragua",
                    "Libya",
                    "Paraguay",
                    "Kyrgyzstan",
                    "Bulgaria",
                    "Turkmenistan",
                    "El Salvador",
                    "Republic of the Congo",
                    "Singapore",
                    "Denmark",
                    "Slovakia",
                    "Central African Republic",
                    "Finland",
                    "Norway",
                    "Liberia",
                    "Palestine",
                    "Lebanon",
                    "New Zealand",
                    "Costa Rica",
                    "Ireland",
                    "Mauritania",
                    "Oman",
                    "Panama",
                    "Kuwait",
                    "Croatia",
                    "Eritrea",
                    "Georgia",
                    "Mongolia",
                    "Moldova",
                    "Uruguay",
                    "Puerto Rico",
                    "Bosnia and Herzegovina",
                    "Albania",
                    "Jamaica",
                    "Armenia",
                    "Gambia",
                    "Lithuania",
                    "Qatar",
                    "Botswana",
                    "Namibia",
                    "Gabon",
                    "Lesotho",
                    "Guinea-Bissau",
                    "Slovenia",
                    "North Macedonia",
                    "Latvia",
                    "Equatorial Guinea",
                    "Trinidad and Tobago",
                    "Bahrain",
                    "Timor-Leste",
                    "Estonia",
                    "Mauritius",
                    "Cyprus",
                    "Eswatini",
                    "Djibouti",
                    "Reunion",
                    "Fiji",
                    "Comoros",
                    "Guyana",
                    "Bhutan",
                    "Solomon Islands",
                    "Macau",
                    "Luxembourg",
                    "Montenegro",
                    "Suriname",
                    "Cape Verde",
                    "Western Sahara",
                    "Malta",
                    "Maldives",
                    "Brunei",
                    "Bahamas",
                    "Belize",
                    "Guadeloupe",
                    "Iceland",
                    "Martinique",
                    "Mayotte",
                    "Vanuatu",
                    "French Guiana",
                    "French Polynesia",
                    "New Caledonia",
                    "Barbados",
                    "Sao Tome and Principe",
                    "Samoa",
                    "Curacao",
                    "Saint Lucia",
                    "Guam",
                    "Kiribati",
                    "Grenada",
                    "Micronesia",
                    "Jersey",
                    "Tonga",
                    "Seychelles",
                    "Aruba",
                    "Saint Vincent and the Grenadines",
                    "United States Virgin Islands",
                    "Antigua and Barbuda",
                    "Isle of Man",
                    "Andorra",
                    "Dominica",
                    "Cayman Islands",
                    "Bermuda",
                    "Guernsey",
                    "Greenland",
                    "Faroe Islands",
                    "Northern Mariana Islands",
                    "Saint Kitts and Nevis",
                    "Turks and Caicos Islands",
                    "Sint Maarten",
                    "American Samoa",
                    "Marshall Islands",
                    "Liechtenstein",
                    "Monaco",
                    "San Marino",
                    "Gibraltar",
                    "Saint Martin",
                    "British Virgin Islands",
                    "Palau",
                    "Cook Islands",
                    "Anguilla",
                    "Nauru",
                    "Wallis and Futuna",
                    "Tuvalu",
                    "Saint Barthelemy",
                    "Saint Pierre and Miquelon",
                    "Montserrat",
                    "Falkland Islands",
                    "Niue",
                    "Tokelau",
                    "Vatican City"
                  ],
                  "locationmode": "country names",
                  "locations": [
                    "India",
                    "China",
                    "United States",
                    "Indonesia",
                    "Pakistan",
                    "Nigeria",
                    "Brazil",
                    "Bangladesh",
                    "Russia",
                    "Mexico",
                    "Ethiopia",
                    "Japan",
                    "Philippines",
                    "Egypt",
                    "DR Congo",
                    "Vietnam",
                    "Iran",
                    "Turkey",
                    "Germany",
                    "Thailand",
                    "United Kingdom",
                    "Tanzania",
                    "France",
                    "South Africa",
                    "Italy",
                    "Kenya",
                    "Myanmar",
                    "Colombia",
                    "South Korea",
                    "Uganda",
                    "Sudan",
                    "Spain",
                    "Argentina",
                    "Algeria",
                    "Iraq",
                    "Afghanistan",
                    "Poland",
                    "Canada",
                    "Morocco",
                    "Saudi Arabia",
                    "Ukraine",
                    "Angola",
                    "Uzbekistan",
                    "Yemen",
                    "Peru",
                    "Malaysia",
                    "Ghana",
                    "Mozambique",
                    "Nepal",
                    "Madagascar",
                    "Ivory Coast",
                    "Venezuela",
                    "Cameroon",
                    "Niger",
                    "Australia",
                    "North Korea",
                    "Taiwan",
                    "Mali",
                    "Burkina Faso",
                    "Syria",
                    "Sri Lanka",
                    "Malawi",
                    "Zambia",
                    "Romania",
                    "Chile",
                    "Kazakhstan",
                    "Chad",
                    "Ecuador",
                    "Somalia",
                    "Guatemala",
                    "Senegal",
                    "Netherlands",
                    "Cambodia",
                    "Zimbabwe",
                    "Guinea",
                    "Rwanda",
                    "Benin",
                    "Burundi",
                    "Tunisia",
                    "Bolivia",
                    "Haiti",
                    "Belgium",
                    "Jordan",
                    "Dominican Republic",
                    "Cuba",
                    "South Sudan",
                    "Sweden",
                    "Honduras",
                    "Czech Republic",
                    "Azerbaijan",
                    "Greece",
                    "Papua New Guinea",
                    "Portugal",
                    "Hungary",
                    "Tajikistan",
                    "United Arab Emirates",
                    "Belarus",
                    "Israel",
                    "Togo",
                    "Austria",
                    "Switzerland",
                    "Sierra Leone",
                    "Laos",
                    "Hong Kong",
                    "Serbia",
                    "Nicaragua",
                    "Libya",
                    "Paraguay",
                    "Kyrgyzstan",
                    "Bulgaria",
                    "Turkmenistan",
                    "El Salvador",
                    "Republic of the Congo",
                    "Singapore",
                    "Denmark",
                    "Slovakia",
                    "Central African Republic",
                    "Finland",
                    "Norway",
                    "Liberia",
                    "Palestine",
                    "Lebanon",
                    "New Zealand",
                    "Costa Rica",
                    "Ireland",
                    "Mauritania",
                    "Oman",
                    "Panama",
                    "Kuwait",
                    "Croatia",
                    "Eritrea",
                    "Georgia",
                    "Mongolia",
                    "Moldova",
                    "Uruguay",
                    "Puerto Rico",
                    "Bosnia and Herzegovina",
                    "Albania",
                    "Jamaica",
                    "Armenia",
                    "Gambia",
                    "Lithuania",
                    "Qatar",
                    "Botswana",
                    "Namibia",
                    "Gabon",
                    "Lesotho",
                    "Guinea-Bissau",
                    "Slovenia",
                    "North Macedonia",
                    "Latvia",
                    "Equatorial Guinea",
                    "Trinidad and Tobago",
                    "Bahrain",
                    "Timor-Leste",
                    "Estonia",
                    "Mauritius",
                    "Cyprus",
                    "Eswatini",
                    "Djibouti",
                    "Reunion",
                    "Fiji",
                    "Comoros",
                    "Guyana",
                    "Bhutan",
                    "Solomon Islands",
                    "Macau",
                    "Luxembourg",
                    "Montenegro",
                    "Suriname",
                    "Cape Verde",
                    "Western Sahara",
                    "Malta",
                    "Maldives",
                    "Brunei",
                    "Bahamas",
                    "Belize",
                    "Guadeloupe",
                    "Iceland",
                    "Martinique",
                    "Mayotte",
                    "Vanuatu",
                    "French Guiana",
                    "French Polynesia",
                    "New Caledonia",
                    "Barbados",
                    "Sao Tome and Principe",
                    "Samoa",
                    "Curacao",
                    "Saint Lucia",
                    "Guam",
                    "Kiribati",
                    "Grenada",
                    "Micronesia",
                    "Jersey",
                    "Tonga",
                    "Seychelles",
                    "Aruba",
                    "Saint Vincent and the Grenadines",
                    "United States Virgin Islands",
                    "Antigua and Barbuda",
                    "Isle of Man",
                    "Andorra",
                    "Dominica",
                    "Cayman Islands",
                    "Bermuda",
                    "Guernsey",
                    "Greenland",
                    "Faroe Islands",
                    "Northern Mariana Islands",
                    "Saint Kitts and Nevis",
                    "Turks and Caicos Islands",
                    "Sint Maarten",
                    "American Samoa",
                    "Marshall Islands",
                    "Liechtenstein",
                    "Monaco",
                    "San Marino",
                    "Gibraltar",
                    "Saint Martin",
                    "British Virgin Islands",
                    "Palau",
                    "Cook Islands",
                    "Anguilla",
                    "Nauru",
                    "Wallis and Futuna",
                    "Tuvalu",
                    "Saint Barthelemy",
                    "Saint Pierre and Miquelon",
                    "Montserrat",
                    "Falkland Islands",
                    "Niue",
                    "Tokelau",
                    "Vatican City"
                  ],
                  "name": "",
                  "type": "choropleth",
                  "z": [
                    696828385,
                    982372466,
                    223140018,
                    148177096,
                    80624057,
                    72951439,
                    122288383,
                    83929765,
                    138257420,
                    67705186,
                    34945469,
                    117624196,
                    48419546,
                    43748556,
                    26708686,
                    52968270,
                    38520664,
                    44089069,
                    77786703,
                    45737753,
                    56326328,
                    19297659,
                    53713830,
                    29463549,
                    56329482,
                    16187124,
                    33465781,
                    26176195,
                    38170501,
                    13284026,
                    16673586,
                    37491666,
                    28024803,
                    18739378,
                    13653369,
                    12486631,
                    35521429,
                    24511510,
                    19678444,
                    10171710,
                    49973920,
                    8330047,
                    15947129,
                    9204938,
                    17492406,
                    13215707,
                    11865246,
                    11413587,
                    15600442,
                    8948162,
                    8303810,
                    15210443,
                    8519891,
                    6173177,
                    14706322,
                    17973650,
                    18100281,
                    7372581,
                    6932967,
                    8898954,
                    14943645,
                    6267369,
                    5720438,
                    22125224,
                    11469828,
                    14172710,
                    4408230,
                    8135845,
                    5892224,
                    6987767,
                    5703869,
                    14130387,
                    6198959,
                    7049926,
                    4972609,
                    5247532,
                    3833939,
                    4312834,
                    6578156,
                    5736088,
                    5646676,
                    9828986,
                    2216903,
                    5755800,
                    9809107,
                    4192012,
                    8311763,
                    3777990,
                    10270060,
                    6383060,
                    9307148,
                    3104788,
                    9785252,
                    10698679,
                    4045965,
                    1014048,
                    9817257,
                    3744608,
                    2838110,
                    7547561,
                    6319113,
                    3367477,
                    3297519,
                    4978544,
                    7777010,
                    3303309,
                    2962720,
                    3078912,
                    3691209,
                    8980606,
                    2862903,
                    4508992,
                    1829256,
                    2400729,
                    5125392,
                    4973883,
                    2415276,
                    4779418,
                    4085776,
                    1932169,
                    1453620,
                    2963702,
                    3147168,
                    2414303,
                    3391387,
                    1506694,
                    1017462,
                    1956987,
                    1493870,
                    4680144,
                    1657982,
                    5145843,
                    1697780,
                    4103240,
                    2953750,
                    3214568,
                    4199820,
                    2941651,
                    2135546,
                    3135123,
                    718586,
                    3521206,
                    277450,
                    938578,
                    975994,
                    749078,
                    1407672,
                    831462,
                    1901570,
                    1907023,
                    2572037,
                    282509,
                    1127852,
                    362595,
                    642224,
                    1476983,
                    954865,
                    679327,
                    598564,
                    324121,
                    551674,
                    644582,
                    328328,
                    778176,
                    415257,
                    233668,
                    245332,
                    363741,
                    589324,
                    375112,
                    317234,
                    116775,
                    333587,
                    164887,
                    187921,
                    223752,
                    145133,
                    334234,
                    228263,
                    333786,
                    52233,
                    118156,
                    66825,
                    163591,
                    148599,
                    253575,
                    97210,
                    164905,
                    156851,
                    121633,
                    110286,
                    60813,
                    94838,
                    76299,
                    75124,
                    96708,
                    65290,
                    62267,
                    107480,
                    96640,
                    64889,
                    64022,
                    35611,
                    72978,
                    17100,
                    53565,
                    52860,
                    50106,
                    43054,
                    17613,
                    43097,
                    7598,
                    12243,
                    32886,
                    31988,
                    25003,
                    27076,
                    21346,
                    28734,
                    7776,
                    11109,
                    12252,
                    17651,
                    6560,
                    7635,
                    11315,
                    7731,
                    2983,
                    6106,
                    11452,
                    2240,
                    3637,
                    1647,
                    733
                  ]
                }
              ],
              "layout": {
                "coloraxis": {
                  "colorbar": {
                    "title": {
                      "text": "pop1980"
                    }
                  },
                  "colorscale": [
                    [
                      0,
                      "#440154"
                    ],
                    [
                      0.1111111111111111,
                      "#482878"
                    ],
                    [
                      0.2222222222222222,
                      "#3e4989"
                    ],
                    [
                      0.3333333333333333,
                      "#31688e"
                    ],
                    [
                      0.4444444444444444,
                      "#26828e"
                    ],
                    [
                      0.5555555555555556,
                      "#1f9e89"
                    ],
                    [
                      0.6666666666666666,
                      "#35b779"
                    ],
                    [
                      0.7777777777777778,
                      "#6ece58"
                    ],
                    [
                      0.8888888888888888,
                      "#b5de2b"
                    ],
                    [
                      1,
                      "#fde725"
                    ]
                  ]
                },
                "geo": {
                  "center": {},
                  "domain": {
                    "x": [
                      0,
                      1
                    ],
                    "y": [
                      0,
                      1
                    ]
                  }
                },
                "legend": {
                  "tracegroupgap": 0
                },
                "template": {
                  "data": {
                    "bar": [
                      {
                        "error_x": {
                          "color": "#2a3f5f"
                        },
                        "error_y": {
                          "color": "#2a3f5f"
                        },
                        "marker": {
                          "line": {
                            "color": "#E5ECF6",
                            "width": 0.5
                          },
                          "pattern": {
                            "fillmode": "overlay",
                            "size": 10,
                            "solidity": 0.2
                          }
                        },
                        "type": "bar"
                      }
                    ],
                    "barpolar": [
                      {
                        "marker": {
                          "line": {
                            "color": "#E5ECF6",
                            "width": 0.5
                          },
                          "pattern": {
                            "fillmode": "overlay",
                            "size": 10,
                            "solidity": 0.2
                          }
                        },
                        "type": "barpolar"
                      }
                    ],
                    "carpet": [
                      {
                        "aaxis": {
                          "endlinecolor": "#2a3f5f",
                          "gridcolor": "white",
                          "linecolor": "white",
                          "minorgridcolor": "white",
                          "startlinecolor": "#2a3f5f"
                        },
                        "baxis": {
                          "endlinecolor": "#2a3f5f",
                          "gridcolor": "white",
                          "linecolor": "white",
                          "minorgridcolor": "white",
                          "startlinecolor": "#2a3f5f"
                        },
                        "type": "carpet"
                      }
                    ],
                    "choropleth": [
                      {
                        "colorbar": {
                          "outlinewidth": 0,
                          "ticks": ""
                        },
                        "type": "choropleth"
                      }
                    ],
                    "contour": [
                      {
                        "colorbar": {
                          "outlinewidth": 0,
                          "ticks": ""
                        },
                        "colorscale": [
                          [
                            0,
                            "#0d0887"
                          ],
                          [
                            0.1111111111111111,
                            "#46039f"
                          ],
                          [
                            0.2222222222222222,
                            "#7201a8"
                          ],
                          [
                            0.3333333333333333,
                            "#9c179e"
                          ],
                          [
                            0.4444444444444444,
                            "#bd3786"
                          ],
                          [
                            0.5555555555555556,
                            "#d8576b"
                          ],
                          [
                            0.6666666666666666,
                            "#ed7953"
                          ],
                          [
                            0.7777777777777778,
                            "#fb9f3a"
                          ],
                          [
                            0.8888888888888888,
                            "#fdca26"
                          ],
                          [
                            1,
                            "#f0f921"
                          ]
                        ],
                        "type": "contour"
                      }
                    ],
                    "contourcarpet": [
                      {
                        "colorbar": {
                          "outlinewidth": 0,
                          "ticks": ""
                        },
                        "type": "contourcarpet"
                      }
                    ],
                    "heatmap": [
                      {
                        "colorbar": {
                          "outlinewidth": 0,
                          "ticks": ""
                        },
                        "colorscale": [
                          [
                            0,
                            "#0d0887"
                          ],
                          [
                            0.1111111111111111,
                            "#46039f"
                          ],
                          [
                            0.2222222222222222,
                            "#7201a8"
                          ],
                          [
                            0.3333333333333333,
                            "#9c179e"
                          ],
                          [
                            0.4444444444444444,
                            "#bd3786"
                          ],
                          [
                            0.5555555555555556,
                            "#d8576b"
                          ],
                          [
                            0.6666666666666666,
                            "#ed7953"
                          ],
                          [
                            0.7777777777777778,
                            "#fb9f3a"
                          ],
                          [
                            0.8888888888888888,
                            "#fdca26"
                          ],
                          [
                            1,
                            "#f0f921"
                          ]
                        ],
                        "type": "heatmap"
                      }
                    ],
                    "heatmapgl": [
                      {
                        "colorbar": {
                          "outlinewidth": 0,
                          "ticks": ""
                        },
                        "colorscale": [
                          [
                            0,
                            "#0d0887"
                          ],
                          [
                            0.1111111111111111,
                            "#46039f"
                          ],
                          [
                            0.2222222222222222,
                            "#7201a8"
                          ],
                          [
                            0.3333333333333333,
                            "#9c179e"
                          ],
                          [
                            0.4444444444444444,
                            "#bd3786"
                          ],
                          [
                            0.5555555555555556,
                            "#d8576b"
                          ],
                          [
                            0.6666666666666666,
                            "#ed7953"
                          ],
                          [
                            0.7777777777777778,
                            "#fb9f3a"
                          ],
                          [
                            0.8888888888888888,
                            "#fdca26"
                          ],
                          [
                            1,
                            "#f0f921"
                          ]
                        ],
                        "type": "heatmapgl"
                      }
                    ],
                    "histogram": [
                      {
                        "marker": {
                          "pattern": {
                            "fillmode": "overlay",
                            "size": 10,
                            "solidity": 0.2
                          }
                        },
                        "type": "histogram"
                      }
                    ],
                    "histogram2d": [
                      {
                        "colorbar": {
                          "outlinewidth": 0,
                          "ticks": ""
                        },
                        "colorscale": [
                          [
                            0,
                            "#0d0887"
                          ],
                          [
                            0.1111111111111111,
                            "#46039f"
                          ],
                          [
                            0.2222222222222222,
                            "#7201a8"
                          ],
                          [
                            0.3333333333333333,
                            "#9c179e"
                          ],
                          [
                            0.4444444444444444,
                            "#bd3786"
                          ],
                          [
                            0.5555555555555556,
                            "#d8576b"
                          ],
                          [
                            0.6666666666666666,
                            "#ed7953"
                          ],
                          [
                            0.7777777777777778,
                            "#fb9f3a"
                          ],
                          [
                            0.8888888888888888,
                            "#fdca26"
                          ],
                          [
                            1,
                            "#f0f921"
                          ]
                        ],
                        "type": "histogram2d"
                      }
                    ],
                    "histogram2dcontour": [
                      {
                        "colorbar": {
                          "outlinewidth": 0,
                          "ticks": ""
                        },
                        "colorscale": [
                          [
                            0,
                            "#0d0887"
                          ],
                          [
                            0.1111111111111111,
                            "#46039f"
                          ],
                          [
                            0.2222222222222222,
                            "#7201a8"
                          ],
                          [
                            0.3333333333333333,
                            "#9c179e"
                          ],
                          [
                            0.4444444444444444,
                            "#bd3786"
                          ],
                          [
                            0.5555555555555556,
                            "#d8576b"
                          ],
                          [
                            0.6666666666666666,
                            "#ed7953"
                          ],
                          [
                            0.7777777777777778,
                            "#fb9f3a"
                          ],
                          [
                            0.8888888888888888,
                            "#fdca26"
                          ],
                          [
                            1,
                            "#f0f921"
                          ]
                        ],
                        "type": "histogram2dcontour"
                      }
                    ],
                    "mesh3d": [
                      {
                        "colorbar": {
                          "outlinewidth": 0,
                          "ticks": ""
                        },
                        "type": "mesh3d"
                      }
                    ],
                    "parcoords": [
                      {
                        "line": {
                          "colorbar": {
                            "outlinewidth": 0,
                            "ticks": ""
                          }
                        },
                        "type": "parcoords"
                      }
                    ],
                    "pie": [
                      {
                        "automargin": true,
                        "type": "pie"
                      }
                    ],
                    "scatter": [
                      {
                        "fillpattern": {
                          "fillmode": "overlay",
                          "size": 10,
                          "solidity": 0.2
                        },
                        "type": "scatter"
                      }
                    ],
                    "scatter3d": [
                      {
                        "line": {
                          "colorbar": {
                            "outlinewidth": 0,
                            "ticks": ""
                          }
                        },
                        "marker": {
                          "colorbar": {
                            "outlinewidth": 0,
                            "ticks": ""
                          }
                        },
                        "type": "scatter3d"
                      }
                    ],
                    "scattercarpet": [
                      {
                        "marker": {
                          "colorbar": {
                            "outlinewidth": 0,
                            "ticks": ""
                          }
                        },
                        "type": "scattercarpet"
                      }
                    ],
                    "scattergeo": [
                      {
                        "marker": {
                          "colorbar": {
                            "outlinewidth": 0,
                            "ticks": ""
                          }
                        },
                        "type": "scattergeo"
                      }
                    ],
                    "scattergl": [
                      {
                        "marker": {
                          "colorbar": {
                            "outlinewidth": 0,
                            "ticks": ""
                          }
                        },
                        "type": "scattergl"
                      }
                    ],
                    "scattermapbox": [
                      {
                        "marker": {
                          "colorbar": {
                            "outlinewidth": 0,
                            "ticks": ""
                          }
                        },
                        "type": "scattermapbox"
                      }
                    ],
                    "scatterpolar": [
                      {
                        "marker": {
                          "colorbar": {
                            "outlinewidth": 0,
                            "ticks": ""
                          }
                        },
                        "type": "scatterpolar"
                      }
                    ],
                    "scatterpolargl": [
                      {
                        "marker": {
                          "colorbar": {
                            "outlinewidth": 0,
                            "ticks": ""
                          }
                        },
                        "type": "scatterpolargl"
                      }
                    ],
                    "scatterternary": [
                      {
                        "marker": {
                          "colorbar": {
                            "outlinewidth": 0,
                            "ticks": ""
                          }
                        },
                        "type": "scatterternary"
                      }
                    ],
                    "surface": [
                      {
                        "colorbar": {
                          "outlinewidth": 0,
                          "ticks": ""
                        },
                        "colorscale": [
                          [
                            0,
                            "#0d0887"
                          ],
                          [
                            0.1111111111111111,
                            "#46039f"
                          ],
                          [
                            0.2222222222222222,
                            "#7201a8"
                          ],
                          [
                            0.3333333333333333,
                            "#9c179e"
                          ],
                          [
                            0.4444444444444444,
                            "#bd3786"
                          ],
                          [
                            0.5555555555555556,
                            "#d8576b"
                          ],
                          [
                            0.6666666666666666,
                            "#ed7953"
                          ],
                          [
                            0.7777777777777778,
                            "#fb9f3a"
                          ],
                          [
                            0.8888888888888888,
                            "#fdca26"
                          ],
                          [
                            1,
                            "#f0f921"
                          ]
                        ],
                        "type": "surface"
                      }
                    ],
                    "table": [
                      {
                        "cells": {
                          "fill": {
                            "color": "#EBF0F8"
                          },
                          "line": {
                            "color": "white"
                          }
                        },
                        "header": {
                          "fill": {
                            "color": "#C8D4E3"
                          },
                          "line": {
                            "color": "white"
                          }
                        },
                        "type": "table"
                      }
                    ]
                  },
                  "layout": {
                    "annotationdefaults": {
                      "arrowcolor": "#2a3f5f",
                      "arrowhead": 0,
                      "arrowwidth": 1
                    },
                    "autotypenumbers": "strict",
                    "coloraxis": {
                      "colorbar": {
                        "outlinewidth": 0,
                        "ticks": ""
                      }
                    },
                    "colorscale": {
                      "diverging": [
                        [
                          0,
                          "#8e0152"
                        ],
                        [
                          0.1,
                          "#c51b7d"
                        ],
                        [
                          0.2,
                          "#de77ae"
                        ],
                        [
                          0.3,
                          "#f1b6da"
                        ],
                        [
                          0.4,
                          "#fde0ef"
                        ],
                        [
                          0.5,
                          "#f7f7f7"
                        ],
                        [
                          0.6,
                          "#e6f5d0"
                        ],
                        [
                          0.7,
                          "#b8e186"
                        ],
                        [
                          0.8,
                          "#7fbc41"
                        ],
                        [
                          0.9,
                          "#4d9221"
                        ],
                        [
                          1,
                          "#276419"
                        ]
                      ],
                      "sequential": [
                        [
                          0,
                          "#0d0887"
                        ],
                        [
                          0.1111111111111111,
                          "#46039f"
                        ],
                        [
                          0.2222222222222222,
                          "#7201a8"
                        ],
                        [
                          0.3333333333333333,
                          "#9c179e"
                        ],
                        [
                          0.4444444444444444,
                          "#bd3786"
                        ],
                        [
                          0.5555555555555556,
                          "#d8576b"
                        ],
                        [
                          0.6666666666666666,
                          "#ed7953"
                        ],
                        [
                          0.7777777777777778,
                          "#fb9f3a"
                        ],
                        [
                          0.8888888888888888,
                          "#fdca26"
                        ],
                        [
                          1,
                          "#f0f921"
                        ]
                      ],
                      "sequentialminus": [
                        [
                          0,
                          "#0d0887"
                        ],
                        [
                          0.1111111111111111,
                          "#46039f"
                        ],
                        [
                          0.2222222222222222,
                          "#7201a8"
                        ],
                        [
                          0.3333333333333333,
                          "#9c179e"
                        ],
                        [
                          0.4444444444444444,
                          "#bd3786"
                        ],
                        [
                          0.5555555555555556,
                          "#d8576b"
                        ],
                        [
                          0.6666666666666666,
                          "#ed7953"
                        ],
                        [
                          0.7777777777777778,
                          "#fb9f3a"
                        ],
                        [
                          0.8888888888888888,
                          "#fdca26"
                        ],
                        [
                          1,
                          "#f0f921"
                        ]
                      ]
                    },
                    "colorway": [
                      "#636efa",
                      "#EF553B",
                      "#00cc96",
                      "#ab63fa",
                      "#FFA15A",
                      "#19d3f3",
                      "#FF6692",
                      "#B6E880",
                      "#FF97FF",
                      "#FECB52"
                    ],
                    "font": {
                      "color": "#2a3f5f"
                    },
                    "geo": {
                      "bgcolor": "white",
                      "lakecolor": "white",
                      "landcolor": "#E5ECF6",
                      "showlakes": true,
                      "showland": true,
                      "subunitcolor": "white"
                    },
                    "hoverlabel": {
                      "align": "left"
                    },
                    "hovermode": "closest",
                    "mapbox": {
                      "style": "light"
                    },
                    "paper_bgcolor": "white",
                    "plot_bgcolor": "#E5ECF6",
                    "polar": {
                      "angularaxis": {
                        "gridcolor": "white",
                        "linecolor": "white",
                        "ticks": ""
                      },
                      "bgcolor": "#E5ECF6",
                      "radialaxis": {
                        "gridcolor": "white",
                        "linecolor": "white",
                        "ticks": ""
                      }
                    },
                    "scene": {
                      "xaxis": {
                        "backgroundcolor": "#E5ECF6",
                        "gridcolor": "white",
                        "gridwidth": 2,
                        "linecolor": "white",
                        "showbackground": true,
                        "ticks": "",
                        "zerolinecolor": "white"
                      },
                      "yaxis": {
                        "backgroundcolor": "#E5ECF6",
                        "gridcolor": "white",
                        "gridwidth": 2,
                        "linecolor": "white",
                        "showbackground": true,
                        "ticks": "",
                        "zerolinecolor": "white"
                      },
                      "zaxis": {
                        "backgroundcolor": "#E5ECF6",
                        "gridcolor": "white",
                        "gridwidth": 2,
                        "linecolor": "white",
                        "showbackground": true,
                        "ticks": "",
                        "zerolinecolor": "white"
                      }
                    },
                    "shapedefaults": {
                      "line": {
                        "color": "#2a3f5f"
                      }
                    },
                    "ternary": {
                      "aaxis": {
                        "gridcolor": "white",
                        "linecolor": "white",
                        "ticks": ""
                      },
                      "baxis": {
                        "gridcolor": "white",
                        "linecolor": "white",
                        "ticks": ""
                      },
                      "bgcolor": "#E5ECF6",
                      "caxis": {
                        "gridcolor": "white",
                        "linecolor": "white",
                        "ticks": ""
                      }
                    },
                    "title": {
                      "x": 0.05
                    },
                    "xaxis": {
                      "automargin": true,
                      "gridcolor": "white",
                      "linecolor": "white",
                      "ticks": "",
                      "title": {
                        "standoff": 15
                      },
                      "zerolinecolor": "white",
                      "zerolinewidth": 2
                    },
                    "yaxis": {
                      "automargin": true,
                      "gridcolor": "white",
                      "linecolor": "white",
                      "ticks": "",
                      "title": {
                        "standoff": 15
                      },
                      "zerolinecolor": "white",
                      "zerolinewidth": 2
                    }
                  }
                },
                "title": {
                  "text": "1980 Population"
                }
              }
            },
            "text/html": [
              "<div>                            <div id=\"8e05852e-6a47-4a18-a15e-cca8da4d9982\" class=\"plotly-graph-div\" style=\"height:525px; width:100%;\"></div>            <script type=\"text/javascript\">                require([\"plotly\"], function(Plotly) {                    window.PLOTLYENV=window.PLOTLYENV || {};                                    if (document.getElementById(\"8e05852e-6a47-4a18-a15e-cca8da4d9982\")) {                    Plotly.newPlot(                        \"8e05852e-6a47-4a18-a15e-cca8da4d9982\",                        [{\"coloraxis\":\"coloraxis\",\"geo\":\"geo\",\"hovertemplate\":\"<b>%{hovertext}</b><br><br>country=%{location}<br>pop1980=%{z}<extra></extra>\",\"hovertext\":[\"India\",\"China\",\"United States\",\"Indonesia\",\"Pakistan\",\"Nigeria\",\"Brazil\",\"Bangladesh\",\"Russia\",\"Mexico\",\"Ethiopia\",\"Japan\",\"Philippines\",\"Egypt\",\"DR Congo\",\"Vietnam\",\"Iran\",\"Turkey\",\"Germany\",\"Thailand\",\"United Kingdom\",\"Tanzania\",\"France\",\"South Africa\",\"Italy\",\"Kenya\",\"Myanmar\",\"Colombia\",\"South Korea\",\"Uganda\",\"Sudan\",\"Spain\",\"Argentina\",\"Algeria\",\"Iraq\",\"Afghanistan\",\"Poland\",\"Canada\",\"Morocco\",\"Saudi Arabia\",\"Ukraine\",\"Angola\",\"Uzbekistan\",\"Yemen\",\"Peru\",\"Malaysia\",\"Ghana\",\"Mozambique\",\"Nepal\",\"Madagascar\",\"Ivory Coast\",\"Venezuela\",\"Cameroon\",\"Niger\",\"Australia\",\"North Korea\",\"Taiwan\",\"Mali\",\"Burkina Faso\",\"Syria\",\"Sri Lanka\",\"Malawi\",\"Zambia\",\"Romania\",\"Chile\",\"Kazakhstan\",\"Chad\",\"Ecuador\",\"Somalia\",\"Guatemala\",\"Senegal\",\"Netherlands\",\"Cambodia\",\"Zimbabwe\",\"Guinea\",\"Rwanda\",\"Benin\",\"Burundi\",\"Tunisia\",\"Bolivia\",\"Haiti\",\"Belgium\",\"Jordan\",\"Dominican Republic\",\"Cuba\",\"South Sudan\",\"Sweden\",\"Honduras\",\"Czech Republic\",\"Azerbaijan\",\"Greece\",\"Papua New Guinea\",\"Portugal\",\"Hungary\",\"Tajikistan\",\"United Arab Emirates\",\"Belarus\",\"Israel\",\"Togo\",\"Austria\",\"Switzerland\",\"Sierra Leone\",\"Laos\",\"Hong Kong\",\"Serbia\",\"Nicaragua\",\"Libya\",\"Paraguay\",\"Kyrgyzstan\",\"Bulgaria\",\"Turkmenistan\",\"El Salvador\",\"Republic of the Congo\",\"Singapore\",\"Denmark\",\"Slovakia\",\"Central African Republic\",\"Finland\",\"Norway\",\"Liberia\",\"Palestine\",\"Lebanon\",\"New Zealand\",\"Costa Rica\",\"Ireland\",\"Mauritania\",\"Oman\",\"Panama\",\"Kuwait\",\"Croatia\",\"Eritrea\",\"Georgia\",\"Mongolia\",\"Moldova\",\"Uruguay\",\"Puerto Rico\",\"Bosnia and Herzegovina\",\"Albania\",\"Jamaica\",\"Armenia\",\"Gambia\",\"Lithuania\",\"Qatar\",\"Botswana\",\"Namibia\",\"Gabon\",\"Lesotho\",\"Guinea-Bissau\",\"Slovenia\",\"North Macedonia\",\"Latvia\",\"Equatorial Guinea\",\"Trinidad and Tobago\",\"Bahrain\",\"Timor-Leste\",\"Estonia\",\"Mauritius\",\"Cyprus\",\"Eswatini\",\"Djibouti\",\"Reunion\",\"Fiji\",\"Comoros\",\"Guyana\",\"Bhutan\",\"Solomon Islands\",\"Macau\",\"Luxembourg\",\"Montenegro\",\"Suriname\",\"Cape Verde\",\"Western Sahara\",\"Malta\",\"Maldives\",\"Brunei\",\"Bahamas\",\"Belize\",\"Guadeloupe\",\"Iceland\",\"Martinique\",\"Mayotte\",\"Vanuatu\",\"French Guiana\",\"French Polynesia\",\"New Caledonia\",\"Barbados\",\"Sao Tome and Principe\",\"Samoa\",\"Curacao\",\"Saint Lucia\",\"Guam\",\"Kiribati\",\"Grenada\",\"Micronesia\",\"Jersey\",\"Tonga\",\"Seychelles\",\"Aruba\",\"Saint Vincent and the Grenadines\",\"United States Virgin Islands\",\"Antigua and Barbuda\",\"Isle of Man\",\"Andorra\",\"Dominica\",\"Cayman Islands\",\"Bermuda\",\"Guernsey\",\"Greenland\",\"Faroe Islands\",\"Northern Mariana Islands\",\"Saint Kitts and Nevis\",\"Turks and Caicos Islands\",\"Sint Maarten\",\"American Samoa\",\"Marshall Islands\",\"Liechtenstein\",\"Monaco\",\"San Marino\",\"Gibraltar\",\"Saint Martin\",\"British Virgin Islands\",\"Palau\",\"Cook Islands\",\"Anguilla\",\"Nauru\",\"Wallis and Futuna\",\"Tuvalu\",\"Saint Barthelemy\",\"Saint Pierre and Miquelon\",\"Montserrat\",\"Falkland Islands\",\"Niue\",\"Tokelau\",\"Vatican City\"],\"locationmode\":\"country names\",\"locations\":[\"India\",\"China\",\"United States\",\"Indonesia\",\"Pakistan\",\"Nigeria\",\"Brazil\",\"Bangladesh\",\"Russia\",\"Mexico\",\"Ethiopia\",\"Japan\",\"Philippines\",\"Egypt\",\"DR Congo\",\"Vietnam\",\"Iran\",\"Turkey\",\"Germany\",\"Thailand\",\"United Kingdom\",\"Tanzania\",\"France\",\"South Africa\",\"Italy\",\"Kenya\",\"Myanmar\",\"Colombia\",\"South Korea\",\"Uganda\",\"Sudan\",\"Spain\",\"Argentina\",\"Algeria\",\"Iraq\",\"Afghanistan\",\"Poland\",\"Canada\",\"Morocco\",\"Saudi Arabia\",\"Ukraine\",\"Angola\",\"Uzbekistan\",\"Yemen\",\"Peru\",\"Malaysia\",\"Ghana\",\"Mozambique\",\"Nepal\",\"Madagascar\",\"Ivory Coast\",\"Venezuela\",\"Cameroon\",\"Niger\",\"Australia\",\"North Korea\",\"Taiwan\",\"Mali\",\"Burkina Faso\",\"Syria\",\"Sri Lanka\",\"Malawi\",\"Zambia\",\"Romania\",\"Chile\",\"Kazakhstan\",\"Chad\",\"Ecuador\",\"Somalia\",\"Guatemala\",\"Senegal\",\"Netherlands\",\"Cambodia\",\"Zimbabwe\",\"Guinea\",\"Rwanda\",\"Benin\",\"Burundi\",\"Tunisia\",\"Bolivia\",\"Haiti\",\"Belgium\",\"Jordan\",\"Dominican Republic\",\"Cuba\",\"South Sudan\",\"Sweden\",\"Honduras\",\"Czech Republic\",\"Azerbaijan\",\"Greece\",\"Papua New Guinea\",\"Portugal\",\"Hungary\",\"Tajikistan\",\"United Arab Emirates\",\"Belarus\",\"Israel\",\"Togo\",\"Austria\",\"Switzerland\",\"Sierra Leone\",\"Laos\",\"Hong Kong\",\"Serbia\",\"Nicaragua\",\"Libya\",\"Paraguay\",\"Kyrgyzstan\",\"Bulgaria\",\"Turkmenistan\",\"El Salvador\",\"Republic of the Congo\",\"Singapore\",\"Denmark\",\"Slovakia\",\"Central African Republic\",\"Finland\",\"Norway\",\"Liberia\",\"Palestine\",\"Lebanon\",\"New Zealand\",\"Costa Rica\",\"Ireland\",\"Mauritania\",\"Oman\",\"Panama\",\"Kuwait\",\"Croatia\",\"Eritrea\",\"Georgia\",\"Mongolia\",\"Moldova\",\"Uruguay\",\"Puerto Rico\",\"Bosnia and Herzegovina\",\"Albania\",\"Jamaica\",\"Armenia\",\"Gambia\",\"Lithuania\",\"Qatar\",\"Botswana\",\"Namibia\",\"Gabon\",\"Lesotho\",\"Guinea-Bissau\",\"Slovenia\",\"North Macedonia\",\"Latvia\",\"Equatorial Guinea\",\"Trinidad and Tobago\",\"Bahrain\",\"Timor-Leste\",\"Estonia\",\"Mauritius\",\"Cyprus\",\"Eswatini\",\"Djibouti\",\"Reunion\",\"Fiji\",\"Comoros\",\"Guyana\",\"Bhutan\",\"Solomon Islands\",\"Macau\",\"Luxembourg\",\"Montenegro\",\"Suriname\",\"Cape Verde\",\"Western Sahara\",\"Malta\",\"Maldives\",\"Brunei\",\"Bahamas\",\"Belize\",\"Guadeloupe\",\"Iceland\",\"Martinique\",\"Mayotte\",\"Vanuatu\",\"French Guiana\",\"French Polynesia\",\"New Caledonia\",\"Barbados\",\"Sao Tome and Principe\",\"Samoa\",\"Curacao\",\"Saint Lucia\",\"Guam\",\"Kiribati\",\"Grenada\",\"Micronesia\",\"Jersey\",\"Tonga\",\"Seychelles\",\"Aruba\",\"Saint Vincent and the Grenadines\",\"United States Virgin Islands\",\"Antigua and Barbuda\",\"Isle of Man\",\"Andorra\",\"Dominica\",\"Cayman Islands\",\"Bermuda\",\"Guernsey\",\"Greenland\",\"Faroe Islands\",\"Northern Mariana Islands\",\"Saint Kitts and Nevis\",\"Turks and Caicos Islands\",\"Sint Maarten\",\"American Samoa\",\"Marshall Islands\",\"Liechtenstein\",\"Monaco\",\"San Marino\",\"Gibraltar\",\"Saint Martin\",\"British Virgin Islands\",\"Palau\",\"Cook Islands\",\"Anguilla\",\"Nauru\",\"Wallis and Futuna\",\"Tuvalu\",\"Saint Barthelemy\",\"Saint Pierre and Miquelon\",\"Montserrat\",\"Falkland Islands\",\"Niue\",\"Tokelau\",\"Vatican City\"],\"name\":\"\",\"z\":[696828385,982372466,223140018,148177096,80624057,72951439,122288383,83929765,138257420,67705186,34945469,117624196,48419546,43748556,26708686,52968270,38520664,44089069,77786703,45737753,56326328,19297659,53713830,29463549,56329482,16187124,33465781,26176195,38170501,13284026,16673586,37491666,28024803,18739378,13653369,12486631,35521429,24511510,19678444,10171710,49973920,8330047,15947129,9204938,17492406,13215707,11865246,11413587,15600442,8948162,8303810,15210443,8519891,6173177,14706322,17973650,18100281,7372581,6932967,8898954,14943645,6267369,5720438,22125224,11469828,14172710,4408230,8135845,5892224,6987767,5703869,14130387,6198959,7049926,4972609,5247532,3833939,4312834,6578156,5736088,5646676,9828986,2216903,5755800,9809107,4192012,8311763,3777990,10270060,6383060,9307148,3104788,9785252,10698679,4045965,1014048,9817257,3744608,2838110,7547561,6319113,3367477,3297519,4978544,7777010,3303309,2962720,3078912,3691209,8980606,2862903,4508992,1829256,2400729,5125392,4973883,2415276,4779418,4085776,1932169,1453620,2963702,3147168,2414303,3391387,1506694,1017462,1956987,1493870,4680144,1657982,5145843,1697780,4103240,2953750,3214568,4199820,2941651,2135546,3135123,718586,3521206,277450,938578,975994,749078,1407672,831462,1901570,1907023,2572037,282509,1127852,362595,642224,1476983,954865,679327,598564,324121,551674,644582,328328,778176,415257,233668,245332,363741,589324,375112,317234,116775,333587,164887,187921,223752,145133,334234,228263,333786,52233,118156,66825,163591,148599,253575,97210,164905,156851,121633,110286,60813,94838,76299,75124,96708,65290,62267,107480,96640,64889,64022,35611,72978,17100,53565,52860,50106,43054,17613,43097,7598,12243,32886,31988,25003,27076,21346,28734,7776,11109,12252,17651,6560,7635,11315,7731,2983,6106,11452,2240,3637,1647,733],\"type\":\"choropleth\"}],                        {\"template\":{\"data\":{\"histogram2dcontour\":[{\"type\":\"histogram2dcontour\",\"colorbar\":{\"outlinewidth\":0,\"ticks\":\"\"},\"colorscale\":[[0.0,\"#0d0887\"],[0.1111111111111111,\"#46039f\"],[0.2222222222222222,\"#7201a8\"],[0.3333333333333333,\"#9c179e\"],[0.4444444444444444,\"#bd3786\"],[0.5555555555555556,\"#d8576b\"],[0.6666666666666666,\"#ed7953\"],[0.7777777777777778,\"#fb9f3a\"],[0.8888888888888888,\"#fdca26\"],[1.0,\"#f0f921\"]]}],\"choropleth\":[{\"type\":\"choropleth\",\"colorbar\":{\"outlinewidth\":0,\"ticks\":\"\"}}],\"histogram2d\":[{\"type\":\"histogram2d\",\"colorbar\":{\"outlinewidth\":0,\"ticks\":\"\"},\"colorscale\":[[0.0,\"#0d0887\"],[0.1111111111111111,\"#46039f\"],[0.2222222222222222,\"#7201a8\"],[0.3333333333333333,\"#9c179e\"],[0.4444444444444444,\"#bd3786\"],[0.5555555555555556,\"#d8576b\"],[0.6666666666666666,\"#ed7953\"],[0.7777777777777778,\"#fb9f3a\"],[0.8888888888888888,\"#fdca26\"],[1.0,\"#f0f921\"]]}],\"heatmap\":[{\"type\":\"heatmap\",\"colorbar\":{\"outlinewidth\":0,\"ticks\":\"\"},\"colorscale\":[[0.0,\"#0d0887\"],[0.1111111111111111,\"#46039f\"],[0.2222222222222222,\"#7201a8\"],[0.3333333333333333,\"#9c179e\"],[0.4444444444444444,\"#bd3786\"],[0.5555555555555556,\"#d8576b\"],[0.6666666666666666,\"#ed7953\"],[0.7777777777777778,\"#fb9f3a\"],[0.8888888888888888,\"#fdca26\"],[1.0,\"#f0f921\"]]}],\"heatmapgl\":[{\"type\":\"heatmapgl\",\"colorbar\":{\"outlinewidth\":0,\"ticks\":\"\"},\"colorscale\":[[0.0,\"#0d0887\"],[0.1111111111111111,\"#46039f\"],[0.2222222222222222,\"#7201a8\"],[0.3333333333333333,\"#9c179e\"],[0.4444444444444444,\"#bd3786\"],[0.5555555555555556,\"#d8576b\"],[0.6666666666666666,\"#ed7953\"],[0.7777777777777778,\"#fb9f3a\"],[0.8888888888888888,\"#fdca26\"],[1.0,\"#f0f921\"]]}],\"contourcarpet\":[{\"type\":\"contourcarpet\",\"colorbar\":{\"outlinewidth\":0,\"ticks\":\"\"}}],\"contour\":[{\"type\":\"contour\",\"colorbar\":{\"outlinewidth\":0,\"ticks\":\"\"},\"colorscale\":[[0.0,\"#0d0887\"],[0.1111111111111111,\"#46039f\"],[0.2222222222222222,\"#7201a8\"],[0.3333333333333333,\"#9c179e\"],[0.4444444444444444,\"#bd3786\"],[0.5555555555555556,\"#d8576b\"],[0.6666666666666666,\"#ed7953\"],[0.7777777777777778,\"#fb9f3a\"],[0.8888888888888888,\"#fdca26\"],[1.0,\"#f0f921\"]]}],\"surface\":[{\"type\":\"surface\",\"colorbar\":{\"outlinewidth\":0,\"ticks\":\"\"},\"colorscale\":[[0.0,\"#0d0887\"],[0.1111111111111111,\"#46039f\"],[0.2222222222222222,\"#7201a8\"],[0.3333333333333333,\"#9c179e\"],[0.4444444444444444,\"#bd3786\"],[0.5555555555555556,\"#d8576b\"],[0.6666666666666666,\"#ed7953\"],[0.7777777777777778,\"#fb9f3a\"],[0.8888888888888888,\"#fdca26\"],[1.0,\"#f0f921\"]]}],\"mesh3d\":[{\"type\":\"mesh3d\",\"colorbar\":{\"outlinewidth\":0,\"ticks\":\"\"}}],\"scatter\":[{\"fillpattern\":{\"fillmode\":\"overlay\",\"size\":10,\"solidity\":0.2},\"type\":\"scatter\"}],\"parcoords\":[{\"type\":\"parcoords\",\"line\":{\"colorbar\":{\"outlinewidth\":0,\"ticks\":\"\"}}}],\"scatterpolargl\":[{\"type\":\"scatterpolargl\",\"marker\":{\"colorbar\":{\"outlinewidth\":0,\"ticks\":\"\"}}}],\"bar\":[{\"error_x\":{\"color\":\"#2a3f5f\"},\"error_y\":{\"color\":\"#2a3f5f\"},\"marker\":{\"line\":{\"color\":\"#E5ECF6\",\"width\":0.5},\"pattern\":{\"fillmode\":\"overlay\",\"size\":10,\"solidity\":0.2}},\"type\":\"bar\"}],\"scattergeo\":[{\"type\":\"scattergeo\",\"marker\":{\"colorbar\":{\"outlinewidth\":0,\"ticks\":\"\"}}}],\"scatterpolar\":[{\"type\":\"scatterpolar\",\"marker\":{\"colorbar\":{\"outlinewidth\":0,\"ticks\":\"\"}}}],\"histogram\":[{\"marker\":{\"pattern\":{\"fillmode\":\"overlay\",\"size\":10,\"solidity\":0.2}},\"type\":\"histogram\"}],\"scattergl\":[{\"type\":\"scattergl\",\"marker\":{\"colorbar\":{\"outlinewidth\":0,\"ticks\":\"\"}}}],\"scatter3d\":[{\"type\":\"scatter3d\",\"line\":{\"colorbar\":{\"outlinewidth\":0,\"ticks\":\"\"}},\"marker\":{\"colorbar\":{\"outlinewidth\":0,\"ticks\":\"\"}}}],\"scattermapbox\":[{\"type\":\"scattermapbox\",\"marker\":{\"colorbar\":{\"outlinewidth\":0,\"ticks\":\"\"}}}],\"scatterternary\":[{\"type\":\"scatterternary\",\"marker\":{\"colorbar\":{\"outlinewidth\":0,\"ticks\":\"\"}}}],\"scattercarpet\":[{\"type\":\"scattercarpet\",\"marker\":{\"colorbar\":{\"outlinewidth\":0,\"ticks\":\"\"}}}],\"carpet\":[{\"aaxis\":{\"endlinecolor\":\"#2a3f5f\",\"gridcolor\":\"white\",\"linecolor\":\"white\",\"minorgridcolor\":\"white\",\"startlinecolor\":\"#2a3f5f\"},\"baxis\":{\"endlinecolor\":\"#2a3f5f\",\"gridcolor\":\"white\",\"linecolor\":\"white\",\"minorgridcolor\":\"white\",\"startlinecolor\":\"#2a3f5f\"},\"type\":\"carpet\"}],\"table\":[{\"cells\":{\"fill\":{\"color\":\"#EBF0F8\"},\"line\":{\"color\":\"white\"}},\"header\":{\"fill\":{\"color\":\"#C8D4E3\"},\"line\":{\"color\":\"white\"}},\"type\":\"table\"}],\"barpolar\":[{\"marker\":{\"line\":{\"color\":\"#E5ECF6\",\"width\":0.5},\"pattern\":{\"fillmode\":\"overlay\",\"size\":10,\"solidity\":0.2}},\"type\":\"barpolar\"}],\"pie\":[{\"automargin\":true,\"type\":\"pie\"}]},\"layout\":{\"autotypenumbers\":\"strict\",\"colorway\":[\"#636efa\",\"#EF553B\",\"#00cc96\",\"#ab63fa\",\"#FFA15A\",\"#19d3f3\",\"#FF6692\",\"#B6E880\",\"#FF97FF\",\"#FECB52\"],\"font\":{\"color\":\"#2a3f5f\"},\"hovermode\":\"closest\",\"hoverlabel\":{\"align\":\"left\"},\"paper_bgcolor\":\"white\",\"plot_bgcolor\":\"#E5ECF6\",\"polar\":{\"bgcolor\":\"#E5ECF6\",\"angularaxis\":{\"gridcolor\":\"white\",\"linecolor\":\"white\",\"ticks\":\"\"},\"radialaxis\":{\"gridcolor\":\"white\",\"linecolor\":\"white\",\"ticks\":\"\"}},\"ternary\":{\"bgcolor\":\"#E5ECF6\",\"aaxis\":{\"gridcolor\":\"white\",\"linecolor\":\"white\",\"ticks\":\"\"},\"baxis\":{\"gridcolor\":\"white\",\"linecolor\":\"white\",\"ticks\":\"\"},\"caxis\":{\"gridcolor\":\"white\",\"linecolor\":\"white\",\"ticks\":\"\"}},\"coloraxis\":{\"colorbar\":{\"outlinewidth\":0,\"ticks\":\"\"}},\"colorscale\":{\"sequential\":[[0.0,\"#0d0887\"],[0.1111111111111111,\"#46039f\"],[0.2222222222222222,\"#7201a8\"],[0.3333333333333333,\"#9c179e\"],[0.4444444444444444,\"#bd3786\"],[0.5555555555555556,\"#d8576b\"],[0.6666666666666666,\"#ed7953\"],[0.7777777777777778,\"#fb9f3a\"],[0.8888888888888888,\"#fdca26\"],[1.0,\"#f0f921\"]],\"sequentialminus\":[[0.0,\"#0d0887\"],[0.1111111111111111,\"#46039f\"],[0.2222222222222222,\"#7201a8\"],[0.3333333333333333,\"#9c179e\"],[0.4444444444444444,\"#bd3786\"],[0.5555555555555556,\"#d8576b\"],[0.6666666666666666,\"#ed7953\"],[0.7777777777777778,\"#fb9f3a\"],[0.8888888888888888,\"#fdca26\"],[1.0,\"#f0f921\"]],\"diverging\":[[0,\"#8e0152\"],[0.1,\"#c51b7d\"],[0.2,\"#de77ae\"],[0.3,\"#f1b6da\"],[0.4,\"#fde0ef\"],[0.5,\"#f7f7f7\"],[0.6,\"#e6f5d0\"],[0.7,\"#b8e186\"],[0.8,\"#7fbc41\"],[0.9,\"#4d9221\"],[1,\"#276419\"]]},\"xaxis\":{\"gridcolor\":\"white\",\"linecolor\":\"white\",\"ticks\":\"\",\"title\":{\"standoff\":15},\"zerolinecolor\":\"white\",\"automargin\":true,\"zerolinewidth\":2},\"yaxis\":{\"gridcolor\":\"white\",\"linecolor\":\"white\",\"ticks\":\"\",\"title\":{\"standoff\":15},\"zerolinecolor\":\"white\",\"automargin\":true,\"zerolinewidth\":2},\"scene\":{\"xaxis\":{\"backgroundcolor\":\"#E5ECF6\",\"gridcolor\":\"white\",\"linecolor\":\"white\",\"showbackground\":true,\"ticks\":\"\",\"zerolinecolor\":\"white\",\"gridwidth\":2},\"yaxis\":{\"backgroundcolor\":\"#E5ECF6\",\"gridcolor\":\"white\",\"linecolor\":\"white\",\"showbackground\":true,\"ticks\":\"\",\"zerolinecolor\":\"white\",\"gridwidth\":2},\"zaxis\":{\"backgroundcolor\":\"#E5ECF6\",\"gridcolor\":\"white\",\"linecolor\":\"white\",\"showbackground\":true,\"ticks\":\"\",\"zerolinecolor\":\"white\",\"gridwidth\":2}},\"shapedefaults\":{\"line\":{\"color\":\"#2a3f5f\"}},\"annotationdefaults\":{\"arrowcolor\":\"#2a3f5f\",\"arrowhead\":0,\"arrowwidth\":1},\"geo\":{\"bgcolor\":\"white\",\"landcolor\":\"#E5ECF6\",\"subunitcolor\":\"white\",\"showland\":true,\"showlakes\":true,\"lakecolor\":\"white\"},\"title\":{\"x\":0.05},\"mapbox\":{\"style\":\"light\"}}},\"geo\":{\"domain\":{\"x\":[0.0,1.0],\"y\":[0.0,1.0]},\"center\":{}},\"coloraxis\":{\"colorbar\":{\"title\":{\"text\":\"pop1980\"}},\"colorscale\":[[0.0,\"#440154\"],[0.1111111111111111,\"#482878\"],[0.2222222222222222,\"#3e4989\"],[0.3333333333333333,\"#31688e\"],[0.4444444444444444,\"#26828e\"],[0.5555555555555556,\"#1f9e89\"],[0.6666666666666666,\"#35b779\"],[0.7777777777777778,\"#6ece58\"],[0.8888888888888888,\"#b5de2b\"],[1.0,\"#fde725\"]]},\"legend\":{\"tracegroupgap\":0},\"title\":{\"text\":\"1980 Population\"}},                        {\"responsive\": true}                    ).then(function(){\n",
              "                            \n",
              "var gd = document.getElementById('8e05852e-6a47-4a18-a15e-cca8da4d9982');\n",
              "var x = new MutationObserver(function (mutations, observer) {{\n",
              "        var display = window.getComputedStyle(gd).display;\n",
              "        if (!display || display === 'none') {{\n",
              "            console.log([gd, 'removed!']);\n",
              "            Plotly.purge(gd);\n",
              "            observer.disconnect();\n",
              "        }}\n",
              "}});\n",
              "\n",
              "// Listen for the removal of the full notebook cells\n",
              "var notebookContainer = gd.closest('#notebook-container');\n",
              "if (notebookContainer) {{\n",
              "    x.observe(notebookContainer, {childList: true});\n",
              "}}\n",
              "\n",
              "// Listen for the clearing of the current output cell\n",
              "var outputEl = gd.closest('.output');\n",
              "if (outputEl) {{\n",
              "    x.observe(outputEl, {childList: true});\n",
              "}}\n",
              "\n",
              "                        })                };                });            </script>        </div>"
            ]
          },
          "metadata": {},
          "output_type": "display_data"
        }
      ],
      "source": [
        "#1980 Population\n",
        "fig = px.choropleth(df,\n",
        "                    locations='country',\n",
        "                    locationmode='country names',\n",
        "                    color='pop1980',  # we indicate the year we are interested in\n",
        "                    hover_name='country',\n",
        "                    title = '1980 Population',\n",
        "                    color_continuous_scale='Viridis'\n",
        "                    )\n",
        "fig.show()"
      ]
    },
    {
      "cell_type": "code",
      "execution_count": null,
      "id": "b96a8f13",
      "metadata": {
        "execution": {
          "iopub.execute_input": "2023-06-02T04:52:24.033699Z",
          "iopub.status.busy": "2023-06-02T04:52:24.033265Z",
          "iopub.status.idle": "2023-06-02T04:52:24.156955Z",
          "shell.execute_reply": "2023-06-02T04:52:24.155877Z"
        },
        "papermill": {
          "duration": 0.155827,
          "end_time": "2023-06-02T04:52:24.160884",
          "exception": false,
          "start_time": "2023-06-02T04:52:24.005057",
          "status": "completed"
        },
        "tags": [],
        "id": "b96a8f13",
        "outputId": "f4a2b791-d3e8-4017-be57-cc740edd5666"
      },
      "outputs": [
        {
          "data": {
            "application/vnd.plotly.v1+json": {
              "config": {
                "plotlyServerURL": "https://plot.ly"
              },
              "data": [
                {
                  "coloraxis": "coloraxis",
                  "geo": "geo",
                  "hovertemplate": "<b>%{hovertext}</b><br><br>country=%{location}<br>pop2000=%{z}<extra></extra>",
                  "hovertext": [
                    "India",
                    "China",
                    "United States",
                    "Indonesia",
                    "Pakistan",
                    "Nigeria",
                    "Brazil",
                    "Bangladesh",
                    "Russia",
                    "Mexico",
                    "Ethiopia",
                    "Japan",
                    "Philippines",
                    "Egypt",
                    "DR Congo",
                    "Vietnam",
                    "Iran",
                    "Turkey",
                    "Germany",
                    "Thailand",
                    "United Kingdom",
                    "Tanzania",
                    "France",
                    "South Africa",
                    "Italy",
                    "Kenya",
                    "Myanmar",
                    "Colombia",
                    "South Korea",
                    "Uganda",
                    "Sudan",
                    "Spain",
                    "Argentina",
                    "Algeria",
                    "Iraq",
                    "Afghanistan",
                    "Poland",
                    "Canada",
                    "Morocco",
                    "Saudi Arabia",
                    "Ukraine",
                    "Angola",
                    "Uzbekistan",
                    "Yemen",
                    "Peru",
                    "Malaysia",
                    "Ghana",
                    "Mozambique",
                    "Nepal",
                    "Madagascar",
                    "Ivory Coast",
                    "Venezuela",
                    "Cameroon",
                    "Niger",
                    "Australia",
                    "North Korea",
                    "Taiwan",
                    "Mali",
                    "Burkina Faso",
                    "Syria",
                    "Sri Lanka",
                    "Malawi",
                    "Zambia",
                    "Romania",
                    "Chile",
                    "Kazakhstan",
                    "Chad",
                    "Ecuador",
                    "Somalia",
                    "Guatemala",
                    "Senegal",
                    "Netherlands",
                    "Cambodia",
                    "Zimbabwe",
                    "Guinea",
                    "Rwanda",
                    "Benin",
                    "Burundi",
                    "Tunisia",
                    "Bolivia",
                    "Haiti",
                    "Belgium",
                    "Jordan",
                    "Dominican Republic",
                    "Cuba",
                    "South Sudan",
                    "Sweden",
                    "Honduras",
                    "Czech Republic",
                    "Azerbaijan",
                    "Greece",
                    "Papua New Guinea",
                    "Portugal",
                    "Hungary",
                    "Tajikistan",
                    "United Arab Emirates",
                    "Belarus",
                    "Israel",
                    "Togo",
                    "Austria",
                    "Switzerland",
                    "Sierra Leone",
                    "Laos",
                    "Hong Kong",
                    "Serbia",
                    "Nicaragua",
                    "Libya",
                    "Paraguay",
                    "Kyrgyzstan",
                    "Bulgaria",
                    "Turkmenistan",
                    "El Salvador",
                    "Republic of the Congo",
                    "Singapore",
                    "Denmark",
                    "Slovakia",
                    "Central African Republic",
                    "Finland",
                    "Norway",
                    "Liberia",
                    "Palestine",
                    "Lebanon",
                    "New Zealand",
                    "Costa Rica",
                    "Ireland",
                    "Mauritania",
                    "Oman",
                    "Panama",
                    "Kuwait",
                    "Croatia",
                    "Eritrea",
                    "Georgia",
                    "Mongolia",
                    "Moldova",
                    "Uruguay",
                    "Puerto Rico",
                    "Bosnia and Herzegovina",
                    "Albania",
                    "Jamaica",
                    "Armenia",
                    "Gambia",
                    "Lithuania",
                    "Qatar",
                    "Botswana",
                    "Namibia",
                    "Gabon",
                    "Lesotho",
                    "Guinea-Bissau",
                    "Slovenia",
                    "North Macedonia",
                    "Latvia",
                    "Equatorial Guinea",
                    "Trinidad and Tobago",
                    "Bahrain",
                    "Timor-Leste",
                    "Estonia",
                    "Mauritius",
                    "Cyprus",
                    "Eswatini",
                    "Djibouti",
                    "Reunion",
                    "Fiji",
                    "Comoros",
                    "Guyana",
                    "Bhutan",
                    "Solomon Islands",
                    "Macau",
                    "Luxembourg",
                    "Montenegro",
                    "Suriname",
                    "Cape Verde",
                    "Western Sahara",
                    "Malta",
                    "Maldives",
                    "Brunei",
                    "Bahamas",
                    "Belize",
                    "Guadeloupe",
                    "Iceland",
                    "Martinique",
                    "Mayotte",
                    "Vanuatu",
                    "French Guiana",
                    "French Polynesia",
                    "New Caledonia",
                    "Barbados",
                    "Sao Tome and Principe",
                    "Samoa",
                    "Curacao",
                    "Saint Lucia",
                    "Guam",
                    "Kiribati",
                    "Grenada",
                    "Micronesia",
                    "Jersey",
                    "Tonga",
                    "Seychelles",
                    "Aruba",
                    "Saint Vincent and the Grenadines",
                    "United States Virgin Islands",
                    "Antigua and Barbuda",
                    "Isle of Man",
                    "Andorra",
                    "Dominica",
                    "Cayman Islands",
                    "Bermuda",
                    "Guernsey",
                    "Greenland",
                    "Faroe Islands",
                    "Northern Mariana Islands",
                    "Saint Kitts and Nevis",
                    "Turks and Caicos Islands",
                    "Sint Maarten",
                    "American Samoa",
                    "Marshall Islands",
                    "Liechtenstein",
                    "Monaco",
                    "San Marino",
                    "Gibraltar",
                    "Saint Martin",
                    "British Virgin Islands",
                    "Palau",
                    "Cook Islands",
                    "Anguilla",
                    "Nauru",
                    "Wallis and Futuna",
                    "Tuvalu",
                    "Saint Barthelemy",
                    "Saint Pierre and Miquelon",
                    "Montserrat",
                    "Falkland Islands",
                    "Niue",
                    "Tokelau",
                    "Vatican City"
                  ],
                  "locationmode": "country names",
                  "locations": [
                    "India",
                    "China",
                    "United States",
                    "Indonesia",
                    "Pakistan",
                    "Nigeria",
                    "Brazil",
                    "Bangladesh",
                    "Russia",
                    "Mexico",
                    "Ethiopia",
                    "Japan",
                    "Philippines",
                    "Egypt",
                    "DR Congo",
                    "Vietnam",
                    "Iran",
                    "Turkey",
                    "Germany",
                    "Thailand",
                    "United Kingdom",
                    "Tanzania",
                    "France",
                    "South Africa",
                    "Italy",
                    "Kenya",
                    "Myanmar",
                    "Colombia",
                    "South Korea",
                    "Uganda",
                    "Sudan",
                    "Spain",
                    "Argentina",
                    "Algeria",
                    "Iraq",
                    "Afghanistan",
                    "Poland",
                    "Canada",
                    "Morocco",
                    "Saudi Arabia",
                    "Ukraine",
                    "Angola",
                    "Uzbekistan",
                    "Yemen",
                    "Peru",
                    "Malaysia",
                    "Ghana",
                    "Mozambique",
                    "Nepal",
                    "Madagascar",
                    "Ivory Coast",
                    "Venezuela",
                    "Cameroon",
                    "Niger",
                    "Australia",
                    "North Korea",
                    "Taiwan",
                    "Mali",
                    "Burkina Faso",
                    "Syria",
                    "Sri Lanka",
                    "Malawi",
                    "Zambia",
                    "Romania",
                    "Chile",
                    "Kazakhstan",
                    "Chad",
                    "Ecuador",
                    "Somalia",
                    "Guatemala",
                    "Senegal",
                    "Netherlands",
                    "Cambodia",
                    "Zimbabwe",
                    "Guinea",
                    "Rwanda",
                    "Benin",
                    "Burundi",
                    "Tunisia",
                    "Bolivia",
                    "Haiti",
                    "Belgium",
                    "Jordan",
                    "Dominican Republic",
                    "Cuba",
                    "South Sudan",
                    "Sweden",
                    "Honduras",
                    "Czech Republic",
                    "Azerbaijan",
                    "Greece",
                    "Papua New Guinea",
                    "Portugal",
                    "Hungary",
                    "Tajikistan",
                    "United Arab Emirates",
                    "Belarus",
                    "Israel",
                    "Togo",
                    "Austria",
                    "Switzerland",
                    "Sierra Leone",
                    "Laos",
                    "Hong Kong",
                    "Serbia",
                    "Nicaragua",
                    "Libya",
                    "Paraguay",
                    "Kyrgyzstan",
                    "Bulgaria",
                    "Turkmenistan",
                    "El Salvador",
                    "Republic of the Congo",
                    "Singapore",
                    "Denmark",
                    "Slovakia",
                    "Central African Republic",
                    "Finland",
                    "Norway",
                    "Liberia",
                    "Palestine",
                    "Lebanon",
                    "New Zealand",
                    "Costa Rica",
                    "Ireland",
                    "Mauritania",
                    "Oman",
                    "Panama",
                    "Kuwait",
                    "Croatia",
                    "Eritrea",
                    "Georgia",
                    "Mongolia",
                    "Moldova",
                    "Uruguay",
                    "Puerto Rico",
                    "Bosnia and Herzegovina",
                    "Albania",
                    "Jamaica",
                    "Armenia",
                    "Gambia",
                    "Lithuania",
                    "Qatar",
                    "Botswana",
                    "Namibia",
                    "Gabon",
                    "Lesotho",
                    "Guinea-Bissau",
                    "Slovenia",
                    "North Macedonia",
                    "Latvia",
                    "Equatorial Guinea",
                    "Trinidad and Tobago",
                    "Bahrain",
                    "Timor-Leste",
                    "Estonia",
                    "Mauritius",
                    "Cyprus",
                    "Eswatini",
                    "Djibouti",
                    "Reunion",
                    "Fiji",
                    "Comoros",
                    "Guyana",
                    "Bhutan",
                    "Solomon Islands",
                    "Macau",
                    "Luxembourg",
                    "Montenegro",
                    "Suriname",
                    "Cape Verde",
                    "Western Sahara",
                    "Malta",
                    "Maldives",
                    "Brunei",
                    "Bahamas",
                    "Belize",
                    "Guadeloupe",
                    "Iceland",
                    "Martinique",
                    "Mayotte",
                    "Vanuatu",
                    "French Guiana",
                    "French Polynesia",
                    "New Caledonia",
                    "Barbados",
                    "Sao Tome and Principe",
                    "Samoa",
                    "Curacao",
                    "Saint Lucia",
                    "Guam",
                    "Kiribati",
                    "Grenada",
                    "Micronesia",
                    "Jersey",
                    "Tonga",
                    "Seychelles",
                    "Aruba",
                    "Saint Vincent and the Grenadines",
                    "United States Virgin Islands",
                    "Antigua and Barbuda",
                    "Isle of Man",
                    "Andorra",
                    "Dominica",
                    "Cayman Islands",
                    "Bermuda",
                    "Guernsey",
                    "Greenland",
                    "Faroe Islands",
                    "Northern Mariana Islands",
                    "Saint Kitts and Nevis",
                    "Turks and Caicos Islands",
                    "Sint Maarten",
                    "American Samoa",
                    "Marshall Islands",
                    "Liechtenstein",
                    "Monaco",
                    "San Marino",
                    "Gibraltar",
                    "Saint Martin",
                    "British Virgin Islands",
                    "Palau",
                    "Cook Islands",
                    "Anguilla",
                    "Nauru",
                    "Wallis and Futuna",
                    "Tuvalu",
                    "Saint Barthelemy",
                    "Saint Pierre and Miquelon",
                    "Montserrat",
                    "Falkland Islands",
                    "Niue",
                    "Tokelau",
                    "Vatican City"
                  ],
                  "name": "",
                  "type": "choropleth",
                  "z": [
                    1059633675,
                    1264099069,
                    282398554,
                    214072421,
                    154369924,
                    122851984,
                    175873720,
                    129193327,
                    146844839,
                    97873442,
                    67031867,
                    126803861,
                    77958223,
                    71371371,
                    48616317,
                    79001142,
                    65544383,
                    64113547,
                    81551677,
                    63066603,
                    58850043,
                    34463704,
                    58665453,
                    46813266,
                    56966397,
                    30851606,
                    45538332,
                    39215135,
                    46788591,
                    24020697,
                    26298773,
                    40741651,
                    37070774,
                    30774621,
                    24628858,
                    19542982,
                    38504431,
                    30683313,
                    28554415,
                    21547390,
                    48879755,
                    16394062,
                    24925554,
                    18628700,
                    26654439,
                    22945150,
                    19665502,
                    17768505,
                    24559500,
                    16216431,
                    16799670,
                    24427729,
                    15091594,
                    11622665,
                    19017963,
                    23367059,
                    22194731,
                    11239101,
                    11882888,
                    16307654,
                    18776371,
                    11229387,
                    9891136,
                    21919876,
                    15351799,
                    15236253,
                    8259137,
                    12626507,
                    8721465,
                    11735894,
                    9704287,
                    15899135,
                    12118841,
                    11834676,
                    8336967,
                    8109989,
                    6998023,
                    6307659,
                    9893316,
                    8592656,
                    8360225,
                    10264343,
                    5056174,
                    8540791,
                    11105791,
                    6114440,
                    8871043,
                    6656725,
                    10234710,
                    8190337,
                    11038109,
                    5508297,
                    10300626,
                    10202055,
                    6272998,
                    3275333,
                    10256483,
                    6116958,
                    5008035,
                    8010428,
                    7182059,
                    4584067,
                    5430853,
                    6731195,
                    7935022,
                    5123222,
                    5154790,
                    5123819,
                    4935182,
                    8097691,
                    4569132,
                    5958482,
                    3134030,
                    4053602,
                    5340655,
                    5376690,
                    3759170,
                    5176209,
                    4491202,
                    2895224,
                    3139954,
                    4320642,
                    3855266,
                    3979193,
                    3768950,
                    2695003,
                    2344253,
                    3001731,
                    1934901,
                    4548434,
                    2392880,
                    4265172,
                    2450979,
                    4251573,
                    3292224,
                    3827108,
                    4179350,
                    3182021,
                    2612205,
                    3168523,
                    1437539,
                    3599637,
                    645937,
                    1726985,
                    1819141,
                    1272935,
                    1998630,
                    1230849,
                    1984339,
                    2037936,
                    2392530,
                    684977,
                    1332203,
                    711442,
                    878360,
                    1396877,
                    1215930,
                    948237,
                    1030496,
                    742033,
                    785424,
                    832509,
                    536758,
                    759051,
                    587207,
                    429978,
                    431896,
                    435628,
                    633324,
                    478998,
                    458251,
                    270375,
                    399212,
                    282507,
                    333926,
                    325014,
                    240406,
                    424067,
                    281462,
                    432543,
                    159215,
                    192074,
                    164351,
                    250927,
                    221537,
                    264657,
                    143714,
                    184008,
                    141424,
                    159500,
                    160188,
                    88826,
                    107432,
                    111709,
                    86192,
                    102603,
                    80060,
                    89101,
                    113813,
                    108185,
                    75055,
                    75562,
                    66097,
                    68346,
                    39658,
                    61371,
                    59114,
                    56184,
                    45660,
                    80338,
                    45461,
                    18744,
                    30489,
                    58230,
                    54224,
                    33026,
                    32465,
                    26823,
                    27741,
                    29610,
                    20104,
                    19726,
                    15897,
                    11047,
                    10377,
                    14723,
                    9638,
                    7082,
                    6274,
                    5138,
                    3080,
                    2074,
                    1666,
                    651
                  ]
                }
              ],
              "layout": {
                "coloraxis": {
                  "colorbar": {
                    "title": {
                      "text": "pop2000"
                    }
                  },
                  "colorscale": [
                    [
                      0,
                      "#440154"
                    ],
                    [
                      0.1111111111111111,
                      "#482878"
                    ],
                    [
                      0.2222222222222222,
                      "#3e4989"
                    ],
                    [
                      0.3333333333333333,
                      "#31688e"
                    ],
                    [
                      0.4444444444444444,
                      "#26828e"
                    ],
                    [
                      0.5555555555555556,
                      "#1f9e89"
                    ],
                    [
                      0.6666666666666666,
                      "#35b779"
                    ],
                    [
                      0.7777777777777778,
                      "#6ece58"
                    ],
                    [
                      0.8888888888888888,
                      "#b5de2b"
                    ],
                    [
                      1,
                      "#fde725"
                    ]
                  ]
                },
                "font": {
                  "family": "Franklin Gothic",
                  "size": 17
                },
                "geo": {
                  "center": {},
                  "domain": {
                    "x": [
                      0,
                      1
                    ],
                    "y": [
                      0,
                      1
                    ]
                  }
                },
                "legend": {
                  "tracegroupgap": 0
                },
                "template": {
                  "data": {
                    "bar": [
                      {
                        "error_x": {
                          "color": "#f2f5fa"
                        },
                        "error_y": {
                          "color": "#f2f5fa"
                        },
                        "marker": {
                          "line": {
                            "color": "rgb(17,17,17)",
                            "width": 0.5
                          },
                          "pattern": {
                            "fillmode": "overlay",
                            "size": 10,
                            "solidity": 0.2
                          }
                        },
                        "type": "bar"
                      }
                    ],
                    "barpolar": [
                      {
                        "marker": {
                          "line": {
                            "color": "rgb(17,17,17)",
                            "width": 0.5
                          },
                          "pattern": {
                            "fillmode": "overlay",
                            "size": 10,
                            "solidity": 0.2
                          }
                        },
                        "type": "barpolar"
                      }
                    ],
                    "carpet": [
                      {
                        "aaxis": {
                          "endlinecolor": "#A2B1C6",
                          "gridcolor": "#506784",
                          "linecolor": "#506784",
                          "minorgridcolor": "#506784",
                          "startlinecolor": "#A2B1C6"
                        },
                        "baxis": {
                          "endlinecolor": "#A2B1C6",
                          "gridcolor": "#506784",
                          "linecolor": "#506784",
                          "minorgridcolor": "#506784",
                          "startlinecolor": "#A2B1C6"
                        },
                        "type": "carpet"
                      }
                    ],
                    "choropleth": [
                      {
                        "colorbar": {
                          "outlinewidth": 0,
                          "ticks": ""
                        },
                        "type": "choropleth"
                      }
                    ],
                    "contour": [
                      {
                        "colorbar": {
                          "outlinewidth": 0,
                          "ticks": ""
                        },
                        "colorscale": [
                          [
                            0,
                            "#0d0887"
                          ],
                          [
                            0.1111111111111111,
                            "#46039f"
                          ],
                          [
                            0.2222222222222222,
                            "#7201a8"
                          ],
                          [
                            0.3333333333333333,
                            "#9c179e"
                          ],
                          [
                            0.4444444444444444,
                            "#bd3786"
                          ],
                          [
                            0.5555555555555556,
                            "#d8576b"
                          ],
                          [
                            0.6666666666666666,
                            "#ed7953"
                          ],
                          [
                            0.7777777777777778,
                            "#fb9f3a"
                          ],
                          [
                            0.8888888888888888,
                            "#fdca26"
                          ],
                          [
                            1,
                            "#f0f921"
                          ]
                        ],
                        "type": "contour"
                      }
                    ],
                    "contourcarpet": [
                      {
                        "colorbar": {
                          "outlinewidth": 0,
                          "ticks": ""
                        },
                        "type": "contourcarpet"
                      }
                    ],
                    "heatmap": [
                      {
                        "colorbar": {
                          "outlinewidth": 0,
                          "ticks": ""
                        },
                        "colorscale": [
                          [
                            0,
                            "#0d0887"
                          ],
                          [
                            0.1111111111111111,
                            "#46039f"
                          ],
                          [
                            0.2222222222222222,
                            "#7201a8"
                          ],
                          [
                            0.3333333333333333,
                            "#9c179e"
                          ],
                          [
                            0.4444444444444444,
                            "#bd3786"
                          ],
                          [
                            0.5555555555555556,
                            "#d8576b"
                          ],
                          [
                            0.6666666666666666,
                            "#ed7953"
                          ],
                          [
                            0.7777777777777778,
                            "#fb9f3a"
                          ],
                          [
                            0.8888888888888888,
                            "#fdca26"
                          ],
                          [
                            1,
                            "#f0f921"
                          ]
                        ],
                        "type": "heatmap"
                      }
                    ],
                    "heatmapgl": [
                      {
                        "colorbar": {
                          "outlinewidth": 0,
                          "ticks": ""
                        },
                        "colorscale": [
                          [
                            0,
                            "#0d0887"
                          ],
                          [
                            0.1111111111111111,
                            "#46039f"
                          ],
                          [
                            0.2222222222222222,
                            "#7201a8"
                          ],
                          [
                            0.3333333333333333,
                            "#9c179e"
                          ],
                          [
                            0.4444444444444444,
                            "#bd3786"
                          ],
                          [
                            0.5555555555555556,
                            "#d8576b"
                          ],
                          [
                            0.6666666666666666,
                            "#ed7953"
                          ],
                          [
                            0.7777777777777778,
                            "#fb9f3a"
                          ],
                          [
                            0.8888888888888888,
                            "#fdca26"
                          ],
                          [
                            1,
                            "#f0f921"
                          ]
                        ],
                        "type": "heatmapgl"
                      }
                    ],
                    "histogram": [
                      {
                        "marker": {
                          "pattern": {
                            "fillmode": "overlay",
                            "size": 10,
                            "solidity": 0.2
                          }
                        },
                        "type": "histogram"
                      }
                    ],
                    "histogram2d": [
                      {
                        "colorbar": {
                          "outlinewidth": 0,
                          "ticks": ""
                        },
                        "colorscale": [
                          [
                            0,
                            "#0d0887"
                          ],
                          [
                            0.1111111111111111,
                            "#46039f"
                          ],
                          [
                            0.2222222222222222,
                            "#7201a8"
                          ],
                          [
                            0.3333333333333333,
                            "#9c179e"
                          ],
                          [
                            0.4444444444444444,
                            "#bd3786"
                          ],
                          [
                            0.5555555555555556,
                            "#d8576b"
                          ],
                          [
                            0.6666666666666666,
                            "#ed7953"
                          ],
                          [
                            0.7777777777777778,
                            "#fb9f3a"
                          ],
                          [
                            0.8888888888888888,
                            "#fdca26"
                          ],
                          [
                            1,
                            "#f0f921"
                          ]
                        ],
                        "type": "histogram2d"
                      }
                    ],
                    "histogram2dcontour": [
                      {
                        "colorbar": {
                          "outlinewidth": 0,
                          "ticks": ""
                        },
                        "colorscale": [
                          [
                            0,
                            "#0d0887"
                          ],
                          [
                            0.1111111111111111,
                            "#46039f"
                          ],
                          [
                            0.2222222222222222,
                            "#7201a8"
                          ],
                          [
                            0.3333333333333333,
                            "#9c179e"
                          ],
                          [
                            0.4444444444444444,
                            "#bd3786"
                          ],
                          [
                            0.5555555555555556,
                            "#d8576b"
                          ],
                          [
                            0.6666666666666666,
                            "#ed7953"
                          ],
                          [
                            0.7777777777777778,
                            "#fb9f3a"
                          ],
                          [
                            0.8888888888888888,
                            "#fdca26"
                          ],
                          [
                            1,
                            "#f0f921"
                          ]
                        ],
                        "type": "histogram2dcontour"
                      }
                    ],
                    "mesh3d": [
                      {
                        "colorbar": {
                          "outlinewidth": 0,
                          "ticks": ""
                        },
                        "type": "mesh3d"
                      }
                    ],
                    "parcoords": [
                      {
                        "line": {
                          "colorbar": {
                            "outlinewidth": 0,
                            "ticks": ""
                          }
                        },
                        "type": "parcoords"
                      }
                    ],
                    "pie": [
                      {
                        "automargin": true,
                        "type": "pie"
                      }
                    ],
                    "scatter": [
                      {
                        "marker": {
                          "line": {
                            "color": "#283442"
                          }
                        },
                        "type": "scatter"
                      }
                    ],
                    "scatter3d": [
                      {
                        "line": {
                          "colorbar": {
                            "outlinewidth": 0,
                            "ticks": ""
                          }
                        },
                        "marker": {
                          "colorbar": {
                            "outlinewidth": 0,
                            "ticks": ""
                          }
                        },
                        "type": "scatter3d"
                      }
                    ],
                    "scattercarpet": [
                      {
                        "marker": {
                          "colorbar": {
                            "outlinewidth": 0,
                            "ticks": ""
                          }
                        },
                        "type": "scattercarpet"
                      }
                    ],
                    "scattergeo": [
                      {
                        "marker": {
                          "colorbar": {
                            "outlinewidth": 0,
                            "ticks": ""
                          }
                        },
                        "type": "scattergeo"
                      }
                    ],
                    "scattergl": [
                      {
                        "marker": {
                          "line": {
                            "color": "#283442"
                          }
                        },
                        "type": "scattergl"
                      }
                    ],
                    "scattermapbox": [
                      {
                        "marker": {
                          "colorbar": {
                            "outlinewidth": 0,
                            "ticks": ""
                          }
                        },
                        "type": "scattermapbox"
                      }
                    ],
                    "scatterpolar": [
                      {
                        "marker": {
                          "colorbar": {
                            "outlinewidth": 0,
                            "ticks": ""
                          }
                        },
                        "type": "scatterpolar"
                      }
                    ],
                    "scatterpolargl": [
                      {
                        "marker": {
                          "colorbar": {
                            "outlinewidth": 0,
                            "ticks": ""
                          }
                        },
                        "type": "scatterpolargl"
                      }
                    ],
                    "scatterternary": [
                      {
                        "marker": {
                          "colorbar": {
                            "outlinewidth": 0,
                            "ticks": ""
                          }
                        },
                        "type": "scatterternary"
                      }
                    ],
                    "surface": [
                      {
                        "colorbar": {
                          "outlinewidth": 0,
                          "ticks": ""
                        },
                        "colorscale": [
                          [
                            0,
                            "#0d0887"
                          ],
                          [
                            0.1111111111111111,
                            "#46039f"
                          ],
                          [
                            0.2222222222222222,
                            "#7201a8"
                          ],
                          [
                            0.3333333333333333,
                            "#9c179e"
                          ],
                          [
                            0.4444444444444444,
                            "#bd3786"
                          ],
                          [
                            0.5555555555555556,
                            "#d8576b"
                          ],
                          [
                            0.6666666666666666,
                            "#ed7953"
                          ],
                          [
                            0.7777777777777778,
                            "#fb9f3a"
                          ],
                          [
                            0.8888888888888888,
                            "#fdca26"
                          ],
                          [
                            1,
                            "#f0f921"
                          ]
                        ],
                        "type": "surface"
                      }
                    ],
                    "table": [
                      {
                        "cells": {
                          "fill": {
                            "color": "#506784"
                          },
                          "line": {
                            "color": "rgb(17,17,17)"
                          }
                        },
                        "header": {
                          "fill": {
                            "color": "#2a3f5f"
                          },
                          "line": {
                            "color": "rgb(17,17,17)"
                          }
                        },
                        "type": "table"
                      }
                    ]
                  },
                  "layout": {
                    "annotationdefaults": {
                      "arrowcolor": "#f2f5fa",
                      "arrowhead": 0,
                      "arrowwidth": 1
                    },
                    "autotypenumbers": "strict",
                    "coloraxis": {
                      "colorbar": {
                        "outlinewidth": 0,
                        "ticks": ""
                      }
                    },
                    "colorscale": {
                      "diverging": [
                        [
                          0,
                          "#8e0152"
                        ],
                        [
                          0.1,
                          "#c51b7d"
                        ],
                        [
                          0.2,
                          "#de77ae"
                        ],
                        [
                          0.3,
                          "#f1b6da"
                        ],
                        [
                          0.4,
                          "#fde0ef"
                        ],
                        [
                          0.5,
                          "#f7f7f7"
                        ],
                        [
                          0.6,
                          "#e6f5d0"
                        ],
                        [
                          0.7,
                          "#b8e186"
                        ],
                        [
                          0.8,
                          "#7fbc41"
                        ],
                        [
                          0.9,
                          "#4d9221"
                        ],
                        [
                          1,
                          "#276419"
                        ]
                      ],
                      "sequential": [
                        [
                          0,
                          "#0d0887"
                        ],
                        [
                          0.1111111111111111,
                          "#46039f"
                        ],
                        [
                          0.2222222222222222,
                          "#7201a8"
                        ],
                        [
                          0.3333333333333333,
                          "#9c179e"
                        ],
                        [
                          0.4444444444444444,
                          "#bd3786"
                        ],
                        [
                          0.5555555555555556,
                          "#d8576b"
                        ],
                        [
                          0.6666666666666666,
                          "#ed7953"
                        ],
                        [
                          0.7777777777777778,
                          "#fb9f3a"
                        ],
                        [
                          0.8888888888888888,
                          "#fdca26"
                        ],
                        [
                          1,
                          "#f0f921"
                        ]
                      ],
                      "sequentialminus": [
                        [
                          0,
                          "#0d0887"
                        ],
                        [
                          0.1111111111111111,
                          "#46039f"
                        ],
                        [
                          0.2222222222222222,
                          "#7201a8"
                        ],
                        [
                          0.3333333333333333,
                          "#9c179e"
                        ],
                        [
                          0.4444444444444444,
                          "#bd3786"
                        ],
                        [
                          0.5555555555555556,
                          "#d8576b"
                        ],
                        [
                          0.6666666666666666,
                          "#ed7953"
                        ],
                        [
                          0.7777777777777778,
                          "#fb9f3a"
                        ],
                        [
                          0.8888888888888888,
                          "#fdca26"
                        ],
                        [
                          1,
                          "#f0f921"
                        ]
                      ]
                    },
                    "colorway": [
                      "#636efa",
                      "#EF553B",
                      "#00cc96",
                      "#ab63fa",
                      "#FFA15A",
                      "#19d3f3",
                      "#FF6692",
                      "#B6E880",
                      "#FF97FF",
                      "#FECB52"
                    ],
                    "font": {
                      "color": "#f2f5fa"
                    },
                    "geo": {
                      "bgcolor": "rgb(17,17,17)",
                      "lakecolor": "rgb(17,17,17)",
                      "landcolor": "rgb(17,17,17)",
                      "showlakes": true,
                      "showland": true,
                      "subunitcolor": "#506784"
                    },
                    "hoverlabel": {
                      "align": "left"
                    },
                    "hovermode": "closest",
                    "mapbox": {
                      "style": "dark"
                    },
                    "paper_bgcolor": "rgb(17,17,17)",
                    "plot_bgcolor": "rgb(17,17,17)",
                    "polar": {
                      "angularaxis": {
                        "gridcolor": "#506784",
                        "linecolor": "#506784",
                        "ticks": ""
                      },
                      "bgcolor": "rgb(17,17,17)",
                      "radialaxis": {
                        "gridcolor": "#506784",
                        "linecolor": "#506784",
                        "ticks": ""
                      }
                    },
                    "scene": {
                      "xaxis": {
                        "backgroundcolor": "rgb(17,17,17)",
                        "gridcolor": "#506784",
                        "gridwidth": 2,
                        "linecolor": "#506784",
                        "showbackground": true,
                        "ticks": "",
                        "zerolinecolor": "#C8D4E3"
                      },
                      "yaxis": {
                        "backgroundcolor": "rgb(17,17,17)",
                        "gridcolor": "#506784",
                        "gridwidth": 2,
                        "linecolor": "#506784",
                        "showbackground": true,
                        "ticks": "",
                        "zerolinecolor": "#C8D4E3"
                      },
                      "zaxis": {
                        "backgroundcolor": "rgb(17,17,17)",
                        "gridcolor": "#506784",
                        "gridwidth": 2,
                        "linecolor": "#506784",
                        "showbackground": true,
                        "ticks": "",
                        "zerolinecolor": "#C8D4E3"
                      }
                    },
                    "shapedefaults": {
                      "line": {
                        "color": "#f2f5fa"
                      }
                    },
                    "sliderdefaults": {
                      "bgcolor": "#C8D4E3",
                      "bordercolor": "rgb(17,17,17)",
                      "borderwidth": 1,
                      "tickwidth": 0
                    },
                    "ternary": {
                      "aaxis": {
                        "gridcolor": "#506784",
                        "linecolor": "#506784",
                        "ticks": ""
                      },
                      "baxis": {
                        "gridcolor": "#506784",
                        "linecolor": "#506784",
                        "ticks": ""
                      },
                      "bgcolor": "rgb(17,17,17)",
                      "caxis": {
                        "gridcolor": "#506784",
                        "linecolor": "#506784",
                        "ticks": ""
                      }
                    },
                    "title": {
                      "x": 0.05
                    },
                    "updatemenudefaults": {
                      "bgcolor": "#506784",
                      "borderwidth": 0
                    },
                    "xaxis": {
                      "automargin": true,
                      "gridcolor": "#283442",
                      "linecolor": "#506784",
                      "ticks": "",
                      "title": {
                        "standoff": 15
                      },
                      "zerolinecolor": "#283442",
                      "zerolinewidth": 2
                    },
                    "yaxis": {
                      "automargin": true,
                      "gridcolor": "#283442",
                      "linecolor": "#506784",
                      "ticks": "",
                      "title": {
                        "standoff": 15
                      },
                      "zerolinecolor": "#283442",
                      "zerolinewidth": 2
                    }
                  }
                },
                "title": {
                  "text": "2000 Population"
                }
              }
            },
            "text/html": [
              "<div>                            <div id=\"87ab7eec-f215-4e14-ae22-c3a370927688\" class=\"plotly-graph-div\" style=\"height:525px; width:100%;\"></div>            <script type=\"text/javascript\">                require([\"plotly\"], function(Plotly) {                    window.PLOTLYENV=window.PLOTLYENV || {};                                    if (document.getElementById(\"87ab7eec-f215-4e14-ae22-c3a370927688\")) {                    Plotly.newPlot(                        \"87ab7eec-f215-4e14-ae22-c3a370927688\",                        [{\"coloraxis\":\"coloraxis\",\"geo\":\"geo\",\"hovertemplate\":\"<b>%{hovertext}</b><br><br>country=%{location}<br>pop2000=%{z}<extra></extra>\",\"hovertext\":[\"India\",\"China\",\"United States\",\"Indonesia\",\"Pakistan\",\"Nigeria\",\"Brazil\",\"Bangladesh\",\"Russia\",\"Mexico\",\"Ethiopia\",\"Japan\",\"Philippines\",\"Egypt\",\"DR Congo\",\"Vietnam\",\"Iran\",\"Turkey\",\"Germany\",\"Thailand\",\"United Kingdom\",\"Tanzania\",\"France\",\"South Africa\",\"Italy\",\"Kenya\",\"Myanmar\",\"Colombia\",\"South Korea\",\"Uganda\",\"Sudan\",\"Spain\",\"Argentina\",\"Algeria\",\"Iraq\",\"Afghanistan\",\"Poland\",\"Canada\",\"Morocco\",\"Saudi Arabia\",\"Ukraine\",\"Angola\",\"Uzbekistan\",\"Yemen\",\"Peru\",\"Malaysia\",\"Ghana\",\"Mozambique\",\"Nepal\",\"Madagascar\",\"Ivory Coast\",\"Venezuela\",\"Cameroon\",\"Niger\",\"Australia\",\"North Korea\",\"Taiwan\",\"Mali\",\"Burkina Faso\",\"Syria\",\"Sri Lanka\",\"Malawi\",\"Zambia\",\"Romania\",\"Chile\",\"Kazakhstan\",\"Chad\",\"Ecuador\",\"Somalia\",\"Guatemala\",\"Senegal\",\"Netherlands\",\"Cambodia\",\"Zimbabwe\",\"Guinea\",\"Rwanda\",\"Benin\",\"Burundi\",\"Tunisia\",\"Bolivia\",\"Haiti\",\"Belgium\",\"Jordan\",\"Dominican Republic\",\"Cuba\",\"South Sudan\",\"Sweden\",\"Honduras\",\"Czech Republic\",\"Azerbaijan\",\"Greece\",\"Papua New Guinea\",\"Portugal\",\"Hungary\",\"Tajikistan\",\"United Arab Emirates\",\"Belarus\",\"Israel\",\"Togo\",\"Austria\",\"Switzerland\",\"Sierra Leone\",\"Laos\",\"Hong Kong\",\"Serbia\",\"Nicaragua\",\"Libya\",\"Paraguay\",\"Kyrgyzstan\",\"Bulgaria\",\"Turkmenistan\",\"El Salvador\",\"Republic of the Congo\",\"Singapore\",\"Denmark\",\"Slovakia\",\"Central African Republic\",\"Finland\",\"Norway\",\"Liberia\",\"Palestine\",\"Lebanon\",\"New Zealand\",\"Costa Rica\",\"Ireland\",\"Mauritania\",\"Oman\",\"Panama\",\"Kuwait\",\"Croatia\",\"Eritrea\",\"Georgia\",\"Mongolia\",\"Moldova\",\"Uruguay\",\"Puerto Rico\",\"Bosnia and Herzegovina\",\"Albania\",\"Jamaica\",\"Armenia\",\"Gambia\",\"Lithuania\",\"Qatar\",\"Botswana\",\"Namibia\",\"Gabon\",\"Lesotho\",\"Guinea-Bissau\",\"Slovenia\",\"North Macedonia\",\"Latvia\",\"Equatorial Guinea\",\"Trinidad and Tobago\",\"Bahrain\",\"Timor-Leste\",\"Estonia\",\"Mauritius\",\"Cyprus\",\"Eswatini\",\"Djibouti\",\"Reunion\",\"Fiji\",\"Comoros\",\"Guyana\",\"Bhutan\",\"Solomon Islands\",\"Macau\",\"Luxembourg\",\"Montenegro\",\"Suriname\",\"Cape Verde\",\"Western Sahara\",\"Malta\",\"Maldives\",\"Brunei\",\"Bahamas\",\"Belize\",\"Guadeloupe\",\"Iceland\",\"Martinique\",\"Mayotte\",\"Vanuatu\",\"French Guiana\",\"French Polynesia\",\"New Caledonia\",\"Barbados\",\"Sao Tome and Principe\",\"Samoa\",\"Curacao\",\"Saint Lucia\",\"Guam\",\"Kiribati\",\"Grenada\",\"Micronesia\",\"Jersey\",\"Tonga\",\"Seychelles\",\"Aruba\",\"Saint Vincent and the Grenadines\",\"United States Virgin Islands\",\"Antigua and Barbuda\",\"Isle of Man\",\"Andorra\",\"Dominica\",\"Cayman Islands\",\"Bermuda\",\"Guernsey\",\"Greenland\",\"Faroe Islands\",\"Northern Mariana Islands\",\"Saint Kitts and Nevis\",\"Turks and Caicos Islands\",\"Sint Maarten\",\"American Samoa\",\"Marshall Islands\",\"Liechtenstein\",\"Monaco\",\"San Marino\",\"Gibraltar\",\"Saint Martin\",\"British Virgin Islands\",\"Palau\",\"Cook Islands\",\"Anguilla\",\"Nauru\",\"Wallis and Futuna\",\"Tuvalu\",\"Saint Barthelemy\",\"Saint Pierre and Miquelon\",\"Montserrat\",\"Falkland Islands\",\"Niue\",\"Tokelau\",\"Vatican City\"],\"locationmode\":\"country names\",\"locations\":[\"India\",\"China\",\"United States\",\"Indonesia\",\"Pakistan\",\"Nigeria\",\"Brazil\",\"Bangladesh\",\"Russia\",\"Mexico\",\"Ethiopia\",\"Japan\",\"Philippines\",\"Egypt\",\"DR Congo\",\"Vietnam\",\"Iran\",\"Turkey\",\"Germany\",\"Thailand\",\"United Kingdom\",\"Tanzania\",\"France\",\"South Africa\",\"Italy\",\"Kenya\",\"Myanmar\",\"Colombia\",\"South Korea\",\"Uganda\",\"Sudan\",\"Spain\",\"Argentina\",\"Algeria\",\"Iraq\",\"Afghanistan\",\"Poland\",\"Canada\",\"Morocco\",\"Saudi Arabia\",\"Ukraine\",\"Angola\",\"Uzbekistan\",\"Yemen\",\"Peru\",\"Malaysia\",\"Ghana\",\"Mozambique\",\"Nepal\",\"Madagascar\",\"Ivory Coast\",\"Venezuela\",\"Cameroon\",\"Niger\",\"Australia\",\"North Korea\",\"Taiwan\",\"Mali\",\"Burkina Faso\",\"Syria\",\"Sri Lanka\",\"Malawi\",\"Zambia\",\"Romania\",\"Chile\",\"Kazakhstan\",\"Chad\",\"Ecuador\",\"Somalia\",\"Guatemala\",\"Senegal\",\"Netherlands\",\"Cambodia\",\"Zimbabwe\",\"Guinea\",\"Rwanda\",\"Benin\",\"Burundi\",\"Tunisia\",\"Bolivia\",\"Haiti\",\"Belgium\",\"Jordan\",\"Dominican Republic\",\"Cuba\",\"South Sudan\",\"Sweden\",\"Honduras\",\"Czech Republic\",\"Azerbaijan\",\"Greece\",\"Papua New Guinea\",\"Portugal\",\"Hungary\",\"Tajikistan\",\"United Arab Emirates\",\"Belarus\",\"Israel\",\"Togo\",\"Austria\",\"Switzerland\",\"Sierra Leone\",\"Laos\",\"Hong Kong\",\"Serbia\",\"Nicaragua\",\"Libya\",\"Paraguay\",\"Kyrgyzstan\",\"Bulgaria\",\"Turkmenistan\",\"El Salvador\",\"Republic of the Congo\",\"Singapore\",\"Denmark\",\"Slovakia\",\"Central African Republic\",\"Finland\",\"Norway\",\"Liberia\",\"Palestine\",\"Lebanon\",\"New Zealand\",\"Costa Rica\",\"Ireland\",\"Mauritania\",\"Oman\",\"Panama\",\"Kuwait\",\"Croatia\",\"Eritrea\",\"Georgia\",\"Mongolia\",\"Moldova\",\"Uruguay\",\"Puerto Rico\",\"Bosnia and Herzegovina\",\"Albania\",\"Jamaica\",\"Armenia\",\"Gambia\",\"Lithuania\",\"Qatar\",\"Botswana\",\"Namibia\",\"Gabon\",\"Lesotho\",\"Guinea-Bissau\",\"Slovenia\",\"North Macedonia\",\"Latvia\",\"Equatorial Guinea\",\"Trinidad and Tobago\",\"Bahrain\",\"Timor-Leste\",\"Estonia\",\"Mauritius\",\"Cyprus\",\"Eswatini\",\"Djibouti\",\"Reunion\",\"Fiji\",\"Comoros\",\"Guyana\",\"Bhutan\",\"Solomon Islands\",\"Macau\",\"Luxembourg\",\"Montenegro\",\"Suriname\",\"Cape Verde\",\"Western Sahara\",\"Malta\",\"Maldives\",\"Brunei\",\"Bahamas\",\"Belize\",\"Guadeloupe\",\"Iceland\",\"Martinique\",\"Mayotte\",\"Vanuatu\",\"French Guiana\",\"French Polynesia\",\"New Caledonia\",\"Barbados\",\"Sao Tome and Principe\",\"Samoa\",\"Curacao\",\"Saint Lucia\",\"Guam\",\"Kiribati\",\"Grenada\",\"Micronesia\",\"Jersey\",\"Tonga\",\"Seychelles\",\"Aruba\",\"Saint Vincent and the Grenadines\",\"United States Virgin Islands\",\"Antigua and Barbuda\",\"Isle of Man\",\"Andorra\",\"Dominica\",\"Cayman Islands\",\"Bermuda\",\"Guernsey\",\"Greenland\",\"Faroe Islands\",\"Northern Mariana Islands\",\"Saint Kitts and Nevis\",\"Turks and Caicos Islands\",\"Sint Maarten\",\"American Samoa\",\"Marshall Islands\",\"Liechtenstein\",\"Monaco\",\"San Marino\",\"Gibraltar\",\"Saint Martin\",\"British Virgin Islands\",\"Palau\",\"Cook Islands\",\"Anguilla\",\"Nauru\",\"Wallis and Futuna\",\"Tuvalu\",\"Saint Barthelemy\",\"Saint Pierre and Miquelon\",\"Montserrat\",\"Falkland Islands\",\"Niue\",\"Tokelau\",\"Vatican City\"],\"name\":\"\",\"z\":[1059633675,1264099069,282398554,214072421,154369924,122851984,175873720,129193327,146844839,97873442,67031867,126803861,77958223,71371371,48616317,79001142,65544383,64113547,81551677,63066603,58850043,34463704,58665453,46813266,56966397,30851606,45538332,39215135,46788591,24020697,26298773,40741651,37070774,30774621,24628858,19542982,38504431,30683313,28554415,21547390,48879755,16394062,24925554,18628700,26654439,22945150,19665502,17768505,24559500,16216431,16799670,24427729,15091594,11622665,19017963,23367059,22194731,11239101,11882888,16307654,18776371,11229387,9891136,21919876,15351799,15236253,8259137,12626507,8721465,11735894,9704287,15899135,12118841,11834676,8336967,8109989,6998023,6307659,9893316,8592656,8360225,10264343,5056174,8540791,11105791,6114440,8871043,6656725,10234710,8190337,11038109,5508297,10300626,10202055,6272998,3275333,10256483,6116958,5008035,8010428,7182059,4584067,5430853,6731195,7935022,5123222,5154790,5123819,4935182,8097691,4569132,5958482,3134030,4053602,5340655,5376690,3759170,5176209,4491202,2895224,3139954,4320642,3855266,3979193,3768950,2695003,2344253,3001731,1934901,4548434,2392880,4265172,2450979,4251573,3292224,3827108,4179350,3182021,2612205,3168523,1437539,3599637,645937,1726985,1819141,1272935,1998630,1230849,1984339,2037936,2392530,684977,1332203,711442,878360,1396877,1215930,948237,1030496,742033,785424,832509,536758,759051,587207,429978,431896,435628,633324,478998,458251,270375,399212,282507,333926,325014,240406,424067,281462,432543,159215,192074,164351,250927,221537,264657,143714,184008,141424,159500,160188,88826,107432,111709,86192,102603,80060,89101,113813,108185,75055,75562,66097,68346,39658,61371,59114,56184,45660,80338,45461,18744,30489,58230,54224,33026,32465,26823,27741,29610,20104,19726,15897,11047,10377,14723,9638,7082,6274,5138,3080,2074,1666,651],\"type\":\"choropleth\"}],                        {\"template\":{\"data\":{\"barpolar\":[{\"marker\":{\"line\":{\"color\":\"rgb(17,17,17)\",\"width\":0.5},\"pattern\":{\"fillmode\":\"overlay\",\"size\":10,\"solidity\":0.2}},\"type\":\"barpolar\"}],\"bar\":[{\"error_x\":{\"color\":\"#f2f5fa\"},\"error_y\":{\"color\":\"#f2f5fa\"},\"marker\":{\"line\":{\"color\":\"rgb(17,17,17)\",\"width\":0.5},\"pattern\":{\"fillmode\":\"overlay\",\"size\":10,\"solidity\":0.2}},\"type\":\"bar\"}],\"carpet\":[{\"aaxis\":{\"endlinecolor\":\"#A2B1C6\",\"gridcolor\":\"#506784\",\"linecolor\":\"#506784\",\"minorgridcolor\":\"#506784\",\"startlinecolor\":\"#A2B1C6\"},\"baxis\":{\"endlinecolor\":\"#A2B1C6\",\"gridcolor\":\"#506784\",\"linecolor\":\"#506784\",\"minorgridcolor\":\"#506784\",\"startlinecolor\":\"#A2B1C6\"},\"type\":\"carpet\"}],\"choropleth\":[{\"colorbar\":{\"outlinewidth\":0,\"ticks\":\"\"},\"type\":\"choropleth\"}],\"contourcarpet\":[{\"colorbar\":{\"outlinewidth\":0,\"ticks\":\"\"},\"type\":\"contourcarpet\"}],\"contour\":[{\"colorbar\":{\"outlinewidth\":0,\"ticks\":\"\"},\"colorscale\":[[0.0,\"#0d0887\"],[0.1111111111111111,\"#46039f\"],[0.2222222222222222,\"#7201a8\"],[0.3333333333333333,\"#9c179e\"],[0.4444444444444444,\"#bd3786\"],[0.5555555555555556,\"#d8576b\"],[0.6666666666666666,\"#ed7953\"],[0.7777777777777778,\"#fb9f3a\"],[0.8888888888888888,\"#fdca26\"],[1.0,\"#f0f921\"]],\"type\":\"contour\"}],\"heatmapgl\":[{\"colorbar\":{\"outlinewidth\":0,\"ticks\":\"\"},\"colorscale\":[[0.0,\"#0d0887\"],[0.1111111111111111,\"#46039f\"],[0.2222222222222222,\"#7201a8\"],[0.3333333333333333,\"#9c179e\"],[0.4444444444444444,\"#bd3786\"],[0.5555555555555556,\"#d8576b\"],[0.6666666666666666,\"#ed7953\"],[0.7777777777777778,\"#fb9f3a\"],[0.8888888888888888,\"#fdca26\"],[1.0,\"#f0f921\"]],\"type\":\"heatmapgl\"}],\"heatmap\":[{\"colorbar\":{\"outlinewidth\":0,\"ticks\":\"\"},\"colorscale\":[[0.0,\"#0d0887\"],[0.1111111111111111,\"#46039f\"],[0.2222222222222222,\"#7201a8\"],[0.3333333333333333,\"#9c179e\"],[0.4444444444444444,\"#bd3786\"],[0.5555555555555556,\"#d8576b\"],[0.6666666666666666,\"#ed7953\"],[0.7777777777777778,\"#fb9f3a\"],[0.8888888888888888,\"#fdca26\"],[1.0,\"#f0f921\"]],\"type\":\"heatmap\"}],\"histogram2dcontour\":[{\"colorbar\":{\"outlinewidth\":0,\"ticks\":\"\"},\"colorscale\":[[0.0,\"#0d0887\"],[0.1111111111111111,\"#46039f\"],[0.2222222222222222,\"#7201a8\"],[0.3333333333333333,\"#9c179e\"],[0.4444444444444444,\"#bd3786\"],[0.5555555555555556,\"#d8576b\"],[0.6666666666666666,\"#ed7953\"],[0.7777777777777778,\"#fb9f3a\"],[0.8888888888888888,\"#fdca26\"],[1.0,\"#f0f921\"]],\"type\":\"histogram2dcontour\"}],\"histogram2d\":[{\"colorbar\":{\"outlinewidth\":0,\"ticks\":\"\"},\"colorscale\":[[0.0,\"#0d0887\"],[0.1111111111111111,\"#46039f\"],[0.2222222222222222,\"#7201a8\"],[0.3333333333333333,\"#9c179e\"],[0.4444444444444444,\"#bd3786\"],[0.5555555555555556,\"#d8576b\"],[0.6666666666666666,\"#ed7953\"],[0.7777777777777778,\"#fb9f3a\"],[0.8888888888888888,\"#fdca26\"],[1.0,\"#f0f921\"]],\"type\":\"histogram2d\"}],\"histogram\":[{\"marker\":{\"pattern\":{\"fillmode\":\"overlay\",\"size\":10,\"solidity\":0.2}},\"type\":\"histogram\"}],\"mesh3d\":[{\"colorbar\":{\"outlinewidth\":0,\"ticks\":\"\"},\"type\":\"mesh3d\"}],\"parcoords\":[{\"line\":{\"colorbar\":{\"outlinewidth\":0,\"ticks\":\"\"}},\"type\":\"parcoords\"}],\"pie\":[{\"automargin\":true,\"type\":\"pie\"}],\"scatter3d\":[{\"line\":{\"colorbar\":{\"outlinewidth\":0,\"ticks\":\"\"}},\"marker\":{\"colorbar\":{\"outlinewidth\":0,\"ticks\":\"\"}},\"type\":\"scatter3d\"}],\"scattercarpet\":[{\"marker\":{\"colorbar\":{\"outlinewidth\":0,\"ticks\":\"\"}},\"type\":\"scattercarpet\"}],\"scattergeo\":[{\"marker\":{\"colorbar\":{\"outlinewidth\":0,\"ticks\":\"\"}},\"type\":\"scattergeo\"}],\"scattergl\":[{\"marker\":{\"line\":{\"color\":\"#283442\"}},\"type\":\"scattergl\"}],\"scattermapbox\":[{\"marker\":{\"colorbar\":{\"outlinewidth\":0,\"ticks\":\"\"}},\"type\":\"scattermapbox\"}],\"scatterpolargl\":[{\"marker\":{\"colorbar\":{\"outlinewidth\":0,\"ticks\":\"\"}},\"type\":\"scatterpolargl\"}],\"scatterpolar\":[{\"marker\":{\"colorbar\":{\"outlinewidth\":0,\"ticks\":\"\"}},\"type\":\"scatterpolar\"}],\"scatter\":[{\"marker\":{\"line\":{\"color\":\"#283442\"}},\"type\":\"scatter\"}],\"scatterternary\":[{\"marker\":{\"colorbar\":{\"outlinewidth\":0,\"ticks\":\"\"}},\"type\":\"scatterternary\"}],\"surface\":[{\"colorbar\":{\"outlinewidth\":0,\"ticks\":\"\"},\"colorscale\":[[0.0,\"#0d0887\"],[0.1111111111111111,\"#46039f\"],[0.2222222222222222,\"#7201a8\"],[0.3333333333333333,\"#9c179e\"],[0.4444444444444444,\"#bd3786\"],[0.5555555555555556,\"#d8576b\"],[0.6666666666666666,\"#ed7953\"],[0.7777777777777778,\"#fb9f3a\"],[0.8888888888888888,\"#fdca26\"],[1.0,\"#f0f921\"]],\"type\":\"surface\"}],\"table\":[{\"cells\":{\"fill\":{\"color\":\"#506784\"},\"line\":{\"color\":\"rgb(17,17,17)\"}},\"header\":{\"fill\":{\"color\":\"#2a3f5f\"},\"line\":{\"color\":\"rgb(17,17,17)\"}},\"type\":\"table\"}]},\"layout\":{\"annotationdefaults\":{\"arrowcolor\":\"#f2f5fa\",\"arrowhead\":0,\"arrowwidth\":1},\"autotypenumbers\":\"strict\",\"coloraxis\":{\"colorbar\":{\"outlinewidth\":0,\"ticks\":\"\"}},\"colorscale\":{\"diverging\":[[0,\"#8e0152\"],[0.1,\"#c51b7d\"],[0.2,\"#de77ae\"],[0.3,\"#f1b6da\"],[0.4,\"#fde0ef\"],[0.5,\"#f7f7f7\"],[0.6,\"#e6f5d0\"],[0.7,\"#b8e186\"],[0.8,\"#7fbc41\"],[0.9,\"#4d9221\"],[1,\"#276419\"]],\"sequential\":[[0.0,\"#0d0887\"],[0.1111111111111111,\"#46039f\"],[0.2222222222222222,\"#7201a8\"],[0.3333333333333333,\"#9c179e\"],[0.4444444444444444,\"#bd3786\"],[0.5555555555555556,\"#d8576b\"],[0.6666666666666666,\"#ed7953\"],[0.7777777777777778,\"#fb9f3a\"],[0.8888888888888888,\"#fdca26\"],[1.0,\"#f0f921\"]],\"sequentialminus\":[[0.0,\"#0d0887\"],[0.1111111111111111,\"#46039f\"],[0.2222222222222222,\"#7201a8\"],[0.3333333333333333,\"#9c179e\"],[0.4444444444444444,\"#bd3786\"],[0.5555555555555556,\"#d8576b\"],[0.6666666666666666,\"#ed7953\"],[0.7777777777777778,\"#fb9f3a\"],[0.8888888888888888,\"#fdca26\"],[1.0,\"#f0f921\"]]},\"colorway\":[\"#636efa\",\"#EF553B\",\"#00cc96\",\"#ab63fa\",\"#FFA15A\",\"#19d3f3\",\"#FF6692\",\"#B6E880\",\"#FF97FF\",\"#FECB52\"],\"font\":{\"color\":\"#f2f5fa\"},\"geo\":{\"bgcolor\":\"rgb(17,17,17)\",\"lakecolor\":\"rgb(17,17,17)\",\"landcolor\":\"rgb(17,17,17)\",\"showlakes\":true,\"showland\":true,\"subunitcolor\":\"#506784\"},\"hoverlabel\":{\"align\":\"left\"},\"hovermode\":\"closest\",\"mapbox\":{\"style\":\"dark\"},\"paper_bgcolor\":\"rgb(17,17,17)\",\"plot_bgcolor\":\"rgb(17,17,17)\",\"polar\":{\"angularaxis\":{\"gridcolor\":\"#506784\",\"linecolor\":\"#506784\",\"ticks\":\"\"},\"bgcolor\":\"rgb(17,17,17)\",\"radialaxis\":{\"gridcolor\":\"#506784\",\"linecolor\":\"#506784\",\"ticks\":\"\"}},\"scene\":{\"xaxis\":{\"backgroundcolor\":\"rgb(17,17,17)\",\"gridcolor\":\"#506784\",\"gridwidth\":2,\"linecolor\":\"#506784\",\"showbackground\":true,\"ticks\":\"\",\"zerolinecolor\":\"#C8D4E3\"},\"yaxis\":{\"backgroundcolor\":\"rgb(17,17,17)\",\"gridcolor\":\"#506784\",\"gridwidth\":2,\"linecolor\":\"#506784\",\"showbackground\":true,\"ticks\":\"\",\"zerolinecolor\":\"#C8D4E3\"},\"zaxis\":{\"backgroundcolor\":\"rgb(17,17,17)\",\"gridcolor\":\"#506784\",\"gridwidth\":2,\"linecolor\":\"#506784\",\"showbackground\":true,\"ticks\":\"\",\"zerolinecolor\":\"#C8D4E3\"}},\"shapedefaults\":{\"line\":{\"color\":\"#f2f5fa\"}},\"sliderdefaults\":{\"bgcolor\":\"#C8D4E3\",\"bordercolor\":\"rgb(17,17,17)\",\"borderwidth\":1,\"tickwidth\":0},\"ternary\":{\"aaxis\":{\"gridcolor\":\"#506784\",\"linecolor\":\"#506784\",\"ticks\":\"\"},\"baxis\":{\"gridcolor\":\"#506784\",\"linecolor\":\"#506784\",\"ticks\":\"\"},\"bgcolor\":\"rgb(17,17,17)\",\"caxis\":{\"gridcolor\":\"#506784\",\"linecolor\":\"#506784\",\"ticks\":\"\"}},\"title\":{\"x\":0.05},\"updatemenudefaults\":{\"bgcolor\":\"#506784\",\"borderwidth\":0},\"xaxis\":{\"automargin\":true,\"gridcolor\":\"#283442\",\"linecolor\":\"#506784\",\"ticks\":\"\",\"title\":{\"standoff\":15},\"zerolinecolor\":\"#283442\",\"zerolinewidth\":2},\"yaxis\":{\"automargin\":true,\"gridcolor\":\"#283442\",\"linecolor\":\"#506784\",\"ticks\":\"\",\"title\":{\"standoff\":15},\"zerolinecolor\":\"#283442\",\"zerolinewidth\":2}}},\"geo\":{\"domain\":{\"x\":[0.0,1.0],\"y\":[0.0,1.0]},\"center\":{}},\"coloraxis\":{\"colorbar\":{\"title\":{\"text\":\"pop2000\"}},\"colorscale\":[[0.0,\"#440154\"],[0.1111111111111111,\"#482878\"],[0.2222222222222222,\"#3e4989\"],[0.3333333333333333,\"#31688e\"],[0.4444444444444444,\"#26828e\"],[0.5555555555555556,\"#1f9e89\"],[0.6666666666666666,\"#35b779\"],[0.7777777777777778,\"#6ece58\"],[0.8888888888888888,\"#b5de2b\"],[1.0,\"#fde725\"]]},\"legend\":{\"tracegroupgap\":0},\"title\":{\"text\":\"2000 Population\"},\"font\":{\"size\":17,\"family\":\"Franklin Gothic\"}},                        {\"responsive\": true}                    ).then(function(){\n",
              "                            \n",
              "var gd = document.getElementById('87ab7eec-f215-4e14-ae22-c3a370927688');\n",
              "var x = new MutationObserver(function (mutations, observer) {{\n",
              "        var display = window.getComputedStyle(gd).display;\n",
              "        if (!display || display === 'none') {{\n",
              "            console.log([gd, 'removed!']);\n",
              "            Plotly.purge(gd);\n",
              "            observer.disconnect();\n",
              "        }}\n",
              "}});\n",
              "\n",
              "// Listen for the removal of the full notebook cells\n",
              "var notebookContainer = gd.closest('#notebook-container');\n",
              "if (notebookContainer) {{\n",
              "    x.observe(notebookContainer, {childList: true});\n",
              "}}\n",
              "\n",
              "// Listen for the clearing of the current output cell\n",
              "var outputEl = gd.closest('.output');\n",
              "if (outputEl) {{\n",
              "    x.observe(outputEl, {childList: true});\n",
              "}}\n",
              "\n",
              "                        })                };                });            </script>        </div>"
            ]
          },
          "metadata": {},
          "output_type": "display_data"
        }
      ],
      "source": [
        "#2000 Population\n",
        "fig = px.choropleth(df,\n",
        "                    locations='country',\n",
        "                    locationmode='country names',\n",
        "                    color='pop2000',  # we indicate the year we are interested in\n",
        "                    hover_name='country',\n",
        "                    title = '2000 Population',\n",
        "                    template='plotly_dark',\n",
        "                    color_continuous_scale='Viridis'\n",
        "                    )\n",
        "fig.update_layout(font = dict(size = 17, family=\"Franklin Gothic\"))\n",
        "fig.show()"
      ]
    },
    {
      "cell_type": "code",
      "execution_count": null,
      "id": "b140a69b",
      "metadata": {
        "execution": {
          "iopub.execute_input": "2023-06-02T04:52:24.232166Z",
          "iopub.status.busy": "2023-06-02T04:52:24.231305Z",
          "iopub.status.idle": "2023-06-02T04:52:24.303794Z",
          "shell.execute_reply": "2023-06-02T04:52:24.302796Z"
        },
        "papermill": {
          "duration": 0.11179,
          "end_time": "2023-06-02T04:52:24.306955",
          "exception": false,
          "start_time": "2023-06-02T04:52:24.195165",
          "status": "completed"
        },
        "tags": [],
        "id": "b140a69b",
        "outputId": "40f4e1cf-db3f-4042-d987-3492ae486417"
      },
      "outputs": [
        {
          "data": {
            "application/vnd.plotly.v1+json": {
              "config": {
                "plotlyServerURL": "https://plot.ly"
              },
              "data": [
                {
                  "coloraxis": "coloraxis",
                  "geo": "geo",
                  "hovertemplate": "<b>%{hovertext}</b><br><br>country=%{location}<br>pop2010=%{z}<extra></extra>",
                  "hovertext": [
                    "India",
                    "China",
                    "United States",
                    "Indonesia",
                    "Pakistan",
                    "Nigeria",
                    "Brazil",
                    "Bangladesh",
                    "Russia",
                    "Mexico",
                    "Ethiopia",
                    "Japan",
                    "Philippines",
                    "Egypt",
                    "DR Congo",
                    "Vietnam",
                    "Iran",
                    "Turkey",
                    "Germany",
                    "Thailand",
                    "United Kingdom",
                    "Tanzania",
                    "France",
                    "South Africa",
                    "Italy",
                    "Kenya",
                    "Myanmar",
                    "Colombia",
                    "South Korea",
                    "Uganda",
                    "Sudan",
                    "Spain",
                    "Argentina",
                    "Algeria",
                    "Iraq",
                    "Afghanistan",
                    "Poland",
                    "Canada",
                    "Morocco",
                    "Saudi Arabia",
                    "Ukraine",
                    "Angola",
                    "Uzbekistan",
                    "Yemen",
                    "Peru",
                    "Malaysia",
                    "Ghana",
                    "Mozambique",
                    "Nepal",
                    "Madagascar",
                    "Ivory Coast",
                    "Venezuela",
                    "Cameroon",
                    "Niger",
                    "Australia",
                    "North Korea",
                    "Taiwan",
                    "Mali",
                    "Burkina Faso",
                    "Syria",
                    "Sri Lanka",
                    "Malawi",
                    "Zambia",
                    "Romania",
                    "Chile",
                    "Kazakhstan",
                    "Chad",
                    "Ecuador",
                    "Somalia",
                    "Guatemala",
                    "Senegal",
                    "Netherlands",
                    "Cambodia",
                    "Zimbabwe",
                    "Guinea",
                    "Rwanda",
                    "Benin",
                    "Burundi",
                    "Tunisia",
                    "Bolivia",
                    "Haiti",
                    "Belgium",
                    "Jordan",
                    "Dominican Republic",
                    "Cuba",
                    "South Sudan",
                    "Sweden",
                    "Honduras",
                    "Czech Republic",
                    "Azerbaijan",
                    "Greece",
                    "Papua New Guinea",
                    "Portugal",
                    "Hungary",
                    "Tajikistan",
                    "United Arab Emirates",
                    "Belarus",
                    "Israel",
                    "Togo",
                    "Austria",
                    "Switzerland",
                    "Sierra Leone",
                    "Laos",
                    "Hong Kong",
                    "Serbia",
                    "Nicaragua",
                    "Libya",
                    "Paraguay",
                    "Kyrgyzstan",
                    "Bulgaria",
                    "Turkmenistan",
                    "El Salvador",
                    "Republic of the Congo",
                    "Singapore",
                    "Denmark",
                    "Slovakia",
                    "Central African Republic",
                    "Finland",
                    "Norway",
                    "Liberia",
                    "Palestine",
                    "Lebanon",
                    "New Zealand",
                    "Costa Rica",
                    "Ireland",
                    "Mauritania",
                    "Oman",
                    "Panama",
                    "Kuwait",
                    "Croatia",
                    "Eritrea",
                    "Georgia",
                    "Mongolia",
                    "Moldova",
                    "Uruguay",
                    "Puerto Rico",
                    "Bosnia and Herzegovina",
                    "Albania",
                    "Jamaica",
                    "Armenia",
                    "Gambia",
                    "Lithuania",
                    "Qatar",
                    "Botswana",
                    "Namibia",
                    "Gabon",
                    "Lesotho",
                    "Guinea-Bissau",
                    "Slovenia",
                    "North Macedonia",
                    "Latvia",
                    "Equatorial Guinea",
                    "Trinidad and Tobago",
                    "Bahrain",
                    "Timor-Leste",
                    "Estonia",
                    "Mauritius",
                    "Cyprus",
                    "Eswatini",
                    "Djibouti",
                    "Reunion",
                    "Fiji",
                    "Comoros",
                    "Guyana",
                    "Bhutan",
                    "Solomon Islands",
                    "Macau",
                    "Luxembourg",
                    "Montenegro",
                    "Suriname",
                    "Cape Verde",
                    "Western Sahara",
                    "Malta",
                    "Maldives",
                    "Brunei",
                    "Bahamas",
                    "Belize",
                    "Guadeloupe",
                    "Iceland",
                    "Martinique",
                    "Mayotte",
                    "Vanuatu",
                    "French Guiana",
                    "French Polynesia",
                    "New Caledonia",
                    "Barbados",
                    "Sao Tome and Principe",
                    "Samoa",
                    "Curacao",
                    "Saint Lucia",
                    "Guam",
                    "Kiribati",
                    "Grenada",
                    "Micronesia",
                    "Jersey",
                    "Tonga",
                    "Seychelles",
                    "Aruba",
                    "Saint Vincent and the Grenadines",
                    "United States Virgin Islands",
                    "Antigua and Barbuda",
                    "Isle of Man",
                    "Andorra",
                    "Dominica",
                    "Cayman Islands",
                    "Bermuda",
                    "Guernsey",
                    "Greenland",
                    "Faroe Islands",
                    "Northern Mariana Islands",
                    "Saint Kitts and Nevis",
                    "Turks and Caicos Islands",
                    "Sint Maarten",
                    "American Samoa",
                    "Marshall Islands",
                    "Liechtenstein",
                    "Monaco",
                    "San Marino",
                    "Gibraltar",
                    "Saint Martin",
                    "British Virgin Islands",
                    "Palau",
                    "Cook Islands",
                    "Anguilla",
                    "Nauru",
                    "Wallis and Futuna",
                    "Tuvalu",
                    "Saint Barthelemy",
                    "Saint Pierre and Miquelon",
                    "Montserrat",
                    "Falkland Islands",
                    "Niue",
                    "Tokelau",
                    "Vatican City"
                  ],
                  "locationmode": "country names",
                  "locations": [
                    "India",
                    "China",
                    "United States",
                    "Indonesia",
                    "Pakistan",
                    "Nigeria",
                    "Brazil",
                    "Bangladesh",
                    "Russia",
                    "Mexico",
                    "Ethiopia",
                    "Japan",
                    "Philippines",
                    "Egypt",
                    "DR Congo",
                    "Vietnam",
                    "Iran",
                    "Turkey",
                    "Germany",
                    "Thailand",
                    "United Kingdom",
                    "Tanzania",
                    "France",
                    "South Africa",
                    "Italy",
                    "Kenya",
                    "Myanmar",
                    "Colombia",
                    "South Korea",
                    "Uganda",
                    "Sudan",
                    "Spain",
                    "Argentina",
                    "Algeria",
                    "Iraq",
                    "Afghanistan",
                    "Poland",
                    "Canada",
                    "Morocco",
                    "Saudi Arabia",
                    "Ukraine",
                    "Angola",
                    "Uzbekistan",
                    "Yemen",
                    "Peru",
                    "Malaysia",
                    "Ghana",
                    "Mozambique",
                    "Nepal",
                    "Madagascar",
                    "Ivory Coast",
                    "Venezuela",
                    "Cameroon",
                    "Niger",
                    "Australia",
                    "North Korea",
                    "Taiwan",
                    "Mali",
                    "Burkina Faso",
                    "Syria",
                    "Sri Lanka",
                    "Malawi",
                    "Zambia",
                    "Romania",
                    "Chile",
                    "Kazakhstan",
                    "Chad",
                    "Ecuador",
                    "Somalia",
                    "Guatemala",
                    "Senegal",
                    "Netherlands",
                    "Cambodia",
                    "Zimbabwe",
                    "Guinea",
                    "Rwanda",
                    "Benin",
                    "Burundi",
                    "Tunisia",
                    "Bolivia",
                    "Haiti",
                    "Belgium",
                    "Jordan",
                    "Dominican Republic",
                    "Cuba",
                    "South Sudan",
                    "Sweden",
                    "Honduras",
                    "Czech Republic",
                    "Azerbaijan",
                    "Greece",
                    "Papua New Guinea",
                    "Portugal",
                    "Hungary",
                    "Tajikistan",
                    "United Arab Emirates",
                    "Belarus",
                    "Israel",
                    "Togo",
                    "Austria",
                    "Switzerland",
                    "Sierra Leone",
                    "Laos",
                    "Hong Kong",
                    "Serbia",
                    "Nicaragua",
                    "Libya",
                    "Paraguay",
                    "Kyrgyzstan",
                    "Bulgaria",
                    "Turkmenistan",
                    "El Salvador",
                    "Republic of the Congo",
                    "Singapore",
                    "Denmark",
                    "Slovakia",
                    "Central African Republic",
                    "Finland",
                    "Norway",
                    "Liberia",
                    "Palestine",
                    "Lebanon",
                    "New Zealand",
                    "Costa Rica",
                    "Ireland",
                    "Mauritania",
                    "Oman",
                    "Panama",
                    "Kuwait",
                    "Croatia",
                    "Eritrea",
                    "Georgia",
                    "Mongolia",
                    "Moldova",
                    "Uruguay",
                    "Puerto Rico",
                    "Bosnia and Herzegovina",
                    "Albania",
                    "Jamaica",
                    "Armenia",
                    "Gambia",
                    "Lithuania",
                    "Qatar",
                    "Botswana",
                    "Namibia",
                    "Gabon",
                    "Lesotho",
                    "Guinea-Bissau",
                    "Slovenia",
                    "North Macedonia",
                    "Latvia",
                    "Equatorial Guinea",
                    "Trinidad and Tobago",
                    "Bahrain",
                    "Timor-Leste",
                    "Estonia",
                    "Mauritius",
                    "Cyprus",
                    "Eswatini",
                    "Djibouti",
                    "Reunion",
                    "Fiji",
                    "Comoros",
                    "Guyana",
                    "Bhutan",
                    "Solomon Islands",
                    "Macau",
                    "Luxembourg",
                    "Montenegro",
                    "Suriname",
                    "Cape Verde",
                    "Western Sahara",
                    "Malta",
                    "Maldives",
                    "Brunei",
                    "Bahamas",
                    "Belize",
                    "Guadeloupe",
                    "Iceland",
                    "Martinique",
                    "Mayotte",
                    "Vanuatu",
                    "French Guiana",
                    "French Polynesia",
                    "New Caledonia",
                    "Barbados",
                    "Sao Tome and Principe",
                    "Samoa",
                    "Curacao",
                    "Saint Lucia",
                    "Guam",
                    "Kiribati",
                    "Grenada",
                    "Micronesia",
                    "Jersey",
                    "Tonga",
                    "Seychelles",
                    "Aruba",
                    "Saint Vincent and the Grenadines",
                    "United States Virgin Islands",
                    "Antigua and Barbuda",
                    "Isle of Man",
                    "Andorra",
                    "Dominica",
                    "Cayman Islands",
                    "Bermuda",
                    "Guernsey",
                    "Greenland",
                    "Faroe Islands",
                    "Northern Mariana Islands",
                    "Saint Kitts and Nevis",
                    "Turks and Caicos Islands",
                    "Sint Maarten",
                    "American Samoa",
                    "Marshall Islands",
                    "Liechtenstein",
                    "Monaco",
                    "San Marino",
                    "Gibraltar",
                    "Saint Martin",
                    "British Virgin Islands",
                    "Palau",
                    "Cook Islands",
                    "Anguilla",
                    "Nauru",
                    "Wallis and Futuna",
                    "Tuvalu",
                    "Saint Barthelemy",
                    "Saint Pierre and Miquelon",
                    "Montserrat",
                    "Falkland Islands",
                    "Niue",
                    "Tokelau",
                    "Vatican City"
                  ],
                  "name": "",
                  "type": "choropleth",
                  "z": [
                    1240613620,
                    1348191368,
                    311182845,
                    244016173,
                    194454498,
                    160952853,
                    196353492,
                    148391139,
                    143242599,
                    112532401,
                    89237791,
                    128105431,
                    94636700,
                    87252413,
                    66391257,
                    87411012,
                    75373855,
                    73195345,
                    81325090,
                    68270489,
                    62760039,
                    45110527,
                    62444567,
                    51784921,
                    59822450,
                    41517895,
                    49390988,
                    44816108,
                    48813042,
                    32341728,
                    33739933,
                    46572772,
                    41100123,
                    35856344,
                    31264875,
                    28189672,
                    38597353,
                    33963412,
                    32464865,
                    29411929,
                    45683020,
                    23364185,
                    28614227,
                    24743946,
                    29229572,
                    28717731,
                    25574719,
                    23073723,
                    27161567,
                    21731053,
                    21120042,
                    28715022,
                    19878036,
                    16647543,
                    22019168,
                    24686435,
                    23083083,
                    15529181,
                    16116845,
                    22337563,
                    20668557,
                    14718422,
                    13792086,
                    20335211,
                    17004162,
                    16627837,
                    11894727,
                    14989585,
                    12026649,
                    14543121,
                    12530121,
                    16617117,
                    14363532,
                    12839771,
                    10270728,
                    10309031,
                    9445710,
                    9126605,
                    10895063,
                    10223270,
                    9842880,
                    10877947,
                    6931258,
                    9775755,
                    11290417,
                    9714419,
                    9381729,
                    8450933,
                    10464749,
                    9237202,
                    11033783,
                    7583269,
                    10588401,
                    9986825,
                    7621779,
                    8481771,
                    9731427,
                    7328445,
                    6571855,
                    8362829,
                    7822435,
                    6436698,
                    6323418,
                    7132438,
                    7653748,
                    5855734,
                    6491988,
                    5768613,
                    5483774,
                    7592273,
                    5267970,
                    6114034,
                    4437884,
                    5163590,
                    5550849,
                    5396424,
                    4660067,
                    5363271,
                    4889741,
                    4019956,
                    3992278,
                    4995800,
                    4346338,
                    4622252,
                    4524585,
                    3419461,
                    2881914,
                    3623617,
                    2943356,
                    4368682,
                    3147727,
                    3836831,
                    2702520,
                    3678186,
                    3352651,
                    3717922,
                    3811088,
                    2913399,
                    2733896,
                    2946293,
                    1937275,
                    3139019,
                    1713504,
                    2091664,
                    2099271,
                    1711105,
                    2022747,
                    1567220,
                    2057287,
                    2093828,
                    2101530,
                    1094524,
                    1410296,
                    1213645,
                    1088486,
                    1331535,
                    1283330,
                    1129686,
                    1099920,
                    919199,
                    890130,
                    905169,
                    656024,
                    747932,
                    705516,
                    540394,
                    557297,
                    507070,
                    631044,
                    546080,
                    521212,
                    413296,
                    418755,
                    361575,
                    396053,
                    373272,
                    322106,
                    403072,
                    318333,
                    392181,
                    211786,
                    245453,
                    228453,
                    283788,
                    261426,
                    274711,
                    182138,
                    194672,
                    159380,
                    170935,
                    164905,
                    107995,
                    114039,
                    107588,
                    96151,
                    107383,
                    92409,
                    100341,
                    109308,
                    106142,
                    85695,
                    83828,
                    71519,
                    68755,
                    54074,
                    63447,
                    60782,
                    56351,
                    48410,
                    54087,
                    47403,
                    29726,
                    33034,
                    54849,
                    53416,
                    35926,
                    33178,
                    31608,
                    31262,
                    36458,
                    27556,
                    18540,
                    17212,
                    13172,
                    10241,
                    13142,
                    10550,
                    8988,
                    6052,
                    4938,
                    3187,
                    1812,
                    1367,
                    596
                  ]
                }
              ],
              "layout": {
                "coloraxis": {
                  "colorbar": {
                    "title": {
                      "text": "pop2010"
                    }
                  },
                  "colorscale": [
                    [
                      0,
                      "#440154"
                    ],
                    [
                      0.1111111111111111,
                      "#482878"
                    ],
                    [
                      0.2222222222222222,
                      "#3e4989"
                    ],
                    [
                      0.3333333333333333,
                      "#31688e"
                    ],
                    [
                      0.4444444444444444,
                      "#26828e"
                    ],
                    [
                      0.5555555555555556,
                      "#1f9e89"
                    ],
                    [
                      0.6666666666666666,
                      "#35b779"
                    ],
                    [
                      0.7777777777777778,
                      "#6ece58"
                    ],
                    [
                      0.8888888888888888,
                      "#b5de2b"
                    ],
                    [
                      1,
                      "#fde725"
                    ]
                  ]
                },
                "geo": {
                  "center": {},
                  "domain": {
                    "x": [
                      0,
                      1
                    ],
                    "y": [
                      0,
                      1
                    ]
                  }
                },
                "legend": {
                  "tracegroupgap": 0
                },
                "template": {
                  "data": {
                    "bar": [
                      {
                        "error_x": {
                          "color": "#2a3f5f"
                        },
                        "error_y": {
                          "color": "#2a3f5f"
                        },
                        "marker": {
                          "line": {
                            "color": "#E5ECF6",
                            "width": 0.5
                          },
                          "pattern": {
                            "fillmode": "overlay",
                            "size": 10,
                            "solidity": 0.2
                          }
                        },
                        "type": "bar"
                      }
                    ],
                    "barpolar": [
                      {
                        "marker": {
                          "line": {
                            "color": "#E5ECF6",
                            "width": 0.5
                          },
                          "pattern": {
                            "fillmode": "overlay",
                            "size": 10,
                            "solidity": 0.2
                          }
                        },
                        "type": "barpolar"
                      }
                    ],
                    "carpet": [
                      {
                        "aaxis": {
                          "endlinecolor": "#2a3f5f",
                          "gridcolor": "white",
                          "linecolor": "white",
                          "minorgridcolor": "white",
                          "startlinecolor": "#2a3f5f"
                        },
                        "baxis": {
                          "endlinecolor": "#2a3f5f",
                          "gridcolor": "white",
                          "linecolor": "white",
                          "minorgridcolor": "white",
                          "startlinecolor": "#2a3f5f"
                        },
                        "type": "carpet"
                      }
                    ],
                    "choropleth": [
                      {
                        "colorbar": {
                          "outlinewidth": 0,
                          "ticks": ""
                        },
                        "type": "choropleth"
                      }
                    ],
                    "contour": [
                      {
                        "colorbar": {
                          "outlinewidth": 0,
                          "ticks": ""
                        },
                        "colorscale": [
                          [
                            0,
                            "#0d0887"
                          ],
                          [
                            0.1111111111111111,
                            "#46039f"
                          ],
                          [
                            0.2222222222222222,
                            "#7201a8"
                          ],
                          [
                            0.3333333333333333,
                            "#9c179e"
                          ],
                          [
                            0.4444444444444444,
                            "#bd3786"
                          ],
                          [
                            0.5555555555555556,
                            "#d8576b"
                          ],
                          [
                            0.6666666666666666,
                            "#ed7953"
                          ],
                          [
                            0.7777777777777778,
                            "#fb9f3a"
                          ],
                          [
                            0.8888888888888888,
                            "#fdca26"
                          ],
                          [
                            1,
                            "#f0f921"
                          ]
                        ],
                        "type": "contour"
                      }
                    ],
                    "contourcarpet": [
                      {
                        "colorbar": {
                          "outlinewidth": 0,
                          "ticks": ""
                        },
                        "type": "contourcarpet"
                      }
                    ],
                    "heatmap": [
                      {
                        "colorbar": {
                          "outlinewidth": 0,
                          "ticks": ""
                        },
                        "colorscale": [
                          [
                            0,
                            "#0d0887"
                          ],
                          [
                            0.1111111111111111,
                            "#46039f"
                          ],
                          [
                            0.2222222222222222,
                            "#7201a8"
                          ],
                          [
                            0.3333333333333333,
                            "#9c179e"
                          ],
                          [
                            0.4444444444444444,
                            "#bd3786"
                          ],
                          [
                            0.5555555555555556,
                            "#d8576b"
                          ],
                          [
                            0.6666666666666666,
                            "#ed7953"
                          ],
                          [
                            0.7777777777777778,
                            "#fb9f3a"
                          ],
                          [
                            0.8888888888888888,
                            "#fdca26"
                          ],
                          [
                            1,
                            "#f0f921"
                          ]
                        ],
                        "type": "heatmap"
                      }
                    ],
                    "heatmapgl": [
                      {
                        "colorbar": {
                          "outlinewidth": 0,
                          "ticks": ""
                        },
                        "colorscale": [
                          [
                            0,
                            "#0d0887"
                          ],
                          [
                            0.1111111111111111,
                            "#46039f"
                          ],
                          [
                            0.2222222222222222,
                            "#7201a8"
                          ],
                          [
                            0.3333333333333333,
                            "#9c179e"
                          ],
                          [
                            0.4444444444444444,
                            "#bd3786"
                          ],
                          [
                            0.5555555555555556,
                            "#d8576b"
                          ],
                          [
                            0.6666666666666666,
                            "#ed7953"
                          ],
                          [
                            0.7777777777777778,
                            "#fb9f3a"
                          ],
                          [
                            0.8888888888888888,
                            "#fdca26"
                          ],
                          [
                            1,
                            "#f0f921"
                          ]
                        ],
                        "type": "heatmapgl"
                      }
                    ],
                    "histogram": [
                      {
                        "marker": {
                          "pattern": {
                            "fillmode": "overlay",
                            "size": 10,
                            "solidity": 0.2
                          }
                        },
                        "type": "histogram"
                      }
                    ],
                    "histogram2d": [
                      {
                        "colorbar": {
                          "outlinewidth": 0,
                          "ticks": ""
                        },
                        "colorscale": [
                          [
                            0,
                            "#0d0887"
                          ],
                          [
                            0.1111111111111111,
                            "#46039f"
                          ],
                          [
                            0.2222222222222222,
                            "#7201a8"
                          ],
                          [
                            0.3333333333333333,
                            "#9c179e"
                          ],
                          [
                            0.4444444444444444,
                            "#bd3786"
                          ],
                          [
                            0.5555555555555556,
                            "#d8576b"
                          ],
                          [
                            0.6666666666666666,
                            "#ed7953"
                          ],
                          [
                            0.7777777777777778,
                            "#fb9f3a"
                          ],
                          [
                            0.8888888888888888,
                            "#fdca26"
                          ],
                          [
                            1,
                            "#f0f921"
                          ]
                        ],
                        "type": "histogram2d"
                      }
                    ],
                    "histogram2dcontour": [
                      {
                        "colorbar": {
                          "outlinewidth": 0,
                          "ticks": ""
                        },
                        "colorscale": [
                          [
                            0,
                            "#0d0887"
                          ],
                          [
                            0.1111111111111111,
                            "#46039f"
                          ],
                          [
                            0.2222222222222222,
                            "#7201a8"
                          ],
                          [
                            0.3333333333333333,
                            "#9c179e"
                          ],
                          [
                            0.4444444444444444,
                            "#bd3786"
                          ],
                          [
                            0.5555555555555556,
                            "#d8576b"
                          ],
                          [
                            0.6666666666666666,
                            "#ed7953"
                          ],
                          [
                            0.7777777777777778,
                            "#fb9f3a"
                          ],
                          [
                            0.8888888888888888,
                            "#fdca26"
                          ],
                          [
                            1,
                            "#f0f921"
                          ]
                        ],
                        "type": "histogram2dcontour"
                      }
                    ],
                    "mesh3d": [
                      {
                        "colorbar": {
                          "outlinewidth": 0,
                          "ticks": ""
                        },
                        "type": "mesh3d"
                      }
                    ],
                    "parcoords": [
                      {
                        "line": {
                          "colorbar": {
                            "outlinewidth": 0,
                            "ticks": ""
                          }
                        },
                        "type": "parcoords"
                      }
                    ],
                    "pie": [
                      {
                        "automargin": true,
                        "type": "pie"
                      }
                    ],
                    "scatter": [
                      {
                        "fillpattern": {
                          "fillmode": "overlay",
                          "size": 10,
                          "solidity": 0.2
                        },
                        "type": "scatter"
                      }
                    ],
                    "scatter3d": [
                      {
                        "line": {
                          "colorbar": {
                            "outlinewidth": 0,
                            "ticks": ""
                          }
                        },
                        "marker": {
                          "colorbar": {
                            "outlinewidth": 0,
                            "ticks": ""
                          }
                        },
                        "type": "scatter3d"
                      }
                    ],
                    "scattercarpet": [
                      {
                        "marker": {
                          "colorbar": {
                            "outlinewidth": 0,
                            "ticks": ""
                          }
                        },
                        "type": "scattercarpet"
                      }
                    ],
                    "scattergeo": [
                      {
                        "marker": {
                          "colorbar": {
                            "outlinewidth": 0,
                            "ticks": ""
                          }
                        },
                        "type": "scattergeo"
                      }
                    ],
                    "scattergl": [
                      {
                        "marker": {
                          "colorbar": {
                            "outlinewidth": 0,
                            "ticks": ""
                          }
                        },
                        "type": "scattergl"
                      }
                    ],
                    "scattermapbox": [
                      {
                        "marker": {
                          "colorbar": {
                            "outlinewidth": 0,
                            "ticks": ""
                          }
                        },
                        "type": "scattermapbox"
                      }
                    ],
                    "scatterpolar": [
                      {
                        "marker": {
                          "colorbar": {
                            "outlinewidth": 0,
                            "ticks": ""
                          }
                        },
                        "type": "scatterpolar"
                      }
                    ],
                    "scatterpolargl": [
                      {
                        "marker": {
                          "colorbar": {
                            "outlinewidth": 0,
                            "ticks": ""
                          }
                        },
                        "type": "scatterpolargl"
                      }
                    ],
                    "scatterternary": [
                      {
                        "marker": {
                          "colorbar": {
                            "outlinewidth": 0,
                            "ticks": ""
                          }
                        },
                        "type": "scatterternary"
                      }
                    ],
                    "surface": [
                      {
                        "colorbar": {
                          "outlinewidth": 0,
                          "ticks": ""
                        },
                        "colorscale": [
                          [
                            0,
                            "#0d0887"
                          ],
                          [
                            0.1111111111111111,
                            "#46039f"
                          ],
                          [
                            0.2222222222222222,
                            "#7201a8"
                          ],
                          [
                            0.3333333333333333,
                            "#9c179e"
                          ],
                          [
                            0.4444444444444444,
                            "#bd3786"
                          ],
                          [
                            0.5555555555555556,
                            "#d8576b"
                          ],
                          [
                            0.6666666666666666,
                            "#ed7953"
                          ],
                          [
                            0.7777777777777778,
                            "#fb9f3a"
                          ],
                          [
                            0.8888888888888888,
                            "#fdca26"
                          ],
                          [
                            1,
                            "#f0f921"
                          ]
                        ],
                        "type": "surface"
                      }
                    ],
                    "table": [
                      {
                        "cells": {
                          "fill": {
                            "color": "#EBF0F8"
                          },
                          "line": {
                            "color": "white"
                          }
                        },
                        "header": {
                          "fill": {
                            "color": "#C8D4E3"
                          },
                          "line": {
                            "color": "white"
                          }
                        },
                        "type": "table"
                      }
                    ]
                  },
                  "layout": {
                    "annotationdefaults": {
                      "arrowcolor": "#2a3f5f",
                      "arrowhead": 0,
                      "arrowwidth": 1
                    },
                    "autotypenumbers": "strict",
                    "coloraxis": {
                      "colorbar": {
                        "outlinewidth": 0,
                        "ticks": ""
                      }
                    },
                    "colorscale": {
                      "diverging": [
                        [
                          0,
                          "#8e0152"
                        ],
                        [
                          0.1,
                          "#c51b7d"
                        ],
                        [
                          0.2,
                          "#de77ae"
                        ],
                        [
                          0.3,
                          "#f1b6da"
                        ],
                        [
                          0.4,
                          "#fde0ef"
                        ],
                        [
                          0.5,
                          "#f7f7f7"
                        ],
                        [
                          0.6,
                          "#e6f5d0"
                        ],
                        [
                          0.7,
                          "#b8e186"
                        ],
                        [
                          0.8,
                          "#7fbc41"
                        ],
                        [
                          0.9,
                          "#4d9221"
                        ],
                        [
                          1,
                          "#276419"
                        ]
                      ],
                      "sequential": [
                        [
                          0,
                          "#0d0887"
                        ],
                        [
                          0.1111111111111111,
                          "#46039f"
                        ],
                        [
                          0.2222222222222222,
                          "#7201a8"
                        ],
                        [
                          0.3333333333333333,
                          "#9c179e"
                        ],
                        [
                          0.4444444444444444,
                          "#bd3786"
                        ],
                        [
                          0.5555555555555556,
                          "#d8576b"
                        ],
                        [
                          0.6666666666666666,
                          "#ed7953"
                        ],
                        [
                          0.7777777777777778,
                          "#fb9f3a"
                        ],
                        [
                          0.8888888888888888,
                          "#fdca26"
                        ],
                        [
                          1,
                          "#f0f921"
                        ]
                      ],
                      "sequentialminus": [
                        [
                          0,
                          "#0d0887"
                        ],
                        [
                          0.1111111111111111,
                          "#46039f"
                        ],
                        [
                          0.2222222222222222,
                          "#7201a8"
                        ],
                        [
                          0.3333333333333333,
                          "#9c179e"
                        ],
                        [
                          0.4444444444444444,
                          "#bd3786"
                        ],
                        [
                          0.5555555555555556,
                          "#d8576b"
                        ],
                        [
                          0.6666666666666666,
                          "#ed7953"
                        ],
                        [
                          0.7777777777777778,
                          "#fb9f3a"
                        ],
                        [
                          0.8888888888888888,
                          "#fdca26"
                        ],
                        [
                          1,
                          "#f0f921"
                        ]
                      ]
                    },
                    "colorway": [
                      "#636efa",
                      "#EF553B",
                      "#00cc96",
                      "#ab63fa",
                      "#FFA15A",
                      "#19d3f3",
                      "#FF6692",
                      "#B6E880",
                      "#FF97FF",
                      "#FECB52"
                    ],
                    "font": {
                      "color": "#2a3f5f"
                    },
                    "geo": {
                      "bgcolor": "white",
                      "lakecolor": "white",
                      "landcolor": "#E5ECF6",
                      "showlakes": true,
                      "showland": true,
                      "subunitcolor": "white"
                    },
                    "hoverlabel": {
                      "align": "left"
                    },
                    "hovermode": "closest",
                    "mapbox": {
                      "style": "light"
                    },
                    "paper_bgcolor": "white",
                    "plot_bgcolor": "#E5ECF6",
                    "polar": {
                      "angularaxis": {
                        "gridcolor": "white",
                        "linecolor": "white",
                        "ticks": ""
                      },
                      "bgcolor": "#E5ECF6",
                      "radialaxis": {
                        "gridcolor": "white",
                        "linecolor": "white",
                        "ticks": ""
                      }
                    },
                    "scene": {
                      "xaxis": {
                        "backgroundcolor": "#E5ECF6",
                        "gridcolor": "white",
                        "gridwidth": 2,
                        "linecolor": "white",
                        "showbackground": true,
                        "ticks": "",
                        "zerolinecolor": "white"
                      },
                      "yaxis": {
                        "backgroundcolor": "#E5ECF6",
                        "gridcolor": "white",
                        "gridwidth": 2,
                        "linecolor": "white",
                        "showbackground": true,
                        "ticks": "",
                        "zerolinecolor": "white"
                      },
                      "zaxis": {
                        "backgroundcolor": "#E5ECF6",
                        "gridcolor": "white",
                        "gridwidth": 2,
                        "linecolor": "white",
                        "showbackground": true,
                        "ticks": "",
                        "zerolinecolor": "white"
                      }
                    },
                    "shapedefaults": {
                      "line": {
                        "color": "#2a3f5f"
                      }
                    },
                    "ternary": {
                      "aaxis": {
                        "gridcolor": "white",
                        "linecolor": "white",
                        "ticks": ""
                      },
                      "baxis": {
                        "gridcolor": "white",
                        "linecolor": "white",
                        "ticks": ""
                      },
                      "bgcolor": "#E5ECF6",
                      "caxis": {
                        "gridcolor": "white",
                        "linecolor": "white",
                        "ticks": ""
                      }
                    },
                    "title": {
                      "x": 0.05
                    },
                    "xaxis": {
                      "automargin": true,
                      "gridcolor": "white",
                      "linecolor": "white",
                      "ticks": "",
                      "title": {
                        "standoff": 15
                      },
                      "zerolinecolor": "white",
                      "zerolinewidth": 2
                    },
                    "yaxis": {
                      "automargin": true,
                      "gridcolor": "white",
                      "linecolor": "white",
                      "ticks": "",
                      "title": {
                        "standoff": 15
                      },
                      "zerolinecolor": "white",
                      "zerolinewidth": 2
                    }
                  }
                },
                "title": {
                  "text": "2010 Population"
                }
              }
            },
            "text/html": [
              "<div>                            <div id=\"60c83267-1bac-4aa5-9ca8-f5a242b3a5d7\" class=\"plotly-graph-div\" style=\"height:525px; width:100%;\"></div>            <script type=\"text/javascript\">                require([\"plotly\"], function(Plotly) {                    window.PLOTLYENV=window.PLOTLYENV || {};                                    if (document.getElementById(\"60c83267-1bac-4aa5-9ca8-f5a242b3a5d7\")) {                    Plotly.newPlot(                        \"60c83267-1bac-4aa5-9ca8-f5a242b3a5d7\",                        [{\"coloraxis\":\"coloraxis\",\"geo\":\"geo\",\"hovertemplate\":\"<b>%{hovertext}</b><br><br>country=%{location}<br>pop2010=%{z}<extra></extra>\",\"hovertext\":[\"India\",\"China\",\"United States\",\"Indonesia\",\"Pakistan\",\"Nigeria\",\"Brazil\",\"Bangladesh\",\"Russia\",\"Mexico\",\"Ethiopia\",\"Japan\",\"Philippines\",\"Egypt\",\"DR Congo\",\"Vietnam\",\"Iran\",\"Turkey\",\"Germany\",\"Thailand\",\"United Kingdom\",\"Tanzania\",\"France\",\"South Africa\",\"Italy\",\"Kenya\",\"Myanmar\",\"Colombia\",\"South Korea\",\"Uganda\",\"Sudan\",\"Spain\",\"Argentina\",\"Algeria\",\"Iraq\",\"Afghanistan\",\"Poland\",\"Canada\",\"Morocco\",\"Saudi Arabia\",\"Ukraine\",\"Angola\",\"Uzbekistan\",\"Yemen\",\"Peru\",\"Malaysia\",\"Ghana\",\"Mozambique\",\"Nepal\",\"Madagascar\",\"Ivory Coast\",\"Venezuela\",\"Cameroon\",\"Niger\",\"Australia\",\"North Korea\",\"Taiwan\",\"Mali\",\"Burkina Faso\",\"Syria\",\"Sri Lanka\",\"Malawi\",\"Zambia\",\"Romania\",\"Chile\",\"Kazakhstan\",\"Chad\",\"Ecuador\",\"Somalia\",\"Guatemala\",\"Senegal\",\"Netherlands\",\"Cambodia\",\"Zimbabwe\",\"Guinea\",\"Rwanda\",\"Benin\",\"Burundi\",\"Tunisia\",\"Bolivia\",\"Haiti\",\"Belgium\",\"Jordan\",\"Dominican Republic\",\"Cuba\",\"South Sudan\",\"Sweden\",\"Honduras\",\"Czech Republic\",\"Azerbaijan\",\"Greece\",\"Papua New Guinea\",\"Portugal\",\"Hungary\",\"Tajikistan\",\"United Arab Emirates\",\"Belarus\",\"Israel\",\"Togo\",\"Austria\",\"Switzerland\",\"Sierra Leone\",\"Laos\",\"Hong Kong\",\"Serbia\",\"Nicaragua\",\"Libya\",\"Paraguay\",\"Kyrgyzstan\",\"Bulgaria\",\"Turkmenistan\",\"El Salvador\",\"Republic of the Congo\",\"Singapore\",\"Denmark\",\"Slovakia\",\"Central African Republic\",\"Finland\",\"Norway\",\"Liberia\",\"Palestine\",\"Lebanon\",\"New Zealand\",\"Costa Rica\",\"Ireland\",\"Mauritania\",\"Oman\",\"Panama\",\"Kuwait\",\"Croatia\",\"Eritrea\",\"Georgia\",\"Mongolia\",\"Moldova\",\"Uruguay\",\"Puerto Rico\",\"Bosnia and Herzegovina\",\"Albania\",\"Jamaica\",\"Armenia\",\"Gambia\",\"Lithuania\",\"Qatar\",\"Botswana\",\"Namibia\",\"Gabon\",\"Lesotho\",\"Guinea-Bissau\",\"Slovenia\",\"North Macedonia\",\"Latvia\",\"Equatorial Guinea\",\"Trinidad and Tobago\",\"Bahrain\",\"Timor-Leste\",\"Estonia\",\"Mauritius\",\"Cyprus\",\"Eswatini\",\"Djibouti\",\"Reunion\",\"Fiji\",\"Comoros\",\"Guyana\",\"Bhutan\",\"Solomon Islands\",\"Macau\",\"Luxembourg\",\"Montenegro\",\"Suriname\",\"Cape Verde\",\"Western Sahara\",\"Malta\",\"Maldives\",\"Brunei\",\"Bahamas\",\"Belize\",\"Guadeloupe\",\"Iceland\",\"Martinique\",\"Mayotte\",\"Vanuatu\",\"French Guiana\",\"French Polynesia\",\"New Caledonia\",\"Barbados\",\"Sao Tome and Principe\",\"Samoa\",\"Curacao\",\"Saint Lucia\",\"Guam\",\"Kiribati\",\"Grenada\",\"Micronesia\",\"Jersey\",\"Tonga\",\"Seychelles\",\"Aruba\",\"Saint Vincent and the Grenadines\",\"United States Virgin Islands\",\"Antigua and Barbuda\",\"Isle of Man\",\"Andorra\",\"Dominica\",\"Cayman Islands\",\"Bermuda\",\"Guernsey\",\"Greenland\",\"Faroe Islands\",\"Northern Mariana Islands\",\"Saint Kitts and Nevis\",\"Turks and Caicos Islands\",\"Sint Maarten\",\"American Samoa\",\"Marshall Islands\",\"Liechtenstein\",\"Monaco\",\"San Marino\",\"Gibraltar\",\"Saint Martin\",\"British Virgin Islands\",\"Palau\",\"Cook Islands\",\"Anguilla\",\"Nauru\",\"Wallis and Futuna\",\"Tuvalu\",\"Saint Barthelemy\",\"Saint Pierre and Miquelon\",\"Montserrat\",\"Falkland Islands\",\"Niue\",\"Tokelau\",\"Vatican City\"],\"locationmode\":\"country names\",\"locations\":[\"India\",\"China\",\"United States\",\"Indonesia\",\"Pakistan\",\"Nigeria\",\"Brazil\",\"Bangladesh\",\"Russia\",\"Mexico\",\"Ethiopia\",\"Japan\",\"Philippines\",\"Egypt\",\"DR Congo\",\"Vietnam\",\"Iran\",\"Turkey\",\"Germany\",\"Thailand\",\"United Kingdom\",\"Tanzania\",\"France\",\"South Africa\",\"Italy\",\"Kenya\",\"Myanmar\",\"Colombia\",\"South Korea\",\"Uganda\",\"Sudan\",\"Spain\",\"Argentina\",\"Algeria\",\"Iraq\",\"Afghanistan\",\"Poland\",\"Canada\",\"Morocco\",\"Saudi Arabia\",\"Ukraine\",\"Angola\",\"Uzbekistan\",\"Yemen\",\"Peru\",\"Malaysia\",\"Ghana\",\"Mozambique\",\"Nepal\",\"Madagascar\",\"Ivory Coast\",\"Venezuela\",\"Cameroon\",\"Niger\",\"Australia\",\"North Korea\",\"Taiwan\",\"Mali\",\"Burkina Faso\",\"Syria\",\"Sri Lanka\",\"Malawi\",\"Zambia\",\"Romania\",\"Chile\",\"Kazakhstan\",\"Chad\",\"Ecuador\",\"Somalia\",\"Guatemala\",\"Senegal\",\"Netherlands\",\"Cambodia\",\"Zimbabwe\",\"Guinea\",\"Rwanda\",\"Benin\",\"Burundi\",\"Tunisia\",\"Bolivia\",\"Haiti\",\"Belgium\",\"Jordan\",\"Dominican Republic\",\"Cuba\",\"South Sudan\",\"Sweden\",\"Honduras\",\"Czech Republic\",\"Azerbaijan\",\"Greece\",\"Papua New Guinea\",\"Portugal\",\"Hungary\",\"Tajikistan\",\"United Arab Emirates\",\"Belarus\",\"Israel\",\"Togo\",\"Austria\",\"Switzerland\",\"Sierra Leone\",\"Laos\",\"Hong Kong\",\"Serbia\",\"Nicaragua\",\"Libya\",\"Paraguay\",\"Kyrgyzstan\",\"Bulgaria\",\"Turkmenistan\",\"El Salvador\",\"Republic of the Congo\",\"Singapore\",\"Denmark\",\"Slovakia\",\"Central African Republic\",\"Finland\",\"Norway\",\"Liberia\",\"Palestine\",\"Lebanon\",\"New Zealand\",\"Costa Rica\",\"Ireland\",\"Mauritania\",\"Oman\",\"Panama\",\"Kuwait\",\"Croatia\",\"Eritrea\",\"Georgia\",\"Mongolia\",\"Moldova\",\"Uruguay\",\"Puerto Rico\",\"Bosnia and Herzegovina\",\"Albania\",\"Jamaica\",\"Armenia\",\"Gambia\",\"Lithuania\",\"Qatar\",\"Botswana\",\"Namibia\",\"Gabon\",\"Lesotho\",\"Guinea-Bissau\",\"Slovenia\",\"North Macedonia\",\"Latvia\",\"Equatorial Guinea\",\"Trinidad and Tobago\",\"Bahrain\",\"Timor-Leste\",\"Estonia\",\"Mauritius\",\"Cyprus\",\"Eswatini\",\"Djibouti\",\"Reunion\",\"Fiji\",\"Comoros\",\"Guyana\",\"Bhutan\",\"Solomon Islands\",\"Macau\",\"Luxembourg\",\"Montenegro\",\"Suriname\",\"Cape Verde\",\"Western Sahara\",\"Malta\",\"Maldives\",\"Brunei\",\"Bahamas\",\"Belize\",\"Guadeloupe\",\"Iceland\",\"Martinique\",\"Mayotte\",\"Vanuatu\",\"French Guiana\",\"French Polynesia\",\"New Caledonia\",\"Barbados\",\"Sao Tome and Principe\",\"Samoa\",\"Curacao\",\"Saint Lucia\",\"Guam\",\"Kiribati\",\"Grenada\",\"Micronesia\",\"Jersey\",\"Tonga\",\"Seychelles\",\"Aruba\",\"Saint Vincent and the Grenadines\",\"United States Virgin Islands\",\"Antigua and Barbuda\",\"Isle of Man\",\"Andorra\",\"Dominica\",\"Cayman Islands\",\"Bermuda\",\"Guernsey\",\"Greenland\",\"Faroe Islands\",\"Northern Mariana Islands\",\"Saint Kitts and Nevis\",\"Turks and Caicos Islands\",\"Sint Maarten\",\"American Samoa\",\"Marshall Islands\",\"Liechtenstein\",\"Monaco\",\"San Marino\",\"Gibraltar\",\"Saint Martin\",\"British Virgin Islands\",\"Palau\",\"Cook Islands\",\"Anguilla\",\"Nauru\",\"Wallis and Futuna\",\"Tuvalu\",\"Saint Barthelemy\",\"Saint Pierre and Miquelon\",\"Montserrat\",\"Falkland Islands\",\"Niue\",\"Tokelau\",\"Vatican City\"],\"name\":\"\",\"z\":[1240613620,1348191368,311182845,244016173,194454498,160952853,196353492,148391139,143242599,112532401,89237791,128105431,94636700,87252413,66391257,87411012,75373855,73195345,81325090,68270489,62760039,45110527,62444567,51784921,59822450,41517895,49390988,44816108,48813042,32341728,33739933,46572772,41100123,35856344,31264875,28189672,38597353,33963412,32464865,29411929,45683020,23364185,28614227,24743946,29229572,28717731,25574719,23073723,27161567,21731053,21120042,28715022,19878036,16647543,22019168,24686435,23083083,15529181,16116845,22337563,20668557,14718422,13792086,20335211,17004162,16627837,11894727,14989585,12026649,14543121,12530121,16617117,14363532,12839771,10270728,10309031,9445710,9126605,10895063,10223270,9842880,10877947,6931258,9775755,11290417,9714419,9381729,8450933,10464749,9237202,11033783,7583269,10588401,9986825,7621779,8481771,9731427,7328445,6571855,8362829,7822435,6436698,6323418,7132438,7653748,5855734,6491988,5768613,5483774,7592273,5267970,6114034,4437884,5163590,5550849,5396424,4660067,5363271,4889741,4019956,3992278,4995800,4346338,4622252,4524585,3419461,2881914,3623617,2943356,4368682,3147727,3836831,2702520,3678186,3352651,3717922,3811088,2913399,2733896,2946293,1937275,3139019,1713504,2091664,2099271,1711105,2022747,1567220,2057287,2093828,2101530,1094524,1410296,1213645,1088486,1331535,1283330,1129686,1099920,919199,890130,905169,656024,747932,705516,540394,557297,507070,631044,546080,521212,413296,418755,361575,396053,373272,322106,403072,318333,392181,211786,245453,228453,283788,261426,274711,182138,194672,159380,170935,164905,107995,114039,107588,96151,107383,92409,100341,109308,106142,85695,83828,71519,68755,54074,63447,60782,56351,48410,54087,47403,29726,33034,54849,53416,35926,33178,31608,31262,36458,27556,18540,17212,13172,10241,13142,10550,8988,6052,4938,3187,1812,1367,596],\"type\":\"choropleth\"}],                        {\"template\":{\"data\":{\"histogram2dcontour\":[{\"type\":\"histogram2dcontour\",\"colorbar\":{\"outlinewidth\":0,\"ticks\":\"\"},\"colorscale\":[[0.0,\"#0d0887\"],[0.1111111111111111,\"#46039f\"],[0.2222222222222222,\"#7201a8\"],[0.3333333333333333,\"#9c179e\"],[0.4444444444444444,\"#bd3786\"],[0.5555555555555556,\"#d8576b\"],[0.6666666666666666,\"#ed7953\"],[0.7777777777777778,\"#fb9f3a\"],[0.8888888888888888,\"#fdca26\"],[1.0,\"#f0f921\"]]}],\"choropleth\":[{\"type\":\"choropleth\",\"colorbar\":{\"outlinewidth\":0,\"ticks\":\"\"}}],\"histogram2d\":[{\"type\":\"histogram2d\",\"colorbar\":{\"outlinewidth\":0,\"ticks\":\"\"},\"colorscale\":[[0.0,\"#0d0887\"],[0.1111111111111111,\"#46039f\"],[0.2222222222222222,\"#7201a8\"],[0.3333333333333333,\"#9c179e\"],[0.4444444444444444,\"#bd3786\"],[0.5555555555555556,\"#d8576b\"],[0.6666666666666666,\"#ed7953\"],[0.7777777777777778,\"#fb9f3a\"],[0.8888888888888888,\"#fdca26\"],[1.0,\"#f0f921\"]]}],\"heatmap\":[{\"type\":\"heatmap\",\"colorbar\":{\"outlinewidth\":0,\"ticks\":\"\"},\"colorscale\":[[0.0,\"#0d0887\"],[0.1111111111111111,\"#46039f\"],[0.2222222222222222,\"#7201a8\"],[0.3333333333333333,\"#9c179e\"],[0.4444444444444444,\"#bd3786\"],[0.5555555555555556,\"#d8576b\"],[0.6666666666666666,\"#ed7953\"],[0.7777777777777778,\"#fb9f3a\"],[0.8888888888888888,\"#fdca26\"],[1.0,\"#f0f921\"]]}],\"heatmapgl\":[{\"type\":\"heatmapgl\",\"colorbar\":{\"outlinewidth\":0,\"ticks\":\"\"},\"colorscale\":[[0.0,\"#0d0887\"],[0.1111111111111111,\"#46039f\"],[0.2222222222222222,\"#7201a8\"],[0.3333333333333333,\"#9c179e\"],[0.4444444444444444,\"#bd3786\"],[0.5555555555555556,\"#d8576b\"],[0.6666666666666666,\"#ed7953\"],[0.7777777777777778,\"#fb9f3a\"],[0.8888888888888888,\"#fdca26\"],[1.0,\"#f0f921\"]]}],\"contourcarpet\":[{\"type\":\"contourcarpet\",\"colorbar\":{\"outlinewidth\":0,\"ticks\":\"\"}}],\"contour\":[{\"type\":\"contour\",\"colorbar\":{\"outlinewidth\":0,\"ticks\":\"\"},\"colorscale\":[[0.0,\"#0d0887\"],[0.1111111111111111,\"#46039f\"],[0.2222222222222222,\"#7201a8\"],[0.3333333333333333,\"#9c179e\"],[0.4444444444444444,\"#bd3786\"],[0.5555555555555556,\"#d8576b\"],[0.6666666666666666,\"#ed7953\"],[0.7777777777777778,\"#fb9f3a\"],[0.8888888888888888,\"#fdca26\"],[1.0,\"#f0f921\"]]}],\"surface\":[{\"type\":\"surface\",\"colorbar\":{\"outlinewidth\":0,\"ticks\":\"\"},\"colorscale\":[[0.0,\"#0d0887\"],[0.1111111111111111,\"#46039f\"],[0.2222222222222222,\"#7201a8\"],[0.3333333333333333,\"#9c179e\"],[0.4444444444444444,\"#bd3786\"],[0.5555555555555556,\"#d8576b\"],[0.6666666666666666,\"#ed7953\"],[0.7777777777777778,\"#fb9f3a\"],[0.8888888888888888,\"#fdca26\"],[1.0,\"#f0f921\"]]}],\"mesh3d\":[{\"type\":\"mesh3d\",\"colorbar\":{\"outlinewidth\":0,\"ticks\":\"\"}}],\"scatter\":[{\"fillpattern\":{\"fillmode\":\"overlay\",\"size\":10,\"solidity\":0.2},\"type\":\"scatter\"}],\"parcoords\":[{\"type\":\"parcoords\",\"line\":{\"colorbar\":{\"outlinewidth\":0,\"ticks\":\"\"}}}],\"scatterpolargl\":[{\"type\":\"scatterpolargl\",\"marker\":{\"colorbar\":{\"outlinewidth\":0,\"ticks\":\"\"}}}],\"bar\":[{\"error_x\":{\"color\":\"#2a3f5f\"},\"error_y\":{\"color\":\"#2a3f5f\"},\"marker\":{\"line\":{\"color\":\"#E5ECF6\",\"width\":0.5},\"pattern\":{\"fillmode\":\"overlay\",\"size\":10,\"solidity\":0.2}},\"type\":\"bar\"}],\"scattergeo\":[{\"type\":\"scattergeo\",\"marker\":{\"colorbar\":{\"outlinewidth\":0,\"ticks\":\"\"}}}],\"scatterpolar\":[{\"type\":\"scatterpolar\",\"marker\":{\"colorbar\":{\"outlinewidth\":0,\"ticks\":\"\"}}}],\"histogram\":[{\"marker\":{\"pattern\":{\"fillmode\":\"overlay\",\"size\":10,\"solidity\":0.2}},\"type\":\"histogram\"}],\"scattergl\":[{\"type\":\"scattergl\",\"marker\":{\"colorbar\":{\"outlinewidth\":0,\"ticks\":\"\"}}}],\"scatter3d\":[{\"type\":\"scatter3d\",\"line\":{\"colorbar\":{\"outlinewidth\":0,\"ticks\":\"\"}},\"marker\":{\"colorbar\":{\"outlinewidth\":0,\"ticks\":\"\"}}}],\"scattermapbox\":[{\"type\":\"scattermapbox\",\"marker\":{\"colorbar\":{\"outlinewidth\":0,\"ticks\":\"\"}}}],\"scatterternary\":[{\"type\":\"scatterternary\",\"marker\":{\"colorbar\":{\"outlinewidth\":0,\"ticks\":\"\"}}}],\"scattercarpet\":[{\"type\":\"scattercarpet\",\"marker\":{\"colorbar\":{\"outlinewidth\":0,\"ticks\":\"\"}}}],\"carpet\":[{\"aaxis\":{\"endlinecolor\":\"#2a3f5f\",\"gridcolor\":\"white\",\"linecolor\":\"white\",\"minorgridcolor\":\"white\",\"startlinecolor\":\"#2a3f5f\"},\"baxis\":{\"endlinecolor\":\"#2a3f5f\",\"gridcolor\":\"white\",\"linecolor\":\"white\",\"minorgridcolor\":\"white\",\"startlinecolor\":\"#2a3f5f\"},\"type\":\"carpet\"}],\"table\":[{\"cells\":{\"fill\":{\"color\":\"#EBF0F8\"},\"line\":{\"color\":\"white\"}},\"header\":{\"fill\":{\"color\":\"#C8D4E3\"},\"line\":{\"color\":\"white\"}},\"type\":\"table\"}],\"barpolar\":[{\"marker\":{\"line\":{\"color\":\"#E5ECF6\",\"width\":0.5},\"pattern\":{\"fillmode\":\"overlay\",\"size\":10,\"solidity\":0.2}},\"type\":\"barpolar\"}],\"pie\":[{\"automargin\":true,\"type\":\"pie\"}]},\"layout\":{\"autotypenumbers\":\"strict\",\"colorway\":[\"#636efa\",\"#EF553B\",\"#00cc96\",\"#ab63fa\",\"#FFA15A\",\"#19d3f3\",\"#FF6692\",\"#B6E880\",\"#FF97FF\",\"#FECB52\"],\"font\":{\"color\":\"#2a3f5f\"},\"hovermode\":\"closest\",\"hoverlabel\":{\"align\":\"left\"},\"paper_bgcolor\":\"white\",\"plot_bgcolor\":\"#E5ECF6\",\"polar\":{\"bgcolor\":\"#E5ECF6\",\"angularaxis\":{\"gridcolor\":\"white\",\"linecolor\":\"white\",\"ticks\":\"\"},\"radialaxis\":{\"gridcolor\":\"white\",\"linecolor\":\"white\",\"ticks\":\"\"}},\"ternary\":{\"bgcolor\":\"#E5ECF6\",\"aaxis\":{\"gridcolor\":\"white\",\"linecolor\":\"white\",\"ticks\":\"\"},\"baxis\":{\"gridcolor\":\"white\",\"linecolor\":\"white\",\"ticks\":\"\"},\"caxis\":{\"gridcolor\":\"white\",\"linecolor\":\"white\",\"ticks\":\"\"}},\"coloraxis\":{\"colorbar\":{\"outlinewidth\":0,\"ticks\":\"\"}},\"colorscale\":{\"sequential\":[[0.0,\"#0d0887\"],[0.1111111111111111,\"#46039f\"],[0.2222222222222222,\"#7201a8\"],[0.3333333333333333,\"#9c179e\"],[0.4444444444444444,\"#bd3786\"],[0.5555555555555556,\"#d8576b\"],[0.6666666666666666,\"#ed7953\"],[0.7777777777777778,\"#fb9f3a\"],[0.8888888888888888,\"#fdca26\"],[1.0,\"#f0f921\"]],\"sequentialminus\":[[0.0,\"#0d0887\"],[0.1111111111111111,\"#46039f\"],[0.2222222222222222,\"#7201a8\"],[0.3333333333333333,\"#9c179e\"],[0.4444444444444444,\"#bd3786\"],[0.5555555555555556,\"#d8576b\"],[0.6666666666666666,\"#ed7953\"],[0.7777777777777778,\"#fb9f3a\"],[0.8888888888888888,\"#fdca26\"],[1.0,\"#f0f921\"]],\"diverging\":[[0,\"#8e0152\"],[0.1,\"#c51b7d\"],[0.2,\"#de77ae\"],[0.3,\"#f1b6da\"],[0.4,\"#fde0ef\"],[0.5,\"#f7f7f7\"],[0.6,\"#e6f5d0\"],[0.7,\"#b8e186\"],[0.8,\"#7fbc41\"],[0.9,\"#4d9221\"],[1,\"#276419\"]]},\"xaxis\":{\"gridcolor\":\"white\",\"linecolor\":\"white\",\"ticks\":\"\",\"title\":{\"standoff\":15},\"zerolinecolor\":\"white\",\"automargin\":true,\"zerolinewidth\":2},\"yaxis\":{\"gridcolor\":\"white\",\"linecolor\":\"white\",\"ticks\":\"\",\"title\":{\"standoff\":15},\"zerolinecolor\":\"white\",\"automargin\":true,\"zerolinewidth\":2},\"scene\":{\"xaxis\":{\"backgroundcolor\":\"#E5ECF6\",\"gridcolor\":\"white\",\"linecolor\":\"white\",\"showbackground\":true,\"ticks\":\"\",\"zerolinecolor\":\"white\",\"gridwidth\":2},\"yaxis\":{\"backgroundcolor\":\"#E5ECF6\",\"gridcolor\":\"white\",\"linecolor\":\"white\",\"showbackground\":true,\"ticks\":\"\",\"zerolinecolor\":\"white\",\"gridwidth\":2},\"zaxis\":{\"backgroundcolor\":\"#E5ECF6\",\"gridcolor\":\"white\",\"linecolor\":\"white\",\"showbackground\":true,\"ticks\":\"\",\"zerolinecolor\":\"white\",\"gridwidth\":2}},\"shapedefaults\":{\"line\":{\"color\":\"#2a3f5f\"}},\"annotationdefaults\":{\"arrowcolor\":\"#2a3f5f\",\"arrowhead\":0,\"arrowwidth\":1},\"geo\":{\"bgcolor\":\"white\",\"landcolor\":\"#E5ECF6\",\"subunitcolor\":\"white\",\"showland\":true,\"showlakes\":true,\"lakecolor\":\"white\"},\"title\":{\"x\":0.05},\"mapbox\":{\"style\":\"light\"}}},\"geo\":{\"domain\":{\"x\":[0.0,1.0],\"y\":[0.0,1.0]},\"center\":{}},\"coloraxis\":{\"colorbar\":{\"title\":{\"text\":\"pop2010\"}},\"colorscale\":[[0.0,\"#440154\"],[0.1111111111111111,\"#482878\"],[0.2222222222222222,\"#3e4989\"],[0.3333333333333333,\"#31688e\"],[0.4444444444444444,\"#26828e\"],[0.5555555555555556,\"#1f9e89\"],[0.6666666666666666,\"#35b779\"],[0.7777777777777778,\"#6ece58\"],[0.8888888888888888,\"#b5de2b\"],[1.0,\"#fde725\"]]},\"legend\":{\"tracegroupgap\":0},\"title\":{\"text\":\"2010 Population\"}},                        {\"responsive\": true}                    ).then(function(){\n",
              "                            \n",
              "var gd = document.getElementById('60c83267-1bac-4aa5-9ca8-f5a242b3a5d7');\n",
              "var x = new MutationObserver(function (mutations, observer) {{\n",
              "        var display = window.getComputedStyle(gd).display;\n",
              "        if (!display || display === 'none') {{\n",
              "            console.log([gd, 'removed!']);\n",
              "            Plotly.purge(gd);\n",
              "            observer.disconnect();\n",
              "        }}\n",
              "}});\n",
              "\n",
              "// Listen for the removal of the full notebook cells\n",
              "var notebookContainer = gd.closest('#notebook-container');\n",
              "if (notebookContainer) {{\n",
              "    x.observe(notebookContainer, {childList: true});\n",
              "}}\n",
              "\n",
              "// Listen for the clearing of the current output cell\n",
              "var outputEl = gd.closest('.output');\n",
              "if (outputEl) {{\n",
              "    x.observe(outputEl, {childList: true});\n",
              "}}\n",
              "\n",
              "                        })                };                });            </script>        </div>"
            ]
          },
          "metadata": {},
          "output_type": "display_data"
        }
      ],
      "source": [
        "#2010 Population\n",
        "fig = px.choropleth(df,\n",
        "                    locations='country',\n",
        "                    locationmode='country names',\n",
        "                    color='pop2010',  # we indicate the year we are interested in\n",
        "                    hover_name='country',\n",
        "                    title = '2010 Population',\n",
        "                    color_continuous_scale='Viridis'\n",
        "                    )\n",
        "fig.show()"
      ]
    },
    {
      "cell_type": "code",
      "execution_count": null,
      "id": "f7c42216",
      "metadata": {
        "execution": {
          "iopub.execute_input": "2023-06-02T04:52:24.394147Z",
          "iopub.status.busy": "2023-06-02T04:52:24.393757Z",
          "iopub.status.idle": "2023-06-02T04:52:24.469437Z",
          "shell.execute_reply": "2023-06-02T04:52:24.468253Z"
        },
        "papermill": {
          "duration": 0.123724,
          "end_time": "2023-06-02T04:52:24.473389",
          "exception": false,
          "start_time": "2023-06-02T04:52:24.349665",
          "status": "completed"
        },
        "tags": [],
        "id": "f7c42216",
        "outputId": "e86ecd1c-3564-49d1-ef18-c6b02e589214"
      },
      "outputs": [
        {
          "data": {
            "application/vnd.plotly.v1+json": {
              "config": {
                "plotlyServerURL": "https://plot.ly"
              },
              "data": [
                {
                  "coloraxis": "coloraxis",
                  "geo": "geo",
                  "hovertemplate": "<b>%{hovertext}</b><br><br>country=%{location}<br>pop2022=%{z}<extra></extra>",
                  "hovertext": [
                    "India",
                    "China",
                    "United States",
                    "Indonesia",
                    "Pakistan",
                    "Nigeria",
                    "Brazil",
                    "Bangladesh",
                    "Russia",
                    "Mexico",
                    "Ethiopia",
                    "Japan",
                    "Philippines",
                    "Egypt",
                    "DR Congo",
                    "Vietnam",
                    "Iran",
                    "Turkey",
                    "Germany",
                    "Thailand",
                    "United Kingdom",
                    "Tanzania",
                    "France",
                    "South Africa",
                    "Italy",
                    "Kenya",
                    "Myanmar",
                    "Colombia",
                    "South Korea",
                    "Uganda",
                    "Sudan",
                    "Spain",
                    "Argentina",
                    "Algeria",
                    "Iraq",
                    "Afghanistan",
                    "Poland",
                    "Canada",
                    "Morocco",
                    "Saudi Arabia",
                    "Ukraine",
                    "Angola",
                    "Uzbekistan",
                    "Yemen",
                    "Peru",
                    "Malaysia",
                    "Ghana",
                    "Mozambique",
                    "Nepal",
                    "Madagascar",
                    "Ivory Coast",
                    "Venezuela",
                    "Cameroon",
                    "Niger",
                    "Australia",
                    "North Korea",
                    "Taiwan",
                    "Mali",
                    "Burkina Faso",
                    "Syria",
                    "Sri Lanka",
                    "Malawi",
                    "Zambia",
                    "Romania",
                    "Chile",
                    "Kazakhstan",
                    "Chad",
                    "Ecuador",
                    "Somalia",
                    "Guatemala",
                    "Senegal",
                    "Netherlands",
                    "Cambodia",
                    "Zimbabwe",
                    "Guinea",
                    "Rwanda",
                    "Benin",
                    "Burundi",
                    "Tunisia",
                    "Bolivia",
                    "Haiti",
                    "Belgium",
                    "Jordan",
                    "Dominican Republic",
                    "Cuba",
                    "South Sudan",
                    "Sweden",
                    "Honduras",
                    "Czech Republic",
                    "Azerbaijan",
                    "Greece",
                    "Papua New Guinea",
                    "Portugal",
                    "Hungary",
                    "Tajikistan",
                    "United Arab Emirates",
                    "Belarus",
                    "Israel",
                    "Togo",
                    "Austria",
                    "Switzerland",
                    "Sierra Leone",
                    "Laos",
                    "Hong Kong",
                    "Serbia",
                    "Nicaragua",
                    "Libya",
                    "Paraguay",
                    "Kyrgyzstan",
                    "Bulgaria",
                    "Turkmenistan",
                    "El Salvador",
                    "Republic of the Congo",
                    "Singapore",
                    "Denmark",
                    "Slovakia",
                    "Central African Republic",
                    "Finland",
                    "Norway",
                    "Liberia",
                    "Palestine",
                    "Lebanon",
                    "New Zealand",
                    "Costa Rica",
                    "Ireland",
                    "Mauritania",
                    "Oman",
                    "Panama",
                    "Kuwait",
                    "Croatia",
                    "Eritrea",
                    "Georgia",
                    "Mongolia",
                    "Moldova",
                    "Uruguay",
                    "Puerto Rico",
                    "Bosnia and Herzegovina",
                    "Albania",
                    "Jamaica",
                    "Armenia",
                    "Gambia",
                    "Lithuania",
                    "Qatar",
                    "Botswana",
                    "Namibia",
                    "Gabon",
                    "Lesotho",
                    "Guinea-Bissau",
                    "Slovenia",
                    "North Macedonia",
                    "Latvia",
                    "Equatorial Guinea",
                    "Trinidad and Tobago",
                    "Bahrain",
                    "Timor-Leste",
                    "Estonia",
                    "Mauritius",
                    "Cyprus",
                    "Eswatini",
                    "Djibouti",
                    "Reunion",
                    "Fiji",
                    "Comoros",
                    "Guyana",
                    "Bhutan",
                    "Solomon Islands",
                    "Macau",
                    "Luxembourg",
                    "Montenegro",
                    "Suriname",
                    "Cape Verde",
                    "Western Sahara",
                    "Malta",
                    "Maldives",
                    "Brunei",
                    "Bahamas",
                    "Belize",
                    "Guadeloupe",
                    "Iceland",
                    "Martinique",
                    "Mayotte",
                    "Vanuatu",
                    "French Guiana",
                    "French Polynesia",
                    "New Caledonia",
                    "Barbados",
                    "Sao Tome and Principe",
                    "Samoa",
                    "Curacao",
                    "Saint Lucia",
                    "Guam",
                    "Kiribati",
                    "Grenada",
                    "Micronesia",
                    "Jersey",
                    "Tonga",
                    "Seychelles",
                    "Aruba",
                    "Saint Vincent and the Grenadines",
                    "United States Virgin Islands",
                    "Antigua and Barbuda",
                    "Isle of Man",
                    "Andorra",
                    "Dominica",
                    "Cayman Islands",
                    "Bermuda",
                    "Guernsey",
                    "Greenland",
                    "Faroe Islands",
                    "Northern Mariana Islands",
                    "Saint Kitts and Nevis",
                    "Turks and Caicos Islands",
                    "Sint Maarten",
                    "American Samoa",
                    "Marshall Islands",
                    "Liechtenstein",
                    "Monaco",
                    "San Marino",
                    "Gibraltar",
                    "Saint Martin",
                    "British Virgin Islands",
                    "Palau",
                    "Cook Islands",
                    "Anguilla",
                    "Nauru",
                    "Wallis and Futuna",
                    "Tuvalu",
                    "Saint Barthelemy",
                    "Saint Pierre and Miquelon",
                    "Montserrat",
                    "Falkland Islands",
                    "Niue",
                    "Tokelau",
                    "Vatican City"
                  ],
                  "locationmode": "country names",
                  "locations": [
                    "India",
                    "China",
                    "United States",
                    "Indonesia",
                    "Pakistan",
                    "Nigeria",
                    "Brazil",
                    "Bangladesh",
                    "Russia",
                    "Mexico",
                    "Ethiopia",
                    "Japan",
                    "Philippines",
                    "Egypt",
                    "DR Congo",
                    "Vietnam",
                    "Iran",
                    "Turkey",
                    "Germany",
                    "Thailand",
                    "United Kingdom",
                    "Tanzania",
                    "France",
                    "South Africa",
                    "Italy",
                    "Kenya",
                    "Myanmar",
                    "Colombia",
                    "South Korea",
                    "Uganda",
                    "Sudan",
                    "Spain",
                    "Argentina",
                    "Algeria",
                    "Iraq",
                    "Afghanistan",
                    "Poland",
                    "Canada",
                    "Morocco",
                    "Saudi Arabia",
                    "Ukraine",
                    "Angola",
                    "Uzbekistan",
                    "Yemen",
                    "Peru",
                    "Malaysia",
                    "Ghana",
                    "Mozambique",
                    "Nepal",
                    "Madagascar",
                    "Ivory Coast",
                    "Venezuela",
                    "Cameroon",
                    "Niger",
                    "Australia",
                    "North Korea",
                    "Taiwan",
                    "Mali",
                    "Burkina Faso",
                    "Syria",
                    "Sri Lanka",
                    "Malawi",
                    "Zambia",
                    "Romania",
                    "Chile",
                    "Kazakhstan",
                    "Chad",
                    "Ecuador",
                    "Somalia",
                    "Guatemala",
                    "Senegal",
                    "Netherlands",
                    "Cambodia",
                    "Zimbabwe",
                    "Guinea",
                    "Rwanda",
                    "Benin",
                    "Burundi",
                    "Tunisia",
                    "Bolivia",
                    "Haiti",
                    "Belgium",
                    "Jordan",
                    "Dominican Republic",
                    "Cuba",
                    "South Sudan",
                    "Sweden",
                    "Honduras",
                    "Czech Republic",
                    "Azerbaijan",
                    "Greece",
                    "Papua New Guinea",
                    "Portugal",
                    "Hungary",
                    "Tajikistan",
                    "United Arab Emirates",
                    "Belarus",
                    "Israel",
                    "Togo",
                    "Austria",
                    "Switzerland",
                    "Sierra Leone",
                    "Laos",
                    "Hong Kong",
                    "Serbia",
                    "Nicaragua",
                    "Libya",
                    "Paraguay",
                    "Kyrgyzstan",
                    "Bulgaria",
                    "Turkmenistan",
                    "El Salvador",
                    "Republic of the Congo",
                    "Singapore",
                    "Denmark",
                    "Slovakia",
                    "Central African Republic",
                    "Finland",
                    "Norway",
                    "Liberia",
                    "Palestine",
                    "Lebanon",
                    "New Zealand",
                    "Costa Rica",
                    "Ireland",
                    "Mauritania",
                    "Oman",
                    "Panama",
                    "Kuwait",
                    "Croatia",
                    "Eritrea",
                    "Georgia",
                    "Mongolia",
                    "Moldova",
                    "Uruguay",
                    "Puerto Rico",
                    "Bosnia and Herzegovina",
                    "Albania",
                    "Jamaica",
                    "Armenia",
                    "Gambia",
                    "Lithuania",
                    "Qatar",
                    "Botswana",
                    "Namibia",
                    "Gabon",
                    "Lesotho",
                    "Guinea-Bissau",
                    "Slovenia",
                    "North Macedonia",
                    "Latvia",
                    "Equatorial Guinea",
                    "Trinidad and Tobago",
                    "Bahrain",
                    "Timor-Leste",
                    "Estonia",
                    "Mauritius",
                    "Cyprus",
                    "Eswatini",
                    "Djibouti",
                    "Reunion",
                    "Fiji",
                    "Comoros",
                    "Guyana",
                    "Bhutan",
                    "Solomon Islands",
                    "Macau",
                    "Luxembourg",
                    "Montenegro",
                    "Suriname",
                    "Cape Verde",
                    "Western Sahara",
                    "Malta",
                    "Maldives",
                    "Brunei",
                    "Bahamas",
                    "Belize",
                    "Guadeloupe",
                    "Iceland",
                    "Martinique",
                    "Mayotte",
                    "Vanuatu",
                    "French Guiana",
                    "French Polynesia",
                    "New Caledonia",
                    "Barbados",
                    "Sao Tome and Principe",
                    "Samoa",
                    "Curacao",
                    "Saint Lucia",
                    "Guam",
                    "Kiribati",
                    "Grenada",
                    "Micronesia",
                    "Jersey",
                    "Tonga",
                    "Seychelles",
                    "Aruba",
                    "Saint Vincent and the Grenadines",
                    "United States Virgin Islands",
                    "Antigua and Barbuda",
                    "Isle of Man",
                    "Andorra",
                    "Dominica",
                    "Cayman Islands",
                    "Bermuda",
                    "Guernsey",
                    "Greenland",
                    "Faroe Islands",
                    "Northern Mariana Islands",
                    "Saint Kitts and Nevis",
                    "Turks and Caicos Islands",
                    "Sint Maarten",
                    "American Samoa",
                    "Marshall Islands",
                    "Liechtenstein",
                    "Monaco",
                    "San Marino",
                    "Gibraltar",
                    "Saint Martin",
                    "British Virgin Islands",
                    "Palau",
                    "Cook Islands",
                    "Anguilla",
                    "Nauru",
                    "Wallis and Futuna",
                    "Tuvalu",
                    "Saint Barthelemy",
                    "Saint Pierre and Miquelon",
                    "Montserrat",
                    "Falkland Islands",
                    "Niue",
                    "Tokelau",
                    "Vatican City"
                  ],
                  "name": "",
                  "type": "choropleth",
                  "z": [
                    1417173173,
                    1425887337,
                    338289857,
                    275501339,
                    235824862,
                    218541212,
                    215313498,
                    171186372,
                    144713314,
                    127504125,
                    123379924,
                    123951692,
                    115559009,
                    110990103,
                    99010212,
                    98186856,
                    88550570,
                    85341241,
                    83369843,
                    71697030,
                    67508936,
                    65497748,
                    64626628,
                    59893885,
                    59037474,
                    54027487,
                    54179306,
                    51874024,
                    51815810,
                    47249585,
                    46874204,
                    47558630,
                    45510318,
                    44903225,
                    44496122,
                    41128771,
                    39857145,
                    38454327,
                    37457971,
                    36408820,
                    39701739,
                    35588987,
                    34627652,
                    33696614,
                    34049588,
                    33938221,
                    33475870,
                    32969518,
                    30547580,
                    29611714,
                    28160542,
                    28301696,
                    27914536,
                    26207977,
                    26177413,
                    26069416,
                    23893394,
                    22593590,
                    22673762,
                    22125249,
                    21832143,
                    20405317,
                    20017675,
                    19659267,
                    19603733,
                    19397998,
                    17723315,
                    18001000,
                    17597511,
                    17843908,
                    17316449,
                    17564014,
                    16767842,
                    16320537,
                    13859341,
                    13776698,
                    13352864,
                    12889576,
                    12356117,
                    12224110,
                    11584996,
                    11655930,
                    11285869,
                    11228821,
                    11212191,
                    10913164,
                    10549347,
                    10432860,
                    10493986,
                    10358074,
                    10384971,
                    10142619,
                    10270865,
                    9967308,
                    9952787,
                    9441129,
                    9534954,
                    9038309,
                    8848699,
                    8939617,
                    8740472,
                    8605718,
                    7529475,
                    7488865,
                    7221365,
                    6948392,
                    6812341,
                    6780744,
                    6630623,
                    6781953,
                    6430770,
                    6336392,
                    5970424,
                    5975689,
                    5882261,
                    5643453,
                    5579144,
                    5540745,
                    5434319,
                    5302681,
                    5250072,
                    5489739,
                    5185288,
                    5180829,
                    5023109,
                    4736139,
                    4576298,
                    4408581,
                    4268873,
                    4030358,
                    3684032,
                    3744385,
                    3398366,
                    3272996,
                    3422794,
                    3252407,
                    3233526,
                    2842321,
                    2827377,
                    2780469,
                    2705992,
                    2750055,
                    2695122,
                    2630296,
                    2567012,
                    2388992,
                    2305825,
                    2105566,
                    2119844,
                    2093599,
                    1850651,
                    1674908,
                    1531044,
                    1472233,
                    1341296,
                    1326062,
                    1299469,
                    1251488,
                    1201670,
                    1120849,
                    974052,
                    929766,
                    836774,
                    808726,
                    782455,
                    724273,
                    695168,
                    647599,
                    627082,
                    618040,
                    593149,
                    575986,
                    533286,
                    523787,
                    449002,
                    409984,
                    405272,
                    395752,
                    372899,
                    367507,
                    326101,
                    326740,
                    304557,
                    306279,
                    289950,
                    281635,
                    227380,
                    222382,
                    191163,
                    179857,
                    171774,
                    131232,
                    125438,
                    114164,
                    110778,
                    106858,
                    107118,
                    106445,
                    103948,
                    99465,
                    93763,
                    84519,
                    79824,
                    72737,
                    68706,
                    64184,
                    63301,
                    56466,
                    53090,
                    49551,
                    47657,
                    45703,
                    44175,
                    44273,
                    41569,
                    39327,
                    36469,
                    33660,
                    32649,
                    31791,
                    31305,
                    18055,
                    17011,
                    15857,
                    12668,
                    11572,
                    11312,
                    10967,
                    5862,
                    4390,
                    3780,
                    1934,
                    1871,
                    510
                  ]
                }
              ],
              "layout": {
                "coloraxis": {
                  "colorbar": {
                    "title": {
                      "text": "pop2022"
                    }
                  },
                  "colorscale": [
                    [
                      0,
                      "#440154"
                    ],
                    [
                      0.1111111111111111,
                      "#482878"
                    ],
                    [
                      0.2222222222222222,
                      "#3e4989"
                    ],
                    [
                      0.3333333333333333,
                      "#31688e"
                    ],
                    [
                      0.4444444444444444,
                      "#26828e"
                    ],
                    [
                      0.5555555555555556,
                      "#1f9e89"
                    ],
                    [
                      0.6666666666666666,
                      "#35b779"
                    ],
                    [
                      0.7777777777777778,
                      "#6ece58"
                    ],
                    [
                      0.8888888888888888,
                      "#b5de2b"
                    ],
                    [
                      1,
                      "#fde725"
                    ]
                  ]
                },
                "geo": {
                  "center": {},
                  "domain": {
                    "x": [
                      0,
                      1
                    ],
                    "y": [
                      0,
                      1
                    ]
                  }
                },
                "legend": {
                  "tracegroupgap": 0
                },
                "template": {
                  "data": {
                    "bar": [
                      {
                        "error_x": {
                          "color": "#2a3f5f"
                        },
                        "error_y": {
                          "color": "#2a3f5f"
                        },
                        "marker": {
                          "line": {
                            "color": "#E5ECF6",
                            "width": 0.5
                          },
                          "pattern": {
                            "fillmode": "overlay",
                            "size": 10,
                            "solidity": 0.2
                          }
                        },
                        "type": "bar"
                      }
                    ],
                    "barpolar": [
                      {
                        "marker": {
                          "line": {
                            "color": "#E5ECF6",
                            "width": 0.5
                          },
                          "pattern": {
                            "fillmode": "overlay",
                            "size": 10,
                            "solidity": 0.2
                          }
                        },
                        "type": "barpolar"
                      }
                    ],
                    "carpet": [
                      {
                        "aaxis": {
                          "endlinecolor": "#2a3f5f",
                          "gridcolor": "white",
                          "linecolor": "white",
                          "minorgridcolor": "white",
                          "startlinecolor": "#2a3f5f"
                        },
                        "baxis": {
                          "endlinecolor": "#2a3f5f",
                          "gridcolor": "white",
                          "linecolor": "white",
                          "minorgridcolor": "white",
                          "startlinecolor": "#2a3f5f"
                        },
                        "type": "carpet"
                      }
                    ],
                    "choropleth": [
                      {
                        "colorbar": {
                          "outlinewidth": 0,
                          "ticks": ""
                        },
                        "type": "choropleth"
                      }
                    ],
                    "contour": [
                      {
                        "colorbar": {
                          "outlinewidth": 0,
                          "ticks": ""
                        },
                        "colorscale": [
                          [
                            0,
                            "#0d0887"
                          ],
                          [
                            0.1111111111111111,
                            "#46039f"
                          ],
                          [
                            0.2222222222222222,
                            "#7201a8"
                          ],
                          [
                            0.3333333333333333,
                            "#9c179e"
                          ],
                          [
                            0.4444444444444444,
                            "#bd3786"
                          ],
                          [
                            0.5555555555555556,
                            "#d8576b"
                          ],
                          [
                            0.6666666666666666,
                            "#ed7953"
                          ],
                          [
                            0.7777777777777778,
                            "#fb9f3a"
                          ],
                          [
                            0.8888888888888888,
                            "#fdca26"
                          ],
                          [
                            1,
                            "#f0f921"
                          ]
                        ],
                        "type": "contour"
                      }
                    ],
                    "contourcarpet": [
                      {
                        "colorbar": {
                          "outlinewidth": 0,
                          "ticks": ""
                        },
                        "type": "contourcarpet"
                      }
                    ],
                    "heatmap": [
                      {
                        "colorbar": {
                          "outlinewidth": 0,
                          "ticks": ""
                        },
                        "colorscale": [
                          [
                            0,
                            "#0d0887"
                          ],
                          [
                            0.1111111111111111,
                            "#46039f"
                          ],
                          [
                            0.2222222222222222,
                            "#7201a8"
                          ],
                          [
                            0.3333333333333333,
                            "#9c179e"
                          ],
                          [
                            0.4444444444444444,
                            "#bd3786"
                          ],
                          [
                            0.5555555555555556,
                            "#d8576b"
                          ],
                          [
                            0.6666666666666666,
                            "#ed7953"
                          ],
                          [
                            0.7777777777777778,
                            "#fb9f3a"
                          ],
                          [
                            0.8888888888888888,
                            "#fdca26"
                          ],
                          [
                            1,
                            "#f0f921"
                          ]
                        ],
                        "type": "heatmap"
                      }
                    ],
                    "heatmapgl": [
                      {
                        "colorbar": {
                          "outlinewidth": 0,
                          "ticks": ""
                        },
                        "colorscale": [
                          [
                            0,
                            "#0d0887"
                          ],
                          [
                            0.1111111111111111,
                            "#46039f"
                          ],
                          [
                            0.2222222222222222,
                            "#7201a8"
                          ],
                          [
                            0.3333333333333333,
                            "#9c179e"
                          ],
                          [
                            0.4444444444444444,
                            "#bd3786"
                          ],
                          [
                            0.5555555555555556,
                            "#d8576b"
                          ],
                          [
                            0.6666666666666666,
                            "#ed7953"
                          ],
                          [
                            0.7777777777777778,
                            "#fb9f3a"
                          ],
                          [
                            0.8888888888888888,
                            "#fdca26"
                          ],
                          [
                            1,
                            "#f0f921"
                          ]
                        ],
                        "type": "heatmapgl"
                      }
                    ],
                    "histogram": [
                      {
                        "marker": {
                          "pattern": {
                            "fillmode": "overlay",
                            "size": 10,
                            "solidity": 0.2
                          }
                        },
                        "type": "histogram"
                      }
                    ],
                    "histogram2d": [
                      {
                        "colorbar": {
                          "outlinewidth": 0,
                          "ticks": ""
                        },
                        "colorscale": [
                          [
                            0,
                            "#0d0887"
                          ],
                          [
                            0.1111111111111111,
                            "#46039f"
                          ],
                          [
                            0.2222222222222222,
                            "#7201a8"
                          ],
                          [
                            0.3333333333333333,
                            "#9c179e"
                          ],
                          [
                            0.4444444444444444,
                            "#bd3786"
                          ],
                          [
                            0.5555555555555556,
                            "#d8576b"
                          ],
                          [
                            0.6666666666666666,
                            "#ed7953"
                          ],
                          [
                            0.7777777777777778,
                            "#fb9f3a"
                          ],
                          [
                            0.8888888888888888,
                            "#fdca26"
                          ],
                          [
                            1,
                            "#f0f921"
                          ]
                        ],
                        "type": "histogram2d"
                      }
                    ],
                    "histogram2dcontour": [
                      {
                        "colorbar": {
                          "outlinewidth": 0,
                          "ticks": ""
                        },
                        "colorscale": [
                          [
                            0,
                            "#0d0887"
                          ],
                          [
                            0.1111111111111111,
                            "#46039f"
                          ],
                          [
                            0.2222222222222222,
                            "#7201a8"
                          ],
                          [
                            0.3333333333333333,
                            "#9c179e"
                          ],
                          [
                            0.4444444444444444,
                            "#bd3786"
                          ],
                          [
                            0.5555555555555556,
                            "#d8576b"
                          ],
                          [
                            0.6666666666666666,
                            "#ed7953"
                          ],
                          [
                            0.7777777777777778,
                            "#fb9f3a"
                          ],
                          [
                            0.8888888888888888,
                            "#fdca26"
                          ],
                          [
                            1,
                            "#f0f921"
                          ]
                        ],
                        "type": "histogram2dcontour"
                      }
                    ],
                    "mesh3d": [
                      {
                        "colorbar": {
                          "outlinewidth": 0,
                          "ticks": ""
                        },
                        "type": "mesh3d"
                      }
                    ],
                    "parcoords": [
                      {
                        "line": {
                          "colorbar": {
                            "outlinewidth": 0,
                            "ticks": ""
                          }
                        },
                        "type": "parcoords"
                      }
                    ],
                    "pie": [
                      {
                        "automargin": true,
                        "type": "pie"
                      }
                    ],
                    "scatter": [
                      {
                        "fillpattern": {
                          "fillmode": "overlay",
                          "size": 10,
                          "solidity": 0.2
                        },
                        "type": "scatter"
                      }
                    ],
                    "scatter3d": [
                      {
                        "line": {
                          "colorbar": {
                            "outlinewidth": 0,
                            "ticks": ""
                          }
                        },
                        "marker": {
                          "colorbar": {
                            "outlinewidth": 0,
                            "ticks": ""
                          }
                        },
                        "type": "scatter3d"
                      }
                    ],
                    "scattercarpet": [
                      {
                        "marker": {
                          "colorbar": {
                            "outlinewidth": 0,
                            "ticks": ""
                          }
                        },
                        "type": "scattercarpet"
                      }
                    ],
                    "scattergeo": [
                      {
                        "marker": {
                          "colorbar": {
                            "outlinewidth": 0,
                            "ticks": ""
                          }
                        },
                        "type": "scattergeo"
                      }
                    ],
                    "scattergl": [
                      {
                        "marker": {
                          "colorbar": {
                            "outlinewidth": 0,
                            "ticks": ""
                          }
                        },
                        "type": "scattergl"
                      }
                    ],
                    "scattermapbox": [
                      {
                        "marker": {
                          "colorbar": {
                            "outlinewidth": 0,
                            "ticks": ""
                          }
                        },
                        "type": "scattermapbox"
                      }
                    ],
                    "scatterpolar": [
                      {
                        "marker": {
                          "colorbar": {
                            "outlinewidth": 0,
                            "ticks": ""
                          }
                        },
                        "type": "scatterpolar"
                      }
                    ],
                    "scatterpolargl": [
                      {
                        "marker": {
                          "colorbar": {
                            "outlinewidth": 0,
                            "ticks": ""
                          }
                        },
                        "type": "scatterpolargl"
                      }
                    ],
                    "scatterternary": [
                      {
                        "marker": {
                          "colorbar": {
                            "outlinewidth": 0,
                            "ticks": ""
                          }
                        },
                        "type": "scatterternary"
                      }
                    ],
                    "surface": [
                      {
                        "colorbar": {
                          "outlinewidth": 0,
                          "ticks": ""
                        },
                        "colorscale": [
                          [
                            0,
                            "#0d0887"
                          ],
                          [
                            0.1111111111111111,
                            "#46039f"
                          ],
                          [
                            0.2222222222222222,
                            "#7201a8"
                          ],
                          [
                            0.3333333333333333,
                            "#9c179e"
                          ],
                          [
                            0.4444444444444444,
                            "#bd3786"
                          ],
                          [
                            0.5555555555555556,
                            "#d8576b"
                          ],
                          [
                            0.6666666666666666,
                            "#ed7953"
                          ],
                          [
                            0.7777777777777778,
                            "#fb9f3a"
                          ],
                          [
                            0.8888888888888888,
                            "#fdca26"
                          ],
                          [
                            1,
                            "#f0f921"
                          ]
                        ],
                        "type": "surface"
                      }
                    ],
                    "table": [
                      {
                        "cells": {
                          "fill": {
                            "color": "#EBF0F8"
                          },
                          "line": {
                            "color": "white"
                          }
                        },
                        "header": {
                          "fill": {
                            "color": "#C8D4E3"
                          },
                          "line": {
                            "color": "white"
                          }
                        },
                        "type": "table"
                      }
                    ]
                  },
                  "layout": {
                    "annotationdefaults": {
                      "arrowcolor": "#2a3f5f",
                      "arrowhead": 0,
                      "arrowwidth": 1
                    },
                    "autotypenumbers": "strict",
                    "coloraxis": {
                      "colorbar": {
                        "outlinewidth": 0,
                        "ticks": ""
                      }
                    },
                    "colorscale": {
                      "diverging": [
                        [
                          0,
                          "#8e0152"
                        ],
                        [
                          0.1,
                          "#c51b7d"
                        ],
                        [
                          0.2,
                          "#de77ae"
                        ],
                        [
                          0.3,
                          "#f1b6da"
                        ],
                        [
                          0.4,
                          "#fde0ef"
                        ],
                        [
                          0.5,
                          "#f7f7f7"
                        ],
                        [
                          0.6,
                          "#e6f5d0"
                        ],
                        [
                          0.7,
                          "#b8e186"
                        ],
                        [
                          0.8,
                          "#7fbc41"
                        ],
                        [
                          0.9,
                          "#4d9221"
                        ],
                        [
                          1,
                          "#276419"
                        ]
                      ],
                      "sequential": [
                        [
                          0,
                          "#0d0887"
                        ],
                        [
                          0.1111111111111111,
                          "#46039f"
                        ],
                        [
                          0.2222222222222222,
                          "#7201a8"
                        ],
                        [
                          0.3333333333333333,
                          "#9c179e"
                        ],
                        [
                          0.4444444444444444,
                          "#bd3786"
                        ],
                        [
                          0.5555555555555556,
                          "#d8576b"
                        ],
                        [
                          0.6666666666666666,
                          "#ed7953"
                        ],
                        [
                          0.7777777777777778,
                          "#fb9f3a"
                        ],
                        [
                          0.8888888888888888,
                          "#fdca26"
                        ],
                        [
                          1,
                          "#f0f921"
                        ]
                      ],
                      "sequentialminus": [
                        [
                          0,
                          "#0d0887"
                        ],
                        [
                          0.1111111111111111,
                          "#46039f"
                        ],
                        [
                          0.2222222222222222,
                          "#7201a8"
                        ],
                        [
                          0.3333333333333333,
                          "#9c179e"
                        ],
                        [
                          0.4444444444444444,
                          "#bd3786"
                        ],
                        [
                          0.5555555555555556,
                          "#d8576b"
                        ],
                        [
                          0.6666666666666666,
                          "#ed7953"
                        ],
                        [
                          0.7777777777777778,
                          "#fb9f3a"
                        ],
                        [
                          0.8888888888888888,
                          "#fdca26"
                        ],
                        [
                          1,
                          "#f0f921"
                        ]
                      ]
                    },
                    "colorway": [
                      "#636efa",
                      "#EF553B",
                      "#00cc96",
                      "#ab63fa",
                      "#FFA15A",
                      "#19d3f3",
                      "#FF6692",
                      "#B6E880",
                      "#FF97FF",
                      "#FECB52"
                    ],
                    "font": {
                      "color": "#2a3f5f"
                    },
                    "geo": {
                      "bgcolor": "white",
                      "lakecolor": "white",
                      "landcolor": "#E5ECF6",
                      "showlakes": true,
                      "showland": true,
                      "subunitcolor": "white"
                    },
                    "hoverlabel": {
                      "align": "left"
                    },
                    "hovermode": "closest",
                    "mapbox": {
                      "style": "light"
                    },
                    "paper_bgcolor": "white",
                    "plot_bgcolor": "#E5ECF6",
                    "polar": {
                      "angularaxis": {
                        "gridcolor": "white",
                        "linecolor": "white",
                        "ticks": ""
                      },
                      "bgcolor": "#E5ECF6",
                      "radialaxis": {
                        "gridcolor": "white",
                        "linecolor": "white",
                        "ticks": ""
                      }
                    },
                    "scene": {
                      "xaxis": {
                        "backgroundcolor": "#E5ECF6",
                        "gridcolor": "white",
                        "gridwidth": 2,
                        "linecolor": "white",
                        "showbackground": true,
                        "ticks": "",
                        "zerolinecolor": "white"
                      },
                      "yaxis": {
                        "backgroundcolor": "#E5ECF6",
                        "gridcolor": "white",
                        "gridwidth": 2,
                        "linecolor": "white",
                        "showbackground": true,
                        "ticks": "",
                        "zerolinecolor": "white"
                      },
                      "zaxis": {
                        "backgroundcolor": "#E5ECF6",
                        "gridcolor": "white",
                        "gridwidth": 2,
                        "linecolor": "white",
                        "showbackground": true,
                        "ticks": "",
                        "zerolinecolor": "white"
                      }
                    },
                    "shapedefaults": {
                      "line": {
                        "color": "#2a3f5f"
                      }
                    },
                    "ternary": {
                      "aaxis": {
                        "gridcolor": "white",
                        "linecolor": "white",
                        "ticks": ""
                      },
                      "baxis": {
                        "gridcolor": "white",
                        "linecolor": "white",
                        "ticks": ""
                      },
                      "bgcolor": "#E5ECF6",
                      "caxis": {
                        "gridcolor": "white",
                        "linecolor": "white",
                        "ticks": ""
                      }
                    },
                    "title": {
                      "x": 0.05
                    },
                    "xaxis": {
                      "automargin": true,
                      "gridcolor": "white",
                      "linecolor": "white",
                      "ticks": "",
                      "title": {
                        "standoff": 15
                      },
                      "zerolinecolor": "white",
                      "zerolinewidth": 2
                    },
                    "yaxis": {
                      "automargin": true,
                      "gridcolor": "white",
                      "linecolor": "white",
                      "ticks": "",
                      "title": {
                        "standoff": 15
                      },
                      "zerolinecolor": "white",
                      "zerolinewidth": 2
                    }
                  }
                },
                "title": {
                  "text": "2022 Population"
                }
              }
            },
            "text/html": [
              "<div>                            <div id=\"0ced2cf2-217d-4049-b5aa-74cd864204cf\" class=\"plotly-graph-div\" style=\"height:525px; width:100%;\"></div>            <script type=\"text/javascript\">                require([\"plotly\"], function(Plotly) {                    window.PLOTLYENV=window.PLOTLYENV || {};                                    if (document.getElementById(\"0ced2cf2-217d-4049-b5aa-74cd864204cf\")) {                    Plotly.newPlot(                        \"0ced2cf2-217d-4049-b5aa-74cd864204cf\",                        [{\"coloraxis\":\"coloraxis\",\"geo\":\"geo\",\"hovertemplate\":\"<b>%{hovertext}</b><br><br>country=%{location}<br>pop2022=%{z}<extra></extra>\",\"hovertext\":[\"India\",\"China\",\"United States\",\"Indonesia\",\"Pakistan\",\"Nigeria\",\"Brazil\",\"Bangladesh\",\"Russia\",\"Mexico\",\"Ethiopia\",\"Japan\",\"Philippines\",\"Egypt\",\"DR Congo\",\"Vietnam\",\"Iran\",\"Turkey\",\"Germany\",\"Thailand\",\"United Kingdom\",\"Tanzania\",\"France\",\"South Africa\",\"Italy\",\"Kenya\",\"Myanmar\",\"Colombia\",\"South Korea\",\"Uganda\",\"Sudan\",\"Spain\",\"Argentina\",\"Algeria\",\"Iraq\",\"Afghanistan\",\"Poland\",\"Canada\",\"Morocco\",\"Saudi Arabia\",\"Ukraine\",\"Angola\",\"Uzbekistan\",\"Yemen\",\"Peru\",\"Malaysia\",\"Ghana\",\"Mozambique\",\"Nepal\",\"Madagascar\",\"Ivory Coast\",\"Venezuela\",\"Cameroon\",\"Niger\",\"Australia\",\"North Korea\",\"Taiwan\",\"Mali\",\"Burkina Faso\",\"Syria\",\"Sri Lanka\",\"Malawi\",\"Zambia\",\"Romania\",\"Chile\",\"Kazakhstan\",\"Chad\",\"Ecuador\",\"Somalia\",\"Guatemala\",\"Senegal\",\"Netherlands\",\"Cambodia\",\"Zimbabwe\",\"Guinea\",\"Rwanda\",\"Benin\",\"Burundi\",\"Tunisia\",\"Bolivia\",\"Haiti\",\"Belgium\",\"Jordan\",\"Dominican Republic\",\"Cuba\",\"South Sudan\",\"Sweden\",\"Honduras\",\"Czech Republic\",\"Azerbaijan\",\"Greece\",\"Papua New Guinea\",\"Portugal\",\"Hungary\",\"Tajikistan\",\"United Arab Emirates\",\"Belarus\",\"Israel\",\"Togo\",\"Austria\",\"Switzerland\",\"Sierra Leone\",\"Laos\",\"Hong Kong\",\"Serbia\",\"Nicaragua\",\"Libya\",\"Paraguay\",\"Kyrgyzstan\",\"Bulgaria\",\"Turkmenistan\",\"El Salvador\",\"Republic of the Congo\",\"Singapore\",\"Denmark\",\"Slovakia\",\"Central African Republic\",\"Finland\",\"Norway\",\"Liberia\",\"Palestine\",\"Lebanon\",\"New Zealand\",\"Costa Rica\",\"Ireland\",\"Mauritania\",\"Oman\",\"Panama\",\"Kuwait\",\"Croatia\",\"Eritrea\",\"Georgia\",\"Mongolia\",\"Moldova\",\"Uruguay\",\"Puerto Rico\",\"Bosnia and Herzegovina\",\"Albania\",\"Jamaica\",\"Armenia\",\"Gambia\",\"Lithuania\",\"Qatar\",\"Botswana\",\"Namibia\",\"Gabon\",\"Lesotho\",\"Guinea-Bissau\",\"Slovenia\",\"North Macedonia\",\"Latvia\",\"Equatorial Guinea\",\"Trinidad and Tobago\",\"Bahrain\",\"Timor-Leste\",\"Estonia\",\"Mauritius\",\"Cyprus\",\"Eswatini\",\"Djibouti\",\"Reunion\",\"Fiji\",\"Comoros\",\"Guyana\",\"Bhutan\",\"Solomon Islands\",\"Macau\",\"Luxembourg\",\"Montenegro\",\"Suriname\",\"Cape Verde\",\"Western Sahara\",\"Malta\",\"Maldives\",\"Brunei\",\"Bahamas\",\"Belize\",\"Guadeloupe\",\"Iceland\",\"Martinique\",\"Mayotte\",\"Vanuatu\",\"French Guiana\",\"French Polynesia\",\"New Caledonia\",\"Barbados\",\"Sao Tome and Principe\",\"Samoa\",\"Curacao\",\"Saint Lucia\",\"Guam\",\"Kiribati\",\"Grenada\",\"Micronesia\",\"Jersey\",\"Tonga\",\"Seychelles\",\"Aruba\",\"Saint Vincent and the Grenadines\",\"United States Virgin Islands\",\"Antigua and Barbuda\",\"Isle of Man\",\"Andorra\",\"Dominica\",\"Cayman Islands\",\"Bermuda\",\"Guernsey\",\"Greenland\",\"Faroe Islands\",\"Northern Mariana Islands\",\"Saint Kitts and Nevis\",\"Turks and Caicos Islands\",\"Sint Maarten\",\"American Samoa\",\"Marshall Islands\",\"Liechtenstein\",\"Monaco\",\"San Marino\",\"Gibraltar\",\"Saint Martin\",\"British Virgin Islands\",\"Palau\",\"Cook Islands\",\"Anguilla\",\"Nauru\",\"Wallis and Futuna\",\"Tuvalu\",\"Saint Barthelemy\",\"Saint Pierre and Miquelon\",\"Montserrat\",\"Falkland Islands\",\"Niue\",\"Tokelau\",\"Vatican City\"],\"locationmode\":\"country names\",\"locations\":[\"India\",\"China\",\"United States\",\"Indonesia\",\"Pakistan\",\"Nigeria\",\"Brazil\",\"Bangladesh\",\"Russia\",\"Mexico\",\"Ethiopia\",\"Japan\",\"Philippines\",\"Egypt\",\"DR Congo\",\"Vietnam\",\"Iran\",\"Turkey\",\"Germany\",\"Thailand\",\"United Kingdom\",\"Tanzania\",\"France\",\"South Africa\",\"Italy\",\"Kenya\",\"Myanmar\",\"Colombia\",\"South Korea\",\"Uganda\",\"Sudan\",\"Spain\",\"Argentina\",\"Algeria\",\"Iraq\",\"Afghanistan\",\"Poland\",\"Canada\",\"Morocco\",\"Saudi Arabia\",\"Ukraine\",\"Angola\",\"Uzbekistan\",\"Yemen\",\"Peru\",\"Malaysia\",\"Ghana\",\"Mozambique\",\"Nepal\",\"Madagascar\",\"Ivory Coast\",\"Venezuela\",\"Cameroon\",\"Niger\",\"Australia\",\"North Korea\",\"Taiwan\",\"Mali\",\"Burkina Faso\",\"Syria\",\"Sri Lanka\",\"Malawi\",\"Zambia\",\"Romania\",\"Chile\",\"Kazakhstan\",\"Chad\",\"Ecuador\",\"Somalia\",\"Guatemala\",\"Senegal\",\"Netherlands\",\"Cambodia\",\"Zimbabwe\",\"Guinea\",\"Rwanda\",\"Benin\",\"Burundi\",\"Tunisia\",\"Bolivia\",\"Haiti\",\"Belgium\",\"Jordan\",\"Dominican Republic\",\"Cuba\",\"South Sudan\",\"Sweden\",\"Honduras\",\"Czech Republic\",\"Azerbaijan\",\"Greece\",\"Papua New Guinea\",\"Portugal\",\"Hungary\",\"Tajikistan\",\"United Arab Emirates\",\"Belarus\",\"Israel\",\"Togo\",\"Austria\",\"Switzerland\",\"Sierra Leone\",\"Laos\",\"Hong Kong\",\"Serbia\",\"Nicaragua\",\"Libya\",\"Paraguay\",\"Kyrgyzstan\",\"Bulgaria\",\"Turkmenistan\",\"El Salvador\",\"Republic of the Congo\",\"Singapore\",\"Denmark\",\"Slovakia\",\"Central African Republic\",\"Finland\",\"Norway\",\"Liberia\",\"Palestine\",\"Lebanon\",\"New Zealand\",\"Costa Rica\",\"Ireland\",\"Mauritania\",\"Oman\",\"Panama\",\"Kuwait\",\"Croatia\",\"Eritrea\",\"Georgia\",\"Mongolia\",\"Moldova\",\"Uruguay\",\"Puerto Rico\",\"Bosnia and Herzegovina\",\"Albania\",\"Jamaica\",\"Armenia\",\"Gambia\",\"Lithuania\",\"Qatar\",\"Botswana\",\"Namibia\",\"Gabon\",\"Lesotho\",\"Guinea-Bissau\",\"Slovenia\",\"North Macedonia\",\"Latvia\",\"Equatorial Guinea\",\"Trinidad and Tobago\",\"Bahrain\",\"Timor-Leste\",\"Estonia\",\"Mauritius\",\"Cyprus\",\"Eswatini\",\"Djibouti\",\"Reunion\",\"Fiji\",\"Comoros\",\"Guyana\",\"Bhutan\",\"Solomon Islands\",\"Macau\",\"Luxembourg\",\"Montenegro\",\"Suriname\",\"Cape Verde\",\"Western Sahara\",\"Malta\",\"Maldives\",\"Brunei\",\"Bahamas\",\"Belize\",\"Guadeloupe\",\"Iceland\",\"Martinique\",\"Mayotte\",\"Vanuatu\",\"French Guiana\",\"French Polynesia\",\"New Caledonia\",\"Barbados\",\"Sao Tome and Principe\",\"Samoa\",\"Curacao\",\"Saint Lucia\",\"Guam\",\"Kiribati\",\"Grenada\",\"Micronesia\",\"Jersey\",\"Tonga\",\"Seychelles\",\"Aruba\",\"Saint Vincent and the Grenadines\",\"United States Virgin Islands\",\"Antigua and Barbuda\",\"Isle of Man\",\"Andorra\",\"Dominica\",\"Cayman Islands\",\"Bermuda\",\"Guernsey\",\"Greenland\",\"Faroe Islands\",\"Northern Mariana Islands\",\"Saint Kitts and Nevis\",\"Turks and Caicos Islands\",\"Sint Maarten\",\"American Samoa\",\"Marshall Islands\",\"Liechtenstein\",\"Monaco\",\"San Marino\",\"Gibraltar\",\"Saint Martin\",\"British Virgin Islands\",\"Palau\",\"Cook Islands\",\"Anguilla\",\"Nauru\",\"Wallis and Futuna\",\"Tuvalu\",\"Saint Barthelemy\",\"Saint Pierre and Miquelon\",\"Montserrat\",\"Falkland Islands\",\"Niue\",\"Tokelau\",\"Vatican City\"],\"name\":\"\",\"z\":[1417173173,1425887337,338289857,275501339,235824862,218541212,215313498,171186372,144713314,127504125,123379924,123951692,115559009,110990103,99010212,98186856,88550570,85341241,83369843,71697030,67508936,65497748,64626628,59893885,59037474,54027487,54179306,51874024,51815810,47249585,46874204,47558630,45510318,44903225,44496122,41128771,39857145,38454327,37457971,36408820,39701739,35588987,34627652,33696614,34049588,33938221,33475870,32969518,30547580,29611714,28160542,28301696,27914536,26207977,26177413,26069416,23893394,22593590,22673762,22125249,21832143,20405317,20017675,19659267,19603733,19397998,17723315,18001000,17597511,17843908,17316449,17564014,16767842,16320537,13859341,13776698,13352864,12889576,12356117,12224110,11584996,11655930,11285869,11228821,11212191,10913164,10549347,10432860,10493986,10358074,10384971,10142619,10270865,9967308,9952787,9441129,9534954,9038309,8848699,8939617,8740472,8605718,7529475,7488865,7221365,6948392,6812341,6780744,6630623,6781953,6430770,6336392,5970424,5975689,5882261,5643453,5579144,5540745,5434319,5302681,5250072,5489739,5185288,5180829,5023109,4736139,4576298,4408581,4268873,4030358,3684032,3744385,3398366,3272996,3422794,3252407,3233526,2842321,2827377,2780469,2705992,2750055,2695122,2630296,2567012,2388992,2305825,2105566,2119844,2093599,1850651,1674908,1531044,1472233,1341296,1326062,1299469,1251488,1201670,1120849,974052,929766,836774,808726,782455,724273,695168,647599,627082,618040,593149,575986,533286,523787,449002,409984,405272,395752,372899,367507,326101,326740,304557,306279,289950,281635,227380,222382,191163,179857,171774,131232,125438,114164,110778,106858,107118,106445,103948,99465,93763,84519,79824,72737,68706,64184,63301,56466,53090,49551,47657,45703,44175,44273,41569,39327,36469,33660,32649,31791,31305,18055,17011,15857,12668,11572,11312,10967,5862,4390,3780,1934,1871,510],\"type\":\"choropleth\"}],                        {\"template\":{\"data\":{\"histogram2dcontour\":[{\"type\":\"histogram2dcontour\",\"colorbar\":{\"outlinewidth\":0,\"ticks\":\"\"},\"colorscale\":[[0.0,\"#0d0887\"],[0.1111111111111111,\"#46039f\"],[0.2222222222222222,\"#7201a8\"],[0.3333333333333333,\"#9c179e\"],[0.4444444444444444,\"#bd3786\"],[0.5555555555555556,\"#d8576b\"],[0.6666666666666666,\"#ed7953\"],[0.7777777777777778,\"#fb9f3a\"],[0.8888888888888888,\"#fdca26\"],[1.0,\"#f0f921\"]]}],\"choropleth\":[{\"type\":\"choropleth\",\"colorbar\":{\"outlinewidth\":0,\"ticks\":\"\"}}],\"histogram2d\":[{\"type\":\"histogram2d\",\"colorbar\":{\"outlinewidth\":0,\"ticks\":\"\"},\"colorscale\":[[0.0,\"#0d0887\"],[0.1111111111111111,\"#46039f\"],[0.2222222222222222,\"#7201a8\"],[0.3333333333333333,\"#9c179e\"],[0.4444444444444444,\"#bd3786\"],[0.5555555555555556,\"#d8576b\"],[0.6666666666666666,\"#ed7953\"],[0.7777777777777778,\"#fb9f3a\"],[0.8888888888888888,\"#fdca26\"],[1.0,\"#f0f921\"]]}],\"heatmap\":[{\"type\":\"heatmap\",\"colorbar\":{\"outlinewidth\":0,\"ticks\":\"\"},\"colorscale\":[[0.0,\"#0d0887\"],[0.1111111111111111,\"#46039f\"],[0.2222222222222222,\"#7201a8\"],[0.3333333333333333,\"#9c179e\"],[0.4444444444444444,\"#bd3786\"],[0.5555555555555556,\"#d8576b\"],[0.6666666666666666,\"#ed7953\"],[0.7777777777777778,\"#fb9f3a\"],[0.8888888888888888,\"#fdca26\"],[1.0,\"#f0f921\"]]}],\"heatmapgl\":[{\"type\":\"heatmapgl\",\"colorbar\":{\"outlinewidth\":0,\"ticks\":\"\"},\"colorscale\":[[0.0,\"#0d0887\"],[0.1111111111111111,\"#46039f\"],[0.2222222222222222,\"#7201a8\"],[0.3333333333333333,\"#9c179e\"],[0.4444444444444444,\"#bd3786\"],[0.5555555555555556,\"#d8576b\"],[0.6666666666666666,\"#ed7953\"],[0.7777777777777778,\"#fb9f3a\"],[0.8888888888888888,\"#fdca26\"],[1.0,\"#f0f921\"]]}],\"contourcarpet\":[{\"type\":\"contourcarpet\",\"colorbar\":{\"outlinewidth\":0,\"ticks\":\"\"}}],\"contour\":[{\"type\":\"contour\",\"colorbar\":{\"outlinewidth\":0,\"ticks\":\"\"},\"colorscale\":[[0.0,\"#0d0887\"],[0.1111111111111111,\"#46039f\"],[0.2222222222222222,\"#7201a8\"],[0.3333333333333333,\"#9c179e\"],[0.4444444444444444,\"#bd3786\"],[0.5555555555555556,\"#d8576b\"],[0.6666666666666666,\"#ed7953\"],[0.7777777777777778,\"#fb9f3a\"],[0.8888888888888888,\"#fdca26\"],[1.0,\"#f0f921\"]]}],\"surface\":[{\"type\":\"surface\",\"colorbar\":{\"outlinewidth\":0,\"ticks\":\"\"},\"colorscale\":[[0.0,\"#0d0887\"],[0.1111111111111111,\"#46039f\"],[0.2222222222222222,\"#7201a8\"],[0.3333333333333333,\"#9c179e\"],[0.4444444444444444,\"#bd3786\"],[0.5555555555555556,\"#d8576b\"],[0.6666666666666666,\"#ed7953\"],[0.7777777777777778,\"#fb9f3a\"],[0.8888888888888888,\"#fdca26\"],[1.0,\"#f0f921\"]]}],\"mesh3d\":[{\"type\":\"mesh3d\",\"colorbar\":{\"outlinewidth\":0,\"ticks\":\"\"}}],\"scatter\":[{\"fillpattern\":{\"fillmode\":\"overlay\",\"size\":10,\"solidity\":0.2},\"type\":\"scatter\"}],\"parcoords\":[{\"type\":\"parcoords\",\"line\":{\"colorbar\":{\"outlinewidth\":0,\"ticks\":\"\"}}}],\"scatterpolargl\":[{\"type\":\"scatterpolargl\",\"marker\":{\"colorbar\":{\"outlinewidth\":0,\"ticks\":\"\"}}}],\"bar\":[{\"error_x\":{\"color\":\"#2a3f5f\"},\"error_y\":{\"color\":\"#2a3f5f\"},\"marker\":{\"line\":{\"color\":\"#E5ECF6\",\"width\":0.5},\"pattern\":{\"fillmode\":\"overlay\",\"size\":10,\"solidity\":0.2}},\"type\":\"bar\"}],\"scattergeo\":[{\"type\":\"scattergeo\",\"marker\":{\"colorbar\":{\"outlinewidth\":0,\"ticks\":\"\"}}}],\"scatterpolar\":[{\"type\":\"scatterpolar\",\"marker\":{\"colorbar\":{\"outlinewidth\":0,\"ticks\":\"\"}}}],\"histogram\":[{\"marker\":{\"pattern\":{\"fillmode\":\"overlay\",\"size\":10,\"solidity\":0.2}},\"type\":\"histogram\"}],\"scattergl\":[{\"type\":\"scattergl\",\"marker\":{\"colorbar\":{\"outlinewidth\":0,\"ticks\":\"\"}}}],\"scatter3d\":[{\"type\":\"scatter3d\",\"line\":{\"colorbar\":{\"outlinewidth\":0,\"ticks\":\"\"}},\"marker\":{\"colorbar\":{\"outlinewidth\":0,\"ticks\":\"\"}}}],\"scattermapbox\":[{\"type\":\"scattermapbox\",\"marker\":{\"colorbar\":{\"outlinewidth\":0,\"ticks\":\"\"}}}],\"scatterternary\":[{\"type\":\"scatterternary\",\"marker\":{\"colorbar\":{\"outlinewidth\":0,\"ticks\":\"\"}}}],\"scattercarpet\":[{\"type\":\"scattercarpet\",\"marker\":{\"colorbar\":{\"outlinewidth\":0,\"ticks\":\"\"}}}],\"carpet\":[{\"aaxis\":{\"endlinecolor\":\"#2a3f5f\",\"gridcolor\":\"white\",\"linecolor\":\"white\",\"minorgridcolor\":\"white\",\"startlinecolor\":\"#2a3f5f\"},\"baxis\":{\"endlinecolor\":\"#2a3f5f\",\"gridcolor\":\"white\",\"linecolor\":\"white\",\"minorgridcolor\":\"white\",\"startlinecolor\":\"#2a3f5f\"},\"type\":\"carpet\"}],\"table\":[{\"cells\":{\"fill\":{\"color\":\"#EBF0F8\"},\"line\":{\"color\":\"white\"}},\"header\":{\"fill\":{\"color\":\"#C8D4E3\"},\"line\":{\"color\":\"white\"}},\"type\":\"table\"}],\"barpolar\":[{\"marker\":{\"line\":{\"color\":\"#E5ECF6\",\"width\":0.5},\"pattern\":{\"fillmode\":\"overlay\",\"size\":10,\"solidity\":0.2}},\"type\":\"barpolar\"}],\"pie\":[{\"automargin\":true,\"type\":\"pie\"}]},\"layout\":{\"autotypenumbers\":\"strict\",\"colorway\":[\"#636efa\",\"#EF553B\",\"#00cc96\",\"#ab63fa\",\"#FFA15A\",\"#19d3f3\",\"#FF6692\",\"#B6E880\",\"#FF97FF\",\"#FECB52\"],\"font\":{\"color\":\"#2a3f5f\"},\"hovermode\":\"closest\",\"hoverlabel\":{\"align\":\"left\"},\"paper_bgcolor\":\"white\",\"plot_bgcolor\":\"#E5ECF6\",\"polar\":{\"bgcolor\":\"#E5ECF6\",\"angularaxis\":{\"gridcolor\":\"white\",\"linecolor\":\"white\",\"ticks\":\"\"},\"radialaxis\":{\"gridcolor\":\"white\",\"linecolor\":\"white\",\"ticks\":\"\"}},\"ternary\":{\"bgcolor\":\"#E5ECF6\",\"aaxis\":{\"gridcolor\":\"white\",\"linecolor\":\"white\",\"ticks\":\"\"},\"baxis\":{\"gridcolor\":\"white\",\"linecolor\":\"white\",\"ticks\":\"\"},\"caxis\":{\"gridcolor\":\"white\",\"linecolor\":\"white\",\"ticks\":\"\"}},\"coloraxis\":{\"colorbar\":{\"outlinewidth\":0,\"ticks\":\"\"}},\"colorscale\":{\"sequential\":[[0.0,\"#0d0887\"],[0.1111111111111111,\"#46039f\"],[0.2222222222222222,\"#7201a8\"],[0.3333333333333333,\"#9c179e\"],[0.4444444444444444,\"#bd3786\"],[0.5555555555555556,\"#d8576b\"],[0.6666666666666666,\"#ed7953\"],[0.7777777777777778,\"#fb9f3a\"],[0.8888888888888888,\"#fdca26\"],[1.0,\"#f0f921\"]],\"sequentialminus\":[[0.0,\"#0d0887\"],[0.1111111111111111,\"#46039f\"],[0.2222222222222222,\"#7201a8\"],[0.3333333333333333,\"#9c179e\"],[0.4444444444444444,\"#bd3786\"],[0.5555555555555556,\"#d8576b\"],[0.6666666666666666,\"#ed7953\"],[0.7777777777777778,\"#fb9f3a\"],[0.8888888888888888,\"#fdca26\"],[1.0,\"#f0f921\"]],\"diverging\":[[0,\"#8e0152\"],[0.1,\"#c51b7d\"],[0.2,\"#de77ae\"],[0.3,\"#f1b6da\"],[0.4,\"#fde0ef\"],[0.5,\"#f7f7f7\"],[0.6,\"#e6f5d0\"],[0.7,\"#b8e186\"],[0.8,\"#7fbc41\"],[0.9,\"#4d9221\"],[1,\"#276419\"]]},\"xaxis\":{\"gridcolor\":\"white\",\"linecolor\":\"white\",\"ticks\":\"\",\"title\":{\"standoff\":15},\"zerolinecolor\":\"white\",\"automargin\":true,\"zerolinewidth\":2},\"yaxis\":{\"gridcolor\":\"white\",\"linecolor\":\"white\",\"ticks\":\"\",\"title\":{\"standoff\":15},\"zerolinecolor\":\"white\",\"automargin\":true,\"zerolinewidth\":2},\"scene\":{\"xaxis\":{\"backgroundcolor\":\"#E5ECF6\",\"gridcolor\":\"white\",\"linecolor\":\"white\",\"showbackground\":true,\"ticks\":\"\",\"zerolinecolor\":\"white\",\"gridwidth\":2},\"yaxis\":{\"backgroundcolor\":\"#E5ECF6\",\"gridcolor\":\"white\",\"linecolor\":\"white\",\"showbackground\":true,\"ticks\":\"\",\"zerolinecolor\":\"white\",\"gridwidth\":2},\"zaxis\":{\"backgroundcolor\":\"#E5ECF6\",\"gridcolor\":\"white\",\"linecolor\":\"white\",\"showbackground\":true,\"ticks\":\"\",\"zerolinecolor\":\"white\",\"gridwidth\":2}},\"shapedefaults\":{\"line\":{\"color\":\"#2a3f5f\"}},\"annotationdefaults\":{\"arrowcolor\":\"#2a3f5f\",\"arrowhead\":0,\"arrowwidth\":1},\"geo\":{\"bgcolor\":\"white\",\"landcolor\":\"#E5ECF6\",\"subunitcolor\":\"white\",\"showland\":true,\"showlakes\":true,\"lakecolor\":\"white\"},\"title\":{\"x\":0.05},\"mapbox\":{\"style\":\"light\"}}},\"geo\":{\"domain\":{\"x\":[0.0,1.0],\"y\":[0.0,1.0]},\"center\":{}},\"coloraxis\":{\"colorbar\":{\"title\":{\"text\":\"pop2022\"}},\"colorscale\":[[0.0,\"#440154\"],[0.1111111111111111,\"#482878\"],[0.2222222222222222,\"#3e4989\"],[0.3333333333333333,\"#31688e\"],[0.4444444444444444,\"#26828e\"],[0.5555555555555556,\"#1f9e89\"],[0.6666666666666666,\"#35b779\"],[0.7777777777777778,\"#6ece58\"],[0.8888888888888888,\"#b5de2b\"],[1.0,\"#fde725\"]]},\"legend\":{\"tracegroupgap\":0},\"title\":{\"text\":\"2022 Population\"}},                        {\"responsive\": true}                    ).then(function(){\n",
              "                            \n",
              "var gd = document.getElementById('0ced2cf2-217d-4049-b5aa-74cd864204cf');\n",
              "var x = new MutationObserver(function (mutations, observer) {{\n",
              "        var display = window.getComputedStyle(gd).display;\n",
              "        if (!display || display === 'none') {{\n",
              "            console.log([gd, 'removed!']);\n",
              "            Plotly.purge(gd);\n",
              "            observer.disconnect();\n",
              "        }}\n",
              "}});\n",
              "\n",
              "// Listen for the removal of the full notebook cells\n",
              "var notebookContainer = gd.closest('#notebook-container');\n",
              "if (notebookContainer) {{\n",
              "    x.observe(notebookContainer, {childList: true});\n",
              "}}\n",
              "\n",
              "// Listen for the clearing of the current output cell\n",
              "var outputEl = gd.closest('.output');\n",
              "if (outputEl) {{\n",
              "    x.observe(outputEl, {childList: true});\n",
              "}}\n",
              "\n",
              "                        })                };                });            </script>        </div>"
            ]
          },
          "metadata": {},
          "output_type": "display_data"
        }
      ],
      "source": [
        "#2022 Population\n",
        "fig = px.choropleth(df,\n",
        "                    locations='country',\n",
        "                    locationmode='country names',\n",
        "                    color='pop2022',  # we indicate the year we are interested in\n",
        "                    hover_name='country',\n",
        "                    title = '2022 Population',\n",
        "                    color_continuous_scale='Viridis'\n",
        "                    )\n",
        "fig.show()"
      ]
    },
    {
      "cell_type": "code",
      "execution_count": null,
      "id": "d268f55f",
      "metadata": {
        "execution": {
          "iopub.execute_input": "2023-06-02T04:52:24.577839Z",
          "iopub.status.busy": "2023-06-02T04:52:24.577449Z",
          "iopub.status.idle": "2023-06-02T04:52:24.651565Z",
          "shell.execute_reply": "2023-06-02T04:52:24.650418Z"
        },
        "papermill": {
          "duration": 0.130526,
          "end_time": "2023-06-02T04:52:24.655035",
          "exception": false,
          "start_time": "2023-06-02T04:52:24.524509",
          "status": "completed"
        },
        "tags": [],
        "id": "d268f55f",
        "outputId": "dd95c9b2-7e43-4d0c-cea0-a72eac2ac693"
      },
      "outputs": [
        {
          "data": {
            "application/vnd.plotly.v1+json": {
              "config": {
                "plotlyServerURL": "https://plot.ly"
              },
              "data": [
                {
                  "coloraxis": "coloraxis",
                  "geo": "geo",
                  "hovertemplate": "<b>%{hovertext}</b><br><br>country=%{location}<br>pop2023=%{z}<extra></extra>",
                  "hovertext": [
                    "India",
                    "China",
                    "United States",
                    "Indonesia",
                    "Pakistan",
                    "Nigeria",
                    "Brazil",
                    "Bangladesh",
                    "Russia",
                    "Mexico",
                    "Ethiopia",
                    "Japan",
                    "Philippines",
                    "Egypt",
                    "DR Congo",
                    "Vietnam",
                    "Iran",
                    "Turkey",
                    "Germany",
                    "Thailand",
                    "United Kingdom",
                    "Tanzania",
                    "France",
                    "South Africa",
                    "Italy",
                    "Kenya",
                    "Myanmar",
                    "Colombia",
                    "South Korea",
                    "Uganda",
                    "Sudan",
                    "Spain",
                    "Argentina",
                    "Algeria",
                    "Iraq",
                    "Afghanistan",
                    "Poland",
                    "Canada",
                    "Morocco",
                    "Saudi Arabia",
                    "Ukraine",
                    "Angola",
                    "Uzbekistan",
                    "Yemen",
                    "Peru",
                    "Malaysia",
                    "Ghana",
                    "Mozambique",
                    "Nepal",
                    "Madagascar",
                    "Ivory Coast",
                    "Venezuela",
                    "Cameroon",
                    "Niger",
                    "Australia",
                    "North Korea",
                    "Taiwan",
                    "Mali",
                    "Burkina Faso",
                    "Syria",
                    "Sri Lanka",
                    "Malawi",
                    "Zambia",
                    "Romania",
                    "Chile",
                    "Kazakhstan",
                    "Chad",
                    "Ecuador",
                    "Somalia",
                    "Guatemala",
                    "Senegal",
                    "Netherlands",
                    "Cambodia",
                    "Zimbabwe",
                    "Guinea",
                    "Rwanda",
                    "Benin",
                    "Burundi",
                    "Tunisia",
                    "Bolivia",
                    "Haiti",
                    "Belgium",
                    "Jordan",
                    "Dominican Republic",
                    "Cuba",
                    "South Sudan",
                    "Sweden",
                    "Honduras",
                    "Czech Republic",
                    "Azerbaijan",
                    "Greece",
                    "Papua New Guinea",
                    "Portugal",
                    "Hungary",
                    "Tajikistan",
                    "United Arab Emirates",
                    "Belarus",
                    "Israel",
                    "Togo",
                    "Austria",
                    "Switzerland",
                    "Sierra Leone",
                    "Laos",
                    "Hong Kong",
                    "Serbia",
                    "Nicaragua",
                    "Libya",
                    "Paraguay",
                    "Kyrgyzstan",
                    "Bulgaria",
                    "Turkmenistan",
                    "El Salvador",
                    "Republic of the Congo",
                    "Singapore",
                    "Denmark",
                    "Slovakia",
                    "Central African Republic",
                    "Finland",
                    "Norway",
                    "Liberia",
                    "Palestine",
                    "Lebanon",
                    "New Zealand",
                    "Costa Rica",
                    "Ireland",
                    "Mauritania",
                    "Oman",
                    "Panama",
                    "Kuwait",
                    "Croatia",
                    "Eritrea",
                    "Georgia",
                    "Mongolia",
                    "Moldova",
                    "Uruguay",
                    "Puerto Rico",
                    "Bosnia and Herzegovina",
                    "Albania",
                    "Jamaica",
                    "Armenia",
                    "Gambia",
                    "Lithuania",
                    "Qatar",
                    "Botswana",
                    "Namibia",
                    "Gabon",
                    "Lesotho",
                    "Guinea-Bissau",
                    "Slovenia",
                    "North Macedonia",
                    "Latvia",
                    "Equatorial Guinea",
                    "Trinidad and Tobago",
                    "Bahrain",
                    "Timor-Leste",
                    "Estonia",
                    "Mauritius",
                    "Cyprus",
                    "Eswatini",
                    "Djibouti",
                    "Reunion",
                    "Fiji",
                    "Comoros",
                    "Guyana",
                    "Bhutan",
                    "Solomon Islands",
                    "Macau",
                    "Luxembourg",
                    "Montenegro",
                    "Suriname",
                    "Cape Verde",
                    "Western Sahara",
                    "Malta",
                    "Maldives",
                    "Brunei",
                    "Bahamas",
                    "Belize",
                    "Guadeloupe",
                    "Iceland",
                    "Martinique",
                    "Mayotte",
                    "Vanuatu",
                    "French Guiana",
                    "French Polynesia",
                    "New Caledonia",
                    "Barbados",
                    "Sao Tome and Principe",
                    "Samoa",
                    "Curacao",
                    "Saint Lucia",
                    "Guam",
                    "Kiribati",
                    "Grenada",
                    "Micronesia",
                    "Jersey",
                    "Tonga",
                    "Seychelles",
                    "Aruba",
                    "Saint Vincent and the Grenadines",
                    "United States Virgin Islands",
                    "Antigua and Barbuda",
                    "Isle of Man",
                    "Andorra",
                    "Dominica",
                    "Cayman Islands",
                    "Bermuda",
                    "Guernsey",
                    "Greenland",
                    "Faroe Islands",
                    "Northern Mariana Islands",
                    "Saint Kitts and Nevis",
                    "Turks and Caicos Islands",
                    "Sint Maarten",
                    "American Samoa",
                    "Marshall Islands",
                    "Liechtenstein",
                    "Monaco",
                    "San Marino",
                    "Gibraltar",
                    "Saint Martin",
                    "British Virgin Islands",
                    "Palau",
                    "Cook Islands",
                    "Anguilla",
                    "Nauru",
                    "Wallis and Futuna",
                    "Tuvalu",
                    "Saint Barthelemy",
                    "Saint Pierre and Miquelon",
                    "Montserrat",
                    "Falkland Islands",
                    "Niue",
                    "Tokelau",
                    "Vatican City"
                  ],
                  "locationmode": "country names",
                  "locations": [
                    "India",
                    "China",
                    "United States",
                    "Indonesia",
                    "Pakistan",
                    "Nigeria",
                    "Brazil",
                    "Bangladesh",
                    "Russia",
                    "Mexico",
                    "Ethiopia",
                    "Japan",
                    "Philippines",
                    "Egypt",
                    "DR Congo",
                    "Vietnam",
                    "Iran",
                    "Turkey",
                    "Germany",
                    "Thailand",
                    "United Kingdom",
                    "Tanzania",
                    "France",
                    "South Africa",
                    "Italy",
                    "Kenya",
                    "Myanmar",
                    "Colombia",
                    "South Korea",
                    "Uganda",
                    "Sudan",
                    "Spain",
                    "Argentina",
                    "Algeria",
                    "Iraq",
                    "Afghanistan",
                    "Poland",
                    "Canada",
                    "Morocco",
                    "Saudi Arabia",
                    "Ukraine",
                    "Angola",
                    "Uzbekistan",
                    "Yemen",
                    "Peru",
                    "Malaysia",
                    "Ghana",
                    "Mozambique",
                    "Nepal",
                    "Madagascar",
                    "Ivory Coast",
                    "Venezuela",
                    "Cameroon",
                    "Niger",
                    "Australia",
                    "North Korea",
                    "Taiwan",
                    "Mali",
                    "Burkina Faso",
                    "Syria",
                    "Sri Lanka",
                    "Malawi",
                    "Zambia",
                    "Romania",
                    "Chile",
                    "Kazakhstan",
                    "Chad",
                    "Ecuador",
                    "Somalia",
                    "Guatemala",
                    "Senegal",
                    "Netherlands",
                    "Cambodia",
                    "Zimbabwe",
                    "Guinea",
                    "Rwanda",
                    "Benin",
                    "Burundi",
                    "Tunisia",
                    "Bolivia",
                    "Haiti",
                    "Belgium",
                    "Jordan",
                    "Dominican Republic",
                    "Cuba",
                    "South Sudan",
                    "Sweden",
                    "Honduras",
                    "Czech Republic",
                    "Azerbaijan",
                    "Greece",
                    "Papua New Guinea",
                    "Portugal",
                    "Hungary",
                    "Tajikistan",
                    "United Arab Emirates",
                    "Belarus",
                    "Israel",
                    "Togo",
                    "Austria",
                    "Switzerland",
                    "Sierra Leone",
                    "Laos",
                    "Hong Kong",
                    "Serbia",
                    "Nicaragua",
                    "Libya",
                    "Paraguay",
                    "Kyrgyzstan",
                    "Bulgaria",
                    "Turkmenistan",
                    "El Salvador",
                    "Republic of the Congo",
                    "Singapore",
                    "Denmark",
                    "Slovakia",
                    "Central African Republic",
                    "Finland",
                    "Norway",
                    "Liberia",
                    "Palestine",
                    "Lebanon",
                    "New Zealand",
                    "Costa Rica",
                    "Ireland",
                    "Mauritania",
                    "Oman",
                    "Panama",
                    "Kuwait",
                    "Croatia",
                    "Eritrea",
                    "Georgia",
                    "Mongolia",
                    "Moldova",
                    "Uruguay",
                    "Puerto Rico",
                    "Bosnia and Herzegovina",
                    "Albania",
                    "Jamaica",
                    "Armenia",
                    "Gambia",
                    "Lithuania",
                    "Qatar",
                    "Botswana",
                    "Namibia",
                    "Gabon",
                    "Lesotho",
                    "Guinea-Bissau",
                    "Slovenia",
                    "North Macedonia",
                    "Latvia",
                    "Equatorial Guinea",
                    "Trinidad and Tobago",
                    "Bahrain",
                    "Timor-Leste",
                    "Estonia",
                    "Mauritius",
                    "Cyprus",
                    "Eswatini",
                    "Djibouti",
                    "Reunion",
                    "Fiji",
                    "Comoros",
                    "Guyana",
                    "Bhutan",
                    "Solomon Islands",
                    "Macau",
                    "Luxembourg",
                    "Montenegro",
                    "Suriname",
                    "Cape Verde",
                    "Western Sahara",
                    "Malta",
                    "Maldives",
                    "Brunei",
                    "Bahamas",
                    "Belize",
                    "Guadeloupe",
                    "Iceland",
                    "Martinique",
                    "Mayotte",
                    "Vanuatu",
                    "French Guiana",
                    "French Polynesia",
                    "New Caledonia",
                    "Barbados",
                    "Sao Tome and Principe",
                    "Samoa",
                    "Curacao",
                    "Saint Lucia",
                    "Guam",
                    "Kiribati",
                    "Grenada",
                    "Micronesia",
                    "Jersey",
                    "Tonga",
                    "Seychelles",
                    "Aruba",
                    "Saint Vincent and the Grenadines",
                    "United States Virgin Islands",
                    "Antigua and Barbuda",
                    "Isle of Man",
                    "Andorra",
                    "Dominica",
                    "Cayman Islands",
                    "Bermuda",
                    "Guernsey",
                    "Greenland",
                    "Faroe Islands",
                    "Northern Mariana Islands",
                    "Saint Kitts and Nevis",
                    "Turks and Caicos Islands",
                    "Sint Maarten",
                    "American Samoa",
                    "Marshall Islands",
                    "Liechtenstein",
                    "Monaco",
                    "San Marino",
                    "Gibraltar",
                    "Saint Martin",
                    "British Virgin Islands",
                    "Palau",
                    "Cook Islands",
                    "Anguilla",
                    "Nauru",
                    "Wallis and Futuna",
                    "Tuvalu",
                    "Saint Barthelemy",
                    "Saint Pierre and Miquelon",
                    "Montserrat",
                    "Falkland Islands",
                    "Niue",
                    "Tokelau",
                    "Vatican City"
                  ],
                  "name": "",
                  "type": "choropleth",
                  "z": [
                    1428627663,
                    1425671352,
                    339996563,
                    277534122,
                    240485658,
                    223804632,
                    216422446,
                    172954319,
                    144444359,
                    128455567,
                    126527060,
                    123294513,
                    117337368,
                    112716598,
                    102262808,
                    98858950,
                    89172767,
                    85816199,
                    83294633,
                    71801279,
                    67736802,
                    67438106,
                    64756584,
                    60414495,
                    58870762,
                    55100586,
                    54577997,
                    52085168,
                    51784059,
                    48582334,
                    48109006,
                    47519628,
                    45773884,
                    45606480,
                    45504560,
                    42239854,
                    41026067,
                    38781291,
                    37840044,
                    36947025,
                    36744634,
                    36684202,
                    35163944,
                    34449825,
                    34352719,
                    34308525,
                    34121985,
                    33897354,
                    30896590,
                    30325732,
                    28873034,
                    28838499,
                    28647293,
                    27202843,
                    26439111,
                    26160821,
                    23923276,
                    23293698,
                    23251485,
                    23227014,
                    21893579,
                    20931751,
                    20569737,
                    19892812,
                    19629590,
                    19606633,
                    18278568,
                    18190484,
                    18143378,
                    18092026,
                    17763163,
                    17618299,
                    16944826,
                    16665409,
                    14190612,
                    14094683,
                    13712828,
                    13238559,
                    12458223,
                    12388571,
                    11724763,
                    11686140,
                    11337052,
                    11332972,
                    11194449,
                    11088796,
                    10612086,
                    10593798,
                    10495295,
                    10412651,
                    10341277,
                    10329931,
                    10247605,
                    10156239,
                    10143543,
                    9516871,
                    9498238,
                    9174520,
                    9053799,
                    8958960,
                    8796669,
                    8791092,
                    7633779,
                    7491609,
                    7149077,
                    7046310,
                    6888388,
                    6861524,
                    6735347,
                    6687717,
                    6516100,
                    6364943,
                    6106869,
                    6014723,
                    5910913,
                    5795199,
                    5742315,
                    5545475,
                    5474360,
                    5418377,
                    5371230,
                    5353930,
                    5228100,
                    5212173,
                    5056935,
                    4862989,
                    4644384,
                    4468087,
                    4310108,
                    4008617,
                    3748901,
                    3728282,
                    3447157,
                    3435931,
                    3423108,
                    3260314,
                    3210847,
                    2832439,
                    2825544,
                    2777970,
                    2773168,
                    2718352,
                    2716391,
                    2675352,
                    2604172,
                    2436566,
                    2330318,
                    2150842,
                    2119675,
                    2085679,
                    1830211,
                    1714671,
                    1534937,
                    1485509,
                    1360596,
                    1322765,
                    1300557,
                    1260138,
                    1210822,
                    1136455,
                    981796,
                    936375,
                    852075,
                    813834,
                    787424,
                    740424,
                    704149,
                    654768,
                    626485,
                    623236,
                    598682,
                    587259,
                    535064,
                    521021,
                    452524,
                    412623,
                    410825,
                    395839,
                    375318,
                    366981,
                    335995,
                    334506,
                    312155,
                    308872,
                    292991,
                    281995,
                    231856,
                    225681,
                    192077,
                    180251,
                    172952,
                    133515,
                    126183,
                    115224,
                    111802,
                    107773,
                    107660,
                    106277,
                    103698,
                    98750,
                    94298,
                    84710,
                    80088,
                    73040,
                    69310,
                    64069,
                    63544,
                    56643,
                    53270,
                    49796,
                    47755,
                    46062,
                    44222,
                    43914,
                    41996,
                    39584,
                    36297,
                    33642,
                    32688,
                    32077,
                    31538,
                    18058,
                    17044,
                    15899,
                    12780,
                    11502,
                    11396,
                    10994,
                    5840,
                    4386,
                    3791,
                    1935,
                    1893,
                    518
                  ]
                }
              ],
              "layout": {
                "coloraxis": {
                  "colorbar": {
                    "title": {
                      "text": "pop2023"
                    }
                  },
                  "colorscale": [
                    [
                      0,
                      "#440154"
                    ],
                    [
                      0.1111111111111111,
                      "#482878"
                    ],
                    [
                      0.2222222222222222,
                      "#3e4989"
                    ],
                    [
                      0.3333333333333333,
                      "#31688e"
                    ],
                    [
                      0.4444444444444444,
                      "#26828e"
                    ],
                    [
                      0.5555555555555556,
                      "#1f9e89"
                    ],
                    [
                      0.6666666666666666,
                      "#35b779"
                    ],
                    [
                      0.7777777777777778,
                      "#6ece58"
                    ],
                    [
                      0.8888888888888888,
                      "#b5de2b"
                    ],
                    [
                      1,
                      "#fde725"
                    ]
                  ]
                },
                "geo": {
                  "center": {},
                  "domain": {
                    "x": [
                      0,
                      1
                    ],
                    "y": [
                      0,
                      1
                    ]
                  }
                },
                "legend": {
                  "tracegroupgap": 0
                },
                "template": {
                  "data": {
                    "bar": [
                      {
                        "error_x": {
                          "color": "#2a3f5f"
                        },
                        "error_y": {
                          "color": "#2a3f5f"
                        },
                        "marker": {
                          "line": {
                            "color": "#E5ECF6",
                            "width": 0.5
                          },
                          "pattern": {
                            "fillmode": "overlay",
                            "size": 10,
                            "solidity": 0.2
                          }
                        },
                        "type": "bar"
                      }
                    ],
                    "barpolar": [
                      {
                        "marker": {
                          "line": {
                            "color": "#E5ECF6",
                            "width": 0.5
                          },
                          "pattern": {
                            "fillmode": "overlay",
                            "size": 10,
                            "solidity": 0.2
                          }
                        },
                        "type": "barpolar"
                      }
                    ],
                    "carpet": [
                      {
                        "aaxis": {
                          "endlinecolor": "#2a3f5f",
                          "gridcolor": "white",
                          "linecolor": "white",
                          "minorgridcolor": "white",
                          "startlinecolor": "#2a3f5f"
                        },
                        "baxis": {
                          "endlinecolor": "#2a3f5f",
                          "gridcolor": "white",
                          "linecolor": "white",
                          "minorgridcolor": "white",
                          "startlinecolor": "#2a3f5f"
                        },
                        "type": "carpet"
                      }
                    ],
                    "choropleth": [
                      {
                        "colorbar": {
                          "outlinewidth": 0,
                          "ticks": ""
                        },
                        "type": "choropleth"
                      }
                    ],
                    "contour": [
                      {
                        "colorbar": {
                          "outlinewidth": 0,
                          "ticks": ""
                        },
                        "colorscale": [
                          [
                            0,
                            "#0d0887"
                          ],
                          [
                            0.1111111111111111,
                            "#46039f"
                          ],
                          [
                            0.2222222222222222,
                            "#7201a8"
                          ],
                          [
                            0.3333333333333333,
                            "#9c179e"
                          ],
                          [
                            0.4444444444444444,
                            "#bd3786"
                          ],
                          [
                            0.5555555555555556,
                            "#d8576b"
                          ],
                          [
                            0.6666666666666666,
                            "#ed7953"
                          ],
                          [
                            0.7777777777777778,
                            "#fb9f3a"
                          ],
                          [
                            0.8888888888888888,
                            "#fdca26"
                          ],
                          [
                            1,
                            "#f0f921"
                          ]
                        ],
                        "type": "contour"
                      }
                    ],
                    "contourcarpet": [
                      {
                        "colorbar": {
                          "outlinewidth": 0,
                          "ticks": ""
                        },
                        "type": "contourcarpet"
                      }
                    ],
                    "heatmap": [
                      {
                        "colorbar": {
                          "outlinewidth": 0,
                          "ticks": ""
                        },
                        "colorscale": [
                          [
                            0,
                            "#0d0887"
                          ],
                          [
                            0.1111111111111111,
                            "#46039f"
                          ],
                          [
                            0.2222222222222222,
                            "#7201a8"
                          ],
                          [
                            0.3333333333333333,
                            "#9c179e"
                          ],
                          [
                            0.4444444444444444,
                            "#bd3786"
                          ],
                          [
                            0.5555555555555556,
                            "#d8576b"
                          ],
                          [
                            0.6666666666666666,
                            "#ed7953"
                          ],
                          [
                            0.7777777777777778,
                            "#fb9f3a"
                          ],
                          [
                            0.8888888888888888,
                            "#fdca26"
                          ],
                          [
                            1,
                            "#f0f921"
                          ]
                        ],
                        "type": "heatmap"
                      }
                    ],
                    "heatmapgl": [
                      {
                        "colorbar": {
                          "outlinewidth": 0,
                          "ticks": ""
                        },
                        "colorscale": [
                          [
                            0,
                            "#0d0887"
                          ],
                          [
                            0.1111111111111111,
                            "#46039f"
                          ],
                          [
                            0.2222222222222222,
                            "#7201a8"
                          ],
                          [
                            0.3333333333333333,
                            "#9c179e"
                          ],
                          [
                            0.4444444444444444,
                            "#bd3786"
                          ],
                          [
                            0.5555555555555556,
                            "#d8576b"
                          ],
                          [
                            0.6666666666666666,
                            "#ed7953"
                          ],
                          [
                            0.7777777777777778,
                            "#fb9f3a"
                          ],
                          [
                            0.8888888888888888,
                            "#fdca26"
                          ],
                          [
                            1,
                            "#f0f921"
                          ]
                        ],
                        "type": "heatmapgl"
                      }
                    ],
                    "histogram": [
                      {
                        "marker": {
                          "pattern": {
                            "fillmode": "overlay",
                            "size": 10,
                            "solidity": 0.2
                          }
                        },
                        "type": "histogram"
                      }
                    ],
                    "histogram2d": [
                      {
                        "colorbar": {
                          "outlinewidth": 0,
                          "ticks": ""
                        },
                        "colorscale": [
                          [
                            0,
                            "#0d0887"
                          ],
                          [
                            0.1111111111111111,
                            "#46039f"
                          ],
                          [
                            0.2222222222222222,
                            "#7201a8"
                          ],
                          [
                            0.3333333333333333,
                            "#9c179e"
                          ],
                          [
                            0.4444444444444444,
                            "#bd3786"
                          ],
                          [
                            0.5555555555555556,
                            "#d8576b"
                          ],
                          [
                            0.6666666666666666,
                            "#ed7953"
                          ],
                          [
                            0.7777777777777778,
                            "#fb9f3a"
                          ],
                          [
                            0.8888888888888888,
                            "#fdca26"
                          ],
                          [
                            1,
                            "#f0f921"
                          ]
                        ],
                        "type": "histogram2d"
                      }
                    ],
                    "histogram2dcontour": [
                      {
                        "colorbar": {
                          "outlinewidth": 0,
                          "ticks": ""
                        },
                        "colorscale": [
                          [
                            0,
                            "#0d0887"
                          ],
                          [
                            0.1111111111111111,
                            "#46039f"
                          ],
                          [
                            0.2222222222222222,
                            "#7201a8"
                          ],
                          [
                            0.3333333333333333,
                            "#9c179e"
                          ],
                          [
                            0.4444444444444444,
                            "#bd3786"
                          ],
                          [
                            0.5555555555555556,
                            "#d8576b"
                          ],
                          [
                            0.6666666666666666,
                            "#ed7953"
                          ],
                          [
                            0.7777777777777778,
                            "#fb9f3a"
                          ],
                          [
                            0.8888888888888888,
                            "#fdca26"
                          ],
                          [
                            1,
                            "#f0f921"
                          ]
                        ],
                        "type": "histogram2dcontour"
                      }
                    ],
                    "mesh3d": [
                      {
                        "colorbar": {
                          "outlinewidth": 0,
                          "ticks": ""
                        },
                        "type": "mesh3d"
                      }
                    ],
                    "parcoords": [
                      {
                        "line": {
                          "colorbar": {
                            "outlinewidth": 0,
                            "ticks": ""
                          }
                        },
                        "type": "parcoords"
                      }
                    ],
                    "pie": [
                      {
                        "automargin": true,
                        "type": "pie"
                      }
                    ],
                    "scatter": [
                      {
                        "fillpattern": {
                          "fillmode": "overlay",
                          "size": 10,
                          "solidity": 0.2
                        },
                        "type": "scatter"
                      }
                    ],
                    "scatter3d": [
                      {
                        "line": {
                          "colorbar": {
                            "outlinewidth": 0,
                            "ticks": ""
                          }
                        },
                        "marker": {
                          "colorbar": {
                            "outlinewidth": 0,
                            "ticks": ""
                          }
                        },
                        "type": "scatter3d"
                      }
                    ],
                    "scattercarpet": [
                      {
                        "marker": {
                          "colorbar": {
                            "outlinewidth": 0,
                            "ticks": ""
                          }
                        },
                        "type": "scattercarpet"
                      }
                    ],
                    "scattergeo": [
                      {
                        "marker": {
                          "colorbar": {
                            "outlinewidth": 0,
                            "ticks": ""
                          }
                        },
                        "type": "scattergeo"
                      }
                    ],
                    "scattergl": [
                      {
                        "marker": {
                          "colorbar": {
                            "outlinewidth": 0,
                            "ticks": ""
                          }
                        },
                        "type": "scattergl"
                      }
                    ],
                    "scattermapbox": [
                      {
                        "marker": {
                          "colorbar": {
                            "outlinewidth": 0,
                            "ticks": ""
                          }
                        },
                        "type": "scattermapbox"
                      }
                    ],
                    "scatterpolar": [
                      {
                        "marker": {
                          "colorbar": {
                            "outlinewidth": 0,
                            "ticks": ""
                          }
                        },
                        "type": "scatterpolar"
                      }
                    ],
                    "scatterpolargl": [
                      {
                        "marker": {
                          "colorbar": {
                            "outlinewidth": 0,
                            "ticks": ""
                          }
                        },
                        "type": "scatterpolargl"
                      }
                    ],
                    "scatterternary": [
                      {
                        "marker": {
                          "colorbar": {
                            "outlinewidth": 0,
                            "ticks": ""
                          }
                        },
                        "type": "scatterternary"
                      }
                    ],
                    "surface": [
                      {
                        "colorbar": {
                          "outlinewidth": 0,
                          "ticks": ""
                        },
                        "colorscale": [
                          [
                            0,
                            "#0d0887"
                          ],
                          [
                            0.1111111111111111,
                            "#46039f"
                          ],
                          [
                            0.2222222222222222,
                            "#7201a8"
                          ],
                          [
                            0.3333333333333333,
                            "#9c179e"
                          ],
                          [
                            0.4444444444444444,
                            "#bd3786"
                          ],
                          [
                            0.5555555555555556,
                            "#d8576b"
                          ],
                          [
                            0.6666666666666666,
                            "#ed7953"
                          ],
                          [
                            0.7777777777777778,
                            "#fb9f3a"
                          ],
                          [
                            0.8888888888888888,
                            "#fdca26"
                          ],
                          [
                            1,
                            "#f0f921"
                          ]
                        ],
                        "type": "surface"
                      }
                    ],
                    "table": [
                      {
                        "cells": {
                          "fill": {
                            "color": "#EBF0F8"
                          },
                          "line": {
                            "color": "white"
                          }
                        },
                        "header": {
                          "fill": {
                            "color": "#C8D4E3"
                          },
                          "line": {
                            "color": "white"
                          }
                        },
                        "type": "table"
                      }
                    ]
                  },
                  "layout": {
                    "annotationdefaults": {
                      "arrowcolor": "#2a3f5f",
                      "arrowhead": 0,
                      "arrowwidth": 1
                    },
                    "autotypenumbers": "strict",
                    "coloraxis": {
                      "colorbar": {
                        "outlinewidth": 0,
                        "ticks": ""
                      }
                    },
                    "colorscale": {
                      "diverging": [
                        [
                          0,
                          "#8e0152"
                        ],
                        [
                          0.1,
                          "#c51b7d"
                        ],
                        [
                          0.2,
                          "#de77ae"
                        ],
                        [
                          0.3,
                          "#f1b6da"
                        ],
                        [
                          0.4,
                          "#fde0ef"
                        ],
                        [
                          0.5,
                          "#f7f7f7"
                        ],
                        [
                          0.6,
                          "#e6f5d0"
                        ],
                        [
                          0.7,
                          "#b8e186"
                        ],
                        [
                          0.8,
                          "#7fbc41"
                        ],
                        [
                          0.9,
                          "#4d9221"
                        ],
                        [
                          1,
                          "#276419"
                        ]
                      ],
                      "sequential": [
                        [
                          0,
                          "#0d0887"
                        ],
                        [
                          0.1111111111111111,
                          "#46039f"
                        ],
                        [
                          0.2222222222222222,
                          "#7201a8"
                        ],
                        [
                          0.3333333333333333,
                          "#9c179e"
                        ],
                        [
                          0.4444444444444444,
                          "#bd3786"
                        ],
                        [
                          0.5555555555555556,
                          "#d8576b"
                        ],
                        [
                          0.6666666666666666,
                          "#ed7953"
                        ],
                        [
                          0.7777777777777778,
                          "#fb9f3a"
                        ],
                        [
                          0.8888888888888888,
                          "#fdca26"
                        ],
                        [
                          1,
                          "#f0f921"
                        ]
                      ],
                      "sequentialminus": [
                        [
                          0,
                          "#0d0887"
                        ],
                        [
                          0.1111111111111111,
                          "#46039f"
                        ],
                        [
                          0.2222222222222222,
                          "#7201a8"
                        ],
                        [
                          0.3333333333333333,
                          "#9c179e"
                        ],
                        [
                          0.4444444444444444,
                          "#bd3786"
                        ],
                        [
                          0.5555555555555556,
                          "#d8576b"
                        ],
                        [
                          0.6666666666666666,
                          "#ed7953"
                        ],
                        [
                          0.7777777777777778,
                          "#fb9f3a"
                        ],
                        [
                          0.8888888888888888,
                          "#fdca26"
                        ],
                        [
                          1,
                          "#f0f921"
                        ]
                      ]
                    },
                    "colorway": [
                      "#636efa",
                      "#EF553B",
                      "#00cc96",
                      "#ab63fa",
                      "#FFA15A",
                      "#19d3f3",
                      "#FF6692",
                      "#B6E880",
                      "#FF97FF",
                      "#FECB52"
                    ],
                    "font": {
                      "color": "#2a3f5f"
                    },
                    "geo": {
                      "bgcolor": "white",
                      "lakecolor": "white",
                      "landcolor": "#E5ECF6",
                      "showlakes": true,
                      "showland": true,
                      "subunitcolor": "white"
                    },
                    "hoverlabel": {
                      "align": "left"
                    },
                    "hovermode": "closest",
                    "mapbox": {
                      "style": "light"
                    },
                    "paper_bgcolor": "white",
                    "plot_bgcolor": "#E5ECF6",
                    "polar": {
                      "angularaxis": {
                        "gridcolor": "white",
                        "linecolor": "white",
                        "ticks": ""
                      },
                      "bgcolor": "#E5ECF6",
                      "radialaxis": {
                        "gridcolor": "white",
                        "linecolor": "white",
                        "ticks": ""
                      }
                    },
                    "scene": {
                      "xaxis": {
                        "backgroundcolor": "#E5ECF6",
                        "gridcolor": "white",
                        "gridwidth": 2,
                        "linecolor": "white",
                        "showbackground": true,
                        "ticks": "",
                        "zerolinecolor": "white"
                      },
                      "yaxis": {
                        "backgroundcolor": "#E5ECF6",
                        "gridcolor": "white",
                        "gridwidth": 2,
                        "linecolor": "white",
                        "showbackground": true,
                        "ticks": "",
                        "zerolinecolor": "white"
                      },
                      "zaxis": {
                        "backgroundcolor": "#E5ECF6",
                        "gridcolor": "white",
                        "gridwidth": 2,
                        "linecolor": "white",
                        "showbackground": true,
                        "ticks": "",
                        "zerolinecolor": "white"
                      }
                    },
                    "shapedefaults": {
                      "line": {
                        "color": "#2a3f5f"
                      }
                    },
                    "ternary": {
                      "aaxis": {
                        "gridcolor": "white",
                        "linecolor": "white",
                        "ticks": ""
                      },
                      "baxis": {
                        "gridcolor": "white",
                        "linecolor": "white",
                        "ticks": ""
                      },
                      "bgcolor": "#E5ECF6",
                      "caxis": {
                        "gridcolor": "white",
                        "linecolor": "white",
                        "ticks": ""
                      }
                    },
                    "title": {
                      "x": 0.05
                    },
                    "xaxis": {
                      "automargin": true,
                      "gridcolor": "white",
                      "linecolor": "white",
                      "ticks": "",
                      "title": {
                        "standoff": 15
                      },
                      "zerolinecolor": "white",
                      "zerolinewidth": 2
                    },
                    "yaxis": {
                      "automargin": true,
                      "gridcolor": "white",
                      "linecolor": "white",
                      "ticks": "",
                      "title": {
                        "standoff": 15
                      },
                      "zerolinecolor": "white",
                      "zerolinewidth": 2
                    }
                  }
                },
                "title": {
                  "text": "2023 Population"
                }
              }
            },
            "text/html": [
              "<div>                            <div id=\"27c64a19-bdfc-4be0-85bd-d0ac446de15f\" class=\"plotly-graph-div\" style=\"height:525px; width:100%;\"></div>            <script type=\"text/javascript\">                require([\"plotly\"], function(Plotly) {                    window.PLOTLYENV=window.PLOTLYENV || {};                                    if (document.getElementById(\"27c64a19-bdfc-4be0-85bd-d0ac446de15f\")) {                    Plotly.newPlot(                        \"27c64a19-bdfc-4be0-85bd-d0ac446de15f\",                        [{\"coloraxis\":\"coloraxis\",\"geo\":\"geo\",\"hovertemplate\":\"<b>%{hovertext}</b><br><br>country=%{location}<br>pop2023=%{z}<extra></extra>\",\"hovertext\":[\"India\",\"China\",\"United States\",\"Indonesia\",\"Pakistan\",\"Nigeria\",\"Brazil\",\"Bangladesh\",\"Russia\",\"Mexico\",\"Ethiopia\",\"Japan\",\"Philippines\",\"Egypt\",\"DR Congo\",\"Vietnam\",\"Iran\",\"Turkey\",\"Germany\",\"Thailand\",\"United Kingdom\",\"Tanzania\",\"France\",\"South Africa\",\"Italy\",\"Kenya\",\"Myanmar\",\"Colombia\",\"South Korea\",\"Uganda\",\"Sudan\",\"Spain\",\"Argentina\",\"Algeria\",\"Iraq\",\"Afghanistan\",\"Poland\",\"Canada\",\"Morocco\",\"Saudi Arabia\",\"Ukraine\",\"Angola\",\"Uzbekistan\",\"Yemen\",\"Peru\",\"Malaysia\",\"Ghana\",\"Mozambique\",\"Nepal\",\"Madagascar\",\"Ivory Coast\",\"Venezuela\",\"Cameroon\",\"Niger\",\"Australia\",\"North Korea\",\"Taiwan\",\"Mali\",\"Burkina Faso\",\"Syria\",\"Sri Lanka\",\"Malawi\",\"Zambia\",\"Romania\",\"Chile\",\"Kazakhstan\",\"Chad\",\"Ecuador\",\"Somalia\",\"Guatemala\",\"Senegal\",\"Netherlands\",\"Cambodia\",\"Zimbabwe\",\"Guinea\",\"Rwanda\",\"Benin\",\"Burundi\",\"Tunisia\",\"Bolivia\",\"Haiti\",\"Belgium\",\"Jordan\",\"Dominican Republic\",\"Cuba\",\"South Sudan\",\"Sweden\",\"Honduras\",\"Czech Republic\",\"Azerbaijan\",\"Greece\",\"Papua New Guinea\",\"Portugal\",\"Hungary\",\"Tajikistan\",\"United Arab Emirates\",\"Belarus\",\"Israel\",\"Togo\",\"Austria\",\"Switzerland\",\"Sierra Leone\",\"Laos\",\"Hong Kong\",\"Serbia\",\"Nicaragua\",\"Libya\",\"Paraguay\",\"Kyrgyzstan\",\"Bulgaria\",\"Turkmenistan\",\"El Salvador\",\"Republic of the Congo\",\"Singapore\",\"Denmark\",\"Slovakia\",\"Central African Republic\",\"Finland\",\"Norway\",\"Liberia\",\"Palestine\",\"Lebanon\",\"New Zealand\",\"Costa Rica\",\"Ireland\",\"Mauritania\",\"Oman\",\"Panama\",\"Kuwait\",\"Croatia\",\"Eritrea\",\"Georgia\",\"Mongolia\",\"Moldova\",\"Uruguay\",\"Puerto Rico\",\"Bosnia and Herzegovina\",\"Albania\",\"Jamaica\",\"Armenia\",\"Gambia\",\"Lithuania\",\"Qatar\",\"Botswana\",\"Namibia\",\"Gabon\",\"Lesotho\",\"Guinea-Bissau\",\"Slovenia\",\"North Macedonia\",\"Latvia\",\"Equatorial Guinea\",\"Trinidad and Tobago\",\"Bahrain\",\"Timor-Leste\",\"Estonia\",\"Mauritius\",\"Cyprus\",\"Eswatini\",\"Djibouti\",\"Reunion\",\"Fiji\",\"Comoros\",\"Guyana\",\"Bhutan\",\"Solomon Islands\",\"Macau\",\"Luxembourg\",\"Montenegro\",\"Suriname\",\"Cape Verde\",\"Western Sahara\",\"Malta\",\"Maldives\",\"Brunei\",\"Bahamas\",\"Belize\",\"Guadeloupe\",\"Iceland\",\"Martinique\",\"Mayotte\",\"Vanuatu\",\"French Guiana\",\"French Polynesia\",\"New Caledonia\",\"Barbados\",\"Sao Tome and Principe\",\"Samoa\",\"Curacao\",\"Saint Lucia\",\"Guam\",\"Kiribati\",\"Grenada\",\"Micronesia\",\"Jersey\",\"Tonga\",\"Seychelles\",\"Aruba\",\"Saint Vincent and the Grenadines\",\"United States Virgin Islands\",\"Antigua and Barbuda\",\"Isle of Man\",\"Andorra\",\"Dominica\",\"Cayman Islands\",\"Bermuda\",\"Guernsey\",\"Greenland\",\"Faroe Islands\",\"Northern Mariana Islands\",\"Saint Kitts and Nevis\",\"Turks and Caicos Islands\",\"Sint Maarten\",\"American Samoa\",\"Marshall Islands\",\"Liechtenstein\",\"Monaco\",\"San Marino\",\"Gibraltar\",\"Saint Martin\",\"British Virgin Islands\",\"Palau\",\"Cook Islands\",\"Anguilla\",\"Nauru\",\"Wallis and Futuna\",\"Tuvalu\",\"Saint Barthelemy\",\"Saint Pierre and Miquelon\",\"Montserrat\",\"Falkland Islands\",\"Niue\",\"Tokelau\",\"Vatican City\"],\"locationmode\":\"country names\",\"locations\":[\"India\",\"China\",\"United States\",\"Indonesia\",\"Pakistan\",\"Nigeria\",\"Brazil\",\"Bangladesh\",\"Russia\",\"Mexico\",\"Ethiopia\",\"Japan\",\"Philippines\",\"Egypt\",\"DR Congo\",\"Vietnam\",\"Iran\",\"Turkey\",\"Germany\",\"Thailand\",\"United Kingdom\",\"Tanzania\",\"France\",\"South Africa\",\"Italy\",\"Kenya\",\"Myanmar\",\"Colombia\",\"South Korea\",\"Uganda\",\"Sudan\",\"Spain\",\"Argentina\",\"Algeria\",\"Iraq\",\"Afghanistan\",\"Poland\",\"Canada\",\"Morocco\",\"Saudi Arabia\",\"Ukraine\",\"Angola\",\"Uzbekistan\",\"Yemen\",\"Peru\",\"Malaysia\",\"Ghana\",\"Mozambique\",\"Nepal\",\"Madagascar\",\"Ivory Coast\",\"Venezuela\",\"Cameroon\",\"Niger\",\"Australia\",\"North Korea\",\"Taiwan\",\"Mali\",\"Burkina Faso\",\"Syria\",\"Sri Lanka\",\"Malawi\",\"Zambia\",\"Romania\",\"Chile\",\"Kazakhstan\",\"Chad\",\"Ecuador\",\"Somalia\",\"Guatemala\",\"Senegal\",\"Netherlands\",\"Cambodia\",\"Zimbabwe\",\"Guinea\",\"Rwanda\",\"Benin\",\"Burundi\",\"Tunisia\",\"Bolivia\",\"Haiti\",\"Belgium\",\"Jordan\",\"Dominican Republic\",\"Cuba\",\"South Sudan\",\"Sweden\",\"Honduras\",\"Czech Republic\",\"Azerbaijan\",\"Greece\",\"Papua New Guinea\",\"Portugal\",\"Hungary\",\"Tajikistan\",\"United Arab Emirates\",\"Belarus\",\"Israel\",\"Togo\",\"Austria\",\"Switzerland\",\"Sierra Leone\",\"Laos\",\"Hong Kong\",\"Serbia\",\"Nicaragua\",\"Libya\",\"Paraguay\",\"Kyrgyzstan\",\"Bulgaria\",\"Turkmenistan\",\"El Salvador\",\"Republic of the Congo\",\"Singapore\",\"Denmark\",\"Slovakia\",\"Central African Republic\",\"Finland\",\"Norway\",\"Liberia\",\"Palestine\",\"Lebanon\",\"New Zealand\",\"Costa Rica\",\"Ireland\",\"Mauritania\",\"Oman\",\"Panama\",\"Kuwait\",\"Croatia\",\"Eritrea\",\"Georgia\",\"Mongolia\",\"Moldova\",\"Uruguay\",\"Puerto Rico\",\"Bosnia and Herzegovina\",\"Albania\",\"Jamaica\",\"Armenia\",\"Gambia\",\"Lithuania\",\"Qatar\",\"Botswana\",\"Namibia\",\"Gabon\",\"Lesotho\",\"Guinea-Bissau\",\"Slovenia\",\"North Macedonia\",\"Latvia\",\"Equatorial Guinea\",\"Trinidad and Tobago\",\"Bahrain\",\"Timor-Leste\",\"Estonia\",\"Mauritius\",\"Cyprus\",\"Eswatini\",\"Djibouti\",\"Reunion\",\"Fiji\",\"Comoros\",\"Guyana\",\"Bhutan\",\"Solomon Islands\",\"Macau\",\"Luxembourg\",\"Montenegro\",\"Suriname\",\"Cape Verde\",\"Western Sahara\",\"Malta\",\"Maldives\",\"Brunei\",\"Bahamas\",\"Belize\",\"Guadeloupe\",\"Iceland\",\"Martinique\",\"Mayotte\",\"Vanuatu\",\"French Guiana\",\"French Polynesia\",\"New Caledonia\",\"Barbados\",\"Sao Tome and Principe\",\"Samoa\",\"Curacao\",\"Saint Lucia\",\"Guam\",\"Kiribati\",\"Grenada\",\"Micronesia\",\"Jersey\",\"Tonga\",\"Seychelles\",\"Aruba\",\"Saint Vincent and the Grenadines\",\"United States Virgin Islands\",\"Antigua and Barbuda\",\"Isle of Man\",\"Andorra\",\"Dominica\",\"Cayman Islands\",\"Bermuda\",\"Guernsey\",\"Greenland\",\"Faroe Islands\",\"Northern Mariana Islands\",\"Saint Kitts and Nevis\",\"Turks and Caicos Islands\",\"Sint Maarten\",\"American Samoa\",\"Marshall Islands\",\"Liechtenstein\",\"Monaco\",\"San Marino\",\"Gibraltar\",\"Saint Martin\",\"British Virgin Islands\",\"Palau\",\"Cook Islands\",\"Anguilla\",\"Nauru\",\"Wallis and Futuna\",\"Tuvalu\",\"Saint Barthelemy\",\"Saint Pierre and Miquelon\",\"Montserrat\",\"Falkland Islands\",\"Niue\",\"Tokelau\",\"Vatican City\"],\"name\":\"\",\"z\":[1428627663,1425671352,339996563,277534122,240485658,223804632,216422446,172954319,144444359,128455567,126527060,123294513,117337368,112716598,102262808,98858950,89172767,85816199,83294633,71801279,67736802,67438106,64756584,60414495,58870762,55100586,54577997,52085168,51784059,48582334,48109006,47519628,45773884,45606480,45504560,42239854,41026067,38781291,37840044,36947025,36744634,36684202,35163944,34449825,34352719,34308525,34121985,33897354,30896590,30325732,28873034,28838499,28647293,27202843,26439111,26160821,23923276,23293698,23251485,23227014,21893579,20931751,20569737,19892812,19629590,19606633,18278568,18190484,18143378,18092026,17763163,17618299,16944826,16665409,14190612,14094683,13712828,13238559,12458223,12388571,11724763,11686140,11337052,11332972,11194449,11088796,10612086,10593798,10495295,10412651,10341277,10329931,10247605,10156239,10143543,9516871,9498238,9174520,9053799,8958960,8796669,8791092,7633779,7491609,7149077,7046310,6888388,6861524,6735347,6687717,6516100,6364943,6106869,6014723,5910913,5795199,5742315,5545475,5474360,5418377,5371230,5353930,5228100,5212173,5056935,4862989,4644384,4468087,4310108,4008617,3748901,3728282,3447157,3435931,3423108,3260314,3210847,2832439,2825544,2777970,2773168,2718352,2716391,2675352,2604172,2436566,2330318,2150842,2119675,2085679,1830211,1714671,1534937,1485509,1360596,1322765,1300557,1260138,1210822,1136455,981796,936375,852075,813834,787424,740424,704149,654768,626485,623236,598682,587259,535064,521021,452524,412623,410825,395839,375318,366981,335995,334506,312155,308872,292991,281995,231856,225681,192077,180251,172952,133515,126183,115224,111802,107773,107660,106277,103698,98750,94298,84710,80088,73040,69310,64069,63544,56643,53270,49796,47755,46062,44222,43914,41996,39584,36297,33642,32688,32077,31538,18058,17044,15899,12780,11502,11396,10994,5840,4386,3791,1935,1893,518],\"type\":\"choropleth\"}],                        {\"template\":{\"data\":{\"histogram2dcontour\":[{\"type\":\"histogram2dcontour\",\"colorbar\":{\"outlinewidth\":0,\"ticks\":\"\"},\"colorscale\":[[0.0,\"#0d0887\"],[0.1111111111111111,\"#46039f\"],[0.2222222222222222,\"#7201a8\"],[0.3333333333333333,\"#9c179e\"],[0.4444444444444444,\"#bd3786\"],[0.5555555555555556,\"#d8576b\"],[0.6666666666666666,\"#ed7953\"],[0.7777777777777778,\"#fb9f3a\"],[0.8888888888888888,\"#fdca26\"],[1.0,\"#f0f921\"]]}],\"choropleth\":[{\"type\":\"choropleth\",\"colorbar\":{\"outlinewidth\":0,\"ticks\":\"\"}}],\"histogram2d\":[{\"type\":\"histogram2d\",\"colorbar\":{\"outlinewidth\":0,\"ticks\":\"\"},\"colorscale\":[[0.0,\"#0d0887\"],[0.1111111111111111,\"#46039f\"],[0.2222222222222222,\"#7201a8\"],[0.3333333333333333,\"#9c179e\"],[0.4444444444444444,\"#bd3786\"],[0.5555555555555556,\"#d8576b\"],[0.6666666666666666,\"#ed7953\"],[0.7777777777777778,\"#fb9f3a\"],[0.8888888888888888,\"#fdca26\"],[1.0,\"#f0f921\"]]}],\"heatmap\":[{\"type\":\"heatmap\",\"colorbar\":{\"outlinewidth\":0,\"ticks\":\"\"},\"colorscale\":[[0.0,\"#0d0887\"],[0.1111111111111111,\"#46039f\"],[0.2222222222222222,\"#7201a8\"],[0.3333333333333333,\"#9c179e\"],[0.4444444444444444,\"#bd3786\"],[0.5555555555555556,\"#d8576b\"],[0.6666666666666666,\"#ed7953\"],[0.7777777777777778,\"#fb9f3a\"],[0.8888888888888888,\"#fdca26\"],[1.0,\"#f0f921\"]]}],\"heatmapgl\":[{\"type\":\"heatmapgl\",\"colorbar\":{\"outlinewidth\":0,\"ticks\":\"\"},\"colorscale\":[[0.0,\"#0d0887\"],[0.1111111111111111,\"#46039f\"],[0.2222222222222222,\"#7201a8\"],[0.3333333333333333,\"#9c179e\"],[0.4444444444444444,\"#bd3786\"],[0.5555555555555556,\"#d8576b\"],[0.6666666666666666,\"#ed7953\"],[0.7777777777777778,\"#fb9f3a\"],[0.8888888888888888,\"#fdca26\"],[1.0,\"#f0f921\"]]}],\"contourcarpet\":[{\"type\":\"contourcarpet\",\"colorbar\":{\"outlinewidth\":0,\"ticks\":\"\"}}],\"contour\":[{\"type\":\"contour\",\"colorbar\":{\"outlinewidth\":0,\"ticks\":\"\"},\"colorscale\":[[0.0,\"#0d0887\"],[0.1111111111111111,\"#46039f\"],[0.2222222222222222,\"#7201a8\"],[0.3333333333333333,\"#9c179e\"],[0.4444444444444444,\"#bd3786\"],[0.5555555555555556,\"#d8576b\"],[0.6666666666666666,\"#ed7953\"],[0.7777777777777778,\"#fb9f3a\"],[0.8888888888888888,\"#fdca26\"],[1.0,\"#f0f921\"]]}],\"surface\":[{\"type\":\"surface\",\"colorbar\":{\"outlinewidth\":0,\"ticks\":\"\"},\"colorscale\":[[0.0,\"#0d0887\"],[0.1111111111111111,\"#46039f\"],[0.2222222222222222,\"#7201a8\"],[0.3333333333333333,\"#9c179e\"],[0.4444444444444444,\"#bd3786\"],[0.5555555555555556,\"#d8576b\"],[0.6666666666666666,\"#ed7953\"],[0.7777777777777778,\"#fb9f3a\"],[0.8888888888888888,\"#fdca26\"],[1.0,\"#f0f921\"]]}],\"mesh3d\":[{\"type\":\"mesh3d\",\"colorbar\":{\"outlinewidth\":0,\"ticks\":\"\"}}],\"scatter\":[{\"fillpattern\":{\"fillmode\":\"overlay\",\"size\":10,\"solidity\":0.2},\"type\":\"scatter\"}],\"parcoords\":[{\"type\":\"parcoords\",\"line\":{\"colorbar\":{\"outlinewidth\":0,\"ticks\":\"\"}}}],\"scatterpolargl\":[{\"type\":\"scatterpolargl\",\"marker\":{\"colorbar\":{\"outlinewidth\":0,\"ticks\":\"\"}}}],\"bar\":[{\"error_x\":{\"color\":\"#2a3f5f\"},\"error_y\":{\"color\":\"#2a3f5f\"},\"marker\":{\"line\":{\"color\":\"#E5ECF6\",\"width\":0.5},\"pattern\":{\"fillmode\":\"overlay\",\"size\":10,\"solidity\":0.2}},\"type\":\"bar\"}],\"scattergeo\":[{\"type\":\"scattergeo\",\"marker\":{\"colorbar\":{\"outlinewidth\":0,\"ticks\":\"\"}}}],\"scatterpolar\":[{\"type\":\"scatterpolar\",\"marker\":{\"colorbar\":{\"outlinewidth\":0,\"ticks\":\"\"}}}],\"histogram\":[{\"marker\":{\"pattern\":{\"fillmode\":\"overlay\",\"size\":10,\"solidity\":0.2}},\"type\":\"histogram\"}],\"scattergl\":[{\"type\":\"scattergl\",\"marker\":{\"colorbar\":{\"outlinewidth\":0,\"ticks\":\"\"}}}],\"scatter3d\":[{\"type\":\"scatter3d\",\"line\":{\"colorbar\":{\"outlinewidth\":0,\"ticks\":\"\"}},\"marker\":{\"colorbar\":{\"outlinewidth\":0,\"ticks\":\"\"}}}],\"scattermapbox\":[{\"type\":\"scattermapbox\",\"marker\":{\"colorbar\":{\"outlinewidth\":0,\"ticks\":\"\"}}}],\"scatterternary\":[{\"type\":\"scatterternary\",\"marker\":{\"colorbar\":{\"outlinewidth\":0,\"ticks\":\"\"}}}],\"scattercarpet\":[{\"type\":\"scattercarpet\",\"marker\":{\"colorbar\":{\"outlinewidth\":0,\"ticks\":\"\"}}}],\"carpet\":[{\"aaxis\":{\"endlinecolor\":\"#2a3f5f\",\"gridcolor\":\"white\",\"linecolor\":\"white\",\"minorgridcolor\":\"white\",\"startlinecolor\":\"#2a3f5f\"},\"baxis\":{\"endlinecolor\":\"#2a3f5f\",\"gridcolor\":\"white\",\"linecolor\":\"white\",\"minorgridcolor\":\"white\",\"startlinecolor\":\"#2a3f5f\"},\"type\":\"carpet\"}],\"table\":[{\"cells\":{\"fill\":{\"color\":\"#EBF0F8\"},\"line\":{\"color\":\"white\"}},\"header\":{\"fill\":{\"color\":\"#C8D4E3\"},\"line\":{\"color\":\"white\"}},\"type\":\"table\"}],\"barpolar\":[{\"marker\":{\"line\":{\"color\":\"#E5ECF6\",\"width\":0.5},\"pattern\":{\"fillmode\":\"overlay\",\"size\":10,\"solidity\":0.2}},\"type\":\"barpolar\"}],\"pie\":[{\"automargin\":true,\"type\":\"pie\"}]},\"layout\":{\"autotypenumbers\":\"strict\",\"colorway\":[\"#636efa\",\"#EF553B\",\"#00cc96\",\"#ab63fa\",\"#FFA15A\",\"#19d3f3\",\"#FF6692\",\"#B6E880\",\"#FF97FF\",\"#FECB52\"],\"font\":{\"color\":\"#2a3f5f\"},\"hovermode\":\"closest\",\"hoverlabel\":{\"align\":\"left\"},\"paper_bgcolor\":\"white\",\"plot_bgcolor\":\"#E5ECF6\",\"polar\":{\"bgcolor\":\"#E5ECF6\",\"angularaxis\":{\"gridcolor\":\"white\",\"linecolor\":\"white\",\"ticks\":\"\"},\"radialaxis\":{\"gridcolor\":\"white\",\"linecolor\":\"white\",\"ticks\":\"\"}},\"ternary\":{\"bgcolor\":\"#E5ECF6\",\"aaxis\":{\"gridcolor\":\"white\",\"linecolor\":\"white\",\"ticks\":\"\"},\"baxis\":{\"gridcolor\":\"white\",\"linecolor\":\"white\",\"ticks\":\"\"},\"caxis\":{\"gridcolor\":\"white\",\"linecolor\":\"white\",\"ticks\":\"\"}},\"coloraxis\":{\"colorbar\":{\"outlinewidth\":0,\"ticks\":\"\"}},\"colorscale\":{\"sequential\":[[0.0,\"#0d0887\"],[0.1111111111111111,\"#46039f\"],[0.2222222222222222,\"#7201a8\"],[0.3333333333333333,\"#9c179e\"],[0.4444444444444444,\"#bd3786\"],[0.5555555555555556,\"#d8576b\"],[0.6666666666666666,\"#ed7953\"],[0.7777777777777778,\"#fb9f3a\"],[0.8888888888888888,\"#fdca26\"],[1.0,\"#f0f921\"]],\"sequentialminus\":[[0.0,\"#0d0887\"],[0.1111111111111111,\"#46039f\"],[0.2222222222222222,\"#7201a8\"],[0.3333333333333333,\"#9c179e\"],[0.4444444444444444,\"#bd3786\"],[0.5555555555555556,\"#d8576b\"],[0.6666666666666666,\"#ed7953\"],[0.7777777777777778,\"#fb9f3a\"],[0.8888888888888888,\"#fdca26\"],[1.0,\"#f0f921\"]],\"diverging\":[[0,\"#8e0152\"],[0.1,\"#c51b7d\"],[0.2,\"#de77ae\"],[0.3,\"#f1b6da\"],[0.4,\"#fde0ef\"],[0.5,\"#f7f7f7\"],[0.6,\"#e6f5d0\"],[0.7,\"#b8e186\"],[0.8,\"#7fbc41\"],[0.9,\"#4d9221\"],[1,\"#276419\"]]},\"xaxis\":{\"gridcolor\":\"white\",\"linecolor\":\"white\",\"ticks\":\"\",\"title\":{\"standoff\":15},\"zerolinecolor\":\"white\",\"automargin\":true,\"zerolinewidth\":2},\"yaxis\":{\"gridcolor\":\"white\",\"linecolor\":\"white\",\"ticks\":\"\",\"title\":{\"standoff\":15},\"zerolinecolor\":\"white\",\"automargin\":true,\"zerolinewidth\":2},\"scene\":{\"xaxis\":{\"backgroundcolor\":\"#E5ECF6\",\"gridcolor\":\"white\",\"linecolor\":\"white\",\"showbackground\":true,\"ticks\":\"\",\"zerolinecolor\":\"white\",\"gridwidth\":2},\"yaxis\":{\"backgroundcolor\":\"#E5ECF6\",\"gridcolor\":\"white\",\"linecolor\":\"white\",\"showbackground\":true,\"ticks\":\"\",\"zerolinecolor\":\"white\",\"gridwidth\":2},\"zaxis\":{\"backgroundcolor\":\"#E5ECF6\",\"gridcolor\":\"white\",\"linecolor\":\"white\",\"showbackground\":true,\"ticks\":\"\",\"zerolinecolor\":\"white\",\"gridwidth\":2}},\"shapedefaults\":{\"line\":{\"color\":\"#2a3f5f\"}},\"annotationdefaults\":{\"arrowcolor\":\"#2a3f5f\",\"arrowhead\":0,\"arrowwidth\":1},\"geo\":{\"bgcolor\":\"white\",\"landcolor\":\"#E5ECF6\",\"subunitcolor\":\"white\",\"showland\":true,\"showlakes\":true,\"lakecolor\":\"white\"},\"title\":{\"x\":0.05},\"mapbox\":{\"style\":\"light\"}}},\"geo\":{\"domain\":{\"x\":[0.0,1.0],\"y\":[0.0,1.0]},\"center\":{}},\"coloraxis\":{\"colorbar\":{\"title\":{\"text\":\"pop2023\"}},\"colorscale\":[[0.0,\"#440154\"],[0.1111111111111111,\"#482878\"],[0.2222222222222222,\"#3e4989\"],[0.3333333333333333,\"#31688e\"],[0.4444444444444444,\"#26828e\"],[0.5555555555555556,\"#1f9e89\"],[0.6666666666666666,\"#35b779\"],[0.7777777777777778,\"#6ece58\"],[0.8888888888888888,\"#b5de2b\"],[1.0,\"#fde725\"]]},\"legend\":{\"tracegroupgap\":0},\"title\":{\"text\":\"2023 Population\"}},                        {\"responsive\": true}                    ).then(function(){\n",
              "                            \n",
              "var gd = document.getElementById('27c64a19-bdfc-4be0-85bd-d0ac446de15f');\n",
              "var x = new MutationObserver(function (mutations, observer) {{\n",
              "        var display = window.getComputedStyle(gd).display;\n",
              "        if (!display || display === 'none') {{\n",
              "            console.log([gd, 'removed!']);\n",
              "            Plotly.purge(gd);\n",
              "            observer.disconnect();\n",
              "        }}\n",
              "}});\n",
              "\n",
              "// Listen for the removal of the full notebook cells\n",
              "var notebookContainer = gd.closest('#notebook-container');\n",
              "if (notebookContainer) {{\n",
              "    x.observe(notebookContainer, {childList: true});\n",
              "}}\n",
              "\n",
              "// Listen for the clearing of the current output cell\n",
              "var outputEl = gd.closest('.output');\n",
              "if (outputEl) {{\n",
              "    x.observe(outputEl, {childList: true});\n",
              "}}\n",
              "\n",
              "                        })                };                });            </script>        </div>"
            ]
          },
          "metadata": {},
          "output_type": "display_data"
        }
      ],
      "source": [
        "#2023 Population\n",
        "fig = px.choropleth(df,\n",
        "                    locations='country',\n",
        "                    locationmode='country names',\n",
        "                    color='pop2023',  # we indicate the year we are interested in\n",
        "                    hover_name='country',\n",
        "                    title = '2023 Population',\n",
        "                    color_continuous_scale='Viridis'\n",
        "                    )\n",
        "fig.show()"
      ]
    },
    {
      "cell_type": "code",
      "execution_count": null,
      "id": "039e1a0a",
      "metadata": {
        "execution": {
          "iopub.execute_input": "2023-06-02T04:52:24.780763Z",
          "iopub.status.busy": "2023-06-02T04:52:24.780080Z",
          "iopub.status.idle": "2023-06-02T04:52:24.856169Z",
          "shell.execute_reply": "2023-06-02T04:52:24.854954Z"
        },
        "papermill": {
          "duration": 0.142729,
          "end_time": "2023-06-02T04:52:24.859463",
          "exception": false,
          "start_time": "2023-06-02T04:52:24.716734",
          "status": "completed"
        },
        "tags": [],
        "id": "039e1a0a",
        "outputId": "b4a094dc-d114-4292-b217-e3ab3c914b1e"
      },
      "outputs": [
        {
          "data": {
            "application/vnd.plotly.v1+json": {
              "config": {
                "plotlyServerURL": "https://plot.ly"
              },
              "data": [
                {
                  "coloraxis": "coloraxis",
                  "geo": "geo",
                  "hovertemplate": "<b>%{hovertext}</b><br><br>country=%{location}<br>pop2030=%{z}<extra></extra>",
                  "hovertext": [
                    "India",
                    "China",
                    "United States",
                    "Indonesia",
                    "Pakistan",
                    "Nigeria",
                    "Brazil",
                    "Bangladesh",
                    "Russia",
                    "Mexico",
                    "Ethiopia",
                    "Japan",
                    "Philippines",
                    "Egypt",
                    "DR Congo",
                    "Vietnam",
                    "Iran",
                    "Turkey",
                    "Germany",
                    "Thailand",
                    "United Kingdom",
                    "Tanzania",
                    "France",
                    "South Africa",
                    "Italy",
                    "Kenya",
                    "Myanmar",
                    "Colombia",
                    "South Korea",
                    "Uganda",
                    "Sudan",
                    "Spain",
                    "Argentina",
                    "Algeria",
                    "Iraq",
                    "Afghanistan",
                    "Poland",
                    "Canada",
                    "Morocco",
                    "Saudi Arabia",
                    "Ukraine",
                    "Angola",
                    "Uzbekistan",
                    "Yemen",
                    "Peru",
                    "Malaysia",
                    "Ghana",
                    "Mozambique",
                    "Nepal",
                    "Madagascar",
                    "Ivory Coast",
                    "Venezuela",
                    "Cameroon",
                    "Niger",
                    "Australia",
                    "North Korea",
                    "Taiwan",
                    "Mali",
                    "Burkina Faso",
                    "Syria",
                    "Sri Lanka",
                    "Malawi",
                    "Zambia",
                    "Romania",
                    "Chile",
                    "Kazakhstan",
                    "Chad",
                    "Ecuador",
                    "Somalia",
                    "Guatemala",
                    "Senegal",
                    "Netherlands",
                    "Cambodia",
                    "Zimbabwe",
                    "Guinea",
                    "Rwanda",
                    "Benin",
                    "Burundi",
                    "Tunisia",
                    "Bolivia",
                    "Haiti",
                    "Belgium",
                    "Jordan",
                    "Dominican Republic",
                    "Cuba",
                    "South Sudan",
                    "Sweden",
                    "Honduras",
                    "Czech Republic",
                    "Azerbaijan",
                    "Greece",
                    "Papua New Guinea",
                    "Portugal",
                    "Hungary",
                    "Tajikistan",
                    "United Arab Emirates",
                    "Belarus",
                    "Israel",
                    "Togo",
                    "Austria",
                    "Switzerland",
                    "Sierra Leone",
                    "Laos",
                    "Hong Kong",
                    "Serbia",
                    "Nicaragua",
                    "Libya",
                    "Paraguay",
                    "Kyrgyzstan",
                    "Bulgaria",
                    "Turkmenistan",
                    "El Salvador",
                    "Republic of the Congo",
                    "Singapore",
                    "Denmark",
                    "Slovakia",
                    "Central African Republic",
                    "Finland",
                    "Norway",
                    "Liberia",
                    "Palestine",
                    "Lebanon",
                    "New Zealand",
                    "Costa Rica",
                    "Ireland",
                    "Mauritania",
                    "Oman",
                    "Panama",
                    "Kuwait",
                    "Croatia",
                    "Eritrea",
                    "Georgia",
                    "Mongolia",
                    "Moldova",
                    "Uruguay",
                    "Puerto Rico",
                    "Bosnia and Herzegovina",
                    "Albania",
                    "Jamaica",
                    "Armenia",
                    "Gambia",
                    "Lithuania",
                    "Qatar",
                    "Botswana",
                    "Namibia",
                    "Gabon",
                    "Lesotho",
                    "Guinea-Bissau",
                    "Slovenia",
                    "North Macedonia",
                    "Latvia",
                    "Equatorial Guinea",
                    "Trinidad and Tobago",
                    "Bahrain",
                    "Timor-Leste",
                    "Estonia",
                    "Mauritius",
                    "Cyprus",
                    "Eswatini",
                    "Djibouti",
                    "Reunion",
                    "Fiji",
                    "Comoros",
                    "Guyana",
                    "Bhutan",
                    "Solomon Islands",
                    "Macau",
                    "Luxembourg",
                    "Montenegro",
                    "Suriname",
                    "Cape Verde",
                    "Western Sahara",
                    "Malta",
                    "Maldives",
                    "Brunei",
                    "Bahamas",
                    "Belize",
                    "Guadeloupe",
                    "Iceland",
                    "Martinique",
                    "Mayotte",
                    "Vanuatu",
                    "French Guiana",
                    "French Polynesia",
                    "New Caledonia",
                    "Barbados",
                    "Sao Tome and Principe",
                    "Samoa",
                    "Curacao",
                    "Saint Lucia",
                    "Guam",
                    "Kiribati",
                    "Grenada",
                    "Micronesia",
                    "Jersey",
                    "Tonga",
                    "Seychelles",
                    "Aruba",
                    "Saint Vincent and the Grenadines",
                    "United States Virgin Islands",
                    "Antigua and Barbuda",
                    "Isle of Man",
                    "Andorra",
                    "Dominica",
                    "Cayman Islands",
                    "Bermuda",
                    "Guernsey",
                    "Greenland",
                    "Faroe Islands",
                    "Northern Mariana Islands",
                    "Saint Kitts and Nevis",
                    "Turks and Caicos Islands",
                    "Sint Maarten",
                    "American Samoa",
                    "Marshall Islands",
                    "Liechtenstein",
                    "Monaco",
                    "San Marino",
                    "Gibraltar",
                    "Saint Martin",
                    "British Virgin Islands",
                    "Palau",
                    "Cook Islands",
                    "Anguilla",
                    "Nauru",
                    "Wallis and Futuna",
                    "Tuvalu",
                    "Saint Barthelemy",
                    "Saint Pierre and Miquelon",
                    "Montserrat",
                    "Falkland Islands",
                    "Niue",
                    "Tokelau",
                    "Vatican City"
                  ],
                  "locationmode": "country names",
                  "locations": [
                    "India",
                    "China",
                    "United States",
                    "Indonesia",
                    "Pakistan",
                    "Nigeria",
                    "Brazil",
                    "Bangladesh",
                    "Russia",
                    "Mexico",
                    "Ethiopia",
                    "Japan",
                    "Philippines",
                    "Egypt",
                    "DR Congo",
                    "Vietnam",
                    "Iran",
                    "Turkey",
                    "Germany",
                    "Thailand",
                    "United Kingdom",
                    "Tanzania",
                    "France",
                    "South Africa",
                    "Italy",
                    "Kenya",
                    "Myanmar",
                    "Colombia",
                    "South Korea",
                    "Uganda",
                    "Sudan",
                    "Spain",
                    "Argentina",
                    "Algeria",
                    "Iraq",
                    "Afghanistan",
                    "Poland",
                    "Canada",
                    "Morocco",
                    "Saudi Arabia",
                    "Ukraine",
                    "Angola",
                    "Uzbekistan",
                    "Yemen",
                    "Peru",
                    "Malaysia",
                    "Ghana",
                    "Mozambique",
                    "Nepal",
                    "Madagascar",
                    "Ivory Coast",
                    "Venezuela",
                    "Cameroon",
                    "Niger",
                    "Australia",
                    "North Korea",
                    "Taiwan",
                    "Mali",
                    "Burkina Faso",
                    "Syria",
                    "Sri Lanka",
                    "Malawi",
                    "Zambia",
                    "Romania",
                    "Chile",
                    "Kazakhstan",
                    "Chad",
                    "Ecuador",
                    "Somalia",
                    "Guatemala",
                    "Senegal",
                    "Netherlands",
                    "Cambodia",
                    "Zimbabwe",
                    "Guinea",
                    "Rwanda",
                    "Benin",
                    "Burundi",
                    "Tunisia",
                    "Bolivia",
                    "Haiti",
                    "Belgium",
                    "Jordan",
                    "Dominican Republic",
                    "Cuba",
                    "South Sudan",
                    "Sweden",
                    "Honduras",
                    "Czech Republic",
                    "Azerbaijan",
                    "Greece",
                    "Papua New Guinea",
                    "Portugal",
                    "Hungary",
                    "Tajikistan",
                    "United Arab Emirates",
                    "Belarus",
                    "Israel",
                    "Togo",
                    "Austria",
                    "Switzerland",
                    "Sierra Leone",
                    "Laos",
                    "Hong Kong",
                    "Serbia",
                    "Nicaragua",
                    "Libya",
                    "Paraguay",
                    "Kyrgyzstan",
                    "Bulgaria",
                    "Turkmenistan",
                    "El Salvador",
                    "Republic of the Congo",
                    "Singapore",
                    "Denmark",
                    "Slovakia",
                    "Central African Republic",
                    "Finland",
                    "Norway",
                    "Liberia",
                    "Palestine",
                    "Lebanon",
                    "New Zealand",
                    "Costa Rica",
                    "Ireland",
                    "Mauritania",
                    "Oman",
                    "Panama",
                    "Kuwait",
                    "Croatia",
                    "Eritrea",
                    "Georgia",
                    "Mongolia",
                    "Moldova",
                    "Uruguay",
                    "Puerto Rico",
                    "Bosnia and Herzegovina",
                    "Albania",
                    "Jamaica",
                    "Armenia",
                    "Gambia",
                    "Lithuania",
                    "Qatar",
                    "Botswana",
                    "Namibia",
                    "Gabon",
                    "Lesotho",
                    "Guinea-Bissau",
                    "Slovenia",
                    "North Macedonia",
                    "Latvia",
                    "Equatorial Guinea",
                    "Trinidad and Tobago",
                    "Bahrain",
                    "Timor-Leste",
                    "Estonia",
                    "Mauritius",
                    "Cyprus",
                    "Eswatini",
                    "Djibouti",
                    "Reunion",
                    "Fiji",
                    "Comoros",
                    "Guyana",
                    "Bhutan",
                    "Solomon Islands",
                    "Macau",
                    "Luxembourg",
                    "Montenegro",
                    "Suriname",
                    "Cape Verde",
                    "Western Sahara",
                    "Malta",
                    "Maldives",
                    "Brunei",
                    "Bahamas",
                    "Belize",
                    "Guadeloupe",
                    "Iceland",
                    "Martinique",
                    "Mayotte",
                    "Vanuatu",
                    "French Guiana",
                    "French Polynesia",
                    "New Caledonia",
                    "Barbados",
                    "Sao Tome and Principe",
                    "Samoa",
                    "Curacao",
                    "Saint Lucia",
                    "Guam",
                    "Kiribati",
                    "Grenada",
                    "Micronesia",
                    "Jersey",
                    "Tonga",
                    "Seychelles",
                    "Aruba",
                    "Saint Vincent and the Grenadines",
                    "United States Virgin Islands",
                    "Antigua and Barbuda",
                    "Isle of Man",
                    "Andorra",
                    "Dominica",
                    "Cayman Islands",
                    "Bermuda",
                    "Guernsey",
                    "Greenland",
                    "Faroe Islands",
                    "Northern Mariana Islands",
                    "Saint Kitts and Nevis",
                    "Turks and Caicos Islands",
                    "Sint Maarten",
                    "American Samoa",
                    "Marshall Islands",
                    "Liechtenstein",
                    "Monaco",
                    "San Marino",
                    "Gibraltar",
                    "Saint Martin",
                    "British Virgin Islands",
                    "Palau",
                    "Cook Islands",
                    "Anguilla",
                    "Nauru",
                    "Wallis and Futuna",
                    "Tuvalu",
                    "Saint Barthelemy",
                    "Saint Pierre and Miquelon",
                    "Montserrat",
                    "Falkland Islands",
                    "Niue",
                    "Tokelau",
                    "Vatican City"
                  ],
                  "name": "",
                  "type": "choropleth",
                  "z": [
                    1514994080,
                    1415605906,
                    352162301,
                    292150100,
                    274029836,
                    262580426,
                    223908968,
                    184424144,
                    141432741,
                    134534107,
                    149296378,
                    118514802,
                    129453321,
                    125151725,
                    127582053,
                    102699905,
                    92921017,
                    88879698,
                    82762675,
                    72060018,
                    69175770,
                    81885304,
                    65543452,
                    64659278,
                    57544258,
                    63103942,
                    56987625,
                    54129764,
                    51290214,
                    58380262,
                    56997099,
                    47076573,
                    47678560,
                    49787283,
                    52800825,
                    50330837,
                    38700518,
                    41008596,
                    40226395,
                    40461368,
                    38295429,
                    44911664,
                    38313228,
                    39923245,
                    36702393,
                    36687569,
                    38775850,
                    40920707,
                    33133395,
                    35604443,
                    34211272,
                    32027461,
                    34051103,
                    35217942,
                    28202414,
                    26569401,
                    24027999,
                    28712294,
                    27523563,
                    29824735,
                    22186970,
                    24944243,
                    24676417,
                    19023383,
                    19933769,
                    21128221,
                    22460393,
                    19486952,
                    22316857,
                    20003638,
                    21125872,
                    17943803,
                    18084248,
                    19179393,
                    16622388,
                    16375704,
                    16393827,
                    15800530,
                    13100768,
                    13625507,
                    12700006,
                    11873460,
                    11933395,
                    11982523,
                    11016041,
                    12570402,
                    11007228,
                    11724522,
                    10515199,
                    10711138,
                    10059703,
                    11615322,
                    10062183,
                    9642912,
                    11421430,
                    10004319,
                    9206170,
                    10134951,
                    10558178,
                    9054576,
                    9143698,
                    10105188,
                    8321287,
                    7485887,
                    6832604,
                    7688686,
                    7394813,
                    7425448,
                    7435378,
                    6290166,
                    7034758,
                    6554224,
                    7114987,
                    6251988,
                    6104474,
                    5555114,
                    7104274,
                    5565475,
                    5748397,
                    6282074,
                    6256949,
                    4714240,
                    5495670,
                    5432243,
                    5266881,
                    5830563,
                    5093376,
                    4864126,
                    4564570,
                    3850140,
                    4283355,
                    3657494,
                    3736327,
                    3174727,
                    3423372,
                    3259722,
                    3111789,
                    2789599,
                    2804356,
                    2759528,
                    3263651,
                    2558928,
                    2855291,
                    2972271,
                    2910056,
                    2774523,
                    2501946,
                    2484863,
                    2105945,
                    2072256,
                    1701338,
                    1999678,
                    1547690,
                    1574679,
                    1495081,
                    1289441,
                    1305425,
                    1311784,
                    1305985,
                    1247129,
                    1031822,
                    986172,
                    959412,
                    848033,
                    821498,
                    856264,
                    763371,
                    697086,
                    621696,
                    659508,
                    638840,
                    662726,
                    543425,
                    512683,
                    473312,
                    429846,
                    450428,
                    399728,
                    390338,
                    362472,
                    407579,
                    391135,
                    366669,
                    324860,
                    312529,
                    283082,
                    265036,
                    248627,
                    197829,
                    183274,
                    180746,
                    148720,
                    130367,
                    122704,
                    119047,
                    114124,
                    111317,
                    104924,
                    104322,
                    93419,
                    97510,
                    85798,
                    81528,
                    74988,
                    72865,
                    62806,
                    65141,
                    57152,
                    54583,
                    51178,
                    48247,
                    48538,
                    44946,
                    41142,
                    44733,
                    41030,
                    35862,
                    33458,
                    32771,
                    33508,
                    32995,
                    17919,
                    17253,
                    16055,
                    13358,
                    11229,
                    11917,
                    11113,
                    5651,
                    4301,
                    3869,
                    1948,
                    2046,
                    561
                  ]
                }
              ],
              "layout": {
                "coloraxis": {
                  "colorbar": {
                    "title": {
                      "text": "pop2030"
                    }
                  },
                  "colorscale": [
                    [
                      0,
                      "#440154"
                    ],
                    [
                      0.1111111111111111,
                      "#482878"
                    ],
                    [
                      0.2222222222222222,
                      "#3e4989"
                    ],
                    [
                      0.3333333333333333,
                      "#31688e"
                    ],
                    [
                      0.4444444444444444,
                      "#26828e"
                    ],
                    [
                      0.5555555555555556,
                      "#1f9e89"
                    ],
                    [
                      0.6666666666666666,
                      "#35b779"
                    ],
                    [
                      0.7777777777777778,
                      "#6ece58"
                    ],
                    [
                      0.8888888888888888,
                      "#b5de2b"
                    ],
                    [
                      1,
                      "#fde725"
                    ]
                  ]
                },
                "geo": {
                  "center": {},
                  "domain": {
                    "x": [
                      0,
                      1
                    ],
                    "y": [
                      0,
                      1
                    ]
                  }
                },
                "legend": {
                  "tracegroupgap": 0
                },
                "template": {
                  "data": {
                    "bar": [
                      {
                        "error_x": {
                          "color": "#2a3f5f"
                        },
                        "error_y": {
                          "color": "#2a3f5f"
                        },
                        "marker": {
                          "line": {
                            "color": "#E5ECF6",
                            "width": 0.5
                          },
                          "pattern": {
                            "fillmode": "overlay",
                            "size": 10,
                            "solidity": 0.2
                          }
                        },
                        "type": "bar"
                      }
                    ],
                    "barpolar": [
                      {
                        "marker": {
                          "line": {
                            "color": "#E5ECF6",
                            "width": 0.5
                          },
                          "pattern": {
                            "fillmode": "overlay",
                            "size": 10,
                            "solidity": 0.2
                          }
                        },
                        "type": "barpolar"
                      }
                    ],
                    "carpet": [
                      {
                        "aaxis": {
                          "endlinecolor": "#2a3f5f",
                          "gridcolor": "white",
                          "linecolor": "white",
                          "minorgridcolor": "white",
                          "startlinecolor": "#2a3f5f"
                        },
                        "baxis": {
                          "endlinecolor": "#2a3f5f",
                          "gridcolor": "white",
                          "linecolor": "white",
                          "minorgridcolor": "white",
                          "startlinecolor": "#2a3f5f"
                        },
                        "type": "carpet"
                      }
                    ],
                    "choropleth": [
                      {
                        "colorbar": {
                          "outlinewidth": 0,
                          "ticks": ""
                        },
                        "type": "choropleth"
                      }
                    ],
                    "contour": [
                      {
                        "colorbar": {
                          "outlinewidth": 0,
                          "ticks": ""
                        },
                        "colorscale": [
                          [
                            0,
                            "#0d0887"
                          ],
                          [
                            0.1111111111111111,
                            "#46039f"
                          ],
                          [
                            0.2222222222222222,
                            "#7201a8"
                          ],
                          [
                            0.3333333333333333,
                            "#9c179e"
                          ],
                          [
                            0.4444444444444444,
                            "#bd3786"
                          ],
                          [
                            0.5555555555555556,
                            "#d8576b"
                          ],
                          [
                            0.6666666666666666,
                            "#ed7953"
                          ],
                          [
                            0.7777777777777778,
                            "#fb9f3a"
                          ],
                          [
                            0.8888888888888888,
                            "#fdca26"
                          ],
                          [
                            1,
                            "#f0f921"
                          ]
                        ],
                        "type": "contour"
                      }
                    ],
                    "contourcarpet": [
                      {
                        "colorbar": {
                          "outlinewidth": 0,
                          "ticks": ""
                        },
                        "type": "contourcarpet"
                      }
                    ],
                    "heatmap": [
                      {
                        "colorbar": {
                          "outlinewidth": 0,
                          "ticks": ""
                        },
                        "colorscale": [
                          [
                            0,
                            "#0d0887"
                          ],
                          [
                            0.1111111111111111,
                            "#46039f"
                          ],
                          [
                            0.2222222222222222,
                            "#7201a8"
                          ],
                          [
                            0.3333333333333333,
                            "#9c179e"
                          ],
                          [
                            0.4444444444444444,
                            "#bd3786"
                          ],
                          [
                            0.5555555555555556,
                            "#d8576b"
                          ],
                          [
                            0.6666666666666666,
                            "#ed7953"
                          ],
                          [
                            0.7777777777777778,
                            "#fb9f3a"
                          ],
                          [
                            0.8888888888888888,
                            "#fdca26"
                          ],
                          [
                            1,
                            "#f0f921"
                          ]
                        ],
                        "type": "heatmap"
                      }
                    ],
                    "heatmapgl": [
                      {
                        "colorbar": {
                          "outlinewidth": 0,
                          "ticks": ""
                        },
                        "colorscale": [
                          [
                            0,
                            "#0d0887"
                          ],
                          [
                            0.1111111111111111,
                            "#46039f"
                          ],
                          [
                            0.2222222222222222,
                            "#7201a8"
                          ],
                          [
                            0.3333333333333333,
                            "#9c179e"
                          ],
                          [
                            0.4444444444444444,
                            "#bd3786"
                          ],
                          [
                            0.5555555555555556,
                            "#d8576b"
                          ],
                          [
                            0.6666666666666666,
                            "#ed7953"
                          ],
                          [
                            0.7777777777777778,
                            "#fb9f3a"
                          ],
                          [
                            0.8888888888888888,
                            "#fdca26"
                          ],
                          [
                            1,
                            "#f0f921"
                          ]
                        ],
                        "type": "heatmapgl"
                      }
                    ],
                    "histogram": [
                      {
                        "marker": {
                          "pattern": {
                            "fillmode": "overlay",
                            "size": 10,
                            "solidity": 0.2
                          }
                        },
                        "type": "histogram"
                      }
                    ],
                    "histogram2d": [
                      {
                        "colorbar": {
                          "outlinewidth": 0,
                          "ticks": ""
                        },
                        "colorscale": [
                          [
                            0,
                            "#0d0887"
                          ],
                          [
                            0.1111111111111111,
                            "#46039f"
                          ],
                          [
                            0.2222222222222222,
                            "#7201a8"
                          ],
                          [
                            0.3333333333333333,
                            "#9c179e"
                          ],
                          [
                            0.4444444444444444,
                            "#bd3786"
                          ],
                          [
                            0.5555555555555556,
                            "#d8576b"
                          ],
                          [
                            0.6666666666666666,
                            "#ed7953"
                          ],
                          [
                            0.7777777777777778,
                            "#fb9f3a"
                          ],
                          [
                            0.8888888888888888,
                            "#fdca26"
                          ],
                          [
                            1,
                            "#f0f921"
                          ]
                        ],
                        "type": "histogram2d"
                      }
                    ],
                    "histogram2dcontour": [
                      {
                        "colorbar": {
                          "outlinewidth": 0,
                          "ticks": ""
                        },
                        "colorscale": [
                          [
                            0,
                            "#0d0887"
                          ],
                          [
                            0.1111111111111111,
                            "#46039f"
                          ],
                          [
                            0.2222222222222222,
                            "#7201a8"
                          ],
                          [
                            0.3333333333333333,
                            "#9c179e"
                          ],
                          [
                            0.4444444444444444,
                            "#bd3786"
                          ],
                          [
                            0.5555555555555556,
                            "#d8576b"
                          ],
                          [
                            0.6666666666666666,
                            "#ed7953"
                          ],
                          [
                            0.7777777777777778,
                            "#fb9f3a"
                          ],
                          [
                            0.8888888888888888,
                            "#fdca26"
                          ],
                          [
                            1,
                            "#f0f921"
                          ]
                        ],
                        "type": "histogram2dcontour"
                      }
                    ],
                    "mesh3d": [
                      {
                        "colorbar": {
                          "outlinewidth": 0,
                          "ticks": ""
                        },
                        "type": "mesh3d"
                      }
                    ],
                    "parcoords": [
                      {
                        "line": {
                          "colorbar": {
                            "outlinewidth": 0,
                            "ticks": ""
                          }
                        },
                        "type": "parcoords"
                      }
                    ],
                    "pie": [
                      {
                        "automargin": true,
                        "type": "pie"
                      }
                    ],
                    "scatter": [
                      {
                        "fillpattern": {
                          "fillmode": "overlay",
                          "size": 10,
                          "solidity": 0.2
                        },
                        "type": "scatter"
                      }
                    ],
                    "scatter3d": [
                      {
                        "line": {
                          "colorbar": {
                            "outlinewidth": 0,
                            "ticks": ""
                          }
                        },
                        "marker": {
                          "colorbar": {
                            "outlinewidth": 0,
                            "ticks": ""
                          }
                        },
                        "type": "scatter3d"
                      }
                    ],
                    "scattercarpet": [
                      {
                        "marker": {
                          "colorbar": {
                            "outlinewidth": 0,
                            "ticks": ""
                          }
                        },
                        "type": "scattercarpet"
                      }
                    ],
                    "scattergeo": [
                      {
                        "marker": {
                          "colorbar": {
                            "outlinewidth": 0,
                            "ticks": ""
                          }
                        },
                        "type": "scattergeo"
                      }
                    ],
                    "scattergl": [
                      {
                        "marker": {
                          "colorbar": {
                            "outlinewidth": 0,
                            "ticks": ""
                          }
                        },
                        "type": "scattergl"
                      }
                    ],
                    "scattermapbox": [
                      {
                        "marker": {
                          "colorbar": {
                            "outlinewidth": 0,
                            "ticks": ""
                          }
                        },
                        "type": "scattermapbox"
                      }
                    ],
                    "scatterpolar": [
                      {
                        "marker": {
                          "colorbar": {
                            "outlinewidth": 0,
                            "ticks": ""
                          }
                        },
                        "type": "scatterpolar"
                      }
                    ],
                    "scatterpolargl": [
                      {
                        "marker": {
                          "colorbar": {
                            "outlinewidth": 0,
                            "ticks": ""
                          }
                        },
                        "type": "scatterpolargl"
                      }
                    ],
                    "scatterternary": [
                      {
                        "marker": {
                          "colorbar": {
                            "outlinewidth": 0,
                            "ticks": ""
                          }
                        },
                        "type": "scatterternary"
                      }
                    ],
                    "surface": [
                      {
                        "colorbar": {
                          "outlinewidth": 0,
                          "ticks": ""
                        },
                        "colorscale": [
                          [
                            0,
                            "#0d0887"
                          ],
                          [
                            0.1111111111111111,
                            "#46039f"
                          ],
                          [
                            0.2222222222222222,
                            "#7201a8"
                          ],
                          [
                            0.3333333333333333,
                            "#9c179e"
                          ],
                          [
                            0.4444444444444444,
                            "#bd3786"
                          ],
                          [
                            0.5555555555555556,
                            "#d8576b"
                          ],
                          [
                            0.6666666666666666,
                            "#ed7953"
                          ],
                          [
                            0.7777777777777778,
                            "#fb9f3a"
                          ],
                          [
                            0.8888888888888888,
                            "#fdca26"
                          ],
                          [
                            1,
                            "#f0f921"
                          ]
                        ],
                        "type": "surface"
                      }
                    ],
                    "table": [
                      {
                        "cells": {
                          "fill": {
                            "color": "#EBF0F8"
                          },
                          "line": {
                            "color": "white"
                          }
                        },
                        "header": {
                          "fill": {
                            "color": "#C8D4E3"
                          },
                          "line": {
                            "color": "white"
                          }
                        },
                        "type": "table"
                      }
                    ]
                  },
                  "layout": {
                    "annotationdefaults": {
                      "arrowcolor": "#2a3f5f",
                      "arrowhead": 0,
                      "arrowwidth": 1
                    },
                    "autotypenumbers": "strict",
                    "coloraxis": {
                      "colorbar": {
                        "outlinewidth": 0,
                        "ticks": ""
                      }
                    },
                    "colorscale": {
                      "diverging": [
                        [
                          0,
                          "#8e0152"
                        ],
                        [
                          0.1,
                          "#c51b7d"
                        ],
                        [
                          0.2,
                          "#de77ae"
                        ],
                        [
                          0.3,
                          "#f1b6da"
                        ],
                        [
                          0.4,
                          "#fde0ef"
                        ],
                        [
                          0.5,
                          "#f7f7f7"
                        ],
                        [
                          0.6,
                          "#e6f5d0"
                        ],
                        [
                          0.7,
                          "#b8e186"
                        ],
                        [
                          0.8,
                          "#7fbc41"
                        ],
                        [
                          0.9,
                          "#4d9221"
                        ],
                        [
                          1,
                          "#276419"
                        ]
                      ],
                      "sequential": [
                        [
                          0,
                          "#0d0887"
                        ],
                        [
                          0.1111111111111111,
                          "#46039f"
                        ],
                        [
                          0.2222222222222222,
                          "#7201a8"
                        ],
                        [
                          0.3333333333333333,
                          "#9c179e"
                        ],
                        [
                          0.4444444444444444,
                          "#bd3786"
                        ],
                        [
                          0.5555555555555556,
                          "#d8576b"
                        ],
                        [
                          0.6666666666666666,
                          "#ed7953"
                        ],
                        [
                          0.7777777777777778,
                          "#fb9f3a"
                        ],
                        [
                          0.8888888888888888,
                          "#fdca26"
                        ],
                        [
                          1,
                          "#f0f921"
                        ]
                      ],
                      "sequentialminus": [
                        [
                          0,
                          "#0d0887"
                        ],
                        [
                          0.1111111111111111,
                          "#46039f"
                        ],
                        [
                          0.2222222222222222,
                          "#7201a8"
                        ],
                        [
                          0.3333333333333333,
                          "#9c179e"
                        ],
                        [
                          0.4444444444444444,
                          "#bd3786"
                        ],
                        [
                          0.5555555555555556,
                          "#d8576b"
                        ],
                        [
                          0.6666666666666666,
                          "#ed7953"
                        ],
                        [
                          0.7777777777777778,
                          "#fb9f3a"
                        ],
                        [
                          0.8888888888888888,
                          "#fdca26"
                        ],
                        [
                          1,
                          "#f0f921"
                        ]
                      ]
                    },
                    "colorway": [
                      "#636efa",
                      "#EF553B",
                      "#00cc96",
                      "#ab63fa",
                      "#FFA15A",
                      "#19d3f3",
                      "#FF6692",
                      "#B6E880",
                      "#FF97FF",
                      "#FECB52"
                    ],
                    "font": {
                      "color": "#2a3f5f"
                    },
                    "geo": {
                      "bgcolor": "white",
                      "lakecolor": "white",
                      "landcolor": "#E5ECF6",
                      "showlakes": true,
                      "showland": true,
                      "subunitcolor": "white"
                    },
                    "hoverlabel": {
                      "align": "left"
                    },
                    "hovermode": "closest",
                    "mapbox": {
                      "style": "light"
                    },
                    "paper_bgcolor": "white",
                    "plot_bgcolor": "#E5ECF6",
                    "polar": {
                      "angularaxis": {
                        "gridcolor": "white",
                        "linecolor": "white",
                        "ticks": ""
                      },
                      "bgcolor": "#E5ECF6",
                      "radialaxis": {
                        "gridcolor": "white",
                        "linecolor": "white",
                        "ticks": ""
                      }
                    },
                    "scene": {
                      "xaxis": {
                        "backgroundcolor": "#E5ECF6",
                        "gridcolor": "white",
                        "gridwidth": 2,
                        "linecolor": "white",
                        "showbackground": true,
                        "ticks": "",
                        "zerolinecolor": "white"
                      },
                      "yaxis": {
                        "backgroundcolor": "#E5ECF6",
                        "gridcolor": "white",
                        "gridwidth": 2,
                        "linecolor": "white",
                        "showbackground": true,
                        "ticks": "",
                        "zerolinecolor": "white"
                      },
                      "zaxis": {
                        "backgroundcolor": "#E5ECF6",
                        "gridcolor": "white",
                        "gridwidth": 2,
                        "linecolor": "white",
                        "showbackground": true,
                        "ticks": "",
                        "zerolinecolor": "white"
                      }
                    },
                    "shapedefaults": {
                      "line": {
                        "color": "#2a3f5f"
                      }
                    },
                    "ternary": {
                      "aaxis": {
                        "gridcolor": "white",
                        "linecolor": "white",
                        "ticks": ""
                      },
                      "baxis": {
                        "gridcolor": "white",
                        "linecolor": "white",
                        "ticks": ""
                      },
                      "bgcolor": "#E5ECF6",
                      "caxis": {
                        "gridcolor": "white",
                        "linecolor": "white",
                        "ticks": ""
                      }
                    },
                    "title": {
                      "x": 0.05
                    },
                    "xaxis": {
                      "automargin": true,
                      "gridcolor": "white",
                      "linecolor": "white",
                      "ticks": "",
                      "title": {
                        "standoff": 15
                      },
                      "zerolinecolor": "white",
                      "zerolinewidth": 2
                    },
                    "yaxis": {
                      "automargin": true,
                      "gridcolor": "white",
                      "linecolor": "white",
                      "ticks": "",
                      "title": {
                        "standoff": 15
                      },
                      "zerolinecolor": "white",
                      "zerolinewidth": 2
                    }
                  }
                },
                "title": {
                  "text": "2030  Predicted Population"
                }
              }
            },
            "text/html": [
              "<div>                            <div id=\"7b496ada-19bb-4506-8b47-c14c8ef523d7\" class=\"plotly-graph-div\" style=\"height:525px; width:100%;\"></div>            <script type=\"text/javascript\">                require([\"plotly\"], function(Plotly) {                    window.PLOTLYENV=window.PLOTLYENV || {};                                    if (document.getElementById(\"7b496ada-19bb-4506-8b47-c14c8ef523d7\")) {                    Plotly.newPlot(                        \"7b496ada-19bb-4506-8b47-c14c8ef523d7\",                        [{\"coloraxis\":\"coloraxis\",\"geo\":\"geo\",\"hovertemplate\":\"<b>%{hovertext}</b><br><br>country=%{location}<br>pop2030=%{z}<extra></extra>\",\"hovertext\":[\"India\",\"China\",\"United States\",\"Indonesia\",\"Pakistan\",\"Nigeria\",\"Brazil\",\"Bangladesh\",\"Russia\",\"Mexico\",\"Ethiopia\",\"Japan\",\"Philippines\",\"Egypt\",\"DR Congo\",\"Vietnam\",\"Iran\",\"Turkey\",\"Germany\",\"Thailand\",\"United Kingdom\",\"Tanzania\",\"France\",\"South Africa\",\"Italy\",\"Kenya\",\"Myanmar\",\"Colombia\",\"South Korea\",\"Uganda\",\"Sudan\",\"Spain\",\"Argentina\",\"Algeria\",\"Iraq\",\"Afghanistan\",\"Poland\",\"Canada\",\"Morocco\",\"Saudi Arabia\",\"Ukraine\",\"Angola\",\"Uzbekistan\",\"Yemen\",\"Peru\",\"Malaysia\",\"Ghana\",\"Mozambique\",\"Nepal\",\"Madagascar\",\"Ivory Coast\",\"Venezuela\",\"Cameroon\",\"Niger\",\"Australia\",\"North Korea\",\"Taiwan\",\"Mali\",\"Burkina Faso\",\"Syria\",\"Sri Lanka\",\"Malawi\",\"Zambia\",\"Romania\",\"Chile\",\"Kazakhstan\",\"Chad\",\"Ecuador\",\"Somalia\",\"Guatemala\",\"Senegal\",\"Netherlands\",\"Cambodia\",\"Zimbabwe\",\"Guinea\",\"Rwanda\",\"Benin\",\"Burundi\",\"Tunisia\",\"Bolivia\",\"Haiti\",\"Belgium\",\"Jordan\",\"Dominican Republic\",\"Cuba\",\"South Sudan\",\"Sweden\",\"Honduras\",\"Czech Republic\",\"Azerbaijan\",\"Greece\",\"Papua New Guinea\",\"Portugal\",\"Hungary\",\"Tajikistan\",\"United Arab Emirates\",\"Belarus\",\"Israel\",\"Togo\",\"Austria\",\"Switzerland\",\"Sierra Leone\",\"Laos\",\"Hong Kong\",\"Serbia\",\"Nicaragua\",\"Libya\",\"Paraguay\",\"Kyrgyzstan\",\"Bulgaria\",\"Turkmenistan\",\"El Salvador\",\"Republic of the Congo\",\"Singapore\",\"Denmark\",\"Slovakia\",\"Central African Republic\",\"Finland\",\"Norway\",\"Liberia\",\"Palestine\",\"Lebanon\",\"New Zealand\",\"Costa Rica\",\"Ireland\",\"Mauritania\",\"Oman\",\"Panama\",\"Kuwait\",\"Croatia\",\"Eritrea\",\"Georgia\",\"Mongolia\",\"Moldova\",\"Uruguay\",\"Puerto Rico\",\"Bosnia and Herzegovina\",\"Albania\",\"Jamaica\",\"Armenia\",\"Gambia\",\"Lithuania\",\"Qatar\",\"Botswana\",\"Namibia\",\"Gabon\",\"Lesotho\",\"Guinea-Bissau\",\"Slovenia\",\"North Macedonia\",\"Latvia\",\"Equatorial Guinea\",\"Trinidad and Tobago\",\"Bahrain\",\"Timor-Leste\",\"Estonia\",\"Mauritius\",\"Cyprus\",\"Eswatini\",\"Djibouti\",\"Reunion\",\"Fiji\",\"Comoros\",\"Guyana\",\"Bhutan\",\"Solomon Islands\",\"Macau\",\"Luxembourg\",\"Montenegro\",\"Suriname\",\"Cape Verde\",\"Western Sahara\",\"Malta\",\"Maldives\",\"Brunei\",\"Bahamas\",\"Belize\",\"Guadeloupe\",\"Iceland\",\"Martinique\",\"Mayotte\",\"Vanuatu\",\"French Guiana\",\"French Polynesia\",\"New Caledonia\",\"Barbados\",\"Sao Tome and Principe\",\"Samoa\",\"Curacao\",\"Saint Lucia\",\"Guam\",\"Kiribati\",\"Grenada\",\"Micronesia\",\"Jersey\",\"Tonga\",\"Seychelles\",\"Aruba\",\"Saint Vincent and the Grenadines\",\"United States Virgin Islands\",\"Antigua and Barbuda\",\"Isle of Man\",\"Andorra\",\"Dominica\",\"Cayman Islands\",\"Bermuda\",\"Guernsey\",\"Greenland\",\"Faroe Islands\",\"Northern Mariana Islands\",\"Saint Kitts and Nevis\",\"Turks and Caicos Islands\",\"Sint Maarten\",\"American Samoa\",\"Marshall Islands\",\"Liechtenstein\",\"Monaco\",\"San Marino\",\"Gibraltar\",\"Saint Martin\",\"British Virgin Islands\",\"Palau\",\"Cook Islands\",\"Anguilla\",\"Nauru\",\"Wallis and Futuna\",\"Tuvalu\",\"Saint Barthelemy\",\"Saint Pierre and Miquelon\",\"Montserrat\",\"Falkland Islands\",\"Niue\",\"Tokelau\",\"Vatican City\"],\"locationmode\":\"country names\",\"locations\":[\"India\",\"China\",\"United States\",\"Indonesia\",\"Pakistan\",\"Nigeria\",\"Brazil\",\"Bangladesh\",\"Russia\",\"Mexico\",\"Ethiopia\",\"Japan\",\"Philippines\",\"Egypt\",\"DR Congo\",\"Vietnam\",\"Iran\",\"Turkey\",\"Germany\",\"Thailand\",\"United Kingdom\",\"Tanzania\",\"France\",\"South Africa\",\"Italy\",\"Kenya\",\"Myanmar\",\"Colombia\",\"South Korea\",\"Uganda\",\"Sudan\",\"Spain\",\"Argentina\",\"Algeria\",\"Iraq\",\"Afghanistan\",\"Poland\",\"Canada\",\"Morocco\",\"Saudi Arabia\",\"Ukraine\",\"Angola\",\"Uzbekistan\",\"Yemen\",\"Peru\",\"Malaysia\",\"Ghana\",\"Mozambique\",\"Nepal\",\"Madagascar\",\"Ivory Coast\",\"Venezuela\",\"Cameroon\",\"Niger\",\"Australia\",\"North Korea\",\"Taiwan\",\"Mali\",\"Burkina Faso\",\"Syria\",\"Sri Lanka\",\"Malawi\",\"Zambia\",\"Romania\",\"Chile\",\"Kazakhstan\",\"Chad\",\"Ecuador\",\"Somalia\",\"Guatemala\",\"Senegal\",\"Netherlands\",\"Cambodia\",\"Zimbabwe\",\"Guinea\",\"Rwanda\",\"Benin\",\"Burundi\",\"Tunisia\",\"Bolivia\",\"Haiti\",\"Belgium\",\"Jordan\",\"Dominican Republic\",\"Cuba\",\"South Sudan\",\"Sweden\",\"Honduras\",\"Czech Republic\",\"Azerbaijan\",\"Greece\",\"Papua New Guinea\",\"Portugal\",\"Hungary\",\"Tajikistan\",\"United Arab Emirates\",\"Belarus\",\"Israel\",\"Togo\",\"Austria\",\"Switzerland\",\"Sierra Leone\",\"Laos\",\"Hong Kong\",\"Serbia\",\"Nicaragua\",\"Libya\",\"Paraguay\",\"Kyrgyzstan\",\"Bulgaria\",\"Turkmenistan\",\"El Salvador\",\"Republic of the Congo\",\"Singapore\",\"Denmark\",\"Slovakia\",\"Central African Republic\",\"Finland\",\"Norway\",\"Liberia\",\"Palestine\",\"Lebanon\",\"New Zealand\",\"Costa Rica\",\"Ireland\",\"Mauritania\",\"Oman\",\"Panama\",\"Kuwait\",\"Croatia\",\"Eritrea\",\"Georgia\",\"Mongolia\",\"Moldova\",\"Uruguay\",\"Puerto Rico\",\"Bosnia and Herzegovina\",\"Albania\",\"Jamaica\",\"Armenia\",\"Gambia\",\"Lithuania\",\"Qatar\",\"Botswana\",\"Namibia\",\"Gabon\",\"Lesotho\",\"Guinea-Bissau\",\"Slovenia\",\"North Macedonia\",\"Latvia\",\"Equatorial Guinea\",\"Trinidad and Tobago\",\"Bahrain\",\"Timor-Leste\",\"Estonia\",\"Mauritius\",\"Cyprus\",\"Eswatini\",\"Djibouti\",\"Reunion\",\"Fiji\",\"Comoros\",\"Guyana\",\"Bhutan\",\"Solomon Islands\",\"Macau\",\"Luxembourg\",\"Montenegro\",\"Suriname\",\"Cape Verde\",\"Western Sahara\",\"Malta\",\"Maldives\",\"Brunei\",\"Bahamas\",\"Belize\",\"Guadeloupe\",\"Iceland\",\"Martinique\",\"Mayotte\",\"Vanuatu\",\"French Guiana\",\"French Polynesia\",\"New Caledonia\",\"Barbados\",\"Sao Tome and Principe\",\"Samoa\",\"Curacao\",\"Saint Lucia\",\"Guam\",\"Kiribati\",\"Grenada\",\"Micronesia\",\"Jersey\",\"Tonga\",\"Seychelles\",\"Aruba\",\"Saint Vincent and the Grenadines\",\"United States Virgin Islands\",\"Antigua and Barbuda\",\"Isle of Man\",\"Andorra\",\"Dominica\",\"Cayman Islands\",\"Bermuda\",\"Guernsey\",\"Greenland\",\"Faroe Islands\",\"Northern Mariana Islands\",\"Saint Kitts and Nevis\",\"Turks and Caicos Islands\",\"Sint Maarten\",\"American Samoa\",\"Marshall Islands\",\"Liechtenstein\",\"Monaco\",\"San Marino\",\"Gibraltar\",\"Saint Martin\",\"British Virgin Islands\",\"Palau\",\"Cook Islands\",\"Anguilla\",\"Nauru\",\"Wallis and Futuna\",\"Tuvalu\",\"Saint Barthelemy\",\"Saint Pierre and Miquelon\",\"Montserrat\",\"Falkland Islands\",\"Niue\",\"Tokelau\",\"Vatican City\"],\"name\":\"\",\"z\":[1514994080,1415605906,352162301,292150100,274029836,262580426,223908968,184424144,141432741,134534107,149296378,118514802,129453321,125151725,127582053,102699905,92921017,88879698,82762675,72060018,69175770,81885304,65543452,64659278,57544258,63103942,56987625,54129764,51290214,58380262,56997099,47076573,47678560,49787283,52800825,50330837,38700518,41008596,40226395,40461368,38295429,44911664,38313228,39923245,36702393,36687569,38775850,40920707,33133395,35604443,34211272,32027461,34051103,35217942,28202414,26569401,24027999,28712294,27523563,29824735,22186970,24944243,24676417,19023383,19933769,21128221,22460393,19486952,22316857,20003638,21125872,17943803,18084248,19179393,16622388,16375704,16393827,15800530,13100768,13625507,12700006,11873460,11933395,11982523,11016041,12570402,11007228,11724522,10515199,10711138,10059703,11615322,10062183,9642912,11421430,10004319,9206170,10134951,10558178,9054576,9143698,10105188,8321287,7485887,6832604,7688686,7394813,7425448,7435378,6290166,7034758,6554224,7114987,6251988,6104474,5555114,7104274,5565475,5748397,6282074,6256949,4714240,5495670,5432243,5266881,5830563,5093376,4864126,4564570,3850140,4283355,3657494,3736327,3174727,3423372,3259722,3111789,2789599,2804356,2759528,3263651,2558928,2855291,2972271,2910056,2774523,2501946,2484863,2105945,2072256,1701338,1999678,1547690,1574679,1495081,1289441,1305425,1311784,1305985,1247129,1031822,986172,959412,848033,821498,856264,763371,697086,621696,659508,638840,662726,543425,512683,473312,429846,450428,399728,390338,362472,407579,391135,366669,324860,312529,283082,265036,248627,197829,183274,180746,148720,130367,122704,119047,114124,111317,104924,104322,93419,97510,85798,81528,74988,72865,62806,65141,57152,54583,51178,48247,48538,44946,41142,44733,41030,35862,33458,32771,33508,32995,17919,17253,16055,13358,11229,11917,11113,5651,4301,3869,1948,2046,561],\"type\":\"choropleth\"}],                        {\"template\":{\"data\":{\"histogram2dcontour\":[{\"type\":\"histogram2dcontour\",\"colorbar\":{\"outlinewidth\":0,\"ticks\":\"\"},\"colorscale\":[[0.0,\"#0d0887\"],[0.1111111111111111,\"#46039f\"],[0.2222222222222222,\"#7201a8\"],[0.3333333333333333,\"#9c179e\"],[0.4444444444444444,\"#bd3786\"],[0.5555555555555556,\"#d8576b\"],[0.6666666666666666,\"#ed7953\"],[0.7777777777777778,\"#fb9f3a\"],[0.8888888888888888,\"#fdca26\"],[1.0,\"#f0f921\"]]}],\"choropleth\":[{\"type\":\"choropleth\",\"colorbar\":{\"outlinewidth\":0,\"ticks\":\"\"}}],\"histogram2d\":[{\"type\":\"histogram2d\",\"colorbar\":{\"outlinewidth\":0,\"ticks\":\"\"},\"colorscale\":[[0.0,\"#0d0887\"],[0.1111111111111111,\"#46039f\"],[0.2222222222222222,\"#7201a8\"],[0.3333333333333333,\"#9c179e\"],[0.4444444444444444,\"#bd3786\"],[0.5555555555555556,\"#d8576b\"],[0.6666666666666666,\"#ed7953\"],[0.7777777777777778,\"#fb9f3a\"],[0.8888888888888888,\"#fdca26\"],[1.0,\"#f0f921\"]]}],\"heatmap\":[{\"type\":\"heatmap\",\"colorbar\":{\"outlinewidth\":0,\"ticks\":\"\"},\"colorscale\":[[0.0,\"#0d0887\"],[0.1111111111111111,\"#46039f\"],[0.2222222222222222,\"#7201a8\"],[0.3333333333333333,\"#9c179e\"],[0.4444444444444444,\"#bd3786\"],[0.5555555555555556,\"#d8576b\"],[0.6666666666666666,\"#ed7953\"],[0.7777777777777778,\"#fb9f3a\"],[0.8888888888888888,\"#fdca26\"],[1.0,\"#f0f921\"]]}],\"heatmapgl\":[{\"type\":\"heatmapgl\",\"colorbar\":{\"outlinewidth\":0,\"ticks\":\"\"},\"colorscale\":[[0.0,\"#0d0887\"],[0.1111111111111111,\"#46039f\"],[0.2222222222222222,\"#7201a8\"],[0.3333333333333333,\"#9c179e\"],[0.4444444444444444,\"#bd3786\"],[0.5555555555555556,\"#d8576b\"],[0.6666666666666666,\"#ed7953\"],[0.7777777777777778,\"#fb9f3a\"],[0.8888888888888888,\"#fdca26\"],[1.0,\"#f0f921\"]]}],\"contourcarpet\":[{\"type\":\"contourcarpet\",\"colorbar\":{\"outlinewidth\":0,\"ticks\":\"\"}}],\"contour\":[{\"type\":\"contour\",\"colorbar\":{\"outlinewidth\":0,\"ticks\":\"\"},\"colorscale\":[[0.0,\"#0d0887\"],[0.1111111111111111,\"#46039f\"],[0.2222222222222222,\"#7201a8\"],[0.3333333333333333,\"#9c179e\"],[0.4444444444444444,\"#bd3786\"],[0.5555555555555556,\"#d8576b\"],[0.6666666666666666,\"#ed7953\"],[0.7777777777777778,\"#fb9f3a\"],[0.8888888888888888,\"#fdca26\"],[1.0,\"#f0f921\"]]}],\"surface\":[{\"type\":\"surface\",\"colorbar\":{\"outlinewidth\":0,\"ticks\":\"\"},\"colorscale\":[[0.0,\"#0d0887\"],[0.1111111111111111,\"#46039f\"],[0.2222222222222222,\"#7201a8\"],[0.3333333333333333,\"#9c179e\"],[0.4444444444444444,\"#bd3786\"],[0.5555555555555556,\"#d8576b\"],[0.6666666666666666,\"#ed7953\"],[0.7777777777777778,\"#fb9f3a\"],[0.8888888888888888,\"#fdca26\"],[1.0,\"#f0f921\"]]}],\"mesh3d\":[{\"type\":\"mesh3d\",\"colorbar\":{\"outlinewidth\":0,\"ticks\":\"\"}}],\"scatter\":[{\"fillpattern\":{\"fillmode\":\"overlay\",\"size\":10,\"solidity\":0.2},\"type\":\"scatter\"}],\"parcoords\":[{\"type\":\"parcoords\",\"line\":{\"colorbar\":{\"outlinewidth\":0,\"ticks\":\"\"}}}],\"scatterpolargl\":[{\"type\":\"scatterpolargl\",\"marker\":{\"colorbar\":{\"outlinewidth\":0,\"ticks\":\"\"}}}],\"bar\":[{\"error_x\":{\"color\":\"#2a3f5f\"},\"error_y\":{\"color\":\"#2a3f5f\"},\"marker\":{\"line\":{\"color\":\"#E5ECF6\",\"width\":0.5},\"pattern\":{\"fillmode\":\"overlay\",\"size\":10,\"solidity\":0.2}},\"type\":\"bar\"}],\"scattergeo\":[{\"type\":\"scattergeo\",\"marker\":{\"colorbar\":{\"outlinewidth\":0,\"ticks\":\"\"}}}],\"scatterpolar\":[{\"type\":\"scatterpolar\",\"marker\":{\"colorbar\":{\"outlinewidth\":0,\"ticks\":\"\"}}}],\"histogram\":[{\"marker\":{\"pattern\":{\"fillmode\":\"overlay\",\"size\":10,\"solidity\":0.2}},\"type\":\"histogram\"}],\"scattergl\":[{\"type\":\"scattergl\",\"marker\":{\"colorbar\":{\"outlinewidth\":0,\"ticks\":\"\"}}}],\"scatter3d\":[{\"type\":\"scatter3d\",\"line\":{\"colorbar\":{\"outlinewidth\":0,\"ticks\":\"\"}},\"marker\":{\"colorbar\":{\"outlinewidth\":0,\"ticks\":\"\"}}}],\"scattermapbox\":[{\"type\":\"scattermapbox\",\"marker\":{\"colorbar\":{\"outlinewidth\":0,\"ticks\":\"\"}}}],\"scatterternary\":[{\"type\":\"scatterternary\",\"marker\":{\"colorbar\":{\"outlinewidth\":0,\"ticks\":\"\"}}}],\"scattercarpet\":[{\"type\":\"scattercarpet\",\"marker\":{\"colorbar\":{\"outlinewidth\":0,\"ticks\":\"\"}}}],\"carpet\":[{\"aaxis\":{\"endlinecolor\":\"#2a3f5f\",\"gridcolor\":\"white\",\"linecolor\":\"white\",\"minorgridcolor\":\"white\",\"startlinecolor\":\"#2a3f5f\"},\"baxis\":{\"endlinecolor\":\"#2a3f5f\",\"gridcolor\":\"white\",\"linecolor\":\"white\",\"minorgridcolor\":\"white\",\"startlinecolor\":\"#2a3f5f\"},\"type\":\"carpet\"}],\"table\":[{\"cells\":{\"fill\":{\"color\":\"#EBF0F8\"},\"line\":{\"color\":\"white\"}},\"header\":{\"fill\":{\"color\":\"#C8D4E3\"},\"line\":{\"color\":\"white\"}},\"type\":\"table\"}],\"barpolar\":[{\"marker\":{\"line\":{\"color\":\"#E5ECF6\",\"width\":0.5},\"pattern\":{\"fillmode\":\"overlay\",\"size\":10,\"solidity\":0.2}},\"type\":\"barpolar\"}],\"pie\":[{\"automargin\":true,\"type\":\"pie\"}]},\"layout\":{\"autotypenumbers\":\"strict\",\"colorway\":[\"#636efa\",\"#EF553B\",\"#00cc96\",\"#ab63fa\",\"#FFA15A\",\"#19d3f3\",\"#FF6692\",\"#B6E880\",\"#FF97FF\",\"#FECB52\"],\"font\":{\"color\":\"#2a3f5f\"},\"hovermode\":\"closest\",\"hoverlabel\":{\"align\":\"left\"},\"paper_bgcolor\":\"white\",\"plot_bgcolor\":\"#E5ECF6\",\"polar\":{\"bgcolor\":\"#E5ECF6\",\"angularaxis\":{\"gridcolor\":\"white\",\"linecolor\":\"white\",\"ticks\":\"\"},\"radialaxis\":{\"gridcolor\":\"white\",\"linecolor\":\"white\",\"ticks\":\"\"}},\"ternary\":{\"bgcolor\":\"#E5ECF6\",\"aaxis\":{\"gridcolor\":\"white\",\"linecolor\":\"white\",\"ticks\":\"\"},\"baxis\":{\"gridcolor\":\"white\",\"linecolor\":\"white\",\"ticks\":\"\"},\"caxis\":{\"gridcolor\":\"white\",\"linecolor\":\"white\",\"ticks\":\"\"}},\"coloraxis\":{\"colorbar\":{\"outlinewidth\":0,\"ticks\":\"\"}},\"colorscale\":{\"sequential\":[[0.0,\"#0d0887\"],[0.1111111111111111,\"#46039f\"],[0.2222222222222222,\"#7201a8\"],[0.3333333333333333,\"#9c179e\"],[0.4444444444444444,\"#bd3786\"],[0.5555555555555556,\"#d8576b\"],[0.6666666666666666,\"#ed7953\"],[0.7777777777777778,\"#fb9f3a\"],[0.8888888888888888,\"#fdca26\"],[1.0,\"#f0f921\"]],\"sequentialminus\":[[0.0,\"#0d0887\"],[0.1111111111111111,\"#46039f\"],[0.2222222222222222,\"#7201a8\"],[0.3333333333333333,\"#9c179e\"],[0.4444444444444444,\"#bd3786\"],[0.5555555555555556,\"#d8576b\"],[0.6666666666666666,\"#ed7953\"],[0.7777777777777778,\"#fb9f3a\"],[0.8888888888888888,\"#fdca26\"],[1.0,\"#f0f921\"]],\"diverging\":[[0,\"#8e0152\"],[0.1,\"#c51b7d\"],[0.2,\"#de77ae\"],[0.3,\"#f1b6da\"],[0.4,\"#fde0ef\"],[0.5,\"#f7f7f7\"],[0.6,\"#e6f5d0\"],[0.7,\"#b8e186\"],[0.8,\"#7fbc41\"],[0.9,\"#4d9221\"],[1,\"#276419\"]]},\"xaxis\":{\"gridcolor\":\"white\",\"linecolor\":\"white\",\"ticks\":\"\",\"title\":{\"standoff\":15},\"zerolinecolor\":\"white\",\"automargin\":true,\"zerolinewidth\":2},\"yaxis\":{\"gridcolor\":\"white\",\"linecolor\":\"white\",\"ticks\":\"\",\"title\":{\"standoff\":15},\"zerolinecolor\":\"white\",\"automargin\":true,\"zerolinewidth\":2},\"scene\":{\"xaxis\":{\"backgroundcolor\":\"#E5ECF6\",\"gridcolor\":\"white\",\"linecolor\":\"white\",\"showbackground\":true,\"ticks\":\"\",\"zerolinecolor\":\"white\",\"gridwidth\":2},\"yaxis\":{\"backgroundcolor\":\"#E5ECF6\",\"gridcolor\":\"white\",\"linecolor\":\"white\",\"showbackground\":true,\"ticks\":\"\",\"zerolinecolor\":\"white\",\"gridwidth\":2},\"zaxis\":{\"backgroundcolor\":\"#E5ECF6\",\"gridcolor\":\"white\",\"linecolor\":\"white\",\"showbackground\":true,\"ticks\":\"\",\"zerolinecolor\":\"white\",\"gridwidth\":2}},\"shapedefaults\":{\"line\":{\"color\":\"#2a3f5f\"}},\"annotationdefaults\":{\"arrowcolor\":\"#2a3f5f\",\"arrowhead\":0,\"arrowwidth\":1},\"geo\":{\"bgcolor\":\"white\",\"landcolor\":\"#E5ECF6\",\"subunitcolor\":\"white\",\"showland\":true,\"showlakes\":true,\"lakecolor\":\"white\"},\"title\":{\"x\":0.05},\"mapbox\":{\"style\":\"light\"}}},\"geo\":{\"domain\":{\"x\":[0.0,1.0],\"y\":[0.0,1.0]},\"center\":{}},\"coloraxis\":{\"colorbar\":{\"title\":{\"text\":\"pop2030\"}},\"colorscale\":[[0.0,\"#440154\"],[0.1111111111111111,\"#482878\"],[0.2222222222222222,\"#3e4989\"],[0.3333333333333333,\"#31688e\"],[0.4444444444444444,\"#26828e\"],[0.5555555555555556,\"#1f9e89\"],[0.6666666666666666,\"#35b779\"],[0.7777777777777778,\"#6ece58\"],[0.8888888888888888,\"#b5de2b\"],[1.0,\"#fde725\"]]},\"legend\":{\"tracegroupgap\":0},\"title\":{\"text\":\"2030  Predicted Population\"}},                        {\"responsive\": true}                    ).then(function(){\n",
              "                            \n",
              "var gd = document.getElementById('7b496ada-19bb-4506-8b47-c14c8ef523d7');\n",
              "var x = new MutationObserver(function (mutations, observer) {{\n",
              "        var display = window.getComputedStyle(gd).display;\n",
              "        if (!display || display === 'none') {{\n",
              "            console.log([gd, 'removed!']);\n",
              "            Plotly.purge(gd);\n",
              "            observer.disconnect();\n",
              "        }}\n",
              "}});\n",
              "\n",
              "// Listen for the removal of the full notebook cells\n",
              "var notebookContainer = gd.closest('#notebook-container');\n",
              "if (notebookContainer) {{\n",
              "    x.observe(notebookContainer, {childList: true});\n",
              "}}\n",
              "\n",
              "// Listen for the clearing of the current output cell\n",
              "var outputEl = gd.closest('.output');\n",
              "if (outputEl) {{\n",
              "    x.observe(outputEl, {childList: true});\n",
              "}}\n",
              "\n",
              "                        })                };                });            </script>        </div>"
            ]
          },
          "metadata": {},
          "output_type": "display_data"
        }
      ],
      "source": [
        "#2030 Population\n",
        "fig = px.choropleth(df,\n",
        "                    locations='country',\n",
        "                    locationmode='country names',\n",
        "                    color='pop2030',  #This Excepetd Population of 2030\n",
        "                    hover_name='country',\n",
        "                    title = '2030  Predicted Population',\n",
        "                    color_continuous_scale='Viridis'\n",
        "                    )\n",
        "fig.show()"
      ]
    },
    {
      "cell_type": "code",
      "execution_count": null,
      "id": "e67d3236",
      "metadata": {
        "execution": {
          "iopub.execute_input": "2023-06-02T04:52:24.998218Z",
          "iopub.status.busy": "2023-06-02T04:52:24.997796Z",
          "iopub.status.idle": "2023-06-02T04:52:25.073133Z",
          "shell.execute_reply": "2023-06-02T04:52:25.071919Z"
        },
        "papermill": {
          "duration": 0.1494,
          "end_time": "2023-06-02T04:52:25.077015",
          "exception": false,
          "start_time": "2023-06-02T04:52:24.927615",
          "status": "completed"
        },
        "tags": [],
        "id": "e67d3236",
        "outputId": "1b3fd13f-fa12-4e4a-e480-1d5bfb61ab05"
      },
      "outputs": [
        {
          "data": {
            "application/vnd.plotly.v1+json": {
              "config": {
                "plotlyServerURL": "https://plot.ly"
              },
              "data": [
                {
                  "coloraxis": "coloraxis",
                  "geo": "geo",
                  "hovertemplate": "<b>%{hovertext}</b><br><br>country=%{location}<br>pop2050=%{z}<extra></extra>",
                  "hovertext": [
                    "India",
                    "China",
                    "United States",
                    "Indonesia",
                    "Pakistan",
                    "Nigeria",
                    "Brazil",
                    "Bangladesh",
                    "Russia",
                    "Mexico",
                    "Ethiopia",
                    "Japan",
                    "Philippines",
                    "Egypt",
                    "DR Congo",
                    "Vietnam",
                    "Iran",
                    "Turkey",
                    "Germany",
                    "Thailand",
                    "United Kingdom",
                    "Tanzania",
                    "France",
                    "South Africa",
                    "Italy",
                    "Kenya",
                    "Myanmar",
                    "Colombia",
                    "South Korea",
                    "Uganda",
                    "Sudan",
                    "Spain",
                    "Argentina",
                    "Algeria",
                    "Iraq",
                    "Afghanistan",
                    "Poland",
                    "Canada",
                    "Morocco",
                    "Saudi Arabia",
                    "Ukraine",
                    "Angola",
                    "Uzbekistan",
                    "Yemen",
                    "Peru",
                    "Malaysia",
                    "Ghana",
                    "Mozambique",
                    "Nepal",
                    "Madagascar",
                    "Ivory Coast",
                    "Venezuela",
                    "Cameroon",
                    "Niger",
                    "Australia",
                    "North Korea",
                    "Taiwan",
                    "Mali",
                    "Burkina Faso",
                    "Syria",
                    "Sri Lanka",
                    "Malawi",
                    "Zambia",
                    "Romania",
                    "Chile",
                    "Kazakhstan",
                    "Chad",
                    "Ecuador",
                    "Somalia",
                    "Guatemala",
                    "Senegal",
                    "Netherlands",
                    "Cambodia",
                    "Zimbabwe",
                    "Guinea",
                    "Rwanda",
                    "Benin",
                    "Burundi",
                    "Tunisia",
                    "Bolivia",
                    "Haiti",
                    "Belgium",
                    "Jordan",
                    "Dominican Republic",
                    "Cuba",
                    "South Sudan",
                    "Sweden",
                    "Honduras",
                    "Czech Republic",
                    "Azerbaijan",
                    "Greece",
                    "Papua New Guinea",
                    "Portugal",
                    "Hungary",
                    "Tajikistan",
                    "United Arab Emirates",
                    "Belarus",
                    "Israel",
                    "Togo",
                    "Austria",
                    "Switzerland",
                    "Sierra Leone",
                    "Laos",
                    "Hong Kong",
                    "Serbia",
                    "Nicaragua",
                    "Libya",
                    "Paraguay",
                    "Kyrgyzstan",
                    "Bulgaria",
                    "Turkmenistan",
                    "El Salvador",
                    "Republic of the Congo",
                    "Singapore",
                    "Denmark",
                    "Slovakia",
                    "Central African Republic",
                    "Finland",
                    "Norway",
                    "Liberia",
                    "Palestine",
                    "Lebanon",
                    "New Zealand",
                    "Costa Rica",
                    "Ireland",
                    "Mauritania",
                    "Oman",
                    "Panama",
                    "Kuwait",
                    "Croatia",
                    "Eritrea",
                    "Georgia",
                    "Mongolia",
                    "Moldova",
                    "Uruguay",
                    "Puerto Rico",
                    "Bosnia and Herzegovina",
                    "Albania",
                    "Jamaica",
                    "Armenia",
                    "Gambia",
                    "Lithuania",
                    "Qatar",
                    "Botswana",
                    "Namibia",
                    "Gabon",
                    "Lesotho",
                    "Guinea-Bissau",
                    "Slovenia",
                    "North Macedonia",
                    "Latvia",
                    "Equatorial Guinea",
                    "Trinidad and Tobago",
                    "Bahrain",
                    "Timor-Leste",
                    "Estonia",
                    "Mauritius",
                    "Cyprus",
                    "Eswatini",
                    "Djibouti",
                    "Reunion",
                    "Fiji",
                    "Comoros",
                    "Guyana",
                    "Bhutan",
                    "Solomon Islands",
                    "Macau",
                    "Luxembourg",
                    "Montenegro",
                    "Suriname",
                    "Cape Verde",
                    "Western Sahara",
                    "Malta",
                    "Maldives",
                    "Brunei",
                    "Bahamas",
                    "Belize",
                    "Guadeloupe",
                    "Iceland",
                    "Martinique",
                    "Mayotte",
                    "Vanuatu",
                    "French Guiana",
                    "French Polynesia",
                    "New Caledonia",
                    "Barbados",
                    "Sao Tome and Principe",
                    "Samoa",
                    "Curacao",
                    "Saint Lucia",
                    "Guam",
                    "Kiribati",
                    "Grenada",
                    "Micronesia",
                    "Jersey",
                    "Tonga",
                    "Seychelles",
                    "Aruba",
                    "Saint Vincent and the Grenadines",
                    "United States Virgin Islands",
                    "Antigua and Barbuda",
                    "Isle of Man",
                    "Andorra",
                    "Dominica",
                    "Cayman Islands",
                    "Bermuda",
                    "Guernsey",
                    "Greenland",
                    "Faroe Islands",
                    "Northern Mariana Islands",
                    "Saint Kitts and Nevis",
                    "Turks and Caicos Islands",
                    "Sint Maarten",
                    "American Samoa",
                    "Marshall Islands",
                    "Liechtenstein",
                    "Monaco",
                    "San Marino",
                    "Gibraltar",
                    "Saint Martin",
                    "British Virgin Islands",
                    "Palau",
                    "Cook Islands",
                    "Anguilla",
                    "Nauru",
                    "Wallis and Futuna",
                    "Tuvalu",
                    "Saint Barthelemy",
                    "Saint Pierre and Miquelon",
                    "Montserrat",
                    "Falkland Islands",
                    "Niue",
                    "Tokelau",
                    "Vatican City"
                  ],
                  "locationmode": "country names",
                  "locations": [
                    "India",
                    "China",
                    "United States",
                    "Indonesia",
                    "Pakistan",
                    "Nigeria",
                    "Brazil",
                    "Bangladesh",
                    "Russia",
                    "Mexico",
                    "Ethiopia",
                    "Japan",
                    "Philippines",
                    "Egypt",
                    "DR Congo",
                    "Vietnam",
                    "Iran",
                    "Turkey",
                    "Germany",
                    "Thailand",
                    "United Kingdom",
                    "Tanzania",
                    "France",
                    "South Africa",
                    "Italy",
                    "Kenya",
                    "Myanmar",
                    "Colombia",
                    "South Korea",
                    "Uganda",
                    "Sudan",
                    "Spain",
                    "Argentina",
                    "Algeria",
                    "Iraq",
                    "Afghanistan",
                    "Poland",
                    "Canada",
                    "Morocco",
                    "Saudi Arabia",
                    "Ukraine",
                    "Angola",
                    "Uzbekistan",
                    "Yemen",
                    "Peru",
                    "Malaysia",
                    "Ghana",
                    "Mozambique",
                    "Nepal",
                    "Madagascar",
                    "Ivory Coast",
                    "Venezuela",
                    "Cameroon",
                    "Niger",
                    "Australia",
                    "North Korea",
                    "Taiwan",
                    "Mali",
                    "Burkina Faso",
                    "Syria",
                    "Sri Lanka",
                    "Malawi",
                    "Zambia",
                    "Romania",
                    "Chile",
                    "Kazakhstan",
                    "Chad",
                    "Ecuador",
                    "Somalia",
                    "Guatemala",
                    "Senegal",
                    "Netherlands",
                    "Cambodia",
                    "Zimbabwe",
                    "Guinea",
                    "Rwanda",
                    "Benin",
                    "Burundi",
                    "Tunisia",
                    "Bolivia",
                    "Haiti",
                    "Belgium",
                    "Jordan",
                    "Dominican Republic",
                    "Cuba",
                    "South Sudan",
                    "Sweden",
                    "Honduras",
                    "Czech Republic",
                    "Azerbaijan",
                    "Greece",
                    "Papua New Guinea",
                    "Portugal",
                    "Hungary",
                    "Tajikistan",
                    "United Arab Emirates",
                    "Belarus",
                    "Israel",
                    "Togo",
                    "Austria",
                    "Switzerland",
                    "Sierra Leone",
                    "Laos",
                    "Hong Kong",
                    "Serbia",
                    "Nicaragua",
                    "Libya",
                    "Paraguay",
                    "Kyrgyzstan",
                    "Bulgaria",
                    "Turkmenistan",
                    "El Salvador",
                    "Republic of the Congo",
                    "Singapore",
                    "Denmark",
                    "Slovakia",
                    "Central African Republic",
                    "Finland",
                    "Norway",
                    "Liberia",
                    "Palestine",
                    "Lebanon",
                    "New Zealand",
                    "Costa Rica",
                    "Ireland",
                    "Mauritania",
                    "Oman",
                    "Panama",
                    "Kuwait",
                    "Croatia",
                    "Eritrea",
                    "Georgia",
                    "Mongolia",
                    "Moldova",
                    "Uruguay",
                    "Puerto Rico",
                    "Bosnia and Herzegovina",
                    "Albania",
                    "Jamaica",
                    "Armenia",
                    "Gambia",
                    "Lithuania",
                    "Qatar",
                    "Botswana",
                    "Namibia",
                    "Gabon",
                    "Lesotho",
                    "Guinea-Bissau",
                    "Slovenia",
                    "North Macedonia",
                    "Latvia",
                    "Equatorial Guinea",
                    "Trinidad and Tobago",
                    "Bahrain",
                    "Timor-Leste",
                    "Estonia",
                    "Mauritius",
                    "Cyprus",
                    "Eswatini",
                    "Djibouti",
                    "Reunion",
                    "Fiji",
                    "Comoros",
                    "Guyana",
                    "Bhutan",
                    "Solomon Islands",
                    "Macau",
                    "Luxembourg",
                    "Montenegro",
                    "Suriname",
                    "Cape Verde",
                    "Western Sahara",
                    "Malta",
                    "Maldives",
                    "Brunei",
                    "Bahamas",
                    "Belize",
                    "Guadeloupe",
                    "Iceland",
                    "Martinique",
                    "Mayotte",
                    "Vanuatu",
                    "French Guiana",
                    "French Polynesia",
                    "New Caledonia",
                    "Barbados",
                    "Sao Tome and Principe",
                    "Samoa",
                    "Curacao",
                    "Saint Lucia",
                    "Guam",
                    "Kiribati",
                    "Grenada",
                    "Micronesia",
                    "Jersey",
                    "Tonga",
                    "Seychelles",
                    "Aruba",
                    "Saint Vincent and the Grenadines",
                    "United States Virgin Islands",
                    "Antigua and Barbuda",
                    "Isle of Man",
                    "Andorra",
                    "Dominica",
                    "Cayman Islands",
                    "Bermuda",
                    "Guernsey",
                    "Greenland",
                    "Faroe Islands",
                    "Northern Mariana Islands",
                    "Saint Kitts and Nevis",
                    "Turks and Caicos Islands",
                    "Sint Maarten",
                    "American Samoa",
                    "Marshall Islands",
                    "Liechtenstein",
                    "Monaco",
                    "San Marino",
                    "Gibraltar",
                    "Saint Martin",
                    "British Virgin Islands",
                    "Palau",
                    "Cook Islands",
                    "Anguilla",
                    "Nauru",
                    "Wallis and Futuna",
                    "Tuvalu",
                    "Saint Barthelemy",
                    "Saint Pierre and Miquelon",
                    "Montserrat",
                    "Falkland Islands",
                    "Niue",
                    "Tokelau",
                    "Vatican City"
                  ],
                  "name": "",
                  "type": "choropleth",
                  "z": [
                    1670490596,
                    1312636325,
                    375391963,
                    317225213,
                    367808468,
                    377459883,
                    230885725,
                    203904900,
                    133133035,
                    143772364,
                    214812309,
                    103784357,
                    157891622,
                    160339889,
                    217494003,
                    107012939,
                    99007204,
                    95829258,
                    78932228,
                    67880083,
                    71684966,
                    129931520,
                    65827072,
                    73529753,
                    52250484,
                    85211739,
                    59929399,
                    56987651,
                    45770874,
                    87622081,
                    84494269,
                    44219565,
                    51621175,
                    60001113,
                    74515140,
                    74075234,
                    34932339,
                    45890819,
                    45044990,
                    48374543,
                    32867719,
                    72328068,
                    45593149,
                    55296331,
                    42022554,
                    41032433,
                    52231785,
                    63044497,
                    37401365,
                    51592965,
                    51358243,
                    35937404,
                    51279560,
                    67043296,
                    32192919,
                    25807197,
                    22445526,
                    47439802,
                    40541548,
                    38306374,
                    21814985,
                    37159300,
                    37460435,
                    17457213,
                    20675378,
                    25609978,
                    36452035,
                    22269779,
                    36462830,
                    24600727,
                    32562869,
                    17897025,
                    20258435,
                    26438589,
                    23711700,
                    23030046,
                    25264035,
                    24208671,
                    14315779,
                    16609854,
                    15087520,
                    12090657,
                    15005941,
                    13180541,
                    10028085,
                    17460846,
                    11902033,
                    14258514,
                    10577126,
                    10867296,
                    9144951,
                    14910369,
                    9261305,
                    8817396,
                    15200989,
                    11449471,
                    8409632,
                    12991790,
                    15478883,
                    8924190,
                    9753753,
                    13595023,
                    9775552,
                    6975391,
                    5777806,
                    9094641,
                    8539976,
                    8591486,
                    9426858,
                    5187392,
                    8263833,
                    6636854,
                    10378912,
                    6337235,
                    6445109,
                    5186967,
                    11533423,
                    5460917,
                    6367559,
                    8890700,
                    8861747,
                    4937579,
                    5949002,
                    5702525,
                    5724686,
                    8914673,
                    6328978,
                    5736121,
                    5155414,
                    3333425,
                    5964021,
                    3384660,
                    4518856,
                    2997532,
                    3337143,
                    2727624,
                    2739014,
                    2456472,
                    2493823,
                    2573465,
                    4673743,
                    2187550,
                    3358454,
                    3679340,
                    3779918,
                    3757053,
                    2898369,
                    3445289,
                    2003258,
                    1909309,
                    1433728,
                    2790533,
                    1485139,
                    1809237,
                    1806869,
                    1171695,
                    1226235,
                    1391785,
                    1655121,
                    1502575,
                    1127252,
                    1094174,
                    1246207,
                    878746,
                    874294,
                    1225407,
                    881666,
                    781910,
                    586385,
                    725519,
                    727457,
                    851067,
                    522737,
                    569909,
                    498373,
                    450625,
                    538838,
                    388861,
                    408783,
                    330121,
                    664141,
                    578567,
                    532459,
                    346933,
                    353191,
                    267788,
                    366663,
                    320016,
                    204084,
                    177856,
                    195673,
                    188570,
                    136253,
                    135457,
                    135441,
                    131225,
                    116644,
                    94185,
                    101691,
                    77519,
                    99030,
                    86680,
                    80504,
                    74167,
                    77633,
                    56041,
                    66496,
                    53997,
                    59444,
                    50050,
                    46882,
                    52865,
                    38947,
                    33557,
                    51211,
                    42287,
                    37664,
                    32044,
                    31356,
                    35453,
                    34768,
                    16689,
                    17674,
                    15294,
                    14695,
                    11349,
                    13211,
                    10210,
                    5165,
                    3781,
                    3779,
                    2096,
                    2430,
                    731
                  ]
                }
              ],
              "layout": {
                "coloraxis": {
                  "colorbar": {
                    "title": {
                      "text": "pop2050"
                    }
                  },
                  "colorscale": [
                    [
                      0,
                      "#440154"
                    ],
                    [
                      0.1111111111111111,
                      "#482878"
                    ],
                    [
                      0.2222222222222222,
                      "#3e4989"
                    ],
                    [
                      0.3333333333333333,
                      "#31688e"
                    ],
                    [
                      0.4444444444444444,
                      "#26828e"
                    ],
                    [
                      0.5555555555555556,
                      "#1f9e89"
                    ],
                    [
                      0.6666666666666666,
                      "#35b779"
                    ],
                    [
                      0.7777777777777778,
                      "#6ece58"
                    ],
                    [
                      0.8888888888888888,
                      "#b5de2b"
                    ],
                    [
                      1,
                      "#fde725"
                    ]
                  ]
                },
                "font": {
                  "family": "Franklin Gothic",
                  "size": 17
                },
                "geo": {
                  "center": {},
                  "domain": {
                    "x": [
                      0,
                      1
                    ],
                    "y": [
                      0,
                      1
                    ]
                  }
                },
                "legend": {
                  "tracegroupgap": 0
                },
                "template": {
                  "data": {
                    "bar": [
                      {
                        "error_x": {
                          "color": "#2a3f5f"
                        },
                        "error_y": {
                          "color": "#2a3f5f"
                        },
                        "marker": {
                          "line": {
                            "color": "#E5ECF6",
                            "width": 0.5
                          },
                          "pattern": {
                            "fillmode": "overlay",
                            "size": 10,
                            "solidity": 0.2
                          }
                        },
                        "type": "bar"
                      }
                    ],
                    "barpolar": [
                      {
                        "marker": {
                          "line": {
                            "color": "#E5ECF6",
                            "width": 0.5
                          },
                          "pattern": {
                            "fillmode": "overlay",
                            "size": 10,
                            "solidity": 0.2
                          }
                        },
                        "type": "barpolar"
                      }
                    ],
                    "carpet": [
                      {
                        "aaxis": {
                          "endlinecolor": "#2a3f5f",
                          "gridcolor": "white",
                          "linecolor": "white",
                          "minorgridcolor": "white",
                          "startlinecolor": "#2a3f5f"
                        },
                        "baxis": {
                          "endlinecolor": "#2a3f5f",
                          "gridcolor": "white",
                          "linecolor": "white",
                          "minorgridcolor": "white",
                          "startlinecolor": "#2a3f5f"
                        },
                        "type": "carpet"
                      }
                    ],
                    "choropleth": [
                      {
                        "colorbar": {
                          "outlinewidth": 0,
                          "ticks": ""
                        },
                        "type": "choropleth"
                      }
                    ],
                    "contour": [
                      {
                        "colorbar": {
                          "outlinewidth": 0,
                          "ticks": ""
                        },
                        "colorscale": [
                          [
                            0,
                            "#0d0887"
                          ],
                          [
                            0.1111111111111111,
                            "#46039f"
                          ],
                          [
                            0.2222222222222222,
                            "#7201a8"
                          ],
                          [
                            0.3333333333333333,
                            "#9c179e"
                          ],
                          [
                            0.4444444444444444,
                            "#bd3786"
                          ],
                          [
                            0.5555555555555556,
                            "#d8576b"
                          ],
                          [
                            0.6666666666666666,
                            "#ed7953"
                          ],
                          [
                            0.7777777777777778,
                            "#fb9f3a"
                          ],
                          [
                            0.8888888888888888,
                            "#fdca26"
                          ],
                          [
                            1,
                            "#f0f921"
                          ]
                        ],
                        "type": "contour"
                      }
                    ],
                    "contourcarpet": [
                      {
                        "colorbar": {
                          "outlinewidth": 0,
                          "ticks": ""
                        },
                        "type": "contourcarpet"
                      }
                    ],
                    "heatmap": [
                      {
                        "colorbar": {
                          "outlinewidth": 0,
                          "ticks": ""
                        },
                        "colorscale": [
                          [
                            0,
                            "#0d0887"
                          ],
                          [
                            0.1111111111111111,
                            "#46039f"
                          ],
                          [
                            0.2222222222222222,
                            "#7201a8"
                          ],
                          [
                            0.3333333333333333,
                            "#9c179e"
                          ],
                          [
                            0.4444444444444444,
                            "#bd3786"
                          ],
                          [
                            0.5555555555555556,
                            "#d8576b"
                          ],
                          [
                            0.6666666666666666,
                            "#ed7953"
                          ],
                          [
                            0.7777777777777778,
                            "#fb9f3a"
                          ],
                          [
                            0.8888888888888888,
                            "#fdca26"
                          ],
                          [
                            1,
                            "#f0f921"
                          ]
                        ],
                        "type": "heatmap"
                      }
                    ],
                    "heatmapgl": [
                      {
                        "colorbar": {
                          "outlinewidth": 0,
                          "ticks": ""
                        },
                        "colorscale": [
                          [
                            0,
                            "#0d0887"
                          ],
                          [
                            0.1111111111111111,
                            "#46039f"
                          ],
                          [
                            0.2222222222222222,
                            "#7201a8"
                          ],
                          [
                            0.3333333333333333,
                            "#9c179e"
                          ],
                          [
                            0.4444444444444444,
                            "#bd3786"
                          ],
                          [
                            0.5555555555555556,
                            "#d8576b"
                          ],
                          [
                            0.6666666666666666,
                            "#ed7953"
                          ],
                          [
                            0.7777777777777778,
                            "#fb9f3a"
                          ],
                          [
                            0.8888888888888888,
                            "#fdca26"
                          ],
                          [
                            1,
                            "#f0f921"
                          ]
                        ],
                        "type": "heatmapgl"
                      }
                    ],
                    "histogram": [
                      {
                        "marker": {
                          "pattern": {
                            "fillmode": "overlay",
                            "size": 10,
                            "solidity": 0.2
                          }
                        },
                        "type": "histogram"
                      }
                    ],
                    "histogram2d": [
                      {
                        "colorbar": {
                          "outlinewidth": 0,
                          "ticks": ""
                        },
                        "colorscale": [
                          [
                            0,
                            "#0d0887"
                          ],
                          [
                            0.1111111111111111,
                            "#46039f"
                          ],
                          [
                            0.2222222222222222,
                            "#7201a8"
                          ],
                          [
                            0.3333333333333333,
                            "#9c179e"
                          ],
                          [
                            0.4444444444444444,
                            "#bd3786"
                          ],
                          [
                            0.5555555555555556,
                            "#d8576b"
                          ],
                          [
                            0.6666666666666666,
                            "#ed7953"
                          ],
                          [
                            0.7777777777777778,
                            "#fb9f3a"
                          ],
                          [
                            0.8888888888888888,
                            "#fdca26"
                          ],
                          [
                            1,
                            "#f0f921"
                          ]
                        ],
                        "type": "histogram2d"
                      }
                    ],
                    "histogram2dcontour": [
                      {
                        "colorbar": {
                          "outlinewidth": 0,
                          "ticks": ""
                        },
                        "colorscale": [
                          [
                            0,
                            "#0d0887"
                          ],
                          [
                            0.1111111111111111,
                            "#46039f"
                          ],
                          [
                            0.2222222222222222,
                            "#7201a8"
                          ],
                          [
                            0.3333333333333333,
                            "#9c179e"
                          ],
                          [
                            0.4444444444444444,
                            "#bd3786"
                          ],
                          [
                            0.5555555555555556,
                            "#d8576b"
                          ],
                          [
                            0.6666666666666666,
                            "#ed7953"
                          ],
                          [
                            0.7777777777777778,
                            "#fb9f3a"
                          ],
                          [
                            0.8888888888888888,
                            "#fdca26"
                          ],
                          [
                            1,
                            "#f0f921"
                          ]
                        ],
                        "type": "histogram2dcontour"
                      }
                    ],
                    "mesh3d": [
                      {
                        "colorbar": {
                          "outlinewidth": 0,
                          "ticks": ""
                        },
                        "type": "mesh3d"
                      }
                    ],
                    "parcoords": [
                      {
                        "line": {
                          "colorbar": {
                            "outlinewidth": 0,
                            "ticks": ""
                          }
                        },
                        "type": "parcoords"
                      }
                    ],
                    "pie": [
                      {
                        "automargin": true,
                        "type": "pie"
                      }
                    ],
                    "scatter": [
                      {
                        "fillpattern": {
                          "fillmode": "overlay",
                          "size": 10,
                          "solidity": 0.2
                        },
                        "type": "scatter"
                      }
                    ],
                    "scatter3d": [
                      {
                        "line": {
                          "colorbar": {
                            "outlinewidth": 0,
                            "ticks": ""
                          }
                        },
                        "marker": {
                          "colorbar": {
                            "outlinewidth": 0,
                            "ticks": ""
                          }
                        },
                        "type": "scatter3d"
                      }
                    ],
                    "scattercarpet": [
                      {
                        "marker": {
                          "colorbar": {
                            "outlinewidth": 0,
                            "ticks": ""
                          }
                        },
                        "type": "scattercarpet"
                      }
                    ],
                    "scattergeo": [
                      {
                        "marker": {
                          "colorbar": {
                            "outlinewidth": 0,
                            "ticks": ""
                          }
                        },
                        "type": "scattergeo"
                      }
                    ],
                    "scattergl": [
                      {
                        "marker": {
                          "colorbar": {
                            "outlinewidth": 0,
                            "ticks": ""
                          }
                        },
                        "type": "scattergl"
                      }
                    ],
                    "scattermapbox": [
                      {
                        "marker": {
                          "colorbar": {
                            "outlinewidth": 0,
                            "ticks": ""
                          }
                        },
                        "type": "scattermapbox"
                      }
                    ],
                    "scatterpolar": [
                      {
                        "marker": {
                          "colorbar": {
                            "outlinewidth": 0,
                            "ticks": ""
                          }
                        },
                        "type": "scatterpolar"
                      }
                    ],
                    "scatterpolargl": [
                      {
                        "marker": {
                          "colorbar": {
                            "outlinewidth": 0,
                            "ticks": ""
                          }
                        },
                        "type": "scatterpolargl"
                      }
                    ],
                    "scatterternary": [
                      {
                        "marker": {
                          "colorbar": {
                            "outlinewidth": 0,
                            "ticks": ""
                          }
                        },
                        "type": "scatterternary"
                      }
                    ],
                    "surface": [
                      {
                        "colorbar": {
                          "outlinewidth": 0,
                          "ticks": ""
                        },
                        "colorscale": [
                          [
                            0,
                            "#0d0887"
                          ],
                          [
                            0.1111111111111111,
                            "#46039f"
                          ],
                          [
                            0.2222222222222222,
                            "#7201a8"
                          ],
                          [
                            0.3333333333333333,
                            "#9c179e"
                          ],
                          [
                            0.4444444444444444,
                            "#bd3786"
                          ],
                          [
                            0.5555555555555556,
                            "#d8576b"
                          ],
                          [
                            0.6666666666666666,
                            "#ed7953"
                          ],
                          [
                            0.7777777777777778,
                            "#fb9f3a"
                          ],
                          [
                            0.8888888888888888,
                            "#fdca26"
                          ],
                          [
                            1,
                            "#f0f921"
                          ]
                        ],
                        "type": "surface"
                      }
                    ],
                    "table": [
                      {
                        "cells": {
                          "fill": {
                            "color": "#EBF0F8"
                          },
                          "line": {
                            "color": "white"
                          }
                        },
                        "header": {
                          "fill": {
                            "color": "#C8D4E3"
                          },
                          "line": {
                            "color": "white"
                          }
                        },
                        "type": "table"
                      }
                    ]
                  },
                  "layout": {
                    "annotationdefaults": {
                      "arrowcolor": "#2a3f5f",
                      "arrowhead": 0,
                      "arrowwidth": 1
                    },
                    "autotypenumbers": "strict",
                    "coloraxis": {
                      "colorbar": {
                        "outlinewidth": 0,
                        "ticks": ""
                      }
                    },
                    "colorscale": {
                      "diverging": [
                        [
                          0,
                          "#8e0152"
                        ],
                        [
                          0.1,
                          "#c51b7d"
                        ],
                        [
                          0.2,
                          "#de77ae"
                        ],
                        [
                          0.3,
                          "#f1b6da"
                        ],
                        [
                          0.4,
                          "#fde0ef"
                        ],
                        [
                          0.5,
                          "#f7f7f7"
                        ],
                        [
                          0.6,
                          "#e6f5d0"
                        ],
                        [
                          0.7,
                          "#b8e186"
                        ],
                        [
                          0.8,
                          "#7fbc41"
                        ],
                        [
                          0.9,
                          "#4d9221"
                        ],
                        [
                          1,
                          "#276419"
                        ]
                      ],
                      "sequential": [
                        [
                          0,
                          "#0d0887"
                        ],
                        [
                          0.1111111111111111,
                          "#46039f"
                        ],
                        [
                          0.2222222222222222,
                          "#7201a8"
                        ],
                        [
                          0.3333333333333333,
                          "#9c179e"
                        ],
                        [
                          0.4444444444444444,
                          "#bd3786"
                        ],
                        [
                          0.5555555555555556,
                          "#d8576b"
                        ],
                        [
                          0.6666666666666666,
                          "#ed7953"
                        ],
                        [
                          0.7777777777777778,
                          "#fb9f3a"
                        ],
                        [
                          0.8888888888888888,
                          "#fdca26"
                        ],
                        [
                          1,
                          "#f0f921"
                        ]
                      ],
                      "sequentialminus": [
                        [
                          0,
                          "#0d0887"
                        ],
                        [
                          0.1111111111111111,
                          "#46039f"
                        ],
                        [
                          0.2222222222222222,
                          "#7201a8"
                        ],
                        [
                          0.3333333333333333,
                          "#9c179e"
                        ],
                        [
                          0.4444444444444444,
                          "#bd3786"
                        ],
                        [
                          0.5555555555555556,
                          "#d8576b"
                        ],
                        [
                          0.6666666666666666,
                          "#ed7953"
                        ],
                        [
                          0.7777777777777778,
                          "#fb9f3a"
                        ],
                        [
                          0.8888888888888888,
                          "#fdca26"
                        ],
                        [
                          1,
                          "#f0f921"
                        ]
                      ]
                    },
                    "colorway": [
                      "#636efa",
                      "#EF553B",
                      "#00cc96",
                      "#ab63fa",
                      "#FFA15A",
                      "#19d3f3",
                      "#FF6692",
                      "#B6E880",
                      "#FF97FF",
                      "#FECB52"
                    ],
                    "font": {
                      "color": "#2a3f5f"
                    },
                    "geo": {
                      "bgcolor": "white",
                      "lakecolor": "white",
                      "landcolor": "#E5ECF6",
                      "showlakes": true,
                      "showland": true,
                      "subunitcolor": "white"
                    },
                    "hoverlabel": {
                      "align": "left"
                    },
                    "hovermode": "closest",
                    "mapbox": {
                      "style": "light"
                    },
                    "paper_bgcolor": "white",
                    "plot_bgcolor": "#E5ECF6",
                    "polar": {
                      "angularaxis": {
                        "gridcolor": "white",
                        "linecolor": "white",
                        "ticks": ""
                      },
                      "bgcolor": "#E5ECF6",
                      "radialaxis": {
                        "gridcolor": "white",
                        "linecolor": "white",
                        "ticks": ""
                      }
                    },
                    "scene": {
                      "xaxis": {
                        "backgroundcolor": "#E5ECF6",
                        "gridcolor": "white",
                        "gridwidth": 2,
                        "linecolor": "white",
                        "showbackground": true,
                        "ticks": "",
                        "zerolinecolor": "white"
                      },
                      "yaxis": {
                        "backgroundcolor": "#E5ECF6",
                        "gridcolor": "white",
                        "gridwidth": 2,
                        "linecolor": "white",
                        "showbackground": true,
                        "ticks": "",
                        "zerolinecolor": "white"
                      },
                      "zaxis": {
                        "backgroundcolor": "#E5ECF6",
                        "gridcolor": "white",
                        "gridwidth": 2,
                        "linecolor": "white",
                        "showbackground": true,
                        "ticks": "",
                        "zerolinecolor": "white"
                      }
                    },
                    "shapedefaults": {
                      "line": {
                        "color": "#2a3f5f"
                      }
                    },
                    "ternary": {
                      "aaxis": {
                        "gridcolor": "white",
                        "linecolor": "white",
                        "ticks": ""
                      },
                      "baxis": {
                        "gridcolor": "white",
                        "linecolor": "white",
                        "ticks": ""
                      },
                      "bgcolor": "#E5ECF6",
                      "caxis": {
                        "gridcolor": "white",
                        "linecolor": "white",
                        "ticks": ""
                      }
                    },
                    "title": {
                      "x": 0.05
                    },
                    "xaxis": {
                      "automargin": true,
                      "gridcolor": "white",
                      "linecolor": "white",
                      "ticks": "",
                      "title": {
                        "standoff": 15
                      },
                      "zerolinecolor": "white",
                      "zerolinewidth": 2
                    },
                    "yaxis": {
                      "automargin": true,
                      "gridcolor": "white",
                      "linecolor": "white",
                      "ticks": "",
                      "title": {
                        "standoff": 15
                      },
                      "zerolinecolor": "white",
                      "zerolinewidth": 2
                    }
                  }
                },
                "title": {
                  "text": "2050 Predicted Population"
                }
              }
            },
            "text/html": [
              "<div>                            <div id=\"eb190dc9-d5a4-4764-b690-36c17eb49b6c\" class=\"plotly-graph-div\" style=\"height:525px; width:100%;\"></div>            <script type=\"text/javascript\">                require([\"plotly\"], function(Plotly) {                    window.PLOTLYENV=window.PLOTLYENV || {};                                    if (document.getElementById(\"eb190dc9-d5a4-4764-b690-36c17eb49b6c\")) {                    Plotly.newPlot(                        \"eb190dc9-d5a4-4764-b690-36c17eb49b6c\",                        [{\"coloraxis\":\"coloraxis\",\"geo\":\"geo\",\"hovertemplate\":\"<b>%{hovertext}</b><br><br>country=%{location}<br>pop2050=%{z}<extra></extra>\",\"hovertext\":[\"India\",\"China\",\"United States\",\"Indonesia\",\"Pakistan\",\"Nigeria\",\"Brazil\",\"Bangladesh\",\"Russia\",\"Mexico\",\"Ethiopia\",\"Japan\",\"Philippines\",\"Egypt\",\"DR Congo\",\"Vietnam\",\"Iran\",\"Turkey\",\"Germany\",\"Thailand\",\"United Kingdom\",\"Tanzania\",\"France\",\"South Africa\",\"Italy\",\"Kenya\",\"Myanmar\",\"Colombia\",\"South Korea\",\"Uganda\",\"Sudan\",\"Spain\",\"Argentina\",\"Algeria\",\"Iraq\",\"Afghanistan\",\"Poland\",\"Canada\",\"Morocco\",\"Saudi Arabia\",\"Ukraine\",\"Angola\",\"Uzbekistan\",\"Yemen\",\"Peru\",\"Malaysia\",\"Ghana\",\"Mozambique\",\"Nepal\",\"Madagascar\",\"Ivory Coast\",\"Venezuela\",\"Cameroon\",\"Niger\",\"Australia\",\"North Korea\",\"Taiwan\",\"Mali\",\"Burkina Faso\",\"Syria\",\"Sri Lanka\",\"Malawi\",\"Zambia\",\"Romania\",\"Chile\",\"Kazakhstan\",\"Chad\",\"Ecuador\",\"Somalia\",\"Guatemala\",\"Senegal\",\"Netherlands\",\"Cambodia\",\"Zimbabwe\",\"Guinea\",\"Rwanda\",\"Benin\",\"Burundi\",\"Tunisia\",\"Bolivia\",\"Haiti\",\"Belgium\",\"Jordan\",\"Dominican Republic\",\"Cuba\",\"South Sudan\",\"Sweden\",\"Honduras\",\"Czech Republic\",\"Azerbaijan\",\"Greece\",\"Papua New Guinea\",\"Portugal\",\"Hungary\",\"Tajikistan\",\"United Arab Emirates\",\"Belarus\",\"Israel\",\"Togo\",\"Austria\",\"Switzerland\",\"Sierra Leone\",\"Laos\",\"Hong Kong\",\"Serbia\",\"Nicaragua\",\"Libya\",\"Paraguay\",\"Kyrgyzstan\",\"Bulgaria\",\"Turkmenistan\",\"El Salvador\",\"Republic of the Congo\",\"Singapore\",\"Denmark\",\"Slovakia\",\"Central African Republic\",\"Finland\",\"Norway\",\"Liberia\",\"Palestine\",\"Lebanon\",\"New Zealand\",\"Costa Rica\",\"Ireland\",\"Mauritania\",\"Oman\",\"Panama\",\"Kuwait\",\"Croatia\",\"Eritrea\",\"Georgia\",\"Mongolia\",\"Moldova\",\"Uruguay\",\"Puerto Rico\",\"Bosnia and Herzegovina\",\"Albania\",\"Jamaica\",\"Armenia\",\"Gambia\",\"Lithuania\",\"Qatar\",\"Botswana\",\"Namibia\",\"Gabon\",\"Lesotho\",\"Guinea-Bissau\",\"Slovenia\",\"North Macedonia\",\"Latvia\",\"Equatorial Guinea\",\"Trinidad and Tobago\",\"Bahrain\",\"Timor-Leste\",\"Estonia\",\"Mauritius\",\"Cyprus\",\"Eswatini\",\"Djibouti\",\"Reunion\",\"Fiji\",\"Comoros\",\"Guyana\",\"Bhutan\",\"Solomon Islands\",\"Macau\",\"Luxembourg\",\"Montenegro\",\"Suriname\",\"Cape Verde\",\"Western Sahara\",\"Malta\",\"Maldives\",\"Brunei\",\"Bahamas\",\"Belize\",\"Guadeloupe\",\"Iceland\",\"Martinique\",\"Mayotte\",\"Vanuatu\",\"French Guiana\",\"French Polynesia\",\"New Caledonia\",\"Barbados\",\"Sao Tome and Principe\",\"Samoa\",\"Curacao\",\"Saint Lucia\",\"Guam\",\"Kiribati\",\"Grenada\",\"Micronesia\",\"Jersey\",\"Tonga\",\"Seychelles\",\"Aruba\",\"Saint Vincent and the Grenadines\",\"United States Virgin Islands\",\"Antigua and Barbuda\",\"Isle of Man\",\"Andorra\",\"Dominica\",\"Cayman Islands\",\"Bermuda\",\"Guernsey\",\"Greenland\",\"Faroe Islands\",\"Northern Mariana Islands\",\"Saint Kitts and Nevis\",\"Turks and Caicos Islands\",\"Sint Maarten\",\"American Samoa\",\"Marshall Islands\",\"Liechtenstein\",\"Monaco\",\"San Marino\",\"Gibraltar\",\"Saint Martin\",\"British Virgin Islands\",\"Palau\",\"Cook Islands\",\"Anguilla\",\"Nauru\",\"Wallis and Futuna\",\"Tuvalu\",\"Saint Barthelemy\",\"Saint Pierre and Miquelon\",\"Montserrat\",\"Falkland Islands\",\"Niue\",\"Tokelau\",\"Vatican City\"],\"locationmode\":\"country names\",\"locations\":[\"India\",\"China\",\"United States\",\"Indonesia\",\"Pakistan\",\"Nigeria\",\"Brazil\",\"Bangladesh\",\"Russia\",\"Mexico\",\"Ethiopia\",\"Japan\",\"Philippines\",\"Egypt\",\"DR Congo\",\"Vietnam\",\"Iran\",\"Turkey\",\"Germany\",\"Thailand\",\"United Kingdom\",\"Tanzania\",\"France\",\"South Africa\",\"Italy\",\"Kenya\",\"Myanmar\",\"Colombia\",\"South Korea\",\"Uganda\",\"Sudan\",\"Spain\",\"Argentina\",\"Algeria\",\"Iraq\",\"Afghanistan\",\"Poland\",\"Canada\",\"Morocco\",\"Saudi Arabia\",\"Ukraine\",\"Angola\",\"Uzbekistan\",\"Yemen\",\"Peru\",\"Malaysia\",\"Ghana\",\"Mozambique\",\"Nepal\",\"Madagascar\",\"Ivory Coast\",\"Venezuela\",\"Cameroon\",\"Niger\",\"Australia\",\"North Korea\",\"Taiwan\",\"Mali\",\"Burkina Faso\",\"Syria\",\"Sri Lanka\",\"Malawi\",\"Zambia\",\"Romania\",\"Chile\",\"Kazakhstan\",\"Chad\",\"Ecuador\",\"Somalia\",\"Guatemala\",\"Senegal\",\"Netherlands\",\"Cambodia\",\"Zimbabwe\",\"Guinea\",\"Rwanda\",\"Benin\",\"Burundi\",\"Tunisia\",\"Bolivia\",\"Haiti\",\"Belgium\",\"Jordan\",\"Dominican Republic\",\"Cuba\",\"South Sudan\",\"Sweden\",\"Honduras\",\"Czech Republic\",\"Azerbaijan\",\"Greece\",\"Papua New Guinea\",\"Portugal\",\"Hungary\",\"Tajikistan\",\"United Arab Emirates\",\"Belarus\",\"Israel\",\"Togo\",\"Austria\",\"Switzerland\",\"Sierra Leone\",\"Laos\",\"Hong Kong\",\"Serbia\",\"Nicaragua\",\"Libya\",\"Paraguay\",\"Kyrgyzstan\",\"Bulgaria\",\"Turkmenistan\",\"El Salvador\",\"Republic of the Congo\",\"Singapore\",\"Denmark\",\"Slovakia\",\"Central African Republic\",\"Finland\",\"Norway\",\"Liberia\",\"Palestine\",\"Lebanon\",\"New Zealand\",\"Costa Rica\",\"Ireland\",\"Mauritania\",\"Oman\",\"Panama\",\"Kuwait\",\"Croatia\",\"Eritrea\",\"Georgia\",\"Mongolia\",\"Moldova\",\"Uruguay\",\"Puerto Rico\",\"Bosnia and Herzegovina\",\"Albania\",\"Jamaica\",\"Armenia\",\"Gambia\",\"Lithuania\",\"Qatar\",\"Botswana\",\"Namibia\",\"Gabon\",\"Lesotho\",\"Guinea-Bissau\",\"Slovenia\",\"North Macedonia\",\"Latvia\",\"Equatorial Guinea\",\"Trinidad and Tobago\",\"Bahrain\",\"Timor-Leste\",\"Estonia\",\"Mauritius\",\"Cyprus\",\"Eswatini\",\"Djibouti\",\"Reunion\",\"Fiji\",\"Comoros\",\"Guyana\",\"Bhutan\",\"Solomon Islands\",\"Macau\",\"Luxembourg\",\"Montenegro\",\"Suriname\",\"Cape Verde\",\"Western Sahara\",\"Malta\",\"Maldives\",\"Brunei\",\"Bahamas\",\"Belize\",\"Guadeloupe\",\"Iceland\",\"Martinique\",\"Mayotte\",\"Vanuatu\",\"French Guiana\",\"French Polynesia\",\"New Caledonia\",\"Barbados\",\"Sao Tome and Principe\",\"Samoa\",\"Curacao\",\"Saint Lucia\",\"Guam\",\"Kiribati\",\"Grenada\",\"Micronesia\",\"Jersey\",\"Tonga\",\"Seychelles\",\"Aruba\",\"Saint Vincent and the Grenadines\",\"United States Virgin Islands\",\"Antigua and Barbuda\",\"Isle of Man\",\"Andorra\",\"Dominica\",\"Cayman Islands\",\"Bermuda\",\"Guernsey\",\"Greenland\",\"Faroe Islands\",\"Northern Mariana Islands\",\"Saint Kitts and Nevis\",\"Turks and Caicos Islands\",\"Sint Maarten\",\"American Samoa\",\"Marshall Islands\",\"Liechtenstein\",\"Monaco\",\"San Marino\",\"Gibraltar\",\"Saint Martin\",\"British Virgin Islands\",\"Palau\",\"Cook Islands\",\"Anguilla\",\"Nauru\",\"Wallis and Futuna\",\"Tuvalu\",\"Saint Barthelemy\",\"Saint Pierre and Miquelon\",\"Montserrat\",\"Falkland Islands\",\"Niue\",\"Tokelau\",\"Vatican City\"],\"name\":\"\",\"z\":[1670490596,1312636325,375391963,317225213,367808468,377459883,230885725,203904900,133133035,143772364,214812309,103784357,157891622,160339889,217494003,107012939,99007204,95829258,78932228,67880083,71684966,129931520,65827072,73529753,52250484,85211739,59929399,56987651,45770874,87622081,84494269,44219565,51621175,60001113,74515140,74075234,34932339,45890819,45044990,48374543,32867719,72328068,45593149,55296331,42022554,41032433,52231785,63044497,37401365,51592965,51358243,35937404,51279560,67043296,32192919,25807197,22445526,47439802,40541548,38306374,21814985,37159300,37460435,17457213,20675378,25609978,36452035,22269779,36462830,24600727,32562869,17897025,20258435,26438589,23711700,23030046,25264035,24208671,14315779,16609854,15087520,12090657,15005941,13180541,10028085,17460846,11902033,14258514,10577126,10867296,9144951,14910369,9261305,8817396,15200989,11449471,8409632,12991790,15478883,8924190,9753753,13595023,9775552,6975391,5777806,9094641,8539976,8591486,9426858,5187392,8263833,6636854,10378912,6337235,6445109,5186967,11533423,5460917,6367559,8890700,8861747,4937579,5949002,5702525,5724686,8914673,6328978,5736121,5155414,3333425,5964021,3384660,4518856,2997532,3337143,2727624,2739014,2456472,2493823,2573465,4673743,2187550,3358454,3679340,3779918,3757053,2898369,3445289,2003258,1909309,1433728,2790533,1485139,1809237,1806869,1171695,1226235,1391785,1655121,1502575,1127252,1094174,1246207,878746,874294,1225407,881666,781910,586385,725519,727457,851067,522737,569909,498373,450625,538838,388861,408783,330121,664141,578567,532459,346933,353191,267788,366663,320016,204084,177856,195673,188570,136253,135457,135441,131225,116644,94185,101691,77519,99030,86680,80504,74167,77633,56041,66496,53997,59444,50050,46882,52865,38947,33557,51211,42287,37664,32044,31356,35453,34768,16689,17674,15294,14695,11349,13211,10210,5165,3781,3779,2096,2430,731],\"type\":\"choropleth\"}],                        {\"template\":{\"data\":{\"histogram2dcontour\":[{\"type\":\"histogram2dcontour\",\"colorbar\":{\"outlinewidth\":0,\"ticks\":\"\"},\"colorscale\":[[0.0,\"#0d0887\"],[0.1111111111111111,\"#46039f\"],[0.2222222222222222,\"#7201a8\"],[0.3333333333333333,\"#9c179e\"],[0.4444444444444444,\"#bd3786\"],[0.5555555555555556,\"#d8576b\"],[0.6666666666666666,\"#ed7953\"],[0.7777777777777778,\"#fb9f3a\"],[0.8888888888888888,\"#fdca26\"],[1.0,\"#f0f921\"]]}],\"choropleth\":[{\"type\":\"choropleth\",\"colorbar\":{\"outlinewidth\":0,\"ticks\":\"\"}}],\"histogram2d\":[{\"type\":\"histogram2d\",\"colorbar\":{\"outlinewidth\":0,\"ticks\":\"\"},\"colorscale\":[[0.0,\"#0d0887\"],[0.1111111111111111,\"#46039f\"],[0.2222222222222222,\"#7201a8\"],[0.3333333333333333,\"#9c179e\"],[0.4444444444444444,\"#bd3786\"],[0.5555555555555556,\"#d8576b\"],[0.6666666666666666,\"#ed7953\"],[0.7777777777777778,\"#fb9f3a\"],[0.8888888888888888,\"#fdca26\"],[1.0,\"#f0f921\"]]}],\"heatmap\":[{\"type\":\"heatmap\",\"colorbar\":{\"outlinewidth\":0,\"ticks\":\"\"},\"colorscale\":[[0.0,\"#0d0887\"],[0.1111111111111111,\"#46039f\"],[0.2222222222222222,\"#7201a8\"],[0.3333333333333333,\"#9c179e\"],[0.4444444444444444,\"#bd3786\"],[0.5555555555555556,\"#d8576b\"],[0.6666666666666666,\"#ed7953\"],[0.7777777777777778,\"#fb9f3a\"],[0.8888888888888888,\"#fdca26\"],[1.0,\"#f0f921\"]]}],\"heatmapgl\":[{\"type\":\"heatmapgl\",\"colorbar\":{\"outlinewidth\":0,\"ticks\":\"\"},\"colorscale\":[[0.0,\"#0d0887\"],[0.1111111111111111,\"#46039f\"],[0.2222222222222222,\"#7201a8\"],[0.3333333333333333,\"#9c179e\"],[0.4444444444444444,\"#bd3786\"],[0.5555555555555556,\"#d8576b\"],[0.6666666666666666,\"#ed7953\"],[0.7777777777777778,\"#fb9f3a\"],[0.8888888888888888,\"#fdca26\"],[1.0,\"#f0f921\"]]}],\"contourcarpet\":[{\"type\":\"contourcarpet\",\"colorbar\":{\"outlinewidth\":0,\"ticks\":\"\"}}],\"contour\":[{\"type\":\"contour\",\"colorbar\":{\"outlinewidth\":0,\"ticks\":\"\"},\"colorscale\":[[0.0,\"#0d0887\"],[0.1111111111111111,\"#46039f\"],[0.2222222222222222,\"#7201a8\"],[0.3333333333333333,\"#9c179e\"],[0.4444444444444444,\"#bd3786\"],[0.5555555555555556,\"#d8576b\"],[0.6666666666666666,\"#ed7953\"],[0.7777777777777778,\"#fb9f3a\"],[0.8888888888888888,\"#fdca26\"],[1.0,\"#f0f921\"]]}],\"surface\":[{\"type\":\"surface\",\"colorbar\":{\"outlinewidth\":0,\"ticks\":\"\"},\"colorscale\":[[0.0,\"#0d0887\"],[0.1111111111111111,\"#46039f\"],[0.2222222222222222,\"#7201a8\"],[0.3333333333333333,\"#9c179e\"],[0.4444444444444444,\"#bd3786\"],[0.5555555555555556,\"#d8576b\"],[0.6666666666666666,\"#ed7953\"],[0.7777777777777778,\"#fb9f3a\"],[0.8888888888888888,\"#fdca26\"],[1.0,\"#f0f921\"]]}],\"mesh3d\":[{\"type\":\"mesh3d\",\"colorbar\":{\"outlinewidth\":0,\"ticks\":\"\"}}],\"scatter\":[{\"fillpattern\":{\"fillmode\":\"overlay\",\"size\":10,\"solidity\":0.2},\"type\":\"scatter\"}],\"parcoords\":[{\"type\":\"parcoords\",\"line\":{\"colorbar\":{\"outlinewidth\":0,\"ticks\":\"\"}}}],\"scatterpolargl\":[{\"type\":\"scatterpolargl\",\"marker\":{\"colorbar\":{\"outlinewidth\":0,\"ticks\":\"\"}}}],\"bar\":[{\"error_x\":{\"color\":\"#2a3f5f\"},\"error_y\":{\"color\":\"#2a3f5f\"},\"marker\":{\"line\":{\"color\":\"#E5ECF6\",\"width\":0.5},\"pattern\":{\"fillmode\":\"overlay\",\"size\":10,\"solidity\":0.2}},\"type\":\"bar\"}],\"scattergeo\":[{\"type\":\"scattergeo\",\"marker\":{\"colorbar\":{\"outlinewidth\":0,\"ticks\":\"\"}}}],\"scatterpolar\":[{\"type\":\"scatterpolar\",\"marker\":{\"colorbar\":{\"outlinewidth\":0,\"ticks\":\"\"}}}],\"histogram\":[{\"marker\":{\"pattern\":{\"fillmode\":\"overlay\",\"size\":10,\"solidity\":0.2}},\"type\":\"histogram\"}],\"scattergl\":[{\"type\":\"scattergl\",\"marker\":{\"colorbar\":{\"outlinewidth\":0,\"ticks\":\"\"}}}],\"scatter3d\":[{\"type\":\"scatter3d\",\"line\":{\"colorbar\":{\"outlinewidth\":0,\"ticks\":\"\"}},\"marker\":{\"colorbar\":{\"outlinewidth\":0,\"ticks\":\"\"}}}],\"scattermapbox\":[{\"type\":\"scattermapbox\",\"marker\":{\"colorbar\":{\"outlinewidth\":0,\"ticks\":\"\"}}}],\"scatterternary\":[{\"type\":\"scatterternary\",\"marker\":{\"colorbar\":{\"outlinewidth\":0,\"ticks\":\"\"}}}],\"scattercarpet\":[{\"type\":\"scattercarpet\",\"marker\":{\"colorbar\":{\"outlinewidth\":0,\"ticks\":\"\"}}}],\"carpet\":[{\"aaxis\":{\"endlinecolor\":\"#2a3f5f\",\"gridcolor\":\"white\",\"linecolor\":\"white\",\"minorgridcolor\":\"white\",\"startlinecolor\":\"#2a3f5f\"},\"baxis\":{\"endlinecolor\":\"#2a3f5f\",\"gridcolor\":\"white\",\"linecolor\":\"white\",\"minorgridcolor\":\"white\",\"startlinecolor\":\"#2a3f5f\"},\"type\":\"carpet\"}],\"table\":[{\"cells\":{\"fill\":{\"color\":\"#EBF0F8\"},\"line\":{\"color\":\"white\"}},\"header\":{\"fill\":{\"color\":\"#C8D4E3\"},\"line\":{\"color\":\"white\"}},\"type\":\"table\"}],\"barpolar\":[{\"marker\":{\"line\":{\"color\":\"#E5ECF6\",\"width\":0.5},\"pattern\":{\"fillmode\":\"overlay\",\"size\":10,\"solidity\":0.2}},\"type\":\"barpolar\"}],\"pie\":[{\"automargin\":true,\"type\":\"pie\"}]},\"layout\":{\"autotypenumbers\":\"strict\",\"colorway\":[\"#636efa\",\"#EF553B\",\"#00cc96\",\"#ab63fa\",\"#FFA15A\",\"#19d3f3\",\"#FF6692\",\"#B6E880\",\"#FF97FF\",\"#FECB52\"],\"font\":{\"color\":\"#2a3f5f\"},\"hovermode\":\"closest\",\"hoverlabel\":{\"align\":\"left\"},\"paper_bgcolor\":\"white\",\"plot_bgcolor\":\"#E5ECF6\",\"polar\":{\"bgcolor\":\"#E5ECF6\",\"angularaxis\":{\"gridcolor\":\"white\",\"linecolor\":\"white\",\"ticks\":\"\"},\"radialaxis\":{\"gridcolor\":\"white\",\"linecolor\":\"white\",\"ticks\":\"\"}},\"ternary\":{\"bgcolor\":\"#E5ECF6\",\"aaxis\":{\"gridcolor\":\"white\",\"linecolor\":\"white\",\"ticks\":\"\"},\"baxis\":{\"gridcolor\":\"white\",\"linecolor\":\"white\",\"ticks\":\"\"},\"caxis\":{\"gridcolor\":\"white\",\"linecolor\":\"white\",\"ticks\":\"\"}},\"coloraxis\":{\"colorbar\":{\"outlinewidth\":0,\"ticks\":\"\"}},\"colorscale\":{\"sequential\":[[0.0,\"#0d0887\"],[0.1111111111111111,\"#46039f\"],[0.2222222222222222,\"#7201a8\"],[0.3333333333333333,\"#9c179e\"],[0.4444444444444444,\"#bd3786\"],[0.5555555555555556,\"#d8576b\"],[0.6666666666666666,\"#ed7953\"],[0.7777777777777778,\"#fb9f3a\"],[0.8888888888888888,\"#fdca26\"],[1.0,\"#f0f921\"]],\"sequentialminus\":[[0.0,\"#0d0887\"],[0.1111111111111111,\"#46039f\"],[0.2222222222222222,\"#7201a8\"],[0.3333333333333333,\"#9c179e\"],[0.4444444444444444,\"#bd3786\"],[0.5555555555555556,\"#d8576b\"],[0.6666666666666666,\"#ed7953\"],[0.7777777777777778,\"#fb9f3a\"],[0.8888888888888888,\"#fdca26\"],[1.0,\"#f0f921\"]],\"diverging\":[[0,\"#8e0152\"],[0.1,\"#c51b7d\"],[0.2,\"#de77ae\"],[0.3,\"#f1b6da\"],[0.4,\"#fde0ef\"],[0.5,\"#f7f7f7\"],[0.6,\"#e6f5d0\"],[0.7,\"#b8e186\"],[0.8,\"#7fbc41\"],[0.9,\"#4d9221\"],[1,\"#276419\"]]},\"xaxis\":{\"gridcolor\":\"white\",\"linecolor\":\"white\",\"ticks\":\"\",\"title\":{\"standoff\":15},\"zerolinecolor\":\"white\",\"automargin\":true,\"zerolinewidth\":2},\"yaxis\":{\"gridcolor\":\"white\",\"linecolor\":\"white\",\"ticks\":\"\",\"title\":{\"standoff\":15},\"zerolinecolor\":\"white\",\"automargin\":true,\"zerolinewidth\":2},\"scene\":{\"xaxis\":{\"backgroundcolor\":\"#E5ECF6\",\"gridcolor\":\"white\",\"linecolor\":\"white\",\"showbackground\":true,\"ticks\":\"\",\"zerolinecolor\":\"white\",\"gridwidth\":2},\"yaxis\":{\"backgroundcolor\":\"#E5ECF6\",\"gridcolor\":\"white\",\"linecolor\":\"white\",\"showbackground\":true,\"ticks\":\"\",\"zerolinecolor\":\"white\",\"gridwidth\":2},\"zaxis\":{\"backgroundcolor\":\"#E5ECF6\",\"gridcolor\":\"white\",\"linecolor\":\"white\",\"showbackground\":true,\"ticks\":\"\",\"zerolinecolor\":\"white\",\"gridwidth\":2}},\"shapedefaults\":{\"line\":{\"color\":\"#2a3f5f\"}},\"annotationdefaults\":{\"arrowcolor\":\"#2a3f5f\",\"arrowhead\":0,\"arrowwidth\":1},\"geo\":{\"bgcolor\":\"white\",\"landcolor\":\"#E5ECF6\",\"subunitcolor\":\"white\",\"showland\":true,\"showlakes\":true,\"lakecolor\":\"white\"},\"title\":{\"x\":0.05},\"mapbox\":{\"style\":\"light\"}}},\"geo\":{\"domain\":{\"x\":[0.0,1.0],\"y\":[0.0,1.0]},\"center\":{}},\"coloraxis\":{\"colorbar\":{\"title\":{\"text\":\"pop2050\"}},\"colorscale\":[[0.0,\"#440154\"],[0.1111111111111111,\"#482878\"],[0.2222222222222222,\"#3e4989\"],[0.3333333333333333,\"#31688e\"],[0.4444444444444444,\"#26828e\"],[0.5555555555555556,\"#1f9e89\"],[0.6666666666666666,\"#35b779\"],[0.7777777777777778,\"#6ece58\"],[0.8888888888888888,\"#b5de2b\"],[1.0,\"#fde725\"]]},\"legend\":{\"tracegroupgap\":0},\"title\":{\"text\":\"2050 Predicted Population\"},\"font\":{\"size\":17,\"family\":\"Franklin Gothic\"}},                        {\"responsive\": true}                    ).then(function(){\n",
              "                            \n",
              "var gd = document.getElementById('eb190dc9-d5a4-4764-b690-36c17eb49b6c');\n",
              "var x = new MutationObserver(function (mutations, observer) {{\n",
              "        var display = window.getComputedStyle(gd).display;\n",
              "        if (!display || display === 'none') {{\n",
              "            console.log([gd, 'removed!']);\n",
              "            Plotly.purge(gd);\n",
              "            observer.disconnect();\n",
              "        }}\n",
              "}});\n",
              "\n",
              "// Listen for the removal of the full notebook cells\n",
              "var notebookContainer = gd.closest('#notebook-container');\n",
              "if (notebookContainer) {{\n",
              "    x.observe(notebookContainer, {childList: true});\n",
              "}}\n",
              "\n",
              "// Listen for the clearing of the current output cell\n",
              "var outputEl = gd.closest('.output');\n",
              "if (outputEl) {{\n",
              "    x.observe(outputEl, {childList: true});\n",
              "}}\n",
              "\n",
              "                        })                };                });            </script>        </div>"
            ]
          },
          "metadata": {},
          "output_type": "display_data"
        }
      ],
      "source": [
        "#2050 Population\n",
        "fig = px.choropleth(df,\n",
        "                    locations='country',\n",
        "                    locationmode='country names',\n",
        "                    color='pop2050',  # we indicate the year we are interested in\n",
        "                    hover_name='country',\n",
        "                    title = '2050 Predicted Population',\n",
        "                    color_continuous_scale='Viridis'\n",
        "                    )\n",
        "fig.update_layout(font = dict(size = 17, family=\"Franklin Gothic\"))\n",
        "fig.show()"
      ]
    },
    {
      "cell_type": "code",
      "execution_count": null,
      "id": "b5a4516a",
      "metadata": {
        "execution": {
          "iopub.execute_input": "2023-06-02T04:52:25.234325Z",
          "iopub.status.busy": "2023-06-02T04:52:25.233918Z",
          "iopub.status.idle": "2023-06-02T04:52:25.306986Z",
          "shell.execute_reply": "2023-06-02T04:52:25.305961Z"
        },
        "papermill": {
          "duration": 0.155647,
          "end_time": "2023-06-02T04:52:25.310814",
          "exception": false,
          "start_time": "2023-06-02T04:52:25.155167",
          "status": "completed"
        },
        "tags": [],
        "id": "b5a4516a",
        "outputId": "e6d25c06-afda-45e2-fd0c-50ddaf584f09"
      },
      "outputs": [
        {
          "data": {
            "application/vnd.plotly.v1+json": {
              "config": {
                "plotlyServerURL": "https://plot.ly"
              },
              "data": [
                {
                  "coloraxis": "coloraxis",
                  "geo": "geo",
                  "hovertemplate": "<b>%{hovertext}</b><br><br>country=%{location}<br>worldPercentage=%{z}<extra></extra>",
                  "hovertext": [
                    "India",
                    "China",
                    "United States",
                    "Indonesia",
                    "Pakistan",
                    "Nigeria",
                    "Brazil",
                    "Bangladesh",
                    "Russia",
                    "Mexico",
                    "Ethiopia",
                    "Japan",
                    "Philippines",
                    "Egypt",
                    "DR Congo",
                    "Vietnam",
                    "Iran",
                    "Turkey",
                    "Germany",
                    "Thailand",
                    "United Kingdom",
                    "Tanzania",
                    "France",
                    "South Africa",
                    "Italy",
                    "Kenya",
                    "Myanmar",
                    "Colombia",
                    "South Korea",
                    "Uganda",
                    "Sudan",
                    "Spain",
                    "Argentina",
                    "Algeria",
                    "Iraq",
                    "Afghanistan",
                    "Poland",
                    "Canada",
                    "Morocco",
                    "Saudi Arabia",
                    "Ukraine",
                    "Angola",
                    "Uzbekistan",
                    "Yemen",
                    "Peru",
                    "Malaysia",
                    "Ghana",
                    "Mozambique",
                    "Nepal",
                    "Madagascar",
                    "Ivory Coast",
                    "Venezuela",
                    "Cameroon",
                    "Niger",
                    "Australia",
                    "North Korea",
                    "Taiwan",
                    "Mali",
                    "Burkina Faso",
                    "Syria",
                    "Sri Lanka",
                    "Malawi",
                    "Zambia",
                    "Romania",
                    "Chile",
                    "Kazakhstan",
                    "Chad",
                    "Ecuador",
                    "Somalia",
                    "Guatemala",
                    "Senegal",
                    "Netherlands",
                    "Cambodia",
                    "Zimbabwe",
                    "Guinea",
                    "Rwanda",
                    "Benin",
                    "Burundi",
                    "Tunisia",
                    "Bolivia",
                    "Haiti",
                    "Belgium",
                    "Jordan",
                    "Dominican Republic",
                    "Cuba",
                    "South Sudan",
                    "Sweden",
                    "Honduras",
                    "Czech Republic",
                    "Azerbaijan",
                    "Greece",
                    "Papua New Guinea",
                    "Portugal",
                    "Hungary",
                    "Tajikistan",
                    "United Arab Emirates",
                    "Belarus",
                    "Israel",
                    "Togo",
                    "Austria",
                    "Switzerland",
                    "Sierra Leone",
                    "Laos",
                    "Hong Kong",
                    "Serbia",
                    "Nicaragua",
                    "Libya",
                    "Paraguay",
                    "Kyrgyzstan",
                    "Bulgaria",
                    "Turkmenistan",
                    "El Salvador",
                    "Republic of the Congo",
                    "Singapore",
                    "Denmark",
                    "Slovakia",
                    "Central African Republic",
                    "Finland",
                    "Norway",
                    "Liberia",
                    "Palestine",
                    "Lebanon",
                    "New Zealand",
                    "Costa Rica",
                    "Ireland",
                    "Mauritania",
                    "Oman",
                    "Panama",
                    "Kuwait",
                    "Croatia",
                    "Eritrea",
                    "Georgia",
                    "Mongolia",
                    "Moldova",
                    "Uruguay",
                    "Puerto Rico",
                    "Bosnia and Herzegovina",
                    "Albania",
                    "Jamaica",
                    "Armenia",
                    "Gambia",
                    "Lithuania",
                    "Qatar",
                    "Botswana",
                    "Namibia",
                    "Gabon",
                    "Lesotho",
                    "Guinea-Bissau",
                    "Slovenia",
                    "North Macedonia",
                    "Latvia",
                    "Equatorial Guinea",
                    "Trinidad and Tobago",
                    "Bahrain",
                    "Timor-Leste",
                    "Estonia",
                    "Mauritius",
                    "Cyprus",
                    "Eswatini",
                    "Djibouti",
                    "Reunion",
                    "Fiji",
                    "Comoros",
                    "Guyana",
                    "Bhutan",
                    "Solomon Islands",
                    "Macau",
                    "Luxembourg",
                    "Montenegro",
                    "Suriname",
                    "Cape Verde",
                    "Western Sahara",
                    "Malta",
                    "Maldives",
                    "Brunei",
                    "Bahamas",
                    "Belize",
                    "Guadeloupe",
                    "Iceland",
                    "Martinique",
                    "Mayotte",
                    "Vanuatu",
                    "French Guiana",
                    "French Polynesia",
                    "New Caledonia",
                    "Barbados",
                    "Sao Tome and Principe",
                    "Samoa",
                    "Curacao",
                    "Saint Lucia",
                    "Guam",
                    "Kiribati",
                    "Grenada",
                    "Micronesia",
                    "Jersey",
                    "Tonga",
                    "Seychelles",
                    "Aruba",
                    "Saint Vincent and the Grenadines",
                    "United States Virgin Islands",
                    "Antigua and Barbuda",
                    "Isle of Man",
                    "Andorra",
                    "Dominica",
                    "Cayman Islands",
                    "Bermuda",
                    "Guernsey",
                    "Greenland",
                    "Faroe Islands",
                    "Northern Mariana Islands",
                    "Saint Kitts and Nevis",
                    "Turks and Caicos Islands",
                    "Sint Maarten",
                    "American Samoa",
                    "Marshall Islands",
                    "Liechtenstein",
                    "Monaco",
                    "San Marino",
                    "Gibraltar",
                    "Saint Martin",
                    "British Virgin Islands",
                    "Palau",
                    "Cook Islands",
                    "Anguilla",
                    "Nauru",
                    "Wallis and Futuna",
                    "Tuvalu",
                    "Saint Barthelemy",
                    "Saint Pierre and Miquelon",
                    "Montserrat",
                    "Falkland Islands",
                    "Niue",
                    "Tokelau",
                    "Vatican City"
                  ],
                  "locationmode": "country names",
                  "locations": [
                    "India",
                    "China",
                    "United States",
                    "Indonesia",
                    "Pakistan",
                    "Nigeria",
                    "Brazil",
                    "Bangladesh",
                    "Russia",
                    "Mexico",
                    "Ethiopia",
                    "Japan",
                    "Philippines",
                    "Egypt",
                    "DR Congo",
                    "Vietnam",
                    "Iran",
                    "Turkey",
                    "Germany",
                    "Thailand",
                    "United Kingdom",
                    "Tanzania",
                    "France",
                    "South Africa",
                    "Italy",
                    "Kenya",
                    "Myanmar",
                    "Colombia",
                    "South Korea",
                    "Uganda",
                    "Sudan",
                    "Spain",
                    "Argentina",
                    "Algeria",
                    "Iraq",
                    "Afghanistan",
                    "Poland",
                    "Canada",
                    "Morocco",
                    "Saudi Arabia",
                    "Ukraine",
                    "Angola",
                    "Uzbekistan",
                    "Yemen",
                    "Peru",
                    "Malaysia",
                    "Ghana",
                    "Mozambique",
                    "Nepal",
                    "Madagascar",
                    "Ivory Coast",
                    "Venezuela",
                    "Cameroon",
                    "Niger",
                    "Australia",
                    "North Korea",
                    "Taiwan",
                    "Mali",
                    "Burkina Faso",
                    "Syria",
                    "Sri Lanka",
                    "Malawi",
                    "Zambia",
                    "Romania",
                    "Chile",
                    "Kazakhstan",
                    "Chad",
                    "Ecuador",
                    "Somalia",
                    "Guatemala",
                    "Senegal",
                    "Netherlands",
                    "Cambodia",
                    "Zimbabwe",
                    "Guinea",
                    "Rwanda",
                    "Benin",
                    "Burundi",
                    "Tunisia",
                    "Bolivia",
                    "Haiti",
                    "Belgium",
                    "Jordan",
                    "Dominican Republic",
                    "Cuba",
                    "South Sudan",
                    "Sweden",
                    "Honduras",
                    "Czech Republic",
                    "Azerbaijan",
                    "Greece",
                    "Papua New Guinea",
                    "Portugal",
                    "Hungary",
                    "Tajikistan",
                    "United Arab Emirates",
                    "Belarus",
                    "Israel",
                    "Togo",
                    "Austria",
                    "Switzerland",
                    "Sierra Leone",
                    "Laos",
                    "Hong Kong",
                    "Serbia",
                    "Nicaragua",
                    "Libya",
                    "Paraguay",
                    "Kyrgyzstan",
                    "Bulgaria",
                    "Turkmenistan",
                    "El Salvador",
                    "Republic of the Congo",
                    "Singapore",
                    "Denmark",
                    "Slovakia",
                    "Central African Republic",
                    "Finland",
                    "Norway",
                    "Liberia",
                    "Palestine",
                    "Lebanon",
                    "New Zealand",
                    "Costa Rica",
                    "Ireland",
                    "Mauritania",
                    "Oman",
                    "Panama",
                    "Kuwait",
                    "Croatia",
                    "Eritrea",
                    "Georgia",
                    "Mongolia",
                    "Moldova",
                    "Uruguay",
                    "Puerto Rico",
                    "Bosnia and Herzegovina",
                    "Albania",
                    "Jamaica",
                    "Armenia",
                    "Gambia",
                    "Lithuania",
                    "Qatar",
                    "Botswana",
                    "Namibia",
                    "Gabon",
                    "Lesotho",
                    "Guinea-Bissau",
                    "Slovenia",
                    "North Macedonia",
                    "Latvia",
                    "Equatorial Guinea",
                    "Trinidad and Tobago",
                    "Bahrain",
                    "Timor-Leste",
                    "Estonia",
                    "Mauritius",
                    "Cyprus",
                    "Eswatini",
                    "Djibouti",
                    "Reunion",
                    "Fiji",
                    "Comoros",
                    "Guyana",
                    "Bhutan",
                    "Solomon Islands",
                    "Macau",
                    "Luxembourg",
                    "Montenegro",
                    "Suriname",
                    "Cape Verde",
                    "Western Sahara",
                    "Malta",
                    "Maldives",
                    "Brunei",
                    "Bahamas",
                    "Belize",
                    "Guadeloupe",
                    "Iceland",
                    "Martinique",
                    "Mayotte",
                    "Vanuatu",
                    "French Guiana",
                    "French Polynesia",
                    "New Caledonia",
                    "Barbados",
                    "Sao Tome and Principe",
                    "Samoa",
                    "Curacao",
                    "Saint Lucia",
                    "Guam",
                    "Kiribati",
                    "Grenada",
                    "Micronesia",
                    "Jersey",
                    "Tonga",
                    "Seychelles",
                    "Aruba",
                    "Saint Vincent and the Grenadines",
                    "United States Virgin Islands",
                    "Antigua and Barbuda",
                    "Isle of Man",
                    "Andorra",
                    "Dominica",
                    "Cayman Islands",
                    "Bermuda",
                    "Guernsey",
                    "Greenland",
                    "Faroe Islands",
                    "Northern Mariana Islands",
                    "Saint Kitts and Nevis",
                    "Turks and Caicos Islands",
                    "Sint Maarten",
                    "American Samoa",
                    "Marshall Islands",
                    "Liechtenstein",
                    "Monaco",
                    "San Marino",
                    "Gibraltar",
                    "Saint Martin",
                    "British Virgin Islands",
                    "Palau",
                    "Cook Islands",
                    "Anguilla",
                    "Nauru",
                    "Wallis and Futuna",
                    "Tuvalu",
                    "Saint Barthelemy",
                    "Saint Pierre and Miquelon",
                    "Montserrat",
                    "Falkland Islands",
                    "Niue",
                    "Tokelau",
                    "Vatican City"
                  ],
                  "name": "",
                  "type": "choropleth",
                  "z": [
                    0.1785,
                    0.1781,
                    0.0425,
                    0.0347,
                    0.03,
                    0.028,
                    0.027,
                    0.0216,
                    0.018,
                    0.016,
                    0.0158,
                    0.0154,
                    0.0147,
                    0.0141,
                    0.0128,
                    0.0123,
                    0.0111,
                    0.0107,
                    0.0104,
                    0.009,
                    0.0085,
                    0.0084,
                    0.0081,
                    0.0075,
                    0.0074,
                    0.0069,
                    0.0068,
                    0.0065,
                    0.0065,
                    0.0061,
                    0.006,
                    0.0059,
                    0.0057,
                    0.0057,
                    0.0057,
                    0.0053,
                    0.0051,
                    0.0048,
                    0.0047,
                    0.0046,
                    0.0046,
                    0.0046,
                    0.0044,
                    0.0043,
                    0.0043,
                    0.0043,
                    0.0043,
                    0.0042,
                    0.0039,
                    0.0038,
                    0.0036,
                    0.0036,
                    0.0036,
                    0.0034,
                    0.0033,
                    0.0033,
                    0.003,
                    0.0029,
                    0.0029,
                    0.0029,
                    0.0027,
                    0.0026,
                    0.0026,
                    0.0025,
                    0.0025,
                    0.0024,
                    0.0023,
                    0.0023,
                    0.0023,
                    0.0023,
                    0.0022,
                    0.0022,
                    0.0021,
                    0.0021,
                    0.0018,
                    0.0018,
                    0.0017,
                    0.0017,
                    0.0016,
                    0.0015,
                    0.0015,
                    0.0015,
                    0.0014,
                    0.0014,
                    0.0014,
                    0.0014,
                    0.0013,
                    0.0013,
                    0.0013,
                    0.0013,
                    0.0013,
                    0.0013,
                    0.0013,
                    0.0013,
                    0.0013,
                    0.0012,
                    0.0012,
                    0.0011,
                    0.0011,
                    0.0011,
                    0.0011,
                    0.0011,
                    0.001,
                    0.0009,
                    0.0009,
                    0.0009,
                    0.0009,
                    0.0009,
                    0.0008,
                    0.0008,
                    0.0008,
                    0.0008,
                    0.0008,
                    0.0008,
                    0.0007,
                    0.0007,
                    0.0007,
                    0.0007,
                    0.0007,
                    0.0007,
                    0.0007,
                    0.0007,
                    0.0007,
                    0.0007,
                    0.0006,
                    0.0006,
                    0.0006,
                    0.0006,
                    0.0005,
                    0.0005,
                    0.0005,
                    0.0005,
                    0.0004,
                    0.0004,
                    0.0004,
                    0.0004,
                    0.0004,
                    0.0004,
                    0.0004,
                    0.0003,
                    0.0003,
                    0.0003,
                    0.0003,
                    0.0003,
                    0.0003,
                    0.0003,
                    0.0003,
                    0.0003,
                    0.0003,
                    0.0003,
                    0.0002,
                    0.0002,
                    0.0002,
                    0.0002,
                    0.0002,
                    0.0002,
                    0.0002,
                    0.0002,
                    0.0002,
                    0.0001,
                    0.0001,
                    0.0001,
                    0.0001,
                    0.0001,
                    0.0001,
                    0.0001,
                    0.0001,
                    0.0001,
                    0.0001,
                    0.0001,
                    0.0001,
                    0.0001,
                    0.0001,
                    0.0001,
                    0.0001,
                    0.0001,
                    0.0001,
                    0,
                    0,
                    0,
                    0,
                    0,
                    0,
                    0,
                    0,
                    0,
                    0,
                    0,
                    0,
                    0,
                    0,
                    0,
                    0,
                    0,
                    0,
                    0,
                    0,
                    0,
                    0,
                    0,
                    0,
                    0,
                    0,
                    0,
                    0,
                    0,
                    0,
                    0,
                    0,
                    0,
                    0,
                    0,
                    0,
                    0,
                    0,
                    0,
                    0,
                    0,
                    0,
                    0,
                    0,
                    0,
                    0,
                    0,
                    0,
                    0,
                    0,
                    0,
                    null,
                    null,
                    null,
                    null,
                    null,
                    null
                  ]
                }
              ],
              "layout": {
                "coloraxis": {
                  "colorbar": {
                    "title": {
                      "text": "worldPercentage"
                    }
                  },
                  "colorscale": [
                    [
                      0,
                      "#440154"
                    ],
                    [
                      0.1111111111111111,
                      "#482878"
                    ],
                    [
                      0.2222222222222222,
                      "#3e4989"
                    ],
                    [
                      0.3333333333333333,
                      "#31688e"
                    ],
                    [
                      0.4444444444444444,
                      "#26828e"
                    ],
                    [
                      0.5555555555555556,
                      "#1f9e89"
                    ],
                    [
                      0.6666666666666666,
                      "#35b779"
                    ],
                    [
                      0.7777777777777778,
                      "#6ece58"
                    ],
                    [
                      0.8888888888888888,
                      "#b5de2b"
                    ],
                    [
                      1,
                      "#fde725"
                    ]
                  ]
                },
                "geo": {
                  "center": {},
                  "domain": {
                    "x": [
                      0,
                      1
                    ],
                    "y": [
                      0,
                      1
                    ]
                  }
                },
                "legend": {
                  "tracegroupgap": 0
                },
                "template": {
                  "data": {
                    "bar": [
                      {
                        "error_x": {
                          "color": "#2a3f5f"
                        },
                        "error_y": {
                          "color": "#2a3f5f"
                        },
                        "marker": {
                          "line": {
                            "color": "#E5ECF6",
                            "width": 0.5
                          },
                          "pattern": {
                            "fillmode": "overlay",
                            "size": 10,
                            "solidity": 0.2
                          }
                        },
                        "type": "bar"
                      }
                    ],
                    "barpolar": [
                      {
                        "marker": {
                          "line": {
                            "color": "#E5ECF6",
                            "width": 0.5
                          },
                          "pattern": {
                            "fillmode": "overlay",
                            "size": 10,
                            "solidity": 0.2
                          }
                        },
                        "type": "barpolar"
                      }
                    ],
                    "carpet": [
                      {
                        "aaxis": {
                          "endlinecolor": "#2a3f5f",
                          "gridcolor": "white",
                          "linecolor": "white",
                          "minorgridcolor": "white",
                          "startlinecolor": "#2a3f5f"
                        },
                        "baxis": {
                          "endlinecolor": "#2a3f5f",
                          "gridcolor": "white",
                          "linecolor": "white",
                          "minorgridcolor": "white",
                          "startlinecolor": "#2a3f5f"
                        },
                        "type": "carpet"
                      }
                    ],
                    "choropleth": [
                      {
                        "colorbar": {
                          "outlinewidth": 0,
                          "ticks": ""
                        },
                        "type": "choropleth"
                      }
                    ],
                    "contour": [
                      {
                        "colorbar": {
                          "outlinewidth": 0,
                          "ticks": ""
                        },
                        "colorscale": [
                          [
                            0,
                            "#0d0887"
                          ],
                          [
                            0.1111111111111111,
                            "#46039f"
                          ],
                          [
                            0.2222222222222222,
                            "#7201a8"
                          ],
                          [
                            0.3333333333333333,
                            "#9c179e"
                          ],
                          [
                            0.4444444444444444,
                            "#bd3786"
                          ],
                          [
                            0.5555555555555556,
                            "#d8576b"
                          ],
                          [
                            0.6666666666666666,
                            "#ed7953"
                          ],
                          [
                            0.7777777777777778,
                            "#fb9f3a"
                          ],
                          [
                            0.8888888888888888,
                            "#fdca26"
                          ],
                          [
                            1,
                            "#f0f921"
                          ]
                        ],
                        "type": "contour"
                      }
                    ],
                    "contourcarpet": [
                      {
                        "colorbar": {
                          "outlinewidth": 0,
                          "ticks": ""
                        },
                        "type": "contourcarpet"
                      }
                    ],
                    "heatmap": [
                      {
                        "colorbar": {
                          "outlinewidth": 0,
                          "ticks": ""
                        },
                        "colorscale": [
                          [
                            0,
                            "#0d0887"
                          ],
                          [
                            0.1111111111111111,
                            "#46039f"
                          ],
                          [
                            0.2222222222222222,
                            "#7201a8"
                          ],
                          [
                            0.3333333333333333,
                            "#9c179e"
                          ],
                          [
                            0.4444444444444444,
                            "#bd3786"
                          ],
                          [
                            0.5555555555555556,
                            "#d8576b"
                          ],
                          [
                            0.6666666666666666,
                            "#ed7953"
                          ],
                          [
                            0.7777777777777778,
                            "#fb9f3a"
                          ],
                          [
                            0.8888888888888888,
                            "#fdca26"
                          ],
                          [
                            1,
                            "#f0f921"
                          ]
                        ],
                        "type": "heatmap"
                      }
                    ],
                    "heatmapgl": [
                      {
                        "colorbar": {
                          "outlinewidth": 0,
                          "ticks": ""
                        },
                        "colorscale": [
                          [
                            0,
                            "#0d0887"
                          ],
                          [
                            0.1111111111111111,
                            "#46039f"
                          ],
                          [
                            0.2222222222222222,
                            "#7201a8"
                          ],
                          [
                            0.3333333333333333,
                            "#9c179e"
                          ],
                          [
                            0.4444444444444444,
                            "#bd3786"
                          ],
                          [
                            0.5555555555555556,
                            "#d8576b"
                          ],
                          [
                            0.6666666666666666,
                            "#ed7953"
                          ],
                          [
                            0.7777777777777778,
                            "#fb9f3a"
                          ],
                          [
                            0.8888888888888888,
                            "#fdca26"
                          ],
                          [
                            1,
                            "#f0f921"
                          ]
                        ],
                        "type": "heatmapgl"
                      }
                    ],
                    "histogram": [
                      {
                        "marker": {
                          "pattern": {
                            "fillmode": "overlay",
                            "size": 10,
                            "solidity": 0.2
                          }
                        },
                        "type": "histogram"
                      }
                    ],
                    "histogram2d": [
                      {
                        "colorbar": {
                          "outlinewidth": 0,
                          "ticks": ""
                        },
                        "colorscale": [
                          [
                            0,
                            "#0d0887"
                          ],
                          [
                            0.1111111111111111,
                            "#46039f"
                          ],
                          [
                            0.2222222222222222,
                            "#7201a8"
                          ],
                          [
                            0.3333333333333333,
                            "#9c179e"
                          ],
                          [
                            0.4444444444444444,
                            "#bd3786"
                          ],
                          [
                            0.5555555555555556,
                            "#d8576b"
                          ],
                          [
                            0.6666666666666666,
                            "#ed7953"
                          ],
                          [
                            0.7777777777777778,
                            "#fb9f3a"
                          ],
                          [
                            0.8888888888888888,
                            "#fdca26"
                          ],
                          [
                            1,
                            "#f0f921"
                          ]
                        ],
                        "type": "histogram2d"
                      }
                    ],
                    "histogram2dcontour": [
                      {
                        "colorbar": {
                          "outlinewidth": 0,
                          "ticks": ""
                        },
                        "colorscale": [
                          [
                            0,
                            "#0d0887"
                          ],
                          [
                            0.1111111111111111,
                            "#46039f"
                          ],
                          [
                            0.2222222222222222,
                            "#7201a8"
                          ],
                          [
                            0.3333333333333333,
                            "#9c179e"
                          ],
                          [
                            0.4444444444444444,
                            "#bd3786"
                          ],
                          [
                            0.5555555555555556,
                            "#d8576b"
                          ],
                          [
                            0.6666666666666666,
                            "#ed7953"
                          ],
                          [
                            0.7777777777777778,
                            "#fb9f3a"
                          ],
                          [
                            0.8888888888888888,
                            "#fdca26"
                          ],
                          [
                            1,
                            "#f0f921"
                          ]
                        ],
                        "type": "histogram2dcontour"
                      }
                    ],
                    "mesh3d": [
                      {
                        "colorbar": {
                          "outlinewidth": 0,
                          "ticks": ""
                        },
                        "type": "mesh3d"
                      }
                    ],
                    "parcoords": [
                      {
                        "line": {
                          "colorbar": {
                            "outlinewidth": 0,
                            "ticks": ""
                          }
                        },
                        "type": "parcoords"
                      }
                    ],
                    "pie": [
                      {
                        "automargin": true,
                        "type": "pie"
                      }
                    ],
                    "scatter": [
                      {
                        "fillpattern": {
                          "fillmode": "overlay",
                          "size": 10,
                          "solidity": 0.2
                        },
                        "type": "scatter"
                      }
                    ],
                    "scatter3d": [
                      {
                        "line": {
                          "colorbar": {
                            "outlinewidth": 0,
                            "ticks": ""
                          }
                        },
                        "marker": {
                          "colorbar": {
                            "outlinewidth": 0,
                            "ticks": ""
                          }
                        },
                        "type": "scatter3d"
                      }
                    ],
                    "scattercarpet": [
                      {
                        "marker": {
                          "colorbar": {
                            "outlinewidth": 0,
                            "ticks": ""
                          }
                        },
                        "type": "scattercarpet"
                      }
                    ],
                    "scattergeo": [
                      {
                        "marker": {
                          "colorbar": {
                            "outlinewidth": 0,
                            "ticks": ""
                          }
                        },
                        "type": "scattergeo"
                      }
                    ],
                    "scattergl": [
                      {
                        "marker": {
                          "colorbar": {
                            "outlinewidth": 0,
                            "ticks": ""
                          }
                        },
                        "type": "scattergl"
                      }
                    ],
                    "scattermapbox": [
                      {
                        "marker": {
                          "colorbar": {
                            "outlinewidth": 0,
                            "ticks": ""
                          }
                        },
                        "type": "scattermapbox"
                      }
                    ],
                    "scatterpolar": [
                      {
                        "marker": {
                          "colorbar": {
                            "outlinewidth": 0,
                            "ticks": ""
                          }
                        },
                        "type": "scatterpolar"
                      }
                    ],
                    "scatterpolargl": [
                      {
                        "marker": {
                          "colorbar": {
                            "outlinewidth": 0,
                            "ticks": ""
                          }
                        },
                        "type": "scatterpolargl"
                      }
                    ],
                    "scatterternary": [
                      {
                        "marker": {
                          "colorbar": {
                            "outlinewidth": 0,
                            "ticks": ""
                          }
                        },
                        "type": "scatterternary"
                      }
                    ],
                    "surface": [
                      {
                        "colorbar": {
                          "outlinewidth": 0,
                          "ticks": ""
                        },
                        "colorscale": [
                          [
                            0,
                            "#0d0887"
                          ],
                          [
                            0.1111111111111111,
                            "#46039f"
                          ],
                          [
                            0.2222222222222222,
                            "#7201a8"
                          ],
                          [
                            0.3333333333333333,
                            "#9c179e"
                          ],
                          [
                            0.4444444444444444,
                            "#bd3786"
                          ],
                          [
                            0.5555555555555556,
                            "#d8576b"
                          ],
                          [
                            0.6666666666666666,
                            "#ed7953"
                          ],
                          [
                            0.7777777777777778,
                            "#fb9f3a"
                          ],
                          [
                            0.8888888888888888,
                            "#fdca26"
                          ],
                          [
                            1,
                            "#f0f921"
                          ]
                        ],
                        "type": "surface"
                      }
                    ],
                    "table": [
                      {
                        "cells": {
                          "fill": {
                            "color": "#EBF0F8"
                          },
                          "line": {
                            "color": "white"
                          }
                        },
                        "header": {
                          "fill": {
                            "color": "#C8D4E3"
                          },
                          "line": {
                            "color": "white"
                          }
                        },
                        "type": "table"
                      }
                    ]
                  },
                  "layout": {
                    "annotationdefaults": {
                      "arrowcolor": "#2a3f5f",
                      "arrowhead": 0,
                      "arrowwidth": 1
                    },
                    "autotypenumbers": "strict",
                    "coloraxis": {
                      "colorbar": {
                        "outlinewidth": 0,
                        "ticks": ""
                      }
                    },
                    "colorscale": {
                      "diverging": [
                        [
                          0,
                          "#8e0152"
                        ],
                        [
                          0.1,
                          "#c51b7d"
                        ],
                        [
                          0.2,
                          "#de77ae"
                        ],
                        [
                          0.3,
                          "#f1b6da"
                        ],
                        [
                          0.4,
                          "#fde0ef"
                        ],
                        [
                          0.5,
                          "#f7f7f7"
                        ],
                        [
                          0.6,
                          "#e6f5d0"
                        ],
                        [
                          0.7,
                          "#b8e186"
                        ],
                        [
                          0.8,
                          "#7fbc41"
                        ],
                        [
                          0.9,
                          "#4d9221"
                        ],
                        [
                          1,
                          "#276419"
                        ]
                      ],
                      "sequential": [
                        [
                          0,
                          "#0d0887"
                        ],
                        [
                          0.1111111111111111,
                          "#46039f"
                        ],
                        [
                          0.2222222222222222,
                          "#7201a8"
                        ],
                        [
                          0.3333333333333333,
                          "#9c179e"
                        ],
                        [
                          0.4444444444444444,
                          "#bd3786"
                        ],
                        [
                          0.5555555555555556,
                          "#d8576b"
                        ],
                        [
                          0.6666666666666666,
                          "#ed7953"
                        ],
                        [
                          0.7777777777777778,
                          "#fb9f3a"
                        ],
                        [
                          0.8888888888888888,
                          "#fdca26"
                        ],
                        [
                          1,
                          "#f0f921"
                        ]
                      ],
                      "sequentialminus": [
                        [
                          0,
                          "#0d0887"
                        ],
                        [
                          0.1111111111111111,
                          "#46039f"
                        ],
                        [
                          0.2222222222222222,
                          "#7201a8"
                        ],
                        [
                          0.3333333333333333,
                          "#9c179e"
                        ],
                        [
                          0.4444444444444444,
                          "#bd3786"
                        ],
                        [
                          0.5555555555555556,
                          "#d8576b"
                        ],
                        [
                          0.6666666666666666,
                          "#ed7953"
                        ],
                        [
                          0.7777777777777778,
                          "#fb9f3a"
                        ],
                        [
                          0.8888888888888888,
                          "#fdca26"
                        ],
                        [
                          1,
                          "#f0f921"
                        ]
                      ]
                    },
                    "colorway": [
                      "#636efa",
                      "#EF553B",
                      "#00cc96",
                      "#ab63fa",
                      "#FFA15A",
                      "#19d3f3",
                      "#FF6692",
                      "#B6E880",
                      "#FF97FF",
                      "#FECB52"
                    ],
                    "font": {
                      "color": "#2a3f5f"
                    },
                    "geo": {
                      "bgcolor": "white",
                      "lakecolor": "white",
                      "landcolor": "#E5ECF6",
                      "showlakes": true,
                      "showland": true,
                      "subunitcolor": "white"
                    },
                    "hoverlabel": {
                      "align": "left"
                    },
                    "hovermode": "closest",
                    "mapbox": {
                      "style": "light"
                    },
                    "paper_bgcolor": "white",
                    "plot_bgcolor": "#E5ECF6",
                    "polar": {
                      "angularaxis": {
                        "gridcolor": "white",
                        "linecolor": "white",
                        "ticks": ""
                      },
                      "bgcolor": "#E5ECF6",
                      "radialaxis": {
                        "gridcolor": "white",
                        "linecolor": "white",
                        "ticks": ""
                      }
                    },
                    "scene": {
                      "xaxis": {
                        "backgroundcolor": "#E5ECF6",
                        "gridcolor": "white",
                        "gridwidth": 2,
                        "linecolor": "white",
                        "showbackground": true,
                        "ticks": "",
                        "zerolinecolor": "white"
                      },
                      "yaxis": {
                        "backgroundcolor": "#E5ECF6",
                        "gridcolor": "white",
                        "gridwidth": 2,
                        "linecolor": "white",
                        "showbackground": true,
                        "ticks": "",
                        "zerolinecolor": "white"
                      },
                      "zaxis": {
                        "backgroundcolor": "#E5ECF6",
                        "gridcolor": "white",
                        "gridwidth": 2,
                        "linecolor": "white",
                        "showbackground": true,
                        "ticks": "",
                        "zerolinecolor": "white"
                      }
                    },
                    "shapedefaults": {
                      "line": {
                        "color": "#2a3f5f"
                      }
                    },
                    "ternary": {
                      "aaxis": {
                        "gridcolor": "white",
                        "linecolor": "white",
                        "ticks": ""
                      },
                      "baxis": {
                        "gridcolor": "white",
                        "linecolor": "white",
                        "ticks": ""
                      },
                      "bgcolor": "#E5ECF6",
                      "caxis": {
                        "gridcolor": "white",
                        "linecolor": "white",
                        "ticks": ""
                      }
                    },
                    "title": {
                      "x": 0.05
                    },
                    "xaxis": {
                      "automargin": true,
                      "gridcolor": "white",
                      "linecolor": "white",
                      "ticks": "",
                      "title": {
                        "standoff": 15
                      },
                      "zerolinecolor": "white",
                      "zerolinewidth": 2
                    },
                    "yaxis": {
                      "automargin": true,
                      "gridcolor": "white",
                      "linecolor": "white",
                      "ticks": "",
                      "title": {
                        "standoff": 15
                      },
                      "zerolinecolor": "white",
                      "zerolinewidth": 2
                    }
                  }
                },
                "title": {
                  "text": "World Population Percentage"
                }
              }
            },
            "text/html": [
              "<div>                            <div id=\"a1b5acd4-c1ab-44db-b91e-60ce2b85441c\" class=\"plotly-graph-div\" style=\"height:525px; width:100%;\"></div>            <script type=\"text/javascript\">                require([\"plotly\"], function(Plotly) {                    window.PLOTLYENV=window.PLOTLYENV || {};                                    if (document.getElementById(\"a1b5acd4-c1ab-44db-b91e-60ce2b85441c\")) {                    Plotly.newPlot(                        \"a1b5acd4-c1ab-44db-b91e-60ce2b85441c\",                        [{\"coloraxis\":\"coloraxis\",\"geo\":\"geo\",\"hovertemplate\":\"<b>%{hovertext}</b><br><br>country=%{location}<br>worldPercentage=%{z}<extra></extra>\",\"hovertext\":[\"India\",\"China\",\"United States\",\"Indonesia\",\"Pakistan\",\"Nigeria\",\"Brazil\",\"Bangladesh\",\"Russia\",\"Mexico\",\"Ethiopia\",\"Japan\",\"Philippines\",\"Egypt\",\"DR Congo\",\"Vietnam\",\"Iran\",\"Turkey\",\"Germany\",\"Thailand\",\"United Kingdom\",\"Tanzania\",\"France\",\"South Africa\",\"Italy\",\"Kenya\",\"Myanmar\",\"Colombia\",\"South Korea\",\"Uganda\",\"Sudan\",\"Spain\",\"Argentina\",\"Algeria\",\"Iraq\",\"Afghanistan\",\"Poland\",\"Canada\",\"Morocco\",\"Saudi Arabia\",\"Ukraine\",\"Angola\",\"Uzbekistan\",\"Yemen\",\"Peru\",\"Malaysia\",\"Ghana\",\"Mozambique\",\"Nepal\",\"Madagascar\",\"Ivory Coast\",\"Venezuela\",\"Cameroon\",\"Niger\",\"Australia\",\"North Korea\",\"Taiwan\",\"Mali\",\"Burkina Faso\",\"Syria\",\"Sri Lanka\",\"Malawi\",\"Zambia\",\"Romania\",\"Chile\",\"Kazakhstan\",\"Chad\",\"Ecuador\",\"Somalia\",\"Guatemala\",\"Senegal\",\"Netherlands\",\"Cambodia\",\"Zimbabwe\",\"Guinea\",\"Rwanda\",\"Benin\",\"Burundi\",\"Tunisia\",\"Bolivia\",\"Haiti\",\"Belgium\",\"Jordan\",\"Dominican Republic\",\"Cuba\",\"South Sudan\",\"Sweden\",\"Honduras\",\"Czech Republic\",\"Azerbaijan\",\"Greece\",\"Papua New Guinea\",\"Portugal\",\"Hungary\",\"Tajikistan\",\"United Arab Emirates\",\"Belarus\",\"Israel\",\"Togo\",\"Austria\",\"Switzerland\",\"Sierra Leone\",\"Laos\",\"Hong Kong\",\"Serbia\",\"Nicaragua\",\"Libya\",\"Paraguay\",\"Kyrgyzstan\",\"Bulgaria\",\"Turkmenistan\",\"El Salvador\",\"Republic of the Congo\",\"Singapore\",\"Denmark\",\"Slovakia\",\"Central African Republic\",\"Finland\",\"Norway\",\"Liberia\",\"Palestine\",\"Lebanon\",\"New Zealand\",\"Costa Rica\",\"Ireland\",\"Mauritania\",\"Oman\",\"Panama\",\"Kuwait\",\"Croatia\",\"Eritrea\",\"Georgia\",\"Mongolia\",\"Moldova\",\"Uruguay\",\"Puerto Rico\",\"Bosnia and Herzegovina\",\"Albania\",\"Jamaica\",\"Armenia\",\"Gambia\",\"Lithuania\",\"Qatar\",\"Botswana\",\"Namibia\",\"Gabon\",\"Lesotho\",\"Guinea-Bissau\",\"Slovenia\",\"North Macedonia\",\"Latvia\",\"Equatorial Guinea\",\"Trinidad and Tobago\",\"Bahrain\",\"Timor-Leste\",\"Estonia\",\"Mauritius\",\"Cyprus\",\"Eswatini\",\"Djibouti\",\"Reunion\",\"Fiji\",\"Comoros\",\"Guyana\",\"Bhutan\",\"Solomon Islands\",\"Macau\",\"Luxembourg\",\"Montenegro\",\"Suriname\",\"Cape Verde\",\"Western Sahara\",\"Malta\",\"Maldives\",\"Brunei\",\"Bahamas\",\"Belize\",\"Guadeloupe\",\"Iceland\",\"Martinique\",\"Mayotte\",\"Vanuatu\",\"French Guiana\",\"French Polynesia\",\"New Caledonia\",\"Barbados\",\"Sao Tome and Principe\",\"Samoa\",\"Curacao\",\"Saint Lucia\",\"Guam\",\"Kiribati\",\"Grenada\",\"Micronesia\",\"Jersey\",\"Tonga\",\"Seychelles\",\"Aruba\",\"Saint Vincent and the Grenadines\",\"United States Virgin Islands\",\"Antigua and Barbuda\",\"Isle of Man\",\"Andorra\",\"Dominica\",\"Cayman Islands\",\"Bermuda\",\"Guernsey\",\"Greenland\",\"Faroe Islands\",\"Northern Mariana Islands\",\"Saint Kitts and Nevis\",\"Turks and Caicos Islands\",\"Sint Maarten\",\"American Samoa\",\"Marshall Islands\",\"Liechtenstein\",\"Monaco\",\"San Marino\",\"Gibraltar\",\"Saint Martin\",\"British Virgin Islands\",\"Palau\",\"Cook Islands\",\"Anguilla\",\"Nauru\",\"Wallis and Futuna\",\"Tuvalu\",\"Saint Barthelemy\",\"Saint Pierre and Miquelon\",\"Montserrat\",\"Falkland Islands\",\"Niue\",\"Tokelau\",\"Vatican City\"],\"locationmode\":\"country names\",\"locations\":[\"India\",\"China\",\"United States\",\"Indonesia\",\"Pakistan\",\"Nigeria\",\"Brazil\",\"Bangladesh\",\"Russia\",\"Mexico\",\"Ethiopia\",\"Japan\",\"Philippines\",\"Egypt\",\"DR Congo\",\"Vietnam\",\"Iran\",\"Turkey\",\"Germany\",\"Thailand\",\"United Kingdom\",\"Tanzania\",\"France\",\"South Africa\",\"Italy\",\"Kenya\",\"Myanmar\",\"Colombia\",\"South Korea\",\"Uganda\",\"Sudan\",\"Spain\",\"Argentina\",\"Algeria\",\"Iraq\",\"Afghanistan\",\"Poland\",\"Canada\",\"Morocco\",\"Saudi Arabia\",\"Ukraine\",\"Angola\",\"Uzbekistan\",\"Yemen\",\"Peru\",\"Malaysia\",\"Ghana\",\"Mozambique\",\"Nepal\",\"Madagascar\",\"Ivory Coast\",\"Venezuela\",\"Cameroon\",\"Niger\",\"Australia\",\"North Korea\",\"Taiwan\",\"Mali\",\"Burkina Faso\",\"Syria\",\"Sri Lanka\",\"Malawi\",\"Zambia\",\"Romania\",\"Chile\",\"Kazakhstan\",\"Chad\",\"Ecuador\",\"Somalia\",\"Guatemala\",\"Senegal\",\"Netherlands\",\"Cambodia\",\"Zimbabwe\",\"Guinea\",\"Rwanda\",\"Benin\",\"Burundi\",\"Tunisia\",\"Bolivia\",\"Haiti\",\"Belgium\",\"Jordan\",\"Dominican Republic\",\"Cuba\",\"South Sudan\",\"Sweden\",\"Honduras\",\"Czech Republic\",\"Azerbaijan\",\"Greece\",\"Papua New Guinea\",\"Portugal\",\"Hungary\",\"Tajikistan\",\"United Arab Emirates\",\"Belarus\",\"Israel\",\"Togo\",\"Austria\",\"Switzerland\",\"Sierra Leone\",\"Laos\",\"Hong Kong\",\"Serbia\",\"Nicaragua\",\"Libya\",\"Paraguay\",\"Kyrgyzstan\",\"Bulgaria\",\"Turkmenistan\",\"El Salvador\",\"Republic of the Congo\",\"Singapore\",\"Denmark\",\"Slovakia\",\"Central African Republic\",\"Finland\",\"Norway\",\"Liberia\",\"Palestine\",\"Lebanon\",\"New Zealand\",\"Costa Rica\",\"Ireland\",\"Mauritania\",\"Oman\",\"Panama\",\"Kuwait\",\"Croatia\",\"Eritrea\",\"Georgia\",\"Mongolia\",\"Moldova\",\"Uruguay\",\"Puerto Rico\",\"Bosnia and Herzegovina\",\"Albania\",\"Jamaica\",\"Armenia\",\"Gambia\",\"Lithuania\",\"Qatar\",\"Botswana\",\"Namibia\",\"Gabon\",\"Lesotho\",\"Guinea-Bissau\",\"Slovenia\",\"North Macedonia\",\"Latvia\",\"Equatorial Guinea\",\"Trinidad and Tobago\",\"Bahrain\",\"Timor-Leste\",\"Estonia\",\"Mauritius\",\"Cyprus\",\"Eswatini\",\"Djibouti\",\"Reunion\",\"Fiji\",\"Comoros\",\"Guyana\",\"Bhutan\",\"Solomon Islands\",\"Macau\",\"Luxembourg\",\"Montenegro\",\"Suriname\",\"Cape Verde\",\"Western Sahara\",\"Malta\",\"Maldives\",\"Brunei\",\"Bahamas\",\"Belize\",\"Guadeloupe\",\"Iceland\",\"Martinique\",\"Mayotte\",\"Vanuatu\",\"French Guiana\",\"French Polynesia\",\"New Caledonia\",\"Barbados\",\"Sao Tome and Principe\",\"Samoa\",\"Curacao\",\"Saint Lucia\",\"Guam\",\"Kiribati\",\"Grenada\",\"Micronesia\",\"Jersey\",\"Tonga\",\"Seychelles\",\"Aruba\",\"Saint Vincent and the Grenadines\",\"United States Virgin Islands\",\"Antigua and Barbuda\",\"Isle of Man\",\"Andorra\",\"Dominica\",\"Cayman Islands\",\"Bermuda\",\"Guernsey\",\"Greenland\",\"Faroe Islands\",\"Northern Mariana Islands\",\"Saint Kitts and Nevis\",\"Turks and Caicos Islands\",\"Sint Maarten\",\"American Samoa\",\"Marshall Islands\",\"Liechtenstein\",\"Monaco\",\"San Marino\",\"Gibraltar\",\"Saint Martin\",\"British Virgin Islands\",\"Palau\",\"Cook Islands\",\"Anguilla\",\"Nauru\",\"Wallis and Futuna\",\"Tuvalu\",\"Saint Barthelemy\",\"Saint Pierre and Miquelon\",\"Montserrat\",\"Falkland Islands\",\"Niue\",\"Tokelau\",\"Vatican City\"],\"name\":\"\",\"z\":[0.1785,0.1781,0.0425,0.0347,0.03,0.028,0.027,0.0216,0.018,0.016,0.0158,0.0154,0.0147,0.0141,0.0128,0.0123,0.0111,0.0107,0.0104,0.009,0.0085,0.0084,0.0081,0.0075,0.0074,0.0069,0.0068,0.0065,0.0065,0.0061,0.006,0.0059,0.0057,0.0057,0.0057,0.0053,0.0051,0.0048,0.0047,0.0046,0.0046,0.0046,0.0044,0.0043,0.0043,0.0043,0.0043,0.0042,0.0039,0.0038,0.0036,0.0036,0.0036,0.0034,0.0033,0.0033,0.003,0.0029,0.0029,0.0029,0.0027,0.0026,0.0026,0.0025,0.0025,0.0024,0.0023,0.0023,0.0023,0.0023,0.0022,0.0022,0.0021,0.0021,0.0018,0.0018,0.0017,0.0017,0.0016,0.0015,0.0015,0.0015,0.0014,0.0014,0.0014,0.0014,0.0013,0.0013,0.0013,0.0013,0.0013,0.0013,0.0013,0.0013,0.0013,0.0012,0.0012,0.0011,0.0011,0.0011,0.0011,0.0011,0.001,0.0009,0.0009,0.0009,0.0009,0.0009,0.0008,0.0008,0.0008,0.0008,0.0008,0.0008,0.0007,0.0007,0.0007,0.0007,0.0007,0.0007,0.0007,0.0007,0.0007,0.0007,0.0006,0.0006,0.0006,0.0006,0.0005,0.0005,0.0005,0.0005,0.0004,0.0004,0.0004,0.0004,0.0004,0.0004,0.0004,0.0003,0.0003,0.0003,0.0003,0.0003,0.0003,0.0003,0.0003,0.0003,0.0003,0.0003,0.0002,0.0002,0.0002,0.0002,0.0002,0.0002,0.0002,0.0002,0.0002,0.0001,0.0001,0.0001,0.0001,0.0001,0.0001,0.0001,0.0001,0.0001,0.0001,0.0001,0.0001,0.0001,0.0001,0.0001,0.0001,0.0001,0.0001,0.0,0.0,0.0,0.0,0.0,0.0,0.0,0.0,0.0,0.0,0.0,0.0,0.0,0.0,0.0,0.0,0.0,0.0,0.0,0.0,0.0,0.0,0.0,0.0,0.0,0.0,0.0,0.0,0.0,0.0,0.0,0.0,0.0,0.0,0.0,0.0,0.0,0.0,0.0,0.0,0.0,0.0,0.0,0.0,0.0,0.0,0.0,0.0,0.0,0.0,0.0,null,null,null,null,null,null],\"type\":\"choropleth\"}],                        {\"template\":{\"data\":{\"histogram2dcontour\":[{\"type\":\"histogram2dcontour\",\"colorbar\":{\"outlinewidth\":0,\"ticks\":\"\"},\"colorscale\":[[0.0,\"#0d0887\"],[0.1111111111111111,\"#46039f\"],[0.2222222222222222,\"#7201a8\"],[0.3333333333333333,\"#9c179e\"],[0.4444444444444444,\"#bd3786\"],[0.5555555555555556,\"#d8576b\"],[0.6666666666666666,\"#ed7953\"],[0.7777777777777778,\"#fb9f3a\"],[0.8888888888888888,\"#fdca26\"],[1.0,\"#f0f921\"]]}],\"choropleth\":[{\"type\":\"choropleth\",\"colorbar\":{\"outlinewidth\":0,\"ticks\":\"\"}}],\"histogram2d\":[{\"type\":\"histogram2d\",\"colorbar\":{\"outlinewidth\":0,\"ticks\":\"\"},\"colorscale\":[[0.0,\"#0d0887\"],[0.1111111111111111,\"#46039f\"],[0.2222222222222222,\"#7201a8\"],[0.3333333333333333,\"#9c179e\"],[0.4444444444444444,\"#bd3786\"],[0.5555555555555556,\"#d8576b\"],[0.6666666666666666,\"#ed7953\"],[0.7777777777777778,\"#fb9f3a\"],[0.8888888888888888,\"#fdca26\"],[1.0,\"#f0f921\"]]}],\"heatmap\":[{\"type\":\"heatmap\",\"colorbar\":{\"outlinewidth\":0,\"ticks\":\"\"},\"colorscale\":[[0.0,\"#0d0887\"],[0.1111111111111111,\"#46039f\"],[0.2222222222222222,\"#7201a8\"],[0.3333333333333333,\"#9c179e\"],[0.4444444444444444,\"#bd3786\"],[0.5555555555555556,\"#d8576b\"],[0.6666666666666666,\"#ed7953\"],[0.7777777777777778,\"#fb9f3a\"],[0.8888888888888888,\"#fdca26\"],[1.0,\"#f0f921\"]]}],\"heatmapgl\":[{\"type\":\"heatmapgl\",\"colorbar\":{\"outlinewidth\":0,\"ticks\":\"\"},\"colorscale\":[[0.0,\"#0d0887\"],[0.1111111111111111,\"#46039f\"],[0.2222222222222222,\"#7201a8\"],[0.3333333333333333,\"#9c179e\"],[0.4444444444444444,\"#bd3786\"],[0.5555555555555556,\"#d8576b\"],[0.6666666666666666,\"#ed7953\"],[0.7777777777777778,\"#fb9f3a\"],[0.8888888888888888,\"#fdca26\"],[1.0,\"#f0f921\"]]}],\"contourcarpet\":[{\"type\":\"contourcarpet\",\"colorbar\":{\"outlinewidth\":0,\"ticks\":\"\"}}],\"contour\":[{\"type\":\"contour\",\"colorbar\":{\"outlinewidth\":0,\"ticks\":\"\"},\"colorscale\":[[0.0,\"#0d0887\"],[0.1111111111111111,\"#46039f\"],[0.2222222222222222,\"#7201a8\"],[0.3333333333333333,\"#9c179e\"],[0.4444444444444444,\"#bd3786\"],[0.5555555555555556,\"#d8576b\"],[0.6666666666666666,\"#ed7953\"],[0.7777777777777778,\"#fb9f3a\"],[0.8888888888888888,\"#fdca26\"],[1.0,\"#f0f921\"]]}],\"surface\":[{\"type\":\"surface\",\"colorbar\":{\"outlinewidth\":0,\"ticks\":\"\"},\"colorscale\":[[0.0,\"#0d0887\"],[0.1111111111111111,\"#46039f\"],[0.2222222222222222,\"#7201a8\"],[0.3333333333333333,\"#9c179e\"],[0.4444444444444444,\"#bd3786\"],[0.5555555555555556,\"#d8576b\"],[0.6666666666666666,\"#ed7953\"],[0.7777777777777778,\"#fb9f3a\"],[0.8888888888888888,\"#fdca26\"],[1.0,\"#f0f921\"]]}],\"mesh3d\":[{\"type\":\"mesh3d\",\"colorbar\":{\"outlinewidth\":0,\"ticks\":\"\"}}],\"scatter\":[{\"fillpattern\":{\"fillmode\":\"overlay\",\"size\":10,\"solidity\":0.2},\"type\":\"scatter\"}],\"parcoords\":[{\"type\":\"parcoords\",\"line\":{\"colorbar\":{\"outlinewidth\":0,\"ticks\":\"\"}}}],\"scatterpolargl\":[{\"type\":\"scatterpolargl\",\"marker\":{\"colorbar\":{\"outlinewidth\":0,\"ticks\":\"\"}}}],\"bar\":[{\"error_x\":{\"color\":\"#2a3f5f\"},\"error_y\":{\"color\":\"#2a3f5f\"},\"marker\":{\"line\":{\"color\":\"#E5ECF6\",\"width\":0.5},\"pattern\":{\"fillmode\":\"overlay\",\"size\":10,\"solidity\":0.2}},\"type\":\"bar\"}],\"scattergeo\":[{\"type\":\"scattergeo\",\"marker\":{\"colorbar\":{\"outlinewidth\":0,\"ticks\":\"\"}}}],\"scatterpolar\":[{\"type\":\"scatterpolar\",\"marker\":{\"colorbar\":{\"outlinewidth\":0,\"ticks\":\"\"}}}],\"histogram\":[{\"marker\":{\"pattern\":{\"fillmode\":\"overlay\",\"size\":10,\"solidity\":0.2}},\"type\":\"histogram\"}],\"scattergl\":[{\"type\":\"scattergl\",\"marker\":{\"colorbar\":{\"outlinewidth\":0,\"ticks\":\"\"}}}],\"scatter3d\":[{\"type\":\"scatter3d\",\"line\":{\"colorbar\":{\"outlinewidth\":0,\"ticks\":\"\"}},\"marker\":{\"colorbar\":{\"outlinewidth\":0,\"ticks\":\"\"}}}],\"scattermapbox\":[{\"type\":\"scattermapbox\",\"marker\":{\"colorbar\":{\"outlinewidth\":0,\"ticks\":\"\"}}}],\"scatterternary\":[{\"type\":\"scatterternary\",\"marker\":{\"colorbar\":{\"outlinewidth\":0,\"ticks\":\"\"}}}],\"scattercarpet\":[{\"type\":\"scattercarpet\",\"marker\":{\"colorbar\":{\"outlinewidth\":0,\"ticks\":\"\"}}}],\"carpet\":[{\"aaxis\":{\"endlinecolor\":\"#2a3f5f\",\"gridcolor\":\"white\",\"linecolor\":\"white\",\"minorgridcolor\":\"white\",\"startlinecolor\":\"#2a3f5f\"},\"baxis\":{\"endlinecolor\":\"#2a3f5f\",\"gridcolor\":\"white\",\"linecolor\":\"white\",\"minorgridcolor\":\"white\",\"startlinecolor\":\"#2a3f5f\"},\"type\":\"carpet\"}],\"table\":[{\"cells\":{\"fill\":{\"color\":\"#EBF0F8\"},\"line\":{\"color\":\"white\"}},\"header\":{\"fill\":{\"color\":\"#C8D4E3\"},\"line\":{\"color\":\"white\"}},\"type\":\"table\"}],\"barpolar\":[{\"marker\":{\"line\":{\"color\":\"#E5ECF6\",\"width\":0.5},\"pattern\":{\"fillmode\":\"overlay\",\"size\":10,\"solidity\":0.2}},\"type\":\"barpolar\"}],\"pie\":[{\"automargin\":true,\"type\":\"pie\"}]},\"layout\":{\"autotypenumbers\":\"strict\",\"colorway\":[\"#636efa\",\"#EF553B\",\"#00cc96\",\"#ab63fa\",\"#FFA15A\",\"#19d3f3\",\"#FF6692\",\"#B6E880\",\"#FF97FF\",\"#FECB52\"],\"font\":{\"color\":\"#2a3f5f\"},\"hovermode\":\"closest\",\"hoverlabel\":{\"align\":\"left\"},\"paper_bgcolor\":\"white\",\"plot_bgcolor\":\"#E5ECF6\",\"polar\":{\"bgcolor\":\"#E5ECF6\",\"angularaxis\":{\"gridcolor\":\"white\",\"linecolor\":\"white\",\"ticks\":\"\"},\"radialaxis\":{\"gridcolor\":\"white\",\"linecolor\":\"white\",\"ticks\":\"\"}},\"ternary\":{\"bgcolor\":\"#E5ECF6\",\"aaxis\":{\"gridcolor\":\"white\",\"linecolor\":\"white\",\"ticks\":\"\"},\"baxis\":{\"gridcolor\":\"white\",\"linecolor\":\"white\",\"ticks\":\"\"},\"caxis\":{\"gridcolor\":\"white\",\"linecolor\":\"white\",\"ticks\":\"\"}},\"coloraxis\":{\"colorbar\":{\"outlinewidth\":0,\"ticks\":\"\"}},\"colorscale\":{\"sequential\":[[0.0,\"#0d0887\"],[0.1111111111111111,\"#46039f\"],[0.2222222222222222,\"#7201a8\"],[0.3333333333333333,\"#9c179e\"],[0.4444444444444444,\"#bd3786\"],[0.5555555555555556,\"#d8576b\"],[0.6666666666666666,\"#ed7953\"],[0.7777777777777778,\"#fb9f3a\"],[0.8888888888888888,\"#fdca26\"],[1.0,\"#f0f921\"]],\"sequentialminus\":[[0.0,\"#0d0887\"],[0.1111111111111111,\"#46039f\"],[0.2222222222222222,\"#7201a8\"],[0.3333333333333333,\"#9c179e\"],[0.4444444444444444,\"#bd3786\"],[0.5555555555555556,\"#d8576b\"],[0.6666666666666666,\"#ed7953\"],[0.7777777777777778,\"#fb9f3a\"],[0.8888888888888888,\"#fdca26\"],[1.0,\"#f0f921\"]],\"diverging\":[[0,\"#8e0152\"],[0.1,\"#c51b7d\"],[0.2,\"#de77ae\"],[0.3,\"#f1b6da\"],[0.4,\"#fde0ef\"],[0.5,\"#f7f7f7\"],[0.6,\"#e6f5d0\"],[0.7,\"#b8e186\"],[0.8,\"#7fbc41\"],[0.9,\"#4d9221\"],[1,\"#276419\"]]},\"xaxis\":{\"gridcolor\":\"white\",\"linecolor\":\"white\",\"ticks\":\"\",\"title\":{\"standoff\":15},\"zerolinecolor\":\"white\",\"automargin\":true,\"zerolinewidth\":2},\"yaxis\":{\"gridcolor\":\"white\",\"linecolor\":\"white\",\"ticks\":\"\",\"title\":{\"standoff\":15},\"zerolinecolor\":\"white\",\"automargin\":true,\"zerolinewidth\":2},\"scene\":{\"xaxis\":{\"backgroundcolor\":\"#E5ECF6\",\"gridcolor\":\"white\",\"linecolor\":\"white\",\"showbackground\":true,\"ticks\":\"\",\"zerolinecolor\":\"white\",\"gridwidth\":2},\"yaxis\":{\"backgroundcolor\":\"#E5ECF6\",\"gridcolor\":\"white\",\"linecolor\":\"white\",\"showbackground\":true,\"ticks\":\"\",\"zerolinecolor\":\"white\",\"gridwidth\":2},\"zaxis\":{\"backgroundcolor\":\"#E5ECF6\",\"gridcolor\":\"white\",\"linecolor\":\"white\",\"showbackground\":true,\"ticks\":\"\",\"zerolinecolor\":\"white\",\"gridwidth\":2}},\"shapedefaults\":{\"line\":{\"color\":\"#2a3f5f\"}},\"annotationdefaults\":{\"arrowcolor\":\"#2a3f5f\",\"arrowhead\":0,\"arrowwidth\":1},\"geo\":{\"bgcolor\":\"white\",\"landcolor\":\"#E5ECF6\",\"subunitcolor\":\"white\",\"showland\":true,\"showlakes\":true,\"lakecolor\":\"white\"},\"title\":{\"x\":0.05},\"mapbox\":{\"style\":\"light\"}}},\"geo\":{\"domain\":{\"x\":[0.0,1.0],\"y\":[0.0,1.0]},\"center\":{}},\"coloraxis\":{\"colorbar\":{\"title\":{\"text\":\"worldPercentage\"}},\"colorscale\":[[0.0,\"#440154\"],[0.1111111111111111,\"#482878\"],[0.2222222222222222,\"#3e4989\"],[0.3333333333333333,\"#31688e\"],[0.4444444444444444,\"#26828e\"],[0.5555555555555556,\"#1f9e89\"],[0.6666666666666666,\"#35b779\"],[0.7777777777777778,\"#6ece58\"],[0.8888888888888888,\"#b5de2b\"],[1.0,\"#fde725\"]]},\"legend\":{\"tracegroupgap\":0},\"title\":{\"text\":\"World Population Percentage\"}},                        {\"responsive\": true}                    ).then(function(){\n",
              "                            \n",
              "var gd = document.getElementById('a1b5acd4-c1ab-44db-b91e-60ce2b85441c');\n",
              "var x = new MutationObserver(function (mutations, observer) {{\n",
              "        var display = window.getComputedStyle(gd).display;\n",
              "        if (!display || display === 'none') {{\n",
              "            console.log([gd, 'removed!']);\n",
              "            Plotly.purge(gd);\n",
              "            observer.disconnect();\n",
              "        }}\n",
              "}});\n",
              "\n",
              "// Listen for the removal of the full notebook cells\n",
              "var notebookContainer = gd.closest('#notebook-container');\n",
              "if (notebookContainer) {{\n",
              "    x.observe(notebookContainer, {childList: true});\n",
              "}}\n",
              "\n",
              "// Listen for the clearing of the current output cell\n",
              "var outputEl = gd.closest('.output');\n",
              "if (outputEl) {{\n",
              "    x.observe(outputEl, {childList: true});\n",
              "}}\n",
              "\n",
              "                        })                };                });            </script>        </div>"
            ]
          },
          "metadata": {},
          "output_type": "display_data"
        }
      ],
      "source": [
        "#World Population Percentage\n",
        "fig = px.choropleth(df,\n",
        "                    locations='country',\n",
        "                    locationmode='country names',\n",
        "                    color='worldPercentage',\n",
        "                    hover_name='country',\n",
        "                    title = 'World Population Percentage',\n",
        "                    color_continuous_scale='Viridis'\n",
        "                    )\n",
        "fig.show()"
      ]
    },
    {
      "cell_type": "code",
      "execution_count": null,
      "id": "72fd06d0",
      "metadata": {
        "execution": {
          "iopub.execute_input": "2023-06-02T04:52:25.485129Z",
          "iopub.status.busy": "2023-06-02T04:52:25.484735Z",
          "iopub.status.idle": "2023-06-02T04:52:25.570979Z",
          "shell.execute_reply": "2023-06-02T04:52:25.570126Z"
        },
        "papermill": {
          "duration": 0.177605,
          "end_time": "2023-06-02T04:52:25.574452",
          "exception": false,
          "start_time": "2023-06-02T04:52:25.396847",
          "status": "completed"
        },
        "tags": [],
        "id": "72fd06d0",
        "outputId": "469c4acd-b4ae-4d7d-b7d8-0bf952b33178"
      },
      "outputs": [
        {
          "data": {
            "application/vnd.plotly.v1+json": {
              "config": {
                "plotlyServerURL": "https://plot.ly"
              },
              "data": [
                {
                  "coloraxis": "coloraxis",
                  "geo": "geo",
                  "hovertemplate": "<b>%{hovertext}</b><br><br>country=%{location}<br>growthRate=%{z}<extra></extra>",
                  "hovertext": [
                    "India",
                    "China",
                    "United States",
                    "Indonesia",
                    "Pakistan",
                    "Nigeria",
                    "Brazil",
                    "Bangladesh",
                    "Russia",
                    "Mexico",
                    "Ethiopia",
                    "Japan",
                    "Philippines",
                    "Egypt",
                    "DR Congo",
                    "Vietnam",
                    "Iran",
                    "Turkey",
                    "Germany",
                    "Thailand",
                    "United Kingdom",
                    "Tanzania",
                    "France",
                    "South Africa",
                    "Italy",
                    "Kenya",
                    "Myanmar",
                    "Colombia",
                    "South Korea",
                    "Uganda",
                    "Sudan",
                    "Spain",
                    "Argentina",
                    "Algeria",
                    "Iraq",
                    "Afghanistan",
                    "Poland",
                    "Canada",
                    "Morocco",
                    "Saudi Arabia",
                    "Ukraine",
                    "Angola",
                    "Uzbekistan",
                    "Yemen",
                    "Peru",
                    "Malaysia",
                    "Ghana",
                    "Mozambique",
                    "Nepal",
                    "Madagascar",
                    "Ivory Coast",
                    "Venezuela",
                    "Cameroon",
                    "Niger",
                    "Australia",
                    "North Korea",
                    "Taiwan",
                    "Mali",
                    "Burkina Faso",
                    "Syria",
                    "Sri Lanka",
                    "Malawi",
                    "Zambia",
                    "Romania",
                    "Chile",
                    "Kazakhstan",
                    "Chad",
                    "Ecuador",
                    "Somalia",
                    "Guatemala",
                    "Senegal",
                    "Netherlands",
                    "Cambodia",
                    "Zimbabwe",
                    "Guinea",
                    "Rwanda",
                    "Benin",
                    "Burundi",
                    "Tunisia",
                    "Bolivia",
                    "Haiti",
                    "Belgium",
                    "Jordan",
                    "Dominican Republic",
                    "Cuba",
                    "South Sudan",
                    "Sweden",
                    "Honduras",
                    "Czech Republic",
                    "Azerbaijan",
                    "Greece",
                    "Papua New Guinea",
                    "Portugal",
                    "Hungary",
                    "Tajikistan",
                    "United Arab Emirates",
                    "Belarus",
                    "Israel",
                    "Togo",
                    "Austria",
                    "Switzerland",
                    "Sierra Leone",
                    "Laos",
                    "Hong Kong",
                    "Serbia",
                    "Nicaragua",
                    "Libya",
                    "Paraguay",
                    "Kyrgyzstan",
                    "Bulgaria",
                    "Turkmenistan",
                    "El Salvador",
                    "Republic of the Congo",
                    "Singapore",
                    "Denmark",
                    "Slovakia",
                    "Central African Republic",
                    "Finland",
                    "Norway",
                    "Liberia",
                    "Palestine",
                    "Lebanon",
                    "New Zealand",
                    "Costa Rica",
                    "Ireland",
                    "Mauritania",
                    "Oman",
                    "Panama",
                    "Kuwait",
                    "Croatia",
                    "Eritrea",
                    "Georgia",
                    "Mongolia",
                    "Moldova",
                    "Uruguay",
                    "Puerto Rico",
                    "Bosnia and Herzegovina",
                    "Albania",
                    "Jamaica",
                    "Armenia",
                    "Gambia",
                    "Lithuania",
                    "Qatar",
                    "Botswana",
                    "Namibia",
                    "Gabon",
                    "Lesotho",
                    "Guinea-Bissau",
                    "Slovenia",
                    "North Macedonia",
                    "Latvia",
                    "Equatorial Guinea",
                    "Trinidad and Tobago",
                    "Bahrain",
                    "Timor-Leste",
                    "Estonia",
                    "Mauritius",
                    "Cyprus",
                    "Eswatini",
                    "Djibouti",
                    "Reunion",
                    "Fiji",
                    "Comoros",
                    "Guyana",
                    "Bhutan",
                    "Solomon Islands",
                    "Macau",
                    "Luxembourg",
                    "Montenegro",
                    "Suriname",
                    "Cape Verde",
                    "Western Sahara",
                    "Malta",
                    "Maldives",
                    "Brunei",
                    "Bahamas",
                    "Belize",
                    "Guadeloupe",
                    "Iceland",
                    "Martinique",
                    "Mayotte",
                    "Vanuatu",
                    "French Guiana",
                    "French Polynesia",
                    "New Caledonia",
                    "Barbados",
                    "Sao Tome and Principe",
                    "Samoa",
                    "Curacao",
                    "Saint Lucia",
                    "Guam",
                    "Kiribati",
                    "Grenada",
                    "Micronesia",
                    "Jersey",
                    "Tonga",
                    "Seychelles",
                    "Aruba",
                    "Saint Vincent and the Grenadines",
                    "United States Virgin Islands",
                    "Antigua and Barbuda",
                    "Isle of Man",
                    "Andorra",
                    "Dominica",
                    "Cayman Islands",
                    "Bermuda",
                    "Guernsey",
                    "Greenland",
                    "Faroe Islands",
                    "Northern Mariana Islands",
                    "Saint Kitts and Nevis",
                    "Turks and Caicos Islands",
                    "Sint Maarten",
                    "American Samoa",
                    "Marshall Islands",
                    "Liechtenstein",
                    "Monaco",
                    "San Marino",
                    "Gibraltar",
                    "Saint Martin",
                    "British Virgin Islands",
                    "Palau",
                    "Cook Islands",
                    "Anguilla",
                    "Nauru",
                    "Wallis and Futuna",
                    "Tuvalu",
                    "Saint Barthelemy",
                    "Saint Pierre and Miquelon",
                    "Montserrat",
                    "Falkland Islands",
                    "Niue",
                    "Tokelau",
                    "Vatican City"
                  ],
                  "locationmode": "country names",
                  "locations": [
                    "India",
                    "China",
                    "United States",
                    "Indonesia",
                    "Pakistan",
                    "Nigeria",
                    "Brazil",
                    "Bangladesh",
                    "Russia",
                    "Mexico",
                    "Ethiopia",
                    "Japan",
                    "Philippines",
                    "Egypt",
                    "DR Congo",
                    "Vietnam",
                    "Iran",
                    "Turkey",
                    "Germany",
                    "Thailand",
                    "United Kingdom",
                    "Tanzania",
                    "France",
                    "South Africa",
                    "Italy",
                    "Kenya",
                    "Myanmar",
                    "Colombia",
                    "South Korea",
                    "Uganda",
                    "Sudan",
                    "Spain",
                    "Argentina",
                    "Algeria",
                    "Iraq",
                    "Afghanistan",
                    "Poland",
                    "Canada",
                    "Morocco",
                    "Saudi Arabia",
                    "Ukraine",
                    "Angola",
                    "Uzbekistan",
                    "Yemen",
                    "Peru",
                    "Malaysia",
                    "Ghana",
                    "Mozambique",
                    "Nepal",
                    "Madagascar",
                    "Ivory Coast",
                    "Venezuela",
                    "Cameroon",
                    "Niger",
                    "Australia",
                    "North Korea",
                    "Taiwan",
                    "Mali",
                    "Burkina Faso",
                    "Syria",
                    "Sri Lanka",
                    "Malawi",
                    "Zambia",
                    "Romania",
                    "Chile",
                    "Kazakhstan",
                    "Chad",
                    "Ecuador",
                    "Somalia",
                    "Guatemala",
                    "Senegal",
                    "Netherlands",
                    "Cambodia",
                    "Zimbabwe",
                    "Guinea",
                    "Rwanda",
                    "Benin",
                    "Burundi",
                    "Tunisia",
                    "Bolivia",
                    "Haiti",
                    "Belgium",
                    "Jordan",
                    "Dominican Republic",
                    "Cuba",
                    "South Sudan",
                    "Sweden",
                    "Honduras",
                    "Czech Republic",
                    "Azerbaijan",
                    "Greece",
                    "Papua New Guinea",
                    "Portugal",
                    "Hungary",
                    "Tajikistan",
                    "United Arab Emirates",
                    "Belarus",
                    "Israel",
                    "Togo",
                    "Austria",
                    "Switzerland",
                    "Sierra Leone",
                    "Laos",
                    "Hong Kong",
                    "Serbia",
                    "Nicaragua",
                    "Libya",
                    "Paraguay",
                    "Kyrgyzstan",
                    "Bulgaria",
                    "Turkmenistan",
                    "El Salvador",
                    "Republic of the Congo",
                    "Singapore",
                    "Denmark",
                    "Slovakia",
                    "Central African Republic",
                    "Finland",
                    "Norway",
                    "Liberia",
                    "Palestine",
                    "Lebanon",
                    "New Zealand",
                    "Costa Rica",
                    "Ireland",
                    "Mauritania",
                    "Oman",
                    "Panama",
                    "Kuwait",
                    "Croatia",
                    "Eritrea",
                    "Georgia",
                    "Mongolia",
                    "Moldova",
                    "Uruguay",
                    "Puerto Rico",
                    "Bosnia and Herzegovina",
                    "Albania",
                    "Jamaica",
                    "Armenia",
                    "Gambia",
                    "Lithuania",
                    "Qatar",
                    "Botswana",
                    "Namibia",
                    "Gabon",
                    "Lesotho",
                    "Guinea-Bissau",
                    "Slovenia",
                    "North Macedonia",
                    "Latvia",
                    "Equatorial Guinea",
                    "Trinidad and Tobago",
                    "Bahrain",
                    "Timor-Leste",
                    "Estonia",
                    "Mauritius",
                    "Cyprus",
                    "Eswatini",
                    "Djibouti",
                    "Reunion",
                    "Fiji",
                    "Comoros",
                    "Guyana",
                    "Bhutan",
                    "Solomon Islands",
                    "Macau",
                    "Luxembourg",
                    "Montenegro",
                    "Suriname",
                    "Cape Verde",
                    "Western Sahara",
                    "Malta",
                    "Maldives",
                    "Brunei",
                    "Bahamas",
                    "Belize",
                    "Guadeloupe",
                    "Iceland",
                    "Martinique",
                    "Mayotte",
                    "Vanuatu",
                    "French Guiana",
                    "French Polynesia",
                    "New Caledonia",
                    "Barbados",
                    "Sao Tome and Principe",
                    "Samoa",
                    "Curacao",
                    "Saint Lucia",
                    "Guam",
                    "Kiribati",
                    "Grenada",
                    "Micronesia",
                    "Jersey",
                    "Tonga",
                    "Seychelles",
                    "Aruba",
                    "Saint Vincent and the Grenadines",
                    "United States Virgin Islands",
                    "Antigua and Barbuda",
                    "Isle of Man",
                    "Andorra",
                    "Dominica",
                    "Cayman Islands",
                    "Bermuda",
                    "Guernsey",
                    "Greenland",
                    "Faroe Islands",
                    "Northern Mariana Islands",
                    "Saint Kitts and Nevis",
                    "Turks and Caicos Islands",
                    "Sint Maarten",
                    "American Samoa",
                    "Marshall Islands",
                    "Liechtenstein",
                    "Monaco",
                    "San Marino",
                    "Gibraltar",
                    "Saint Martin",
                    "British Virgin Islands",
                    "Palau",
                    "Cook Islands",
                    "Anguilla",
                    "Nauru",
                    "Wallis and Futuna",
                    "Tuvalu",
                    "Saint Barthelemy",
                    "Saint Pierre and Miquelon",
                    "Montserrat",
                    "Falkland Islands",
                    "Niue",
                    "Tokelau",
                    "Vatican City"
                  ],
                  "name": "",
                  "type": "choropleth",
                  "z": [
                    0.0081,
                    -0.0002,
                    0.005,
                    0.0074,
                    0.0198,
                    0.0241,
                    0.0052,
                    0.0103,
                    -0.0019,
                    0.0075,
                    0.0255,
                    -0.0053,
                    0.0154,
                    0.0156,
                    0.0329,
                    0.0068,
                    0.007,
                    0.0056,
                    -0.0009,
                    0.0015,
                    0.0034,
                    0.0296,
                    0.002,
                    0.0087,
                    -0.0028,
                    0.0199,
                    0.0074,
                    0.0041,
                    -0.0006,
                    0.0282,
                    0.0263,
                    -0.0008,
                    0.0058,
                    0.0157,
                    0.0227,
                    0.027,
                    0.0293,
                    0.0085,
                    0.0102,
                    0.0148,
                    -0.0745,
                    0.0308,
                    0.0155,
                    0.0224,
                    0.0089,
                    0.0109,
                    0.0193,
                    0.0281,
                    0.0114,
                    0.0241,
                    0.0253,
                    0.019,
                    0.0263,
                    0.038,
                    0.01,
                    0.0035,
                    0.0013,
                    0.031,
                    0.0255,
                    0.0498,
                    0.0028,
                    0.0258,
                    0.0276,
                    0.0119,
                    0.0013,
                    0.0108,
                    0.0313,
                    0.0105,
                    0.031,
                    0.0139,
                    0.0258,
                    0.0031,
                    0.0106,
                    0.0211,
                    0.0239,
                    0.0231,
                    0.027,
                    0.0271,
                    0.0083,
                    0.0135,
                    0.0121,
                    0.0026,
                    0.0045,
                    0.0093,
                    -0.0016,
                    0.0161,
                    0.0059,
                    0.0154,
                    0.0001,
                    0.0053,
                    -0.0042,
                    0.0185,
                    -0.0023,
                    0.019,
                    0.0192,
                    0.008,
                    -0.0039,
                    0.0151,
                    0.0232,
                    0.0022,
                    0.0064,
                    0.0215,
                    0.0139,
                    0.0004,
                    -0.01,
                    0.0141,
                    0.0112,
                    0.0119,
                    0.0158,
                    -0.0139,
                    0.0133,
                    0.0045,
                    0.0229,
                    0.0065,
                    0.0049,
                    0.0269,
                    0.0292,
                    0.0009,
                    0.0074,
                    0.0218,
                    0.0231,
                    -0.0247,
                    0.0083,
                    0.006,
                    0.0067,
                    0.0268,
                    0.0149,
                    0.0135,
                    0.0097,
                    -0.0054,
                    0.0176,
                    -0.0043,
                    0.0144,
                    0.0498,
                    0.0001,
                    0.0024,
                    -0.007,
                    -0.0035,
                    -0.0006,
                    -0.0009,
                    0.0248,
                    -0.0115,
                    0.0079,
                    0.0171,
                    0.0145,
                    0.0199,
                    0.0106,
                    0.0215,
                    -0.0001,
                    -0.0038,
                    -0.011,
                    0.0237,
                    0.0025,
                    0.009,
                    0.0144,
                    -0.0025,
                    0.0008,
                    0.0069,
                    0.0076,
                    0.0139,
                    0.008,
                    0.0071,
                    0.0183,
                    0.0063,
                    0.0064,
                    0.0223,
                    0.0129,
                    0.0111,
                    -0.001,
                    0.0084,
                    0.0093,
                    0.0196,
                    0.0033,
                    -0.0053,
                    0.0078,
                    0.0064,
                    0.0137,
                    0.0002,
                    0.0065,
                    -0.0014,
                    0.0303,
                    0.0238,
                    0.0249,
                    0.0085,
                    0.0105,
                    0.0013,
                    0.0197,
                    0.0148,
                    0.0048,
                    0.0022,
                    0.0069,
                    0.0174,
                    0.0059,
                    0.0093,
                    0.0092,
                    0.0086,
                    0.0051,
                    -0.0016,
                    -0.0024,
                    -0.0072,
                    0.0057,
                    0.0023,
                    0.0033,
                    0.0042,
                    0.0088,
                    -0.0018,
                    0.0038,
                    0.0031,
                    0.0034,
                    0.0049,
                    0.0021,
                    0.0079,
                    0.0011,
                    -0.0081,
                    0.0103,
                    0.0065,
                    -0.0047,
                    -0.0005,
                    0.0012,
                    0.009,
                    0.0074,
                    0.0002,
                    0.0019,
                    0.0026,
                    0.0088,
                    -0.006,
                    0.0074,
                    0.0025,
                    -0.0038,
                    -0.0009,
                    0.0029,
                    0.0005,
                    0.0118,
                    0.0157
                  ]
                }
              ],
              "layout": {
                "coloraxis": {
                  "colorbar": {
                    "title": {
                      "text": "growthRate"
                    }
                  },
                  "colorscale": [
                    [
                      0,
                      "#440154"
                    ],
                    [
                      0.1111111111111111,
                      "#482878"
                    ],
                    [
                      0.2222222222222222,
                      "#3e4989"
                    ],
                    [
                      0.3333333333333333,
                      "#31688e"
                    ],
                    [
                      0.4444444444444444,
                      "#26828e"
                    ],
                    [
                      0.5555555555555556,
                      "#1f9e89"
                    ],
                    [
                      0.6666666666666666,
                      "#35b779"
                    ],
                    [
                      0.7777777777777778,
                      "#6ece58"
                    ],
                    [
                      0.8888888888888888,
                      "#b5de2b"
                    ],
                    [
                      1,
                      "#fde725"
                    ]
                  ]
                },
                "geo": {
                  "center": {},
                  "domain": {
                    "x": [
                      0,
                      1
                    ],
                    "y": [
                      0,
                      1
                    ]
                  }
                },
                "legend": {
                  "tracegroupgap": 0
                },
                "template": {
                  "data": {
                    "bar": [
                      {
                        "error_x": {
                          "color": "#2a3f5f"
                        },
                        "error_y": {
                          "color": "#2a3f5f"
                        },
                        "marker": {
                          "line": {
                            "color": "#E5ECF6",
                            "width": 0.5
                          },
                          "pattern": {
                            "fillmode": "overlay",
                            "size": 10,
                            "solidity": 0.2
                          }
                        },
                        "type": "bar"
                      }
                    ],
                    "barpolar": [
                      {
                        "marker": {
                          "line": {
                            "color": "#E5ECF6",
                            "width": 0.5
                          },
                          "pattern": {
                            "fillmode": "overlay",
                            "size": 10,
                            "solidity": 0.2
                          }
                        },
                        "type": "barpolar"
                      }
                    ],
                    "carpet": [
                      {
                        "aaxis": {
                          "endlinecolor": "#2a3f5f",
                          "gridcolor": "white",
                          "linecolor": "white",
                          "minorgridcolor": "white",
                          "startlinecolor": "#2a3f5f"
                        },
                        "baxis": {
                          "endlinecolor": "#2a3f5f",
                          "gridcolor": "white",
                          "linecolor": "white",
                          "minorgridcolor": "white",
                          "startlinecolor": "#2a3f5f"
                        },
                        "type": "carpet"
                      }
                    ],
                    "choropleth": [
                      {
                        "colorbar": {
                          "outlinewidth": 0,
                          "ticks": ""
                        },
                        "type": "choropleth"
                      }
                    ],
                    "contour": [
                      {
                        "colorbar": {
                          "outlinewidth": 0,
                          "ticks": ""
                        },
                        "colorscale": [
                          [
                            0,
                            "#0d0887"
                          ],
                          [
                            0.1111111111111111,
                            "#46039f"
                          ],
                          [
                            0.2222222222222222,
                            "#7201a8"
                          ],
                          [
                            0.3333333333333333,
                            "#9c179e"
                          ],
                          [
                            0.4444444444444444,
                            "#bd3786"
                          ],
                          [
                            0.5555555555555556,
                            "#d8576b"
                          ],
                          [
                            0.6666666666666666,
                            "#ed7953"
                          ],
                          [
                            0.7777777777777778,
                            "#fb9f3a"
                          ],
                          [
                            0.8888888888888888,
                            "#fdca26"
                          ],
                          [
                            1,
                            "#f0f921"
                          ]
                        ],
                        "type": "contour"
                      }
                    ],
                    "contourcarpet": [
                      {
                        "colorbar": {
                          "outlinewidth": 0,
                          "ticks": ""
                        },
                        "type": "contourcarpet"
                      }
                    ],
                    "heatmap": [
                      {
                        "colorbar": {
                          "outlinewidth": 0,
                          "ticks": ""
                        },
                        "colorscale": [
                          [
                            0,
                            "#0d0887"
                          ],
                          [
                            0.1111111111111111,
                            "#46039f"
                          ],
                          [
                            0.2222222222222222,
                            "#7201a8"
                          ],
                          [
                            0.3333333333333333,
                            "#9c179e"
                          ],
                          [
                            0.4444444444444444,
                            "#bd3786"
                          ],
                          [
                            0.5555555555555556,
                            "#d8576b"
                          ],
                          [
                            0.6666666666666666,
                            "#ed7953"
                          ],
                          [
                            0.7777777777777778,
                            "#fb9f3a"
                          ],
                          [
                            0.8888888888888888,
                            "#fdca26"
                          ],
                          [
                            1,
                            "#f0f921"
                          ]
                        ],
                        "type": "heatmap"
                      }
                    ],
                    "heatmapgl": [
                      {
                        "colorbar": {
                          "outlinewidth": 0,
                          "ticks": ""
                        },
                        "colorscale": [
                          [
                            0,
                            "#0d0887"
                          ],
                          [
                            0.1111111111111111,
                            "#46039f"
                          ],
                          [
                            0.2222222222222222,
                            "#7201a8"
                          ],
                          [
                            0.3333333333333333,
                            "#9c179e"
                          ],
                          [
                            0.4444444444444444,
                            "#bd3786"
                          ],
                          [
                            0.5555555555555556,
                            "#d8576b"
                          ],
                          [
                            0.6666666666666666,
                            "#ed7953"
                          ],
                          [
                            0.7777777777777778,
                            "#fb9f3a"
                          ],
                          [
                            0.8888888888888888,
                            "#fdca26"
                          ],
                          [
                            1,
                            "#f0f921"
                          ]
                        ],
                        "type": "heatmapgl"
                      }
                    ],
                    "histogram": [
                      {
                        "marker": {
                          "pattern": {
                            "fillmode": "overlay",
                            "size": 10,
                            "solidity": 0.2
                          }
                        },
                        "type": "histogram"
                      }
                    ],
                    "histogram2d": [
                      {
                        "colorbar": {
                          "outlinewidth": 0,
                          "ticks": ""
                        },
                        "colorscale": [
                          [
                            0,
                            "#0d0887"
                          ],
                          [
                            0.1111111111111111,
                            "#46039f"
                          ],
                          [
                            0.2222222222222222,
                            "#7201a8"
                          ],
                          [
                            0.3333333333333333,
                            "#9c179e"
                          ],
                          [
                            0.4444444444444444,
                            "#bd3786"
                          ],
                          [
                            0.5555555555555556,
                            "#d8576b"
                          ],
                          [
                            0.6666666666666666,
                            "#ed7953"
                          ],
                          [
                            0.7777777777777778,
                            "#fb9f3a"
                          ],
                          [
                            0.8888888888888888,
                            "#fdca26"
                          ],
                          [
                            1,
                            "#f0f921"
                          ]
                        ],
                        "type": "histogram2d"
                      }
                    ],
                    "histogram2dcontour": [
                      {
                        "colorbar": {
                          "outlinewidth": 0,
                          "ticks": ""
                        },
                        "colorscale": [
                          [
                            0,
                            "#0d0887"
                          ],
                          [
                            0.1111111111111111,
                            "#46039f"
                          ],
                          [
                            0.2222222222222222,
                            "#7201a8"
                          ],
                          [
                            0.3333333333333333,
                            "#9c179e"
                          ],
                          [
                            0.4444444444444444,
                            "#bd3786"
                          ],
                          [
                            0.5555555555555556,
                            "#d8576b"
                          ],
                          [
                            0.6666666666666666,
                            "#ed7953"
                          ],
                          [
                            0.7777777777777778,
                            "#fb9f3a"
                          ],
                          [
                            0.8888888888888888,
                            "#fdca26"
                          ],
                          [
                            1,
                            "#f0f921"
                          ]
                        ],
                        "type": "histogram2dcontour"
                      }
                    ],
                    "mesh3d": [
                      {
                        "colorbar": {
                          "outlinewidth": 0,
                          "ticks": ""
                        },
                        "type": "mesh3d"
                      }
                    ],
                    "parcoords": [
                      {
                        "line": {
                          "colorbar": {
                            "outlinewidth": 0,
                            "ticks": ""
                          }
                        },
                        "type": "parcoords"
                      }
                    ],
                    "pie": [
                      {
                        "automargin": true,
                        "type": "pie"
                      }
                    ],
                    "scatter": [
                      {
                        "fillpattern": {
                          "fillmode": "overlay",
                          "size": 10,
                          "solidity": 0.2
                        },
                        "type": "scatter"
                      }
                    ],
                    "scatter3d": [
                      {
                        "line": {
                          "colorbar": {
                            "outlinewidth": 0,
                            "ticks": ""
                          }
                        },
                        "marker": {
                          "colorbar": {
                            "outlinewidth": 0,
                            "ticks": ""
                          }
                        },
                        "type": "scatter3d"
                      }
                    ],
                    "scattercarpet": [
                      {
                        "marker": {
                          "colorbar": {
                            "outlinewidth": 0,
                            "ticks": ""
                          }
                        },
                        "type": "scattercarpet"
                      }
                    ],
                    "scattergeo": [
                      {
                        "marker": {
                          "colorbar": {
                            "outlinewidth": 0,
                            "ticks": ""
                          }
                        },
                        "type": "scattergeo"
                      }
                    ],
                    "scattergl": [
                      {
                        "marker": {
                          "colorbar": {
                            "outlinewidth": 0,
                            "ticks": ""
                          }
                        },
                        "type": "scattergl"
                      }
                    ],
                    "scattermapbox": [
                      {
                        "marker": {
                          "colorbar": {
                            "outlinewidth": 0,
                            "ticks": ""
                          }
                        },
                        "type": "scattermapbox"
                      }
                    ],
                    "scatterpolar": [
                      {
                        "marker": {
                          "colorbar": {
                            "outlinewidth": 0,
                            "ticks": ""
                          }
                        },
                        "type": "scatterpolar"
                      }
                    ],
                    "scatterpolargl": [
                      {
                        "marker": {
                          "colorbar": {
                            "outlinewidth": 0,
                            "ticks": ""
                          }
                        },
                        "type": "scatterpolargl"
                      }
                    ],
                    "scatterternary": [
                      {
                        "marker": {
                          "colorbar": {
                            "outlinewidth": 0,
                            "ticks": ""
                          }
                        },
                        "type": "scatterternary"
                      }
                    ],
                    "surface": [
                      {
                        "colorbar": {
                          "outlinewidth": 0,
                          "ticks": ""
                        },
                        "colorscale": [
                          [
                            0,
                            "#0d0887"
                          ],
                          [
                            0.1111111111111111,
                            "#46039f"
                          ],
                          [
                            0.2222222222222222,
                            "#7201a8"
                          ],
                          [
                            0.3333333333333333,
                            "#9c179e"
                          ],
                          [
                            0.4444444444444444,
                            "#bd3786"
                          ],
                          [
                            0.5555555555555556,
                            "#d8576b"
                          ],
                          [
                            0.6666666666666666,
                            "#ed7953"
                          ],
                          [
                            0.7777777777777778,
                            "#fb9f3a"
                          ],
                          [
                            0.8888888888888888,
                            "#fdca26"
                          ],
                          [
                            1,
                            "#f0f921"
                          ]
                        ],
                        "type": "surface"
                      }
                    ],
                    "table": [
                      {
                        "cells": {
                          "fill": {
                            "color": "#EBF0F8"
                          },
                          "line": {
                            "color": "white"
                          }
                        },
                        "header": {
                          "fill": {
                            "color": "#C8D4E3"
                          },
                          "line": {
                            "color": "white"
                          }
                        },
                        "type": "table"
                      }
                    ]
                  },
                  "layout": {
                    "annotationdefaults": {
                      "arrowcolor": "#2a3f5f",
                      "arrowhead": 0,
                      "arrowwidth": 1
                    },
                    "autotypenumbers": "strict",
                    "coloraxis": {
                      "colorbar": {
                        "outlinewidth": 0,
                        "ticks": ""
                      }
                    },
                    "colorscale": {
                      "diverging": [
                        [
                          0,
                          "#8e0152"
                        ],
                        [
                          0.1,
                          "#c51b7d"
                        ],
                        [
                          0.2,
                          "#de77ae"
                        ],
                        [
                          0.3,
                          "#f1b6da"
                        ],
                        [
                          0.4,
                          "#fde0ef"
                        ],
                        [
                          0.5,
                          "#f7f7f7"
                        ],
                        [
                          0.6,
                          "#e6f5d0"
                        ],
                        [
                          0.7,
                          "#b8e186"
                        ],
                        [
                          0.8,
                          "#7fbc41"
                        ],
                        [
                          0.9,
                          "#4d9221"
                        ],
                        [
                          1,
                          "#276419"
                        ]
                      ],
                      "sequential": [
                        [
                          0,
                          "#0d0887"
                        ],
                        [
                          0.1111111111111111,
                          "#46039f"
                        ],
                        [
                          0.2222222222222222,
                          "#7201a8"
                        ],
                        [
                          0.3333333333333333,
                          "#9c179e"
                        ],
                        [
                          0.4444444444444444,
                          "#bd3786"
                        ],
                        [
                          0.5555555555555556,
                          "#d8576b"
                        ],
                        [
                          0.6666666666666666,
                          "#ed7953"
                        ],
                        [
                          0.7777777777777778,
                          "#fb9f3a"
                        ],
                        [
                          0.8888888888888888,
                          "#fdca26"
                        ],
                        [
                          1,
                          "#f0f921"
                        ]
                      ],
                      "sequentialminus": [
                        [
                          0,
                          "#0d0887"
                        ],
                        [
                          0.1111111111111111,
                          "#46039f"
                        ],
                        [
                          0.2222222222222222,
                          "#7201a8"
                        ],
                        [
                          0.3333333333333333,
                          "#9c179e"
                        ],
                        [
                          0.4444444444444444,
                          "#bd3786"
                        ],
                        [
                          0.5555555555555556,
                          "#d8576b"
                        ],
                        [
                          0.6666666666666666,
                          "#ed7953"
                        ],
                        [
                          0.7777777777777778,
                          "#fb9f3a"
                        ],
                        [
                          0.8888888888888888,
                          "#fdca26"
                        ],
                        [
                          1,
                          "#f0f921"
                        ]
                      ]
                    },
                    "colorway": [
                      "#636efa",
                      "#EF553B",
                      "#00cc96",
                      "#ab63fa",
                      "#FFA15A",
                      "#19d3f3",
                      "#FF6692",
                      "#B6E880",
                      "#FF97FF",
                      "#FECB52"
                    ],
                    "font": {
                      "color": "#2a3f5f"
                    },
                    "geo": {
                      "bgcolor": "white",
                      "lakecolor": "white",
                      "landcolor": "#E5ECF6",
                      "showlakes": true,
                      "showland": true,
                      "subunitcolor": "white"
                    },
                    "hoverlabel": {
                      "align": "left"
                    },
                    "hovermode": "closest",
                    "mapbox": {
                      "style": "light"
                    },
                    "paper_bgcolor": "white",
                    "plot_bgcolor": "#E5ECF6",
                    "polar": {
                      "angularaxis": {
                        "gridcolor": "white",
                        "linecolor": "white",
                        "ticks": ""
                      },
                      "bgcolor": "#E5ECF6",
                      "radialaxis": {
                        "gridcolor": "white",
                        "linecolor": "white",
                        "ticks": ""
                      }
                    },
                    "scene": {
                      "xaxis": {
                        "backgroundcolor": "#E5ECF6",
                        "gridcolor": "white",
                        "gridwidth": 2,
                        "linecolor": "white",
                        "showbackground": true,
                        "ticks": "",
                        "zerolinecolor": "white"
                      },
                      "yaxis": {
                        "backgroundcolor": "#E5ECF6",
                        "gridcolor": "white",
                        "gridwidth": 2,
                        "linecolor": "white",
                        "showbackground": true,
                        "ticks": "",
                        "zerolinecolor": "white"
                      },
                      "zaxis": {
                        "backgroundcolor": "#E5ECF6",
                        "gridcolor": "white",
                        "gridwidth": 2,
                        "linecolor": "white",
                        "showbackground": true,
                        "ticks": "",
                        "zerolinecolor": "white"
                      }
                    },
                    "shapedefaults": {
                      "line": {
                        "color": "#2a3f5f"
                      }
                    },
                    "ternary": {
                      "aaxis": {
                        "gridcolor": "white",
                        "linecolor": "white",
                        "ticks": ""
                      },
                      "baxis": {
                        "gridcolor": "white",
                        "linecolor": "white",
                        "ticks": ""
                      },
                      "bgcolor": "#E5ECF6",
                      "caxis": {
                        "gridcolor": "white",
                        "linecolor": "white",
                        "ticks": ""
                      }
                    },
                    "title": {
                      "x": 0.05
                    },
                    "xaxis": {
                      "automargin": true,
                      "gridcolor": "white",
                      "linecolor": "white",
                      "ticks": "",
                      "title": {
                        "standoff": 15
                      },
                      "zerolinecolor": "white",
                      "zerolinewidth": 2
                    },
                    "yaxis": {
                      "automargin": true,
                      "gridcolor": "white",
                      "linecolor": "white",
                      "ticks": "",
                      "title": {
                        "standoff": 15
                      },
                      "zerolinecolor": "white",
                      "zerolinewidth": 2
                    }
                  }
                },
                "title": {
                  "text": "Growth Rate"
                }
              }
            },
            "text/html": [
              "<div>                            <div id=\"27e93dfe-159c-4697-9925-5072b30cd7b9\" class=\"plotly-graph-div\" style=\"height:525px; width:100%;\"></div>            <script type=\"text/javascript\">                require([\"plotly\"], function(Plotly) {                    window.PLOTLYENV=window.PLOTLYENV || {};                                    if (document.getElementById(\"27e93dfe-159c-4697-9925-5072b30cd7b9\")) {                    Plotly.newPlot(                        \"27e93dfe-159c-4697-9925-5072b30cd7b9\",                        [{\"coloraxis\":\"coloraxis\",\"geo\":\"geo\",\"hovertemplate\":\"<b>%{hovertext}</b><br><br>country=%{location}<br>growthRate=%{z}<extra></extra>\",\"hovertext\":[\"India\",\"China\",\"United States\",\"Indonesia\",\"Pakistan\",\"Nigeria\",\"Brazil\",\"Bangladesh\",\"Russia\",\"Mexico\",\"Ethiopia\",\"Japan\",\"Philippines\",\"Egypt\",\"DR Congo\",\"Vietnam\",\"Iran\",\"Turkey\",\"Germany\",\"Thailand\",\"United Kingdom\",\"Tanzania\",\"France\",\"South Africa\",\"Italy\",\"Kenya\",\"Myanmar\",\"Colombia\",\"South Korea\",\"Uganda\",\"Sudan\",\"Spain\",\"Argentina\",\"Algeria\",\"Iraq\",\"Afghanistan\",\"Poland\",\"Canada\",\"Morocco\",\"Saudi Arabia\",\"Ukraine\",\"Angola\",\"Uzbekistan\",\"Yemen\",\"Peru\",\"Malaysia\",\"Ghana\",\"Mozambique\",\"Nepal\",\"Madagascar\",\"Ivory Coast\",\"Venezuela\",\"Cameroon\",\"Niger\",\"Australia\",\"North Korea\",\"Taiwan\",\"Mali\",\"Burkina Faso\",\"Syria\",\"Sri Lanka\",\"Malawi\",\"Zambia\",\"Romania\",\"Chile\",\"Kazakhstan\",\"Chad\",\"Ecuador\",\"Somalia\",\"Guatemala\",\"Senegal\",\"Netherlands\",\"Cambodia\",\"Zimbabwe\",\"Guinea\",\"Rwanda\",\"Benin\",\"Burundi\",\"Tunisia\",\"Bolivia\",\"Haiti\",\"Belgium\",\"Jordan\",\"Dominican Republic\",\"Cuba\",\"South Sudan\",\"Sweden\",\"Honduras\",\"Czech Republic\",\"Azerbaijan\",\"Greece\",\"Papua New Guinea\",\"Portugal\",\"Hungary\",\"Tajikistan\",\"United Arab Emirates\",\"Belarus\",\"Israel\",\"Togo\",\"Austria\",\"Switzerland\",\"Sierra Leone\",\"Laos\",\"Hong Kong\",\"Serbia\",\"Nicaragua\",\"Libya\",\"Paraguay\",\"Kyrgyzstan\",\"Bulgaria\",\"Turkmenistan\",\"El Salvador\",\"Republic of the Congo\",\"Singapore\",\"Denmark\",\"Slovakia\",\"Central African Republic\",\"Finland\",\"Norway\",\"Liberia\",\"Palestine\",\"Lebanon\",\"New Zealand\",\"Costa Rica\",\"Ireland\",\"Mauritania\",\"Oman\",\"Panama\",\"Kuwait\",\"Croatia\",\"Eritrea\",\"Georgia\",\"Mongolia\",\"Moldova\",\"Uruguay\",\"Puerto Rico\",\"Bosnia and Herzegovina\",\"Albania\",\"Jamaica\",\"Armenia\",\"Gambia\",\"Lithuania\",\"Qatar\",\"Botswana\",\"Namibia\",\"Gabon\",\"Lesotho\",\"Guinea-Bissau\",\"Slovenia\",\"North Macedonia\",\"Latvia\",\"Equatorial Guinea\",\"Trinidad and Tobago\",\"Bahrain\",\"Timor-Leste\",\"Estonia\",\"Mauritius\",\"Cyprus\",\"Eswatini\",\"Djibouti\",\"Reunion\",\"Fiji\",\"Comoros\",\"Guyana\",\"Bhutan\",\"Solomon Islands\",\"Macau\",\"Luxembourg\",\"Montenegro\",\"Suriname\",\"Cape Verde\",\"Western Sahara\",\"Malta\",\"Maldives\",\"Brunei\",\"Bahamas\",\"Belize\",\"Guadeloupe\",\"Iceland\",\"Martinique\",\"Mayotte\",\"Vanuatu\",\"French Guiana\",\"French Polynesia\",\"New Caledonia\",\"Barbados\",\"Sao Tome and Principe\",\"Samoa\",\"Curacao\",\"Saint Lucia\",\"Guam\",\"Kiribati\",\"Grenada\",\"Micronesia\",\"Jersey\",\"Tonga\",\"Seychelles\",\"Aruba\",\"Saint Vincent and the Grenadines\",\"United States Virgin Islands\",\"Antigua and Barbuda\",\"Isle of Man\",\"Andorra\",\"Dominica\",\"Cayman Islands\",\"Bermuda\",\"Guernsey\",\"Greenland\",\"Faroe Islands\",\"Northern Mariana Islands\",\"Saint Kitts and Nevis\",\"Turks and Caicos Islands\",\"Sint Maarten\",\"American Samoa\",\"Marshall Islands\",\"Liechtenstein\",\"Monaco\",\"San Marino\",\"Gibraltar\",\"Saint Martin\",\"British Virgin Islands\",\"Palau\",\"Cook Islands\",\"Anguilla\",\"Nauru\",\"Wallis and Futuna\",\"Tuvalu\",\"Saint Barthelemy\",\"Saint Pierre and Miquelon\",\"Montserrat\",\"Falkland Islands\",\"Niue\",\"Tokelau\",\"Vatican City\"],\"locationmode\":\"country names\",\"locations\":[\"India\",\"China\",\"United States\",\"Indonesia\",\"Pakistan\",\"Nigeria\",\"Brazil\",\"Bangladesh\",\"Russia\",\"Mexico\",\"Ethiopia\",\"Japan\",\"Philippines\",\"Egypt\",\"DR Congo\",\"Vietnam\",\"Iran\",\"Turkey\",\"Germany\",\"Thailand\",\"United Kingdom\",\"Tanzania\",\"France\",\"South Africa\",\"Italy\",\"Kenya\",\"Myanmar\",\"Colombia\",\"South Korea\",\"Uganda\",\"Sudan\",\"Spain\",\"Argentina\",\"Algeria\",\"Iraq\",\"Afghanistan\",\"Poland\",\"Canada\",\"Morocco\",\"Saudi Arabia\",\"Ukraine\",\"Angola\",\"Uzbekistan\",\"Yemen\",\"Peru\",\"Malaysia\",\"Ghana\",\"Mozambique\",\"Nepal\",\"Madagascar\",\"Ivory Coast\",\"Venezuela\",\"Cameroon\",\"Niger\",\"Australia\",\"North Korea\",\"Taiwan\",\"Mali\",\"Burkina Faso\",\"Syria\",\"Sri Lanka\",\"Malawi\",\"Zambia\",\"Romania\",\"Chile\",\"Kazakhstan\",\"Chad\",\"Ecuador\",\"Somalia\",\"Guatemala\",\"Senegal\",\"Netherlands\",\"Cambodia\",\"Zimbabwe\",\"Guinea\",\"Rwanda\",\"Benin\",\"Burundi\",\"Tunisia\",\"Bolivia\",\"Haiti\",\"Belgium\",\"Jordan\",\"Dominican Republic\",\"Cuba\",\"South Sudan\",\"Sweden\",\"Honduras\",\"Czech Republic\",\"Azerbaijan\",\"Greece\",\"Papua New Guinea\",\"Portugal\",\"Hungary\",\"Tajikistan\",\"United Arab Emirates\",\"Belarus\",\"Israel\",\"Togo\",\"Austria\",\"Switzerland\",\"Sierra Leone\",\"Laos\",\"Hong Kong\",\"Serbia\",\"Nicaragua\",\"Libya\",\"Paraguay\",\"Kyrgyzstan\",\"Bulgaria\",\"Turkmenistan\",\"El Salvador\",\"Republic of the Congo\",\"Singapore\",\"Denmark\",\"Slovakia\",\"Central African Republic\",\"Finland\",\"Norway\",\"Liberia\",\"Palestine\",\"Lebanon\",\"New Zealand\",\"Costa Rica\",\"Ireland\",\"Mauritania\",\"Oman\",\"Panama\",\"Kuwait\",\"Croatia\",\"Eritrea\",\"Georgia\",\"Mongolia\",\"Moldova\",\"Uruguay\",\"Puerto Rico\",\"Bosnia and Herzegovina\",\"Albania\",\"Jamaica\",\"Armenia\",\"Gambia\",\"Lithuania\",\"Qatar\",\"Botswana\",\"Namibia\",\"Gabon\",\"Lesotho\",\"Guinea-Bissau\",\"Slovenia\",\"North Macedonia\",\"Latvia\",\"Equatorial Guinea\",\"Trinidad and Tobago\",\"Bahrain\",\"Timor-Leste\",\"Estonia\",\"Mauritius\",\"Cyprus\",\"Eswatini\",\"Djibouti\",\"Reunion\",\"Fiji\",\"Comoros\",\"Guyana\",\"Bhutan\",\"Solomon Islands\",\"Macau\",\"Luxembourg\",\"Montenegro\",\"Suriname\",\"Cape Verde\",\"Western Sahara\",\"Malta\",\"Maldives\",\"Brunei\",\"Bahamas\",\"Belize\",\"Guadeloupe\",\"Iceland\",\"Martinique\",\"Mayotte\",\"Vanuatu\",\"French Guiana\",\"French Polynesia\",\"New Caledonia\",\"Barbados\",\"Sao Tome and Principe\",\"Samoa\",\"Curacao\",\"Saint Lucia\",\"Guam\",\"Kiribati\",\"Grenada\",\"Micronesia\",\"Jersey\",\"Tonga\",\"Seychelles\",\"Aruba\",\"Saint Vincent and the Grenadines\",\"United States Virgin Islands\",\"Antigua and Barbuda\",\"Isle of Man\",\"Andorra\",\"Dominica\",\"Cayman Islands\",\"Bermuda\",\"Guernsey\",\"Greenland\",\"Faroe Islands\",\"Northern Mariana Islands\",\"Saint Kitts and Nevis\",\"Turks and Caicos Islands\",\"Sint Maarten\",\"American Samoa\",\"Marshall Islands\",\"Liechtenstein\",\"Monaco\",\"San Marino\",\"Gibraltar\",\"Saint Martin\",\"British Virgin Islands\",\"Palau\",\"Cook Islands\",\"Anguilla\",\"Nauru\",\"Wallis and Futuna\",\"Tuvalu\",\"Saint Barthelemy\",\"Saint Pierre and Miquelon\",\"Montserrat\",\"Falkland Islands\",\"Niue\",\"Tokelau\",\"Vatican City\"],\"name\":\"\",\"z\":[0.0081,-0.0002,0.005,0.0074,0.0198,0.0241,0.0052,0.0103,-0.0019,0.0075,0.0255,-0.0053,0.0154,0.0156,0.0329,0.0068,0.007,0.0056,-0.0009,0.0015,0.0034,0.0296,0.002,0.0087,-0.0028,0.0199,0.0074,0.0041,-0.0006,0.0282,0.0263,-0.0008,0.0058,0.0157,0.0227,0.027,0.0293,0.0085,0.0102,0.0148,-0.0745,0.0308,0.0155,0.0224,0.0089,0.0109,0.0193,0.0281,0.0114,0.0241,0.0253,0.019,0.0263,0.038,0.01,0.0035,0.0013,0.031,0.0255,0.0498,0.0028,0.0258,0.0276,0.0119,0.0013,0.0108,0.0313,0.0105,0.031,0.0139,0.0258,0.0031,0.0106,0.0211,0.0239,0.0231,0.027,0.0271,0.0083,0.0135,0.0121,0.0026,0.0045,0.0093,-0.0016,0.0161,0.0059,0.0154,0.0001,0.0053,-0.0042,0.0185,-0.0023,0.019,0.0192,0.008,-0.0039,0.0151,0.0232,0.0022,0.0064,0.0215,0.0139,0.0004,-0.01,0.0141,0.0112,0.0119,0.0158,-0.0139,0.0133,0.0045,0.0229,0.0065,0.0049,0.0269,0.0292,0.0009,0.0074,0.0218,0.0231,-0.0247,0.0083,0.006,0.0067,0.0268,0.0149,0.0135,0.0097,-0.0054,0.0176,-0.0043,0.0144,0.0498,0.0001,0.0024,-0.007,-0.0035,-0.0006,-0.0009,0.0248,-0.0115,0.0079,0.0171,0.0145,0.0199,0.0106,0.0215,-0.0001,-0.0038,-0.011,0.0237,0.0025,0.009,0.0144,-0.0025,0.0008,0.0069,0.0076,0.0139,0.008,0.0071,0.0183,0.0063,0.0064,0.0223,0.0129,0.0111,-0.001,0.0084,0.0093,0.0196,0.0033,-0.0053,0.0078,0.0064,0.0137,0.0002,0.0065,-0.0014,0.0303,0.0238,0.0249,0.0085,0.0105,0.0013,0.0197,0.0148,0.0048,0.0022,0.0069,0.0174,0.0059,0.0093,0.0092,0.0086,0.0051,-0.0016,-0.0024,-0.0072,0.0057,0.0023,0.0033,0.0042,0.0088,-0.0018,0.0038,0.0031,0.0034,0.0049,0.0021,0.0079,0.0011,-0.0081,0.0103,0.0065,-0.0047,-0.0005,0.0012,0.009,0.0074,0.0002,0.0019,0.0026,0.0088,-0.006,0.0074,0.0025,-0.0038,-0.0009,0.0029,0.0005,0.0118,0.0157],\"type\":\"choropleth\"}],                        {\"template\":{\"data\":{\"histogram2dcontour\":[{\"type\":\"histogram2dcontour\",\"colorbar\":{\"outlinewidth\":0,\"ticks\":\"\"},\"colorscale\":[[0.0,\"#0d0887\"],[0.1111111111111111,\"#46039f\"],[0.2222222222222222,\"#7201a8\"],[0.3333333333333333,\"#9c179e\"],[0.4444444444444444,\"#bd3786\"],[0.5555555555555556,\"#d8576b\"],[0.6666666666666666,\"#ed7953\"],[0.7777777777777778,\"#fb9f3a\"],[0.8888888888888888,\"#fdca26\"],[1.0,\"#f0f921\"]]}],\"choropleth\":[{\"type\":\"choropleth\",\"colorbar\":{\"outlinewidth\":0,\"ticks\":\"\"}}],\"histogram2d\":[{\"type\":\"histogram2d\",\"colorbar\":{\"outlinewidth\":0,\"ticks\":\"\"},\"colorscale\":[[0.0,\"#0d0887\"],[0.1111111111111111,\"#46039f\"],[0.2222222222222222,\"#7201a8\"],[0.3333333333333333,\"#9c179e\"],[0.4444444444444444,\"#bd3786\"],[0.5555555555555556,\"#d8576b\"],[0.6666666666666666,\"#ed7953\"],[0.7777777777777778,\"#fb9f3a\"],[0.8888888888888888,\"#fdca26\"],[1.0,\"#f0f921\"]]}],\"heatmap\":[{\"type\":\"heatmap\",\"colorbar\":{\"outlinewidth\":0,\"ticks\":\"\"},\"colorscale\":[[0.0,\"#0d0887\"],[0.1111111111111111,\"#46039f\"],[0.2222222222222222,\"#7201a8\"],[0.3333333333333333,\"#9c179e\"],[0.4444444444444444,\"#bd3786\"],[0.5555555555555556,\"#d8576b\"],[0.6666666666666666,\"#ed7953\"],[0.7777777777777778,\"#fb9f3a\"],[0.8888888888888888,\"#fdca26\"],[1.0,\"#f0f921\"]]}],\"heatmapgl\":[{\"type\":\"heatmapgl\",\"colorbar\":{\"outlinewidth\":0,\"ticks\":\"\"},\"colorscale\":[[0.0,\"#0d0887\"],[0.1111111111111111,\"#46039f\"],[0.2222222222222222,\"#7201a8\"],[0.3333333333333333,\"#9c179e\"],[0.4444444444444444,\"#bd3786\"],[0.5555555555555556,\"#d8576b\"],[0.6666666666666666,\"#ed7953\"],[0.7777777777777778,\"#fb9f3a\"],[0.8888888888888888,\"#fdca26\"],[1.0,\"#f0f921\"]]}],\"contourcarpet\":[{\"type\":\"contourcarpet\",\"colorbar\":{\"outlinewidth\":0,\"ticks\":\"\"}}],\"contour\":[{\"type\":\"contour\",\"colorbar\":{\"outlinewidth\":0,\"ticks\":\"\"},\"colorscale\":[[0.0,\"#0d0887\"],[0.1111111111111111,\"#46039f\"],[0.2222222222222222,\"#7201a8\"],[0.3333333333333333,\"#9c179e\"],[0.4444444444444444,\"#bd3786\"],[0.5555555555555556,\"#d8576b\"],[0.6666666666666666,\"#ed7953\"],[0.7777777777777778,\"#fb9f3a\"],[0.8888888888888888,\"#fdca26\"],[1.0,\"#f0f921\"]]}],\"surface\":[{\"type\":\"surface\",\"colorbar\":{\"outlinewidth\":0,\"ticks\":\"\"},\"colorscale\":[[0.0,\"#0d0887\"],[0.1111111111111111,\"#46039f\"],[0.2222222222222222,\"#7201a8\"],[0.3333333333333333,\"#9c179e\"],[0.4444444444444444,\"#bd3786\"],[0.5555555555555556,\"#d8576b\"],[0.6666666666666666,\"#ed7953\"],[0.7777777777777778,\"#fb9f3a\"],[0.8888888888888888,\"#fdca26\"],[1.0,\"#f0f921\"]]}],\"mesh3d\":[{\"type\":\"mesh3d\",\"colorbar\":{\"outlinewidth\":0,\"ticks\":\"\"}}],\"scatter\":[{\"fillpattern\":{\"fillmode\":\"overlay\",\"size\":10,\"solidity\":0.2},\"type\":\"scatter\"}],\"parcoords\":[{\"type\":\"parcoords\",\"line\":{\"colorbar\":{\"outlinewidth\":0,\"ticks\":\"\"}}}],\"scatterpolargl\":[{\"type\":\"scatterpolargl\",\"marker\":{\"colorbar\":{\"outlinewidth\":0,\"ticks\":\"\"}}}],\"bar\":[{\"error_x\":{\"color\":\"#2a3f5f\"},\"error_y\":{\"color\":\"#2a3f5f\"},\"marker\":{\"line\":{\"color\":\"#E5ECF6\",\"width\":0.5},\"pattern\":{\"fillmode\":\"overlay\",\"size\":10,\"solidity\":0.2}},\"type\":\"bar\"}],\"scattergeo\":[{\"type\":\"scattergeo\",\"marker\":{\"colorbar\":{\"outlinewidth\":0,\"ticks\":\"\"}}}],\"scatterpolar\":[{\"type\":\"scatterpolar\",\"marker\":{\"colorbar\":{\"outlinewidth\":0,\"ticks\":\"\"}}}],\"histogram\":[{\"marker\":{\"pattern\":{\"fillmode\":\"overlay\",\"size\":10,\"solidity\":0.2}},\"type\":\"histogram\"}],\"scattergl\":[{\"type\":\"scattergl\",\"marker\":{\"colorbar\":{\"outlinewidth\":0,\"ticks\":\"\"}}}],\"scatter3d\":[{\"type\":\"scatter3d\",\"line\":{\"colorbar\":{\"outlinewidth\":0,\"ticks\":\"\"}},\"marker\":{\"colorbar\":{\"outlinewidth\":0,\"ticks\":\"\"}}}],\"scattermapbox\":[{\"type\":\"scattermapbox\",\"marker\":{\"colorbar\":{\"outlinewidth\":0,\"ticks\":\"\"}}}],\"scatterternary\":[{\"type\":\"scatterternary\",\"marker\":{\"colorbar\":{\"outlinewidth\":0,\"ticks\":\"\"}}}],\"scattercarpet\":[{\"type\":\"scattercarpet\",\"marker\":{\"colorbar\":{\"outlinewidth\":0,\"ticks\":\"\"}}}],\"carpet\":[{\"aaxis\":{\"endlinecolor\":\"#2a3f5f\",\"gridcolor\":\"white\",\"linecolor\":\"white\",\"minorgridcolor\":\"white\",\"startlinecolor\":\"#2a3f5f\"},\"baxis\":{\"endlinecolor\":\"#2a3f5f\",\"gridcolor\":\"white\",\"linecolor\":\"white\",\"minorgridcolor\":\"white\",\"startlinecolor\":\"#2a3f5f\"},\"type\":\"carpet\"}],\"table\":[{\"cells\":{\"fill\":{\"color\":\"#EBF0F8\"},\"line\":{\"color\":\"white\"}},\"header\":{\"fill\":{\"color\":\"#C8D4E3\"},\"line\":{\"color\":\"white\"}},\"type\":\"table\"}],\"barpolar\":[{\"marker\":{\"line\":{\"color\":\"#E5ECF6\",\"width\":0.5},\"pattern\":{\"fillmode\":\"overlay\",\"size\":10,\"solidity\":0.2}},\"type\":\"barpolar\"}],\"pie\":[{\"automargin\":true,\"type\":\"pie\"}]},\"layout\":{\"autotypenumbers\":\"strict\",\"colorway\":[\"#636efa\",\"#EF553B\",\"#00cc96\",\"#ab63fa\",\"#FFA15A\",\"#19d3f3\",\"#FF6692\",\"#B6E880\",\"#FF97FF\",\"#FECB52\"],\"font\":{\"color\":\"#2a3f5f\"},\"hovermode\":\"closest\",\"hoverlabel\":{\"align\":\"left\"},\"paper_bgcolor\":\"white\",\"plot_bgcolor\":\"#E5ECF6\",\"polar\":{\"bgcolor\":\"#E5ECF6\",\"angularaxis\":{\"gridcolor\":\"white\",\"linecolor\":\"white\",\"ticks\":\"\"},\"radialaxis\":{\"gridcolor\":\"white\",\"linecolor\":\"white\",\"ticks\":\"\"}},\"ternary\":{\"bgcolor\":\"#E5ECF6\",\"aaxis\":{\"gridcolor\":\"white\",\"linecolor\":\"white\",\"ticks\":\"\"},\"baxis\":{\"gridcolor\":\"white\",\"linecolor\":\"white\",\"ticks\":\"\"},\"caxis\":{\"gridcolor\":\"white\",\"linecolor\":\"white\",\"ticks\":\"\"}},\"coloraxis\":{\"colorbar\":{\"outlinewidth\":0,\"ticks\":\"\"}},\"colorscale\":{\"sequential\":[[0.0,\"#0d0887\"],[0.1111111111111111,\"#46039f\"],[0.2222222222222222,\"#7201a8\"],[0.3333333333333333,\"#9c179e\"],[0.4444444444444444,\"#bd3786\"],[0.5555555555555556,\"#d8576b\"],[0.6666666666666666,\"#ed7953\"],[0.7777777777777778,\"#fb9f3a\"],[0.8888888888888888,\"#fdca26\"],[1.0,\"#f0f921\"]],\"sequentialminus\":[[0.0,\"#0d0887\"],[0.1111111111111111,\"#46039f\"],[0.2222222222222222,\"#7201a8\"],[0.3333333333333333,\"#9c179e\"],[0.4444444444444444,\"#bd3786\"],[0.5555555555555556,\"#d8576b\"],[0.6666666666666666,\"#ed7953\"],[0.7777777777777778,\"#fb9f3a\"],[0.8888888888888888,\"#fdca26\"],[1.0,\"#f0f921\"]],\"diverging\":[[0,\"#8e0152\"],[0.1,\"#c51b7d\"],[0.2,\"#de77ae\"],[0.3,\"#f1b6da\"],[0.4,\"#fde0ef\"],[0.5,\"#f7f7f7\"],[0.6,\"#e6f5d0\"],[0.7,\"#b8e186\"],[0.8,\"#7fbc41\"],[0.9,\"#4d9221\"],[1,\"#276419\"]]},\"xaxis\":{\"gridcolor\":\"white\",\"linecolor\":\"white\",\"ticks\":\"\",\"title\":{\"standoff\":15},\"zerolinecolor\":\"white\",\"automargin\":true,\"zerolinewidth\":2},\"yaxis\":{\"gridcolor\":\"white\",\"linecolor\":\"white\",\"ticks\":\"\",\"title\":{\"standoff\":15},\"zerolinecolor\":\"white\",\"automargin\":true,\"zerolinewidth\":2},\"scene\":{\"xaxis\":{\"backgroundcolor\":\"#E5ECF6\",\"gridcolor\":\"white\",\"linecolor\":\"white\",\"showbackground\":true,\"ticks\":\"\",\"zerolinecolor\":\"white\",\"gridwidth\":2},\"yaxis\":{\"backgroundcolor\":\"#E5ECF6\",\"gridcolor\":\"white\",\"linecolor\":\"white\",\"showbackground\":true,\"ticks\":\"\",\"zerolinecolor\":\"white\",\"gridwidth\":2},\"zaxis\":{\"backgroundcolor\":\"#E5ECF6\",\"gridcolor\":\"white\",\"linecolor\":\"white\",\"showbackground\":true,\"ticks\":\"\",\"zerolinecolor\":\"white\",\"gridwidth\":2}},\"shapedefaults\":{\"line\":{\"color\":\"#2a3f5f\"}},\"annotationdefaults\":{\"arrowcolor\":\"#2a3f5f\",\"arrowhead\":0,\"arrowwidth\":1},\"geo\":{\"bgcolor\":\"white\",\"landcolor\":\"#E5ECF6\",\"subunitcolor\":\"white\",\"showland\":true,\"showlakes\":true,\"lakecolor\":\"white\"},\"title\":{\"x\":0.05},\"mapbox\":{\"style\":\"light\"}}},\"geo\":{\"domain\":{\"x\":[0.0,1.0],\"y\":[0.0,1.0]},\"center\":{}},\"coloraxis\":{\"colorbar\":{\"title\":{\"text\":\"growthRate\"}},\"colorscale\":[[0.0,\"#440154\"],[0.1111111111111111,\"#482878\"],[0.2222222222222222,\"#3e4989\"],[0.3333333333333333,\"#31688e\"],[0.4444444444444444,\"#26828e\"],[0.5555555555555556,\"#1f9e89\"],[0.6666666666666666,\"#35b779\"],[0.7777777777777778,\"#6ece58\"],[0.8888888888888888,\"#b5de2b\"],[1.0,\"#fde725\"]]},\"legend\":{\"tracegroupgap\":0},\"title\":{\"text\":\"Growth Rate\"}},                        {\"responsive\": true}                    ).then(function(){\n",
              "                            \n",
              "var gd = document.getElementById('27e93dfe-159c-4697-9925-5072b30cd7b9');\n",
              "var x = new MutationObserver(function (mutations, observer) {{\n",
              "        var display = window.getComputedStyle(gd).display;\n",
              "        if (!display || display === 'none') {{\n",
              "            console.log([gd, 'removed!']);\n",
              "            Plotly.purge(gd);\n",
              "            observer.disconnect();\n",
              "        }}\n",
              "}});\n",
              "\n",
              "// Listen for the removal of the full notebook cells\n",
              "var notebookContainer = gd.closest('#notebook-container');\n",
              "if (notebookContainer) {{\n",
              "    x.observe(notebookContainer, {childList: true});\n",
              "}}\n",
              "\n",
              "// Listen for the clearing of the current output cell\n",
              "var outputEl = gd.closest('.output');\n",
              "if (outputEl) {{\n",
              "    x.observe(outputEl, {childList: true});\n",
              "}}\n",
              "\n",
              "                        })                };                });            </script>        </div>"
            ]
          },
          "metadata": {},
          "output_type": "display_data"
        }
      ],
      "source": [
        "#Growth Rate\n",
        "fig = px.choropleth(df,\n",
        "                    locations='country',\n",
        "                    locationmode='country names',\n",
        "                    color='growthRate',\n",
        "                    hover_name='country',\n",
        "                    title = 'Growth Rate',\n",
        "                    color_continuous_scale='Viridis'\n",
        "                    )\n",
        "fig.show()"
      ]
    },
    {
      "cell_type": "markdown",
      "id": "2a3b18d6",
      "metadata": {
        "papermill": {
          "duration": 0.096667,
          "end_time": "2023-06-02T04:52:25.766500",
          "exception": false,
          "start_time": "2023-06-02T04:52:25.669833",
          "status": "completed"
        },
        "tags": [],
        "id": "2a3b18d6"
      },
      "source": [
        "**Countries with more than 1 billion people**\n",
        "\n",
        "China is currently the most populous country in the world, with a population estimated at more than 1.42 billion as of September 2022. Only one other country in the world boasts a population of more than 1 billion people: India, whose population is estimated to be 1.41 billion people—and rising."
      ]
    },
    {
      "cell_type": "markdown",
      "id": "c53a480f",
      "metadata": {
        "papermill": {
          "duration": 0.094054,
          "end_time": "2023-06-02T04:52:25.955556",
          "exception": false,
          "start_time": "2023-06-02T04:52:25.861502",
          "status": "completed"
        },
        "tags": [],
        "id": "c53a480f"
      },
      "source": [
        "**While India's population is projected to continue to grow until at least the year 2050,\n",
        "China's population is currently contracting slightly. This contraction, coupled with\n",
        "India's continued growth, is expected to result in India replacing China as the most\n",
        "populous country in the world by the year 2030.**"
      ]
    },
    {
      "cell_type": "code",
      "execution_count": null,
      "id": "d9048c68",
      "metadata": {
        "papermill": {
          "duration": 0.09424,
          "end_time": "2023-06-02T04:52:26.146073",
          "exception": false,
          "start_time": "2023-06-02T04:52:26.051833",
          "status": "completed"
        },
        "tags": [],
        "id": "d9048c68"
      },
      "outputs": [],
      "source": []
    }
  ],
  "metadata": {
    "kernelspec": {
      "display_name": "Python 3",
      "language": "python",
      "name": "python3"
    },
    "language_info": {
      "codemirror_mode": {
        "name": "ipython",
        "version": 3
      },
      "file_extension": ".py",
      "mimetype": "text/x-python",
      "name": "python",
      "nbconvert_exporter": "python",
      "pygments_lexer": "ipython3",
      "version": "3.10.10"
    },
    "papermill": {
      "default_parameters": {},
      "duration": 22.342167,
      "end_time": "2023-06-02T04:52:27.364438",
      "environment_variables": {},
      "exception": null,
      "input_path": "__notebook__.ipynb",
      "output_path": "__notebook__.ipynb",
      "parameters": {},
      "start_time": "2023-06-02T04:52:05.022271",
      "version": "2.4.0"
    },
    "colab": {
      "provenance": []
    }
  },
  "nbformat": 4,
  "nbformat_minor": 5
}