{
  "nbformat": 4,
  "nbformat_minor": 0,
  "metadata": {
    "colab": {
      "provenance": [],
      "include_colab_link": true
    },
    "kernelspec": {
      "name": "python3",
      "display_name": "Python 3"
    },
    "language_info": {
      "name": "python"
    }
  },
  "cells": [
    {
      "cell_type": "markdown",
      "metadata": {
        "id": "view-in-github",
        "colab_type": "text"
      },
      "source": [
        "<a href=\"https://colab.research.google.com/github/Siuuu07/Getting-started-with-git/blob/main/IBM_Tools_for_Data_Science.ipynb\" target=\"_parent\"><img src=\"https://colab.research.google.com/assets/colab-badge.svg\" alt=\"Open In Colab\"/></a>"
      ]
    },
    {
      "cell_type": "code",
      "execution_count": null,
      "metadata": {
        "id": "aUh2yiQvEbKs"
      },
      "outputs": [],
      "source": [
        "# Notebook Title\n"
      ]
    },
    {
      "cell_type": "code",
      "source": [
        "# IBM Tools for Data Science"
      ],
      "metadata": {
        "id": "lCTa7LV4EdJW"
      },
      "execution_count": null,
      "outputs": []
    },
    {
      "cell_type": "code",
      "source": [
        "# This notebook explores various IBM tools commonly used in Data Science projects.\n"
      ],
      "metadata": {
        "id": "EnhV39MxFq-R"
      },
      "execution_count": null,
      "outputs": []
    },
    {
      "cell_type": "code",
      "source": [
        "# This notebook explores various IBM tools commonly used in Data Science projects.\n",
        "\n",
        "#1. Python\n",
        "#2. R\n",
        "#3. SQL\n",
        "#4. Java\n",
        "#5. Julia #\n"
      ],
      "metadata": {
        "id": "xJJskbf9GAP1"
      },
      "execution_count": null,
      "outputs": []
    },
    {
      "cell_type": "code",
      "source": [
        "#This notebook explores various IBM tools commonly used in Data Science projects.\n",
        "\n",
        "#1. NumPy\n",
        "#2. Pandas\n",
        "#3. Matplotlib\n",
        "#4. Seaborn\n",
        "#5. Scikit-learn\n"
      ],
      "metadata": {
        "id": "7R-UohCDGPjF"
      },
      "execution_count": null,
      "outputs": []
    },
    {
      "cell_type": "code",
      "source": [
        "#| Tool         | Description                            |\n",
        "#|--------------|----------------------------------------|\n",
        "#| Python       | General-purpose programming language   |\n",
        "#| R            | Statistical computing and graphics     |\n",
        "#| SQL          | Database management language           |\n",
        "#| Java         | General-purpose programming language   |\n",
        "#| Julia        | High-level programming language        |\n"
      ],
      "metadata": {
        "id": "WjY1Q1l_GsY4"
      },
      "execution_count": null,
      "outputs": []
    },
    {
      "cell_type": "code",
      "source": [
        "# In this section, we will explore examples of arithmetic expressions in various programming languages.\n"
      ],
      "metadata": {
        "id": "dh-5MVKkG3rq"
      },
      "execution_count": null,
      "outputs": []
    },
    {
      "cell_type": "code",
      "source": [
        "# Multiply two numbers\n",
        "num1 = 5\n",
        "num2 = 3\n",
        "product = num1 * num2\n",
        "print(\"Multiplication Result:\", product)\n",
        "\n",
        "# Add two numbers\n",
        "num3 = 7\n",
        "num4 = 2\n",
        "sum = num3 + num4\n",
        "print(\"Addition Result:\", sum)"
      ],
      "metadata": {
        "colab": {
          "base_uri": "https://localhost:8080/"
        },
        "id": "4f2nAKS5HQ06",
        "outputId": "33991df5-907d-4bbd-aaaa-cb8b7526c6f3"
      },
      "execution_count": null,
      "outputs": [
        {
          "output_type": "stream",
          "name": "stdout",
          "text": [
            "Multiplication Result: 15\n",
            "Addition Result: 9\n"
          ]
        }
      ]
    },
    {
      "cell_type": "code",
      "source": [
        "# Define a function to convert minutes to hours\n",
        "def minutes_to_hours(minutes):\n",
        "    hours = minutes / 60\n",
        "    return hours\n",
        "\n",
        "# Example usage\n",
        "minutes = 120\n",
        "hours = minutes_to_hours(minutes)\n",
        "print(minutes, \"minutes is equal to\", hours, \"hours.\")\n"
      ],
      "metadata": {
        "colab": {
          "base_uri": "https://localhost:8080/"
        },
        "id": "6Bzi7ToTHi5u",
        "outputId": "acdf783f-bf12-4036-8d42-b0e2ac85aadb"
      },
      "execution_count": null,
      "outputs": [
        {
          "output_type": "stream",
          "name": "stdout",
          "text": [
            "120 minutes is equal to 2.0 hours.\n"
          ]
        }
      ]
    },
    {
      "cell_type": "code",
      "source": [
        "#This section covers some common programming languages used in data science projects.\n",
        "\n",
        "#- Python\n",
        "#- R\n",
        "#- SQL\n",
        "#- Julia\n"
      ],
      "metadata": {
        "id": "-9zP7lKMHupR"
      },
      "execution_count": null,
      "outputs": []
    },
    {
      "cell_type": "code",
      "source": [
        "# Author: Mohamed Riyaz S\n"
      ],
      "metadata": {
        "id": "CAAODJ38H8qx"
      },
      "execution_count": null,
      "outputs": []
    },
    {
      "cell_type": "code",
      "source": [],
      "metadata": {
        "id": "YYZNl8TcIUV-"
      },
      "execution_count": null,
      "outputs": []
    }
  ]
}