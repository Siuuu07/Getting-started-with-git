{
  "cells": [
    {
      "cell_type": "code",
      "execution_count": null,
      "id": "a6589e25",
      "metadata": {
        "_cell_guid": "b1076dfc-b9ad-4769-8c92-a6c4dae69d19",
        "_uuid": "8f2839f25d086af736a60e9eeb907d3b93b6e0e5",
        "execution": {
          "iopub.execute_input": "2024-02-28T21:35:55.931199Z",
          "iopub.status.busy": "2024-02-28T21:35:55.930773Z",
          "iopub.status.idle": "2024-02-28T21:36:12.000082Z",
          "shell.execute_reply": "2024-02-28T21:36:11.998743Z"
        },
        "papermill": {
          "duration": 16.078857,
          "end_time": "2024-02-28T21:36:12.003016",
          "exception": false,
          "start_time": "2024-02-28T21:35:55.924159",
          "status": "completed"
        },
        "tags": [],
        "id": "a6589e25",
        "outputId": "52fe5a85-bbaa-4b19-ebd0-8d44f0a69b2e"
      },
      "outputs": [
        {
          "name": "stderr",
          "output_type": "stream",
          "text": [
            "2024-02-28 21:36:00.342247: E external/local_xla/xla/stream_executor/cuda/cuda_dnn.cc:9261] Unable to register cuDNN factory: Attempting to register factory for plugin cuDNN when one has already been registered\n",
            "2024-02-28 21:36:00.342393: E external/local_xla/xla/stream_executor/cuda/cuda_fft.cc:607] Unable to register cuFFT factory: Attempting to register factory for plugin cuFFT when one has already been registered\n",
            "2024-02-28 21:36:00.493918: E external/local_xla/xla/stream_executor/cuda/cuda_blas.cc:1515] Unable to register cuBLAS factory: Attempting to register factory for plugin cuBLAS when one has already been registered\n"
          ]
        }
      ],
      "source": [
        "import pandas as pd\n",
        "from sklearn.model_selection import train_test_split\n",
        "from sklearn.preprocessing import StandardScaler\n",
        "import tensorflow as tf\n",
        "from tensorflow.keras import layers, models\n"
      ]
    },
    {
      "cell_type": "markdown",
      "id": "e3ead82f",
      "metadata": {
        "papermill": {
          "duration": 0.003687,
          "end_time": "2024-02-28T21:36:12.011196",
          "exception": false,
          "start_time": "2024-02-28T21:36:12.007509",
          "status": "completed"
        },
        "tags": [],
        "id": "e3ead82f"
      },
      "source": [
        "# In this project I am detecting credit card fraud. The dataset comes from transactions made by european cardholders in 2013."
      ]
    },
    {
      "cell_type": "code",
      "execution_count": null,
      "id": "002a2d0d",
      "metadata": {
        "execution": {
          "iopub.execute_input": "2024-02-28T21:36:12.021163Z",
          "iopub.status.busy": "2024-02-28T21:36:12.020411Z",
          "iopub.status.idle": "2024-02-28T21:36:18.307253Z",
          "shell.execute_reply": "2024-02-28T21:36:18.305754Z"
        },
        "papermill": {
          "duration": 6.295136,
          "end_time": "2024-02-28T21:36:18.310287",
          "exception": false,
          "start_time": "2024-02-28T21:36:12.015151",
          "status": "completed"
        },
        "tags": [],
        "id": "002a2d0d"
      },
      "outputs": [],
      "source": [
        "\n",
        "# Load the CSV file\n",
        "df = pd.read_csv('/kaggle/input/creditcardfraud/creditcard.csv')\n",
        "\n",
        "# Split the dataset into features (X) and labels (y)\n",
        "X = df.drop('Class', axis=1)\n",
        "y = df['Class']\n"
      ]
    },
    {
      "cell_type": "code",
      "execution_count": null,
      "id": "f19b2328",
      "metadata": {
        "execution": {
          "iopub.execute_input": "2024-02-28T21:36:18.321257Z",
          "iopub.status.busy": "2024-02-28T21:36:18.320808Z",
          "iopub.status.idle": "2024-02-28T21:36:18.558798Z",
          "shell.execute_reply": "2024-02-28T21:36:18.557540Z"
        },
        "papermill": {
          "duration": 0.246735,
          "end_time": "2024-02-28T21:36:18.561465",
          "exception": false,
          "start_time": "2024-02-28T21:36:18.314730",
          "status": "completed"
        },
        "tags": [],
        "id": "f19b2328"
      },
      "outputs": [],
      "source": [
        "\n",
        "\n",
        "# Split the data into training and testing sets\n",
        "X_train, X_test, y_train, y_test = train_test_split(X, y, test_size=0.2, random_state=42)\n",
        "\n",
        "# Standardize the data\n",
        "scaler = StandardScaler()\n",
        "X_train = scaler.fit_transform(X_train)\n",
        "X_test = scaler.transform(X_test)\n",
        "\n"
      ]
    },
    {
      "cell_type": "code",
      "execution_count": null,
      "id": "e4863828",
      "metadata": {
        "execution": {
          "iopub.execute_input": "2024-02-28T21:36:18.571752Z",
          "iopub.status.busy": "2024-02-28T21:36:18.570866Z",
          "iopub.status.idle": "2024-02-28T21:38:53.602062Z",
          "shell.execute_reply": "2024-02-28T21:38:53.600844Z"
        },
        "papermill": {
          "duration": 155.038878,
          "end_time": "2024-02-28T21:38:53.604488",
          "exception": false,
          "start_time": "2024-02-28T21:36:18.565610",
          "status": "completed"
        },
        "tags": [],
        "id": "e4863828",
        "outputId": "f3827bb6-5546-4262-c444-e31f08045ff9"
      },
      "outputs": [
        {
          "name": "stderr",
          "output_type": "stream",
          "text": [
            "/opt/conda/lib/python3.10/site-packages/keras/src/layers/core/dense.py:85: UserWarning: Do not pass an `input_shape`/`input_dim` argument to a layer. When using Sequential models, prefer using an `Input(shape)` object as the first layer in the model instead.\n",
            "  super().__init__(activity_regularizer=activity_regularizer, **kwargs)\n"
          ]
        },
        {
          "name": "stdout",
          "output_type": "stream",
          "text": [
            "Epoch 1/10\n",
            "\u001b[1m5697/5697\u001b[0m \u001b[32m━━━━━━━━━━━━━━━━━━━━\u001b[0m\u001b[37m\u001b[0m \u001b[1m13s\u001b[0m 2ms/step - accuracy: 0.9921 - loss: 0.0274 - val_accuracy: 0.9994 - val_loss: 0.0031\n",
            "Epoch 2/10\n",
            "\u001b[1m5697/5697\u001b[0m \u001b[32m━━━━━━━━━━━━━━━━━━━━\u001b[0m\u001b[37m\u001b[0m \u001b[1m19s\u001b[0m 2ms/step - accuracy: 0.9994 - loss: 0.0030 - val_accuracy: 0.9994 - val_loss: 0.0027\n",
            "Epoch 3/10\n",
            "\u001b[1m5697/5697\u001b[0m \u001b[32m━━━━━━━━━━━━━━━━━━━━\u001b[0m\u001b[37m\u001b[0m \u001b[1m10s\u001b[0m 2ms/step - accuracy: 0.9994 - loss: 0.0028 - val_accuracy: 0.9995 - val_loss: 0.0029\n",
            "Epoch 4/10\n",
            "\u001b[1m5697/5697\u001b[0m \u001b[32m━━━━━━━━━━━━━━━━━━━━\u001b[0m\u001b[37m\u001b[0m \u001b[1m12s\u001b[0m 2ms/step - accuracy: 0.9995 - loss: 0.0022 - val_accuracy: 0.9994 - val_loss: 0.0026\n",
            "Epoch 5/10\n",
            "\u001b[1m5697/5697\u001b[0m \u001b[32m━━━━━━━━━━━━━━━━━━━━\u001b[0m\u001b[37m\u001b[0m \u001b[1m10s\u001b[0m 2ms/step - accuracy: 0.9995 - loss: 0.0023 - val_accuracy: 0.9995 - val_loss: 0.0027\n",
            "Epoch 6/10\n",
            "\u001b[1m5697/5697\u001b[0m \u001b[32m━━━━━━━━━━━━━━━━━━━━\u001b[0m\u001b[37m\u001b[0m \u001b[1m11s\u001b[0m 2ms/step - accuracy: 0.9994 - loss: 0.0025 - val_accuracy: 0.9995 - val_loss: 0.0027\n",
            "Epoch 7/10\n",
            "\u001b[1m5697/5697\u001b[0m \u001b[32m━━━━━━━━━━━━━━━━━━━━\u001b[0m\u001b[37m\u001b[0m \u001b[1m12s\u001b[0m 2ms/step - accuracy: 0.9996 - loss: 0.0022 - val_accuracy: 0.9995 - val_loss: 0.0028\n",
            "Epoch 8/10\n",
            "\u001b[1m5697/5697\u001b[0m \u001b[32m━━━━━━━━━━━━━━━━━━━━\u001b[0m\u001b[37m\u001b[0m \u001b[1m10s\u001b[0m 2ms/step - accuracy: 0.9996 - loss: 0.0020 - val_accuracy: 0.9994 - val_loss: 0.0027\n",
            "Epoch 9/10\n",
            "\u001b[1m5697/5697\u001b[0m \u001b[32m━━━━━━━━━━━━━━━━━━━━\u001b[0m\u001b[37m\u001b[0m \u001b[1m22s\u001b[0m 2ms/step - accuracy: 0.9996 - loss: 0.0017 - val_accuracy: 0.9995 - val_loss: 0.0032\n",
            "Epoch 10/10\n",
            "\u001b[1m5697/5697\u001b[0m \u001b[32m━━━━━━━━━━━━━━━━━━━━\u001b[0m\u001b[37m\u001b[0m \u001b[1m19s\u001b[0m 2ms/step - accuracy: 0.9996 - loss: 0.0019 - val_accuracy: 0.9995 - val_loss: 0.0031\n",
            "\u001b[1m1781/1781\u001b[0m \u001b[32m━━━━━━━━━━━━━━━━━━━━\u001b[0m\u001b[37m\u001b[0m \u001b[1m2s\u001b[0m 1ms/step - accuracy: 0.9994 - loss: 0.0039\n",
            "Test Loss: 0.0034366820473223925, Test Accuracy: 0.9994206428527832\n",
            "\u001b[1m1781/1781\u001b[0m \u001b[32m━━━━━━━━━━━━━━━━━━━━\u001b[0m\u001b[37m\u001b[0m \u001b[1m2s\u001b[0m 1ms/step\n",
            "Confusion Matrix:\n",
            "tf.Tensor(\n",
            "[[56861     3]\n",
            " [   30    68]], shape=(2, 2), dtype=int32)\n",
            "\n",
            "Classification Report:\n",
            "tf.Tensor(\n",
            "[[56861     3]\n",
            " [   30    68]], shape=(2, 2), dtype=int32)\n"
          ]
        }
      ],
      "source": [
        "#iteration 1\n",
        "\n",
        "# Build the custom TensorFlow model\n",
        "model = models.Sequential([\n",
        "    layers.Dense(64, activation='relu', input_shape=(X_train.shape[1],)),\n",
        "    layers.Dense(32, activation='relu'),\n",
        "    layers.Dense(1, activation='sigmoid')\n",
        "])\n",
        "\n",
        "# Compile the model\n",
        "model.compile(optimizer='adam', loss='binary_crossentropy', metrics=['accuracy'])\n",
        "\n",
        "# Train the model\n",
        "model.fit(X_train, y_train, epochs=10, batch_size=32, validation_split=0.2)\n",
        "\n",
        "# Evaluate the model on the test set\n",
        "loss, accuracy = model.evaluate(X_test, y_test)\n",
        "print(f'Test Loss: {loss}, Test Accuracy: {accuracy}')\n",
        "\n",
        "# Make predictions on the test set\n",
        "y_pred = model.predict(X_test)\n",
        "y_pred_class = (y_pred > 0.5).astype(int)\n",
        "\n",
        "# Print confusion matrix and classification report\n",
        "conf_matrix = tf.math.confusion_matrix(y_test, y_pred_class)\n",
        "class_report = tf.math.confusion_matrix(y_test, y_pred_class)\n",
        "\n",
        "print(\"Confusion Matrix:\")\n",
        "print(conf_matrix)\n",
        "print(\"\\nClassification Report:\")\n",
        "print(class_report)\n"
      ]
    },
    {
      "cell_type": "markdown",
      "id": "84a967f8",
      "metadata": {
        "papermill": {
          "duration": 0.247737,
          "end_time": "2024-02-28T21:38:54.035559",
          "exception": false,
          "start_time": "2024-02-28T21:38:53.787822",
          "status": "completed"
        },
        "tags": [],
        "id": "84a967f8"
      },
      "source": [
        "# The model has a 99.93% accuracy for identifying fraud. I will try another model below, this time with the ReLu activation functions switched with the Swish activation function."
      ]
    },
    {
      "cell_type": "code",
      "execution_count": null,
      "id": "4a6744f1",
      "metadata": {
        "execution": {
          "iopub.execute_input": "2024-02-28T21:38:54.409522Z",
          "iopub.status.busy": "2024-02-28T21:38:54.408520Z",
          "iopub.status.idle": "2024-02-28T21:40:14.913313Z",
          "shell.execute_reply": "2024-02-28T21:40:14.911747Z"
        },
        "papermill": {
          "duration": 80.694433,
          "end_time": "2024-02-28T21:40:14.915901",
          "exception": false,
          "start_time": "2024-02-28T21:38:54.221468",
          "status": "completed"
        },
        "tags": [],
        "id": "4a6744f1",
        "outputId": "f1d69756-4ead-4f74-a2a9-39e254b12200"
      },
      "outputs": [
        {
          "name": "stdout",
          "output_type": "stream",
          "text": [
            "Epoch 1/5\n",
            "\u001b[1m5697/5697\u001b[0m \u001b[32m━━━━━━━━━━━━━━━━━━━━\u001b[0m\u001b[37m\u001b[0m \u001b[1m12s\u001b[0m 2ms/step - accuracy: 0.9884 - loss: 0.0372 - val_accuracy: 0.9993 - val_loss: 0.0032\n",
            "Epoch 2/5\n",
            "\u001b[1m5697/5697\u001b[0m \u001b[32m━━━━━━━━━━━━━━━━━━━━\u001b[0m\u001b[37m\u001b[0m \u001b[1m20s\u001b[0m 2ms/step - accuracy: 0.9994 - loss: 0.0030 - val_accuracy: 0.9994 - val_loss: 0.0029\n",
            "Epoch 3/5\n",
            "\u001b[1m5697/5697\u001b[0m \u001b[32m━━━━━━━━━━━━━━━━━━━━\u001b[0m\u001b[37m\u001b[0m \u001b[1m11s\u001b[0m 2ms/step - accuracy: 0.9993 - loss: 0.0033 - val_accuracy: 0.9993 - val_loss: 0.0032\n",
            "Epoch 4/5\n",
            "\u001b[1m5697/5697\u001b[0m \u001b[32m━━━━━━━━━━━━━━━━━━━━\u001b[0m\u001b[37m\u001b[0m \u001b[1m12s\u001b[0m 2ms/step - accuracy: 0.9995 - loss: 0.0022 - val_accuracy: 0.9994 - val_loss: 0.0027\n",
            "Epoch 5/5\n",
            "\u001b[1m5697/5697\u001b[0m \u001b[32m━━━━━━━━━━━━━━━━━━━━\u001b[0m\u001b[37m\u001b[0m \u001b[1m21s\u001b[0m 2ms/step - accuracy: 0.9995 - loss: 0.0023 - val_accuracy: 0.9995 - val_loss: 0.0027\n",
            "\u001b[1m1781/1781\u001b[0m \u001b[32m━━━━━━━━━━━━━━━━━━━━\u001b[0m\u001b[37m\u001b[0m \u001b[1m2s\u001b[0m 1ms/step - accuracy: 0.9994 - loss: 0.0036\n",
            "Test Loss: 0.0031579993665218353, Test Accuracy: 0.9994031190872192\n",
            "\u001b[1m1781/1781\u001b[0m \u001b[32m━━━━━━━━━━━━━━━━━━━━\u001b[0m\u001b[37m\u001b[0m \u001b[1m2s\u001b[0m 1ms/step\n",
            "Confusion Matrix:\n",
            "tf.Tensor(\n",
            "[[56853    11]\n",
            " [   23    75]], shape=(2, 2), dtype=int32)\n",
            "\n",
            "Classification Report:\n",
            "tf.Tensor(\n",
            "[[56853    11]\n",
            " [   23    75]], shape=(2, 2), dtype=int32)\n"
          ]
        }
      ],
      "source": [
        "#iteration 2\n",
        "\n",
        "# Build the custom TensorFlow model\n",
        "model = models.Sequential([\n",
        "    layers.Dense(64, activation='swish', input_shape=(X_train.shape[1],)),\n",
        "    layers.Dense(32, activation='swish'),\n",
        "    layers.Dense(1, activation='sigmoid')\n",
        "])\n",
        "\n",
        "# Compile the model\n",
        "model.compile(optimizer='adam', loss='binary_crossentropy', metrics=['accuracy'])\n",
        "\n",
        "# Train the model\n",
        "model.fit(X_train, y_train, epochs=5, batch_size=32, validation_split=0.2)\n",
        "\n",
        "# Evaluate the model on the test set\n",
        "loss, accuracy = model.evaluate(X_test, y_test)\n",
        "print(f'Test Loss: {loss}, Test Accuracy: {accuracy}')\n",
        "\n",
        "# Make predictions on the test set\n",
        "y_pred = model.predict(X_test)\n",
        "y_pred_class = (y_pred > 0.5).astype(int)\n",
        "\n",
        "# Print confusion matrix and classification report\n",
        "conf_matrix = tf.math.confusion_matrix(y_test, y_pred_class)\n",
        "class_report = tf.math.confusion_matrix(y_test, y_pred_class)\n",
        "\n",
        "print(\"Confusion Matrix:\")\n",
        "print(conf_matrix)\n",
        "print(\"\\nClassification Report:\")\n",
        "print(class_report)\n"
      ]
    },
    {
      "cell_type": "markdown",
      "id": "efe8282a",
      "metadata": {
        "papermill": {
          "duration": 0.279819,
          "end_time": "2024-02-28T21:40:15.476935",
          "exception": false,
          "start_time": "2024-02-28T21:40:15.197116",
          "status": "completed"
        },
        "tags": [],
        "id": "efe8282a"
      },
      "source": [
        "# This model has approximately the same accuracy as the one above.\n"
      ]
    },
    {
      "cell_type": "code",
      "execution_count": null,
      "id": "b7392c65",
      "metadata": {
        "papermill": {
          "duration": 0.282888,
          "end_time": "2024-02-28T21:40:16.039847",
          "exception": false,
          "start_time": "2024-02-28T21:40:15.756959",
          "status": "completed"
        },
        "tags": [],
        "id": "b7392c65"
      },
      "outputs": [],
      "source": []
    }
  ],
  "metadata": {
    "kaggle": {
      "accelerator": "none",
      "dataSources": [
        {
          "datasetId": 310,
          "sourceId": 23498,
          "sourceType": "datasetVersion"
        }
      ],
      "dockerImageVersionId": 30664,
      "isGpuEnabled": false,
      "isInternetEnabled": true,
      "language": "python",
      "sourceType": "notebook"
    },
    "kernelspec": {
      "display_name": "Python 3",
      "language": "python",
      "name": "python3"
    },
    "language_info": {
      "codemirror_mode": {
        "name": "ipython",
        "version": 3
      },
      "file_extension": ".py",
      "mimetype": "text/x-python",
      "name": "python",
      "nbconvert_exporter": "python",
      "pygments_lexer": "ipython3",
      "version": "3.10.13"
    },
    "papermill": {
      "default_parameters": {},
      "duration": 265.02298,
      "end_time": "2024-02-28T21:40:17.947304",
      "environment_variables": {},
      "exception": null,
      "input_path": "__notebook__.ipynb",
      "output_path": "__notebook__.ipynb",
      "parameters": {},
      "start_time": "2024-02-28T21:35:52.924324",
      "version": "2.5.0"
    },
    "colab": {
      "provenance": []
    }
  },
  "nbformat": 4,
  "nbformat_minor": 5
}