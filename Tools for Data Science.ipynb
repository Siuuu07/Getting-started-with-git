{
  "nbformat": 4,
  "nbformat_minor": 0,
  "metadata": {
    "colab": {
      "provenance": [],
      "include_colab_link": true
    },
    "kernelspec": {
      "name": "python3",
      "display_name": "Python 3"
    },
    "language_info": {
      "name": "python"
    }
  },
  "cells": [
    {
      "cell_type": "markdown",
      "metadata": {
        "id": "view-in-github",
        "colab_type": "text"
      },
      "source": [
        "<a href=\"https://colab.research.google.com/github/Siuuu07/Getting-started-with-git/blob/main/Tools%20for%20Data%20Science.ipynb\" target=\"_parent\"><img src=\"https://colab.research.google.com/assets/colab-badge.svg\" alt=\"Open In Colab\"/></a>"
      ]
    },
    {
      "cell_type": "markdown",
      "source": [
        "# **Introduction**\n",
        "Welocme to the data science notebook, we will explore various concepts and examples related to the data science in this notebook.\n",
        "\n",
        "# **Data Science Languages**\n",
        "\n",
        "\n",
        "\n",
        "*   Python\n",
        "*   R\n",
        "*   SQL\n",
        "\n",
        "# **Data Science Libraries**\n",
        "\n",
        "\n",
        "*   Pandas\n",
        "*   Numpy\n",
        "*   Matplotlib\n",
        "*   Seaborn\n",
        "*  Sikit-Learn\n",
        "\n",
        "# **Data Scinece Tools**\n",
        "\n",
        "*   Juypter Notebook\n",
        "*   Rstudio\n",
        "*   Tableau\n",
        "*   Tensorflow\n",
        "\n",
        "\n",
        "\n",
        "\n",
        "\n",
        "\n",
        "\n",
        "\n",
        "\n",
        "\n",
        "\n",
        "\n",
        "\n",
        "\n",
        "\n",
        "\n",
        "\n",
        "\n",
        "\n",
        "\n"
      ],
      "metadata": {
        "id": "U1H94o50ZKYn"
      }
    },
    {
      "cell_type": "markdown",
      "source": [
        "# **Arithmetic Expression Examples**"
      ],
      "metadata": {
        "id": "34RqBQlya67Y"
      }
    },
    {
      "cell_type": "markdown",
      "source": [
        "# Let's explore some examples of arithmetic examples in the following cells"
      ],
      "metadata": {
        "id": "0oHHGxyLbB8G"
      }
    },
    {
      "cell_type": "code",
      "execution_count": null,
      "metadata": {
        "colab": {
          "base_uri": "https://localhost:8080/"
        },
        "id": "9OGv7-rIY0ox",
        "outputId": "0ff467e5-9ad1-4888-ddfc-b19e734a13e8"
      },
      "outputs": [
        {
          "output_type": "stream",
          "name": "stdout",
          "text": [
            "Multiplication Result: 15\n",
            "Addition Result: 9\n"
          ]
        }
      ],
      "source": [
        "# Multiply two numbers\n",
        "num1 = 5\n",
        "num2 = 3\n",
        "product = num1 * num2\n",
        "print(\"Multiplication Result:\", product)\n",
        "\n",
        "# Add two numbers\n",
        "num3 = 7\n",
        "num4 = 2\n",
        "sum = num3 + num4\n",
        "print(\"Addition Result:\", sum)"
      ]
    },
    {
      "cell_type": "code",
      "source": [
        "# Define a function to convert minutes to hours\n",
        "def minutes_to_hours(minutes):\n",
        "    hours = minutes / 60\n",
        "    return hours\n",
        "\n",
        "# Example usage\n",
        "minutes = 120\n",
        "hours = minutes_to_hours(minutes)\n",
        "print(minutes, \"minutes is equal to\", hours, \"hours.\")"
      ],
      "metadata": {
        "colab": {
          "base_uri": "https://localhost:8080/"
        },
        "id": "AmqgDoJPbST2",
        "outputId": "326216fc-c50b-468a-b4cd-09303b6bfde1"
      },
      "execution_count": null,
      "outputs": [
        {
          "output_type": "stream",
          "name": "stdout",
          "text": [
            "120 minutes is equal to 2.0 hours.\n"
          ]
        }
      ]
    },
    {
      "cell_type": "markdown",
      "source": [
        "# **Objectives**\n",
        "\n",
        "\n",
        "*   Explore Data Science languages and libraries\n",
        "*   Understand basic arithmetic expression\n",
        "*   Perform simple calculations and conversions\n",
        "\n",
        "# **Author**\n",
        "\n",
        "This notebook was created by Mohamed Riyaz S\n",
        "\n",
        "\n"
      ],
      "metadata": {
        "id": "Mg-VtbDqbgxa"
      }
    },
    {
      "cell_type": "code",
      "source": [],
      "metadata": {
        "id": "Pwe_JPsCbXeg"
      },
      "execution_count": null,
      "outputs": []
    }
  ]
}